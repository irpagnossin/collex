{
 "cells": [
  {
   "cell_type": "markdown",
   "id": "57e5a9a6-f398-4698-aca2-2bd7041c6833",
   "metadata": {},
   "source": [
    "## O problema\n",
    "\n",
    "Duas empresas, $A$ e $B$, publicaram seus respectivos apps na Play Store. O app da empresa $A$ foi considerado \"bom\" por 90% das 100 pessoas que o avaliaram. Já o app da empresa $B$ foi considerado \"bom\" por 75% das 10000 pessoas que o avaliaram. Podemos afirmar que o app $A$ é melhor avaliado que $B$?"
   ]
  }
 ],
 "metadata": {
  "kernelspec": {
   "display_name": "Python 3 (ipykernel)",
   "language": "python",
   "name": "python3"
  },
  "language_info": {
   "codemirror_mode": {
    "name": "ipython",
    "version": 3
   },
   "file_extension": ".py",
   "mimetype": "text/x-python",
   "name": "python",
   "nbconvert_exporter": "python",
   "pygments_lexer": "ipython3",
   "version": "3.11.5"
  }
 },
 "nbformat": 4,
 "nbformat_minor": 5
}
