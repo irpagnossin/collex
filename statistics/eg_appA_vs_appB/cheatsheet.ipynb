{
 "cells": [
  {
   "cell_type": "markdown",
   "id": "823fba79-ad1a-4db8-8617-f0890246147a",
   "metadata": {},
   "source": [
    "A: 75% 10000\n",
    "\n",
    "B: 90% 100\n",
    "\n",
    "Qual é o melhor?"
   ]
  },
  {
   "cell_type": "code",
   "execution_count": 4,
   "id": "83b09e6b-7247-4dee-ade0-b5e5e3cad4a0",
   "metadata": {},
   "outputs": [],
   "source": [
    "from collections import namedtuple\n",
    "Empresa = namedtuple('Empresa', ['p', 'n'])\n",
    "\n",
    "empresa_A = Empresa(p=0.90, n=100)  # É sempre melhor trabalhar com 0.9 ao invés de 90%... Acostume-se a isso! Use o formato \"90%\" só para APRESENTAR o número\n",
    "empresa_B = Empresa(p=0.75, n=10000)"
   ]
  },
  {
   "cell_type": "code",
   "execution_count": 8,
   "id": "5fd07d03-e0fc-4e4b-a763-3640e33c5cec",
   "metadata": {},
   "outputs": [
    {
     "name": "stdout",
     "output_type": "stream",
     "text": [
      "valor_crítico=1.6448536269514722\n"
     ]
    }
   ],
   "source": [
    "from scipy.stats import norm\n",
    "\n",
    "percentil = 0.95  # porque queremos confiança de 95% e a hipótese alternativa é MAIOR que a nula\n",
    "valor_crítico = norm.ppf(percentil)  # ppf = Percent point function\n",
    "\n",
    "print(f'{valor_crítico=}')"
   ]
  },
  {
   "cell_type": "code",
   "execution_count": 5,
   "id": "c2c198eb-7395-4b77-8dba-844d444861f9",
   "metadata": {},
   "outputs": [
    {
     "name": "stdout",
     "output_type": "stream",
     "text": [
      "z=3.4537762382304362\n",
      "valor_p=0.00027639791808725195\n"
     ]
    }
   ],
   "source": [
    "from statsmodels.stats.proportion import proportions_ztest\n",
    "\n",
    "sucessos = [\n",
    "    round(empresa_A.n * empresa_A.p),  # Quantidade de sucessos (avaliações \"boas\")\n",
    "    round(empresa_B.n * empresa_B.p),\n",
    "]\n",
    "\n",
    "avaliações = [\n",
    "    empresa_A.n,\n",
    "    empresa_B.n\n",
    "]\n",
    "\n",
    "z, valor_p = proportions_ztest(sucessos, avaliações, alternative='larger')\n",
    "\n",
    "print(f'{z=}')  # Dá uma olhada nesse jeito legal de imprimir ;-)\n",
    "print(f'{valor_p=}')"
   ]
  },
  {
   "cell_type": "code",
   "execution_count": null,
   "id": "6d0fb414-a57b-4d5c-84bb-156562411301",
   "metadata": {},
   "outputs": [],
   "source": []
  }
 ],
 "metadata": {
  "kernelspec": {
   "display_name": "Python 3 (ipykernel)",
   "language": "python",
   "name": "python3"
  },
  "language_info": {
   "codemirror_mode": {
    "name": "ipython",
    "version": 3
   },
   "file_extension": ".py",
   "mimetype": "text/x-python",
   "name": "python",
   "nbconvert_exporter": "python",
   "pygments_lexer": "ipython3",
   "version": "3.11.5"
  }
 },
 "nbformat": 4,
 "nbformat_minor": 5
}
