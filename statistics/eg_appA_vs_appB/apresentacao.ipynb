{
 "cells": [
  {
   "cell_type": "markdown",
   "id": "2345139b-4354-4ade-873d-f219906ccef5",
   "metadata": {
    "editable": true,
    "slideshow": {
     "slide_type": "slide"
    },
    "tags": []
   },
   "source": [
    "# Estatística aplicada: qual app é melhor?\n",
    "\n",
    "## O problema\n",
    "\n",
    "Duas empresas, $A$ e $B$, publicaram seus respectivos apps na Play Store. O app da empresa $A$ foi considerado \"bom\" por 90% das 100 pessoas que o avaliaram. Já o app da empresa $B$ foi considerado \"bom\" por 75% das 10000 pessoas que o avaliaram. Podemos afirmar que o app $A$ é melhor avaliado que $B$?"
   ]
  },
  {
   "cell_type": "markdown",
   "id": "172b72de-c2ee-4cf6-882e-c176d5bd0963",
   "metadata": {
    "editable": true,
    "slideshow": {
     "slide_type": "fragment"
    },
    "tags": []
   },
   "source": [
    "## Pré-requisitos\n",
    "- Distribuições de Bernoulli, binominal e normal.\n",
    "- Distribuição da proporção.\n",
    "- Teste de hipótese."
   ]
  },
  {
   "cell_type": "markdown",
   "id": "f55bb0b7-088d-4056-9d80-5c10e6f5192a",
   "metadata": {
    "editable": true,
    "slideshow": {
     "slide_type": "slide"
    },
    "tags": []
   },
   "source": [
    "## Representando o enunciado com Python\n",
    "Abaixo nós colocamos as informações do enunciado num formato conveniente. No caso, estamos usando uma _tupla nomeada_, que é um recurso do Python, que batizamos de `Empresa`:"
   ]
  },
  {
   "cell_type": "code",
   "execution_count": 3,
   "id": "9333ed2c-4f33-4891-8fef-0ac181dd6977",
   "metadata": {
    "editable": true,
    "slideshow": {
     "slide_type": ""
    },
    "tags": []
   },
   "outputs": [],
   "source": [
    "from collections import namedtuple\n",
    "Empresa = namedtuple('Empresa', ['nome', 'p', 'n'])\n",
    "\n",
    "empresa_A = Empresa(nome='App A', p=0.90, n=100)  # É sempre melhor trabalhar com 0.9 ao invés de 90%... Acostume-se a isso! Use o formato \"90%\" só para APRESENTAR o número\n",
    "empresa_B = Empresa(nome='App B', p=0.75, n=10000)"
   ]
  },
  {
   "cell_type": "markdown",
   "id": "04641109-6968-48ae-8cc5-79e54e7fac44",
   "metadata": {
    "editable": true,
    "slideshow": {
     "slide_type": ""
    },
    "tags": []
   },
   "source": [
    "Note que, desse modo, nós podemos acessar a **proporção de aprovação** ($\\hat p$ ou `p`) da empresa $A$ com a instrução `empresa_A.p` ao invés de `empresa_A['p']` (fica mais _clean_: três caracteres a menos 👊)."
   ]
  },
  {
   "cell_type": "code",
   "execution_count": 4,
   "id": "4abd8af6-b8bf-40f7-a5af-15c8ae96452e",
   "metadata": {
    "editable": true,
    "slideshow": {
     "slide_type": "skip"
    },
    "tags": []
   },
   "outputs": [
    {
     "name": "stdout",
     "output_type": "stream",
     "text": [
      "Proporção de aprovação da empresa A: 0.9\n"
     ]
    }
   ],
   "source": [
    "print('Proporção de aprovação da empresa A:', empresa_A.p)"
   ]
  },
  {
   "cell_type": "markdown",
   "id": "4e7c11db-0d1b-4a18-ae9a-3e57803482a3",
   "metadata": {
    "editable": true,
    "slideshow": {
     "slide_type": "skip"
    },
    "tags": []
   },
   "source": [
    "**Atenção**: mais à frente veremos que $\\hat p$ e $p$ são conceitos diferentes. `empresa_A.p` refere-se a $\\hat p$.\n",
    "\n",
    "Similarmente, a quantidade de avaliações ($n$ ou `n`) é acessada assim: `empresa_A.n`. Experimente!"
   ]
  },
  {
   "cell_type": "markdown",
   "id": "dc7d492f-6125-40de-b37a-9a0035db35d2",
   "metadata": {
    "editable": true,
    "slideshow": {
     "slide_type": "slide"
    },
    "tags": []
   },
   "source": [
    "## Abordagem ingênua, para começar\n",
    "\n",
    "Ora, $0,9 > 0,75$. Logo, $A$ é melhor que $B$... Mas há incertezas nesses valores! Por quê?\n",
    "\n",
    "<div style=\"display: flex; align-items: center;\">\n",
    "    <!-- Thinking emoji -->\n",
    "    <div style=\"font-size: 32px; margin-right: 10px; margin-top: 15px\">🤔</div>\n",
    "    <div style=\"display: flex; align-items: center;\">\n",
    "        <div style=\"padding: 20px; border-radius: 15px; background-color: #f0f0f0; box-shadow: 0 0 10px rgba(0, 0, 0, 0.1); position: relative; margin-left: 20px;\">\n",
    "            <div style=\"content: ''; position: absolute; left: -30px; width: 0; height: 0; border-style: solid; border-width: 10px 30px 10px 0; border-color: transparent #f0f0f0 transparent transparent; top: 50%; transform: translateY(-50%); font-size: 20px\"></div>\n",
    "            <span style=\"font-size: 20px\">Quem é a população?</span>\n",
    "        </div>\n",
    "    </div>\n",
    "</div>"
   ]
  },
  {
   "cell_type": "markdown",
   "id": "53e88a6b-1078-4eba-8efe-27e6eb5c95d4",
   "metadata": {
    "editable": true,
    "slideshow": {
     "slide_type": "slide"
    },
    "tags": []
   },
   "source": [
    "## Identificando a incerteza\n",
    "\n",
    "1. Cada avaliação, na terminologia da Estatística, é uma **prova de Bernoulli** com probabilidade $p$ de o usuário responder que o app é \"bom\".\n",
    "\n",
    "![](https://encrypted-tbn0.gstatic.com/images?q=tbn:ANd9GcTh-m2xz61cbhtJVhbEZ5Zk11V7U5uUvRePow&s)"
   ]
  },
  {
   "cell_type": "markdown",
   "id": "405540c0-650c-4857-ac86-2479d5b8ef87",
   "metadata": {
    "editable": true,
    "slideshow": {
     "slide_type": ""
    },
    "tags": []
   },
   "source": [
    "\n",
    "<div style=\"display: flex; align-items: center;\">\n",
    "    <!-- Thinking emoji -->\n",
    "    <div style=\"font-size: 32px; margin-right: 10px; margin-top: 15px\">🤔</div>\n",
    "    <div style=\"display: flex; align-items: center;\">\n",
    "        <div style=\"padding: 20px; border-radius: 15px; background-color: #f0f0f0; box-shadow: 0 0 10px rgba(0, 0, 0, 0.1); position: relative; margin-left: 20px;\">\n",
    "            <div style=\"content: ''; position: absolute; left: -30px; width: 0; height: 0; border-style: solid; border-width: 10px 30px 10px 0; border-color: transparent #f0f0f0 transparent transparent; top: 50%; transform: translateY(-50%); font-size: 20px\"></div>\n",
    "            <span style=\"font-size: 20px\">Qual é a probabilidade de o usuário responder \"não bom\"?</span>\n",
    "        </div>\n",
    "    </div>\n",
    "</div>"
   ]
  },
  {
   "cell_type": "markdown",
   "id": "15024424-11fb-47c1-af17-278f16594b39",
   "metadata": {
    "editable": true,
    "slideshow": {
     "slide_type": "slide"
    },
    "tags": []
   },
   "source": [
    "2. $n$ provas de Bernoulli independentes levam a uma **distribuição binomial** parametrizada por $p$ e $n$, que nos diz a probabilidade de obtermos $x$ \"bons\" em $n$ avaliações. Essa distribuição tem essas propriedades:\n",
    "- Média $\\mu_b = \\langle x\\rangle = np$.\n",
    "- Desvio padrão $\\sigma_b = \\sqrt{np(1-p)}$"
   ]
  },
  {
   "cell_type": "markdown",
   "id": "fa3c31cf-7fb4-4232-9a27-88453833f9cd",
   "metadata": {
    "editable": true,
    "slideshow": {
     "slide_type": "slide"
    },
    "tags": []
   },
   "source": [
    "3. Mas estamos falando aqui da **proporção** $y := x/n$, que ainda é uma \"distribuição binomial\", porém redimensionada para o intervalo $[0,1]$:\n",
    "- Média $\\mu = \\langle y\\rangle = \\langle x/n\\rangle = p$.\n",
    "- Desvio padrão $\\sigma = \\sqrt{\\frac{p(1-p)}{n}} \\qquad\\leftarrow \\sigma^2 \\equiv \\text{var}(\\frac{x}{n}) = \\frac{\\text{var}(x)}{n^2} = \\frac{np(1-p)}{n^2} = \\frac{p(1-p)}{n}$."
   ]
  },
  {
   "cell_type": "markdown",
   "id": "df8e553b-47c9-46d6-b284-4ec3d763a4d5",
   "metadata": {
    "editable": true,
    "slideshow": {
     "slide_type": "slide"
    },
    "tags": []
   },
   "source": [
    "4. Agora vamos fazer uma **aproximação** para facilitar as contas: lembre-se de que para uma amostra suficientemente grande (veja a seção \"Atenção\", no final), podemos aproximar essa distribuição por uma normal, o que finalmente nos leva à expressão:\n",
    "$$\n",
    "y \\sim \\mathcal{N}\\left(\\mu=p, \\sigma=\\sqrt{\\frac{p(1-p)}{n}}\\right)\n",
    "$$"
   ]
  },
  {
   "cell_type": "markdown",
   "id": "fed5cd52-1397-48d9-9a89-d3154ac1b853",
   "metadata": {
    "editable": true,
    "slideshow": {
     "slide_type": "slide"
    },
    "tags": []
   },
   "source": [
    "### Note:\n",
    "- **Modelo**: Prova de Bernoulli com $p \\in [0,1]$ sendo a \"qualidade\" do app, que é **estimada** por $\\hat p$.\n",
    "- **Espaço amostral** do modelo: $\\{\\text{``bom''}, \\text{``não bom''}\\}$. Note que é coletivamente exaustivo e mutuamente excludente.\n",
    "- **Variáveis aleatórias**:\n",
    "  - Prova de Bernoulli: não precisamos dar um nome.\n",
    "  - Binomial: $x$ = **quantidade** de \"bons\".\n",
    "  - Proporção: $y$ = **proporção** de \"bons\".\n",
    "- **Amostra**: todos que _avaliaram_ o app. A partir dela calculamos $\\hat p$.\n",
    "- **População**: todos os potenciais usuários (e.g., a população brasileira)."
   ]
  },
  {
   "cell_type": "markdown",
   "id": "62efb228-a518-4b8a-8433-ea57a1b48531",
   "metadata": {
    "editable": true,
    "slideshow": {
     "slide_type": "slide"
    },
    "tags": []
   },
   "source": [
    "# O desvio padrão, em Python\n",
    "\n",
    "Vamos definir uma função para determinar o desvio padrão da amostragem de $p$ para uma dada `Empresa`:"
   ]
  },
  {
   "cell_type": "code",
   "execution_count": 5,
   "id": "fa1b5de1-e01d-4f43-bcf4-edea272587d7",
   "metadata": {
    "editable": true,
    "slideshow": {
     "slide_type": ""
    },
    "tags": []
   },
   "outputs": [],
   "source": [
    "import numpy as np\n",
    "\n",
    "def desvio_padrão_da_proporção(empresa: Empresa) -> float:\n",
    "    \"\"\"Desvio padrão da proporção da amostra\"\"\"\n",
    "    return np.sqrt(empresa.p * (1 - empresa.p) / empresa.n)"
   ]
  },
  {
   "cell_type": "code",
   "execution_count": 6,
   "id": "a8ca9c51-33e1-4ca2-ade0-f02f800c4063",
   "metadata": {
    "editable": true,
    "slideshow": {
     "slide_type": "skip"
    },
    "tags": []
   },
   "outputs": [],
   "source": [
    "def binomial_e_proporção_vs_normal(empresa: Empresa, rescale_x: bool = False,\n",
    "                                   rescale_y: bool = False):\n",
    "\n",
    "    from scipy.stats import binom, norm\n",
    "    \n",
    "    import plotly.graph_objs as go\n",
    "    import plotly.offline as pyo\n",
    "    from plotly.offline import init_notebook_mode, iplot\n",
    "    \n",
    "    init_notebook_mode(connected=True)\n",
    "    \n",
    "    x = np.arange(0, empresa.n)\n",
    "    y_binomial = binom.pmf(x, empresa.n, empresa.p)\n",
    "    y_normal = norm.pdf(x/empresa.n, loc=empresa.p, scale=desvio_padrão_da_proporção(empresa))\n",
    "\n",
    "    if rescale_x:\n",
    "        x_redimensionado = x / empresa.n  # x no intervalo da PROPORÇãO, isto é, entre 0 e 1\n",
    "    else:\n",
    "        x_redimensionado = x\n",
    "\n",
    "    if rescale_y:\n",
    "        y_normal = y_normal * np.max(y_binomial)/np.max(y_normal)  # Re-escala só para fins visuais\n",
    "    \n",
    "    trace1 = go.Scatter(x=x_redimensionado, y=y_binomial, mode='markers', name='Binomial')\n",
    "    trace2 = go.Scatter(x=x_redimensionado, y=y_normal, mode='lines', name='Normal')\n",
    "    \n",
    "    layout = go.Layout(\n",
    "        title=f'Proporção de aprovação do {empresa.nome}',\n",
    "        xaxis=dict(title='y' if rescale_x else 'x'),\n",
    "        yaxis=dict(title='Prob. e densidade de prob.', showticklabels=False)\n",
    "    )\n",
    "    \n",
    "    fig = go.Figure(data=[trace1, trace2], layout=layout)\n",
    "    iplot(fig)"
   ]
  },
  {
   "cell_type": "markdown",
   "id": "27ce2175-8161-4765-b801-76658ddd973f",
   "metadata": {
    "editable": true,
    "slideshow": {
     "slide_type": "slide"
    },
    "tags": []
   },
   "source": [
    "## Binomial vs normal"
   ]
  },
  {
   "cell_type": "code",
   "execution_count": 7,
   "id": "c6a84598-488e-4f7c-a72b-74135ecf6527",
   "metadata": {
    "editable": true,
    "slideshow": {
     "slide_type": ""
    },
    "tags": []
   },
   "outputs": [
    {
     "data": {
      "text/html": [
       "        <script type=\"text/javascript\">\n",
       "        window.PlotlyConfig = {MathJaxConfig: 'local'};\n",
       "        if (window.MathJax && window.MathJax.Hub && window.MathJax.Hub.Config) {window.MathJax.Hub.Config({SVG: {font: \"STIX-Web\"}});}\n",
       "        if (typeof require !== 'undefined') {\n",
       "        require.undef(\"plotly\");\n",
       "        requirejs.config({\n",
       "            paths: {\n",
       "                'plotly': ['https://cdn.plot.ly/plotly-2.32.0.min']\n",
       "            }\n",
       "        });\n",
       "        require(['plotly'], function(Plotly) {\n",
       "            window._Plotly = Plotly;\n",
       "        });\n",
       "        }\n",
       "        </script>\n",
       "        "
      ]
     },
     "metadata": {},
     "output_type": "display_data"
    },
    {
     "data": {
      "application/vnd.plotly.v1+json": {
       "config": {
        "linkText": "Export to plot.ly",
        "plotlyServerURL": "https://plot.ly",
        "showLink": false
       },
       "data": [
        {
         "mode": "markers",
         "name": "Binomial",
         "type": "scatter",
         "x": [
          0,
          1,
          2,
          3,
          4,
          5,
          6,
          7,
          8,
          9,
          10,
          11,
          12,
          13,
          14,
          15,
          16,
          17,
          18,
          19,
          20,
          21,
          22,
          23,
          24,
          25,
          26,
          27,
          28,
          29,
          30,
          31,
          32,
          33,
          34,
          35,
          36,
          37,
          38,
          39,
          40,
          41,
          42,
          43,
          44,
          45,
          46,
          47,
          48,
          49,
          50,
          51,
          52,
          53,
          54,
          55,
          56,
          57,
          58,
          59,
          60,
          61,
          62,
          63,
          64,
          65,
          66,
          67,
          68,
          69,
          70,
          71,
          72,
          73,
          74,
          75,
          76,
          77,
          78,
          79,
          80,
          81,
          82,
          83,
          84,
          85,
          86,
          87,
          88,
          89,
          90,
          91,
          92,
          93,
          94,
          95,
          96,
          97,
          98,
          99
         ],
         "y": [
          9.999999999999748e-101,
          8.999999999999761e-98,
          4.0094999999999115e-95,
          1.1787929999999625e-92,
          2.57271572249995e-90,
          4.445652768479863e-88,
          6.335055195083818e-86,
          7.656366707201349e-84,
          8.010473667409397e-82,
          7.369635774016633e-80,
          6.035731698919629e-78,
          4.4444933419317394e-76,
          2.966699305739442e-74,
          1.8074045001120137e-72,
          1.0108555168483685e-70,
          5.216014466937589e-69,
          2.4939069170045373e-67,
          1.1090550760326008e-65,
          4.602578565535304e-64,
          1.7877384112447712e-62,
          6.516306508987203e-61,
          2.2341622316527552e-59,
          7.220406121386846e-58,
          2.203793520527623e-56,
          6.363453790523596e-55,
          1.7410409570872362e-53,
          4.5200101770534495e-52,
          1.1149358436731846e-50,
          2.616117318904563e-49,
          5.845669043621215e-48,
          1.245127506291327e-46,
          2.5304204160114108e-45,
          4.910597119822121e-44,
          9.10692556767007e-43,
          1.6151400345014867e-41,
          2.7411233728396735e-40,
          4.454325480864467e-39,
          6.934301289129604e-38,
          1.0346707449832823e-36,
          1.4803750658991546e-35,
          2.0318147779465947e-34,
          2.67604873192965e-33,
          3.383290182511087e-32,
          4.107156919234359e-31,
          4.788571589925531e-30,
          5.363200180716607e-29,
          5.771269759684198e-28,
          5.967738517460681e-27,
          5.930440151726518e-26,
          5.664175491853075e-25,
          5.19971310152115e-24,
          4.5879821484009964e-23,
          3.89096178354778e-22,
          3.171500925457807e-21,
          2.4843423916086145e-20,
          1.8700322729563065e-19,
          1.3524340545487598e-18,
          9.395857642128227e-18,
          6.269305012937304e-17,
          4.0166055845598217e-16,
          2.4702124345042888e-15,
          1.4578302892156374e-14,
          8.253200508301441e-14,
          4.4803088473636763e-13,
          2.3311606971439032e-12,
          1.1619939474994322e-11,
          5.545880203974579e-11,
          2.532894540919721e-10,
          1.1062789391958155e-09,
          4.6175120940346865e-09,
          1.840408391765267e-08,
          6.998736137698857e-08,
          2.5370418499158556e-07,
          8.758007481901302e-07,
          2.8759402947324566e-06,
          8.972933719565235e-06,
          2.6564606406607622e-05,
          7.451889589386049e-05,
          0.00019776168525678306,
          0.0004956558693777601,
          0.0011709869914049615,
          0.002602193314233246,
          0.005426525082120557,
          0.010591530883175044,
          0.019291716965783173,
          0.03268243815379736,
          0.05130382733444906,
          0.07430209476023679,
          0.09878801235167903,
          0.11987758802226188,
          0.13186534682448822,
          0.13041627707916423,
          0.11482302655882921,
          0.08889524636812596,
          0.059578728948850385,
          0.033865803823557104,
          0.01587459554229239,
          0.005891602469304384,
          0.001623196598685905,
          0.00029512665430652844
         ]
        },
        {
         "mode": "lines",
         "name": "Normal",
         "type": "scatter",
         "x": [
          0,
          1,
          2,
          3,
          4,
          5,
          6,
          7,
          8,
          9,
          10,
          11,
          12,
          13,
          14,
          15,
          16,
          17,
          18,
          19,
          20,
          21,
          22,
          23,
          24,
          25,
          26,
          27,
          28,
          29,
          30,
          31,
          32,
          33,
          34,
          35,
          36,
          37,
          38,
          39,
          40,
          41,
          42,
          43,
          44,
          45,
          46,
          47,
          48,
          49,
          50,
          51,
          52,
          53,
          54,
          55,
          56,
          57,
          58,
          59,
          60,
          61,
          62,
          63,
          64,
          65,
          66,
          67,
          68,
          69,
          70,
          71,
          72,
          73,
          74,
          75,
          76,
          77,
          78,
          79,
          80,
          81,
          82,
          83,
          84,
          85,
          86,
          87,
          88,
          89,
          90,
          91,
          92,
          93,
          94,
          95,
          96,
          97,
          98,
          99
         ],
         "y": [
          4.9121537829279345e-195,
          1.0235034300706955e-190,
          1.9083222230744416e-186,
          3.1838981806496125e-182,
          4.7534802223893657e-178,
          6.350519726132591e-174,
          7.591924929121341e-170,
          8.121562639155814e-166,
          7.774497871959302e-162,
          6.6596308638935075e-158,
          5.1047329033108944e-154,
          3.501393706180268e-150,
          2.149086657132373e-146,
          1.1803531582831473e-142,
          5.801162922878355e-139,
          2.5513099121397978e-135,
          1.0040525134281906e-131,
          3.5358570318808917e-128,
          1.1142381472648193e-124,
          3.142001637000674e-121,
          7.92829586391552e-118,
          1.7901867883400953e-114,
          3.617111566622546e-111,
          6.5398911302729956e-108,
          1.0580938509416639e-104,
          1.5318735584931692e-101,
          1.984571301855896e-98,
          2.3006764733757407e-95,
          2.386653949842437e-92,
          2.2154829555720663e-89,
          1.840316120719764e-86,
          1.3679225385526291e-83,
          9.098622311711106e-81,
          5.41545345591172e-78,
          2.884291001696925e-75,
          1.3746381105237657e-72,
          5.86249847531668e-70,
          2.237289389549155e-67,
          7.640233660195841e-65,
          2.334727378106194e-62,
          6.38426299251979e-60,
          1.5621776477226214e-57,
          3.4205435759728176e-55,
          6.702007246624315e-53,
          1.1750591165195156e-50,
          1.8435698499480866e-48,
          2.5882399436892904e-46,
          3.2515806554462697e-44,
          3.655355197963134e-42,
          3.6771360245602265e-40,
          3.310052363327167e-38,
          2.6662759190021948e-36,
          1.9218539203715181e-34,
          1.2395975672102317e-32,
          7.154612452210202e-31,
          3.695188268692888e-29,
          1.7077806340693134e-27,
          7.062730845030879e-26,
          2.6137153296798567e-24,
          8.655436443371155e-23,
          2.5648662089020855e-21,
          6.801199555016497e-20,
          1.6138061905814305e-18,
          3.426591190556257e-17,
          6.510558843973735e-16,
          1.1069278149757401e-14,
          1.6840903611789642e-13,
          2.2927491303556308e-12,
          2.7931402433965612e-11,
          3.0449068027881444e-10,
          2.970300062450686e-09,
          2.5928160226898524e-08,
          2.0252942832744072e-07,
          1.415629582151624e-06,
          8.854339695072964e-06,
          4.9557317157809665e-05,
          0.00024820152902099967,
          0.0011123620798546103,
          0.004461007525496179,
          0.016009021720694024,
          0.051409299876370364,
          0.14772828039793395,
          0.3798662007932454,
          0.874062969790312,
          1.7996988837729289,
          3.3159046264249477,
          5.467002489199778,
          8.065690817304771,
          10.648266850745072,
          12.579440923099774,
          13.29807601338109,
          12.579440923099774,
          10.648266850745072,
          8.065690817304771,
          5.467002489199806,
          3.3159046264249685,
          1.7996988837729417,
          0.87406296979032,
          0.3798662007932491,
          0.14772828039793395
         ]
        }
       ],
       "layout": {
        "autosize": true,
        "template": {
         "data": {
          "bar": [
           {
            "error_x": {
             "color": "#2a3f5f"
            },
            "error_y": {
             "color": "#2a3f5f"
            },
            "marker": {
             "line": {
              "color": "#E5ECF6",
              "width": 0.5
             },
             "pattern": {
              "fillmode": "overlay",
              "size": 10,
              "solidity": 0.2
             }
            },
            "type": "bar"
           }
          ],
          "barpolar": [
           {
            "marker": {
             "line": {
              "color": "#E5ECF6",
              "width": 0.5
             },
             "pattern": {
              "fillmode": "overlay",
              "size": 10,
              "solidity": 0.2
             }
            },
            "type": "barpolar"
           }
          ],
          "carpet": [
           {
            "aaxis": {
             "endlinecolor": "#2a3f5f",
             "gridcolor": "white",
             "linecolor": "white",
             "minorgridcolor": "white",
             "startlinecolor": "#2a3f5f"
            },
            "baxis": {
             "endlinecolor": "#2a3f5f",
             "gridcolor": "white",
             "linecolor": "white",
             "minorgridcolor": "white",
             "startlinecolor": "#2a3f5f"
            },
            "type": "carpet"
           }
          ],
          "choropleth": [
           {
            "colorbar": {
             "outlinewidth": 0,
             "ticks": ""
            },
            "type": "choropleth"
           }
          ],
          "contour": [
           {
            "colorbar": {
             "outlinewidth": 0,
             "ticks": ""
            },
            "colorscale": [
             [
              0,
              "#0d0887"
             ],
             [
              0.1111111111111111,
              "#46039f"
             ],
             [
              0.2222222222222222,
              "#7201a8"
             ],
             [
              0.3333333333333333,
              "#9c179e"
             ],
             [
              0.4444444444444444,
              "#bd3786"
             ],
             [
              0.5555555555555556,
              "#d8576b"
             ],
             [
              0.6666666666666666,
              "#ed7953"
             ],
             [
              0.7777777777777778,
              "#fb9f3a"
             ],
             [
              0.8888888888888888,
              "#fdca26"
             ],
             [
              1,
              "#f0f921"
             ]
            ],
            "type": "contour"
           }
          ],
          "contourcarpet": [
           {
            "colorbar": {
             "outlinewidth": 0,
             "ticks": ""
            },
            "type": "contourcarpet"
           }
          ],
          "heatmap": [
           {
            "colorbar": {
             "outlinewidth": 0,
             "ticks": ""
            },
            "colorscale": [
             [
              0,
              "#0d0887"
             ],
             [
              0.1111111111111111,
              "#46039f"
             ],
             [
              0.2222222222222222,
              "#7201a8"
             ],
             [
              0.3333333333333333,
              "#9c179e"
             ],
             [
              0.4444444444444444,
              "#bd3786"
             ],
             [
              0.5555555555555556,
              "#d8576b"
             ],
             [
              0.6666666666666666,
              "#ed7953"
             ],
             [
              0.7777777777777778,
              "#fb9f3a"
             ],
             [
              0.8888888888888888,
              "#fdca26"
             ],
             [
              1,
              "#f0f921"
             ]
            ],
            "type": "heatmap"
           }
          ],
          "heatmapgl": [
           {
            "colorbar": {
             "outlinewidth": 0,
             "ticks": ""
            },
            "colorscale": [
             [
              0,
              "#0d0887"
             ],
             [
              0.1111111111111111,
              "#46039f"
             ],
             [
              0.2222222222222222,
              "#7201a8"
             ],
             [
              0.3333333333333333,
              "#9c179e"
             ],
             [
              0.4444444444444444,
              "#bd3786"
             ],
             [
              0.5555555555555556,
              "#d8576b"
             ],
             [
              0.6666666666666666,
              "#ed7953"
             ],
             [
              0.7777777777777778,
              "#fb9f3a"
             ],
             [
              0.8888888888888888,
              "#fdca26"
             ],
             [
              1,
              "#f0f921"
             ]
            ],
            "type": "heatmapgl"
           }
          ],
          "histogram": [
           {
            "marker": {
             "pattern": {
              "fillmode": "overlay",
              "size": 10,
              "solidity": 0.2
             }
            },
            "type": "histogram"
           }
          ],
          "histogram2d": [
           {
            "colorbar": {
             "outlinewidth": 0,
             "ticks": ""
            },
            "colorscale": [
             [
              0,
              "#0d0887"
             ],
             [
              0.1111111111111111,
              "#46039f"
             ],
             [
              0.2222222222222222,
              "#7201a8"
             ],
             [
              0.3333333333333333,
              "#9c179e"
             ],
             [
              0.4444444444444444,
              "#bd3786"
             ],
             [
              0.5555555555555556,
              "#d8576b"
             ],
             [
              0.6666666666666666,
              "#ed7953"
             ],
             [
              0.7777777777777778,
              "#fb9f3a"
             ],
             [
              0.8888888888888888,
              "#fdca26"
             ],
             [
              1,
              "#f0f921"
             ]
            ],
            "type": "histogram2d"
           }
          ],
          "histogram2dcontour": [
           {
            "colorbar": {
             "outlinewidth": 0,
             "ticks": ""
            },
            "colorscale": [
             [
              0,
              "#0d0887"
             ],
             [
              0.1111111111111111,
              "#46039f"
             ],
             [
              0.2222222222222222,
              "#7201a8"
             ],
             [
              0.3333333333333333,
              "#9c179e"
             ],
             [
              0.4444444444444444,
              "#bd3786"
             ],
             [
              0.5555555555555556,
              "#d8576b"
             ],
             [
              0.6666666666666666,
              "#ed7953"
             ],
             [
              0.7777777777777778,
              "#fb9f3a"
             ],
             [
              0.8888888888888888,
              "#fdca26"
             ],
             [
              1,
              "#f0f921"
             ]
            ],
            "type": "histogram2dcontour"
           }
          ],
          "mesh3d": [
           {
            "colorbar": {
             "outlinewidth": 0,
             "ticks": ""
            },
            "type": "mesh3d"
           }
          ],
          "parcoords": [
           {
            "line": {
             "colorbar": {
              "outlinewidth": 0,
              "ticks": ""
             }
            },
            "type": "parcoords"
           }
          ],
          "pie": [
           {
            "automargin": true,
            "type": "pie"
           }
          ],
          "scatter": [
           {
            "fillpattern": {
             "fillmode": "overlay",
             "size": 10,
             "solidity": 0.2
            },
            "type": "scatter"
           }
          ],
          "scatter3d": [
           {
            "line": {
             "colorbar": {
              "outlinewidth": 0,
              "ticks": ""
             }
            },
            "marker": {
             "colorbar": {
              "outlinewidth": 0,
              "ticks": ""
             }
            },
            "type": "scatter3d"
           }
          ],
          "scattercarpet": [
           {
            "marker": {
             "colorbar": {
              "outlinewidth": 0,
              "ticks": ""
             }
            },
            "type": "scattercarpet"
           }
          ],
          "scattergeo": [
           {
            "marker": {
             "colorbar": {
              "outlinewidth": 0,
              "ticks": ""
             }
            },
            "type": "scattergeo"
           }
          ],
          "scattergl": [
           {
            "marker": {
             "colorbar": {
              "outlinewidth": 0,
              "ticks": ""
             }
            },
            "type": "scattergl"
           }
          ],
          "scattermapbox": [
           {
            "marker": {
             "colorbar": {
              "outlinewidth": 0,
              "ticks": ""
             }
            },
            "type": "scattermapbox"
           }
          ],
          "scatterpolar": [
           {
            "marker": {
             "colorbar": {
              "outlinewidth": 0,
              "ticks": ""
             }
            },
            "type": "scatterpolar"
           }
          ],
          "scatterpolargl": [
           {
            "marker": {
             "colorbar": {
              "outlinewidth": 0,
              "ticks": ""
             }
            },
            "type": "scatterpolargl"
           }
          ],
          "scatterternary": [
           {
            "marker": {
             "colorbar": {
              "outlinewidth": 0,
              "ticks": ""
             }
            },
            "type": "scatterternary"
           }
          ],
          "surface": [
           {
            "colorbar": {
             "outlinewidth": 0,
             "ticks": ""
            },
            "colorscale": [
             [
              0,
              "#0d0887"
             ],
             [
              0.1111111111111111,
              "#46039f"
             ],
             [
              0.2222222222222222,
              "#7201a8"
             ],
             [
              0.3333333333333333,
              "#9c179e"
             ],
             [
              0.4444444444444444,
              "#bd3786"
             ],
             [
              0.5555555555555556,
              "#d8576b"
             ],
             [
              0.6666666666666666,
              "#ed7953"
             ],
             [
              0.7777777777777778,
              "#fb9f3a"
             ],
             [
              0.8888888888888888,
              "#fdca26"
             ],
             [
              1,
              "#f0f921"
             ]
            ],
            "type": "surface"
           }
          ],
          "table": [
           {
            "cells": {
             "fill": {
              "color": "#EBF0F8"
             },
             "line": {
              "color": "white"
             }
            },
            "header": {
             "fill": {
              "color": "#C8D4E3"
             },
             "line": {
              "color": "white"
             }
            },
            "type": "table"
           }
          ]
         },
         "layout": {
          "annotationdefaults": {
           "arrowcolor": "#2a3f5f",
           "arrowhead": 0,
           "arrowwidth": 1
          },
          "autotypenumbers": "strict",
          "coloraxis": {
           "colorbar": {
            "outlinewidth": 0,
            "ticks": ""
           }
          },
          "colorscale": {
           "diverging": [
            [
             0,
             "#8e0152"
            ],
            [
             0.1,
             "#c51b7d"
            ],
            [
             0.2,
             "#de77ae"
            ],
            [
             0.3,
             "#f1b6da"
            ],
            [
             0.4,
             "#fde0ef"
            ],
            [
             0.5,
             "#f7f7f7"
            ],
            [
             0.6,
             "#e6f5d0"
            ],
            [
             0.7,
             "#b8e186"
            ],
            [
             0.8,
             "#7fbc41"
            ],
            [
             0.9,
             "#4d9221"
            ],
            [
             1,
             "#276419"
            ]
           ],
           "sequential": [
            [
             0,
             "#0d0887"
            ],
            [
             0.1111111111111111,
             "#46039f"
            ],
            [
             0.2222222222222222,
             "#7201a8"
            ],
            [
             0.3333333333333333,
             "#9c179e"
            ],
            [
             0.4444444444444444,
             "#bd3786"
            ],
            [
             0.5555555555555556,
             "#d8576b"
            ],
            [
             0.6666666666666666,
             "#ed7953"
            ],
            [
             0.7777777777777778,
             "#fb9f3a"
            ],
            [
             0.8888888888888888,
             "#fdca26"
            ],
            [
             1,
             "#f0f921"
            ]
           ],
           "sequentialminus": [
            [
             0,
             "#0d0887"
            ],
            [
             0.1111111111111111,
             "#46039f"
            ],
            [
             0.2222222222222222,
             "#7201a8"
            ],
            [
             0.3333333333333333,
             "#9c179e"
            ],
            [
             0.4444444444444444,
             "#bd3786"
            ],
            [
             0.5555555555555556,
             "#d8576b"
            ],
            [
             0.6666666666666666,
             "#ed7953"
            ],
            [
             0.7777777777777778,
             "#fb9f3a"
            ],
            [
             0.8888888888888888,
             "#fdca26"
            ],
            [
             1,
             "#f0f921"
            ]
           ]
          },
          "colorway": [
           "#636efa",
           "#EF553B",
           "#00cc96",
           "#ab63fa",
           "#FFA15A",
           "#19d3f3",
           "#FF6692",
           "#B6E880",
           "#FF97FF",
           "#FECB52"
          ],
          "font": {
           "color": "#2a3f5f"
          },
          "geo": {
           "bgcolor": "white",
           "lakecolor": "white",
           "landcolor": "#E5ECF6",
           "showlakes": true,
           "showland": true,
           "subunitcolor": "white"
          },
          "hoverlabel": {
           "align": "left"
          },
          "hovermode": "closest",
          "mapbox": {
           "style": "light"
          },
          "paper_bgcolor": "white",
          "plot_bgcolor": "#E5ECF6",
          "polar": {
           "angularaxis": {
            "gridcolor": "white",
            "linecolor": "white",
            "ticks": ""
           },
           "bgcolor": "#E5ECF6",
           "radialaxis": {
            "gridcolor": "white",
            "linecolor": "white",
            "ticks": ""
           }
          },
          "scene": {
           "xaxis": {
            "backgroundcolor": "#E5ECF6",
            "gridcolor": "white",
            "gridwidth": 2,
            "linecolor": "white",
            "showbackground": true,
            "ticks": "",
            "zerolinecolor": "white"
           },
           "yaxis": {
            "backgroundcolor": "#E5ECF6",
            "gridcolor": "white",
            "gridwidth": 2,
            "linecolor": "white",
            "showbackground": true,
            "ticks": "",
            "zerolinecolor": "white"
           },
           "zaxis": {
            "backgroundcolor": "#E5ECF6",
            "gridcolor": "white",
            "gridwidth": 2,
            "linecolor": "white",
            "showbackground": true,
            "ticks": "",
            "zerolinecolor": "white"
           }
          },
          "shapedefaults": {
           "line": {
            "color": "#2a3f5f"
           }
          },
          "ternary": {
           "aaxis": {
            "gridcolor": "white",
            "linecolor": "white",
            "ticks": ""
           },
           "baxis": {
            "gridcolor": "white",
            "linecolor": "white",
            "ticks": ""
           },
           "bgcolor": "#E5ECF6",
           "caxis": {
            "gridcolor": "white",
            "linecolor": "white",
            "ticks": ""
           }
          },
          "title": {
           "x": 0.05
          },
          "xaxis": {
           "automargin": true,
           "gridcolor": "white",
           "linecolor": "white",
           "ticks": "",
           "title": {
            "standoff": 15
           },
           "zerolinecolor": "white",
           "zerolinewidth": 2
          },
          "yaxis": {
           "automargin": true,
           "gridcolor": "white",
           "linecolor": "white",
           "ticks": "",
           "title": {
            "standoff": 15
           },
           "zerolinecolor": "white",
           "zerolinewidth": 2
          }
         }
        },
        "title": {
         "text": "Proporção de aprovação do App A"
        },
        "xaxis": {
         "autorange": true,
         "range": [
          -6.327814569536424,
          105.32781456953643
         ],
         "title": {
          "text": "x"
         },
         "type": "linear"
        },
        "yaxis": {
         "autorange": true,
         "range": [
          -1.0714089679027419,
          14.054364696606555
         ],
         "showticklabels": false,
         "title": {
          "text": "Prob. e densidade de prob."
         },
         "type": "linear"
        }
       }
      },
      "image/png": "[encoded data removed]",
      "text/html": [
       "<div>                            <div id=\"25c09def-746d-4213-863e-6632f4723472\" class=\"plotly-graph-div\" style=\"height:525px; width:100%;\"></div>            <script type=\"text/javascript\">                require([\"plotly\"], function(Plotly) {                    window.PLOTLYENV=window.PLOTLYENV || {};                                    if (document.getElementById(\"25c09def-746d-4213-863e-6632f4723472\")) {                    Plotly.newPlot(                        \"25c09def-746d-4213-863e-6632f4723472\",                        [{\"mode\":\"markers\",\"name\":\"Binomial\",\"x\":[0,1,2,3,4,5,6,7,8,9,10,11,12,13,14,15,16,17,18,19,20,21,22,23,24,25,26,27,28,29,30,31,32,33,34,35,36,37,38,39,40,41,42,43,44,45,46,47,48,49,50,51,52,53,54,55,56,57,58,59,60,61,62,63,64,65,66,67,68,69,70,71,72,73,74,75,76,77,78,79,80,81,82,83,84,85,86,87,88,89,90,91,92,93,94,95,96,97,98,99],\"y\":[9.999999999999748e-101,8.999999999999761e-98,4.0094999999999115e-95,1.1787929999999625e-92,2.57271572249995e-90,4.445652768479863e-88,6.335055195083818e-86,7.656366707201349e-84,8.010473667409397e-82,7.369635774016633e-80,6.035731698919629e-78,4.4444933419317394e-76,2.966699305739442e-74,1.8074045001120137e-72,1.0108555168483685e-70,5.216014466937589e-69,2.4939069170045373e-67,1.1090550760326008e-65,4.602578565535304e-64,1.7877384112447712e-62,6.516306508987203e-61,2.2341622316527552e-59,7.220406121386846e-58,2.203793520527623e-56,6.363453790523596e-55,1.7410409570872362e-53,4.5200101770534495e-52,1.1149358436731846e-50,2.616117318904563e-49,5.845669043621215e-48,1.245127506291327e-46,2.5304204160114108e-45,4.910597119822121e-44,9.10692556767007e-43,1.6151400345014867e-41,2.7411233728396735e-40,4.454325480864467e-39,6.934301289129604e-38,1.0346707449832823e-36,1.4803750658991546e-35,2.0318147779465947e-34,2.67604873192965e-33,3.383290182511087e-32,4.107156919234359e-31,4.788571589925531e-30,5.363200180716607e-29,5.771269759684198e-28,5.967738517460681e-27,5.930440151726518e-26,5.664175491853075e-25,5.19971310152115e-24,4.5879821484009964e-23,3.89096178354778e-22,3.171500925457807e-21,2.4843423916086145e-20,1.8700322729563065e-19,1.3524340545487598e-18,9.395857642128227e-18,6.269305012937304e-17,4.0166055845598217e-16,2.4702124345042888e-15,1.4578302892156374e-14,8.253200508301441e-14,4.4803088473636763e-13,2.3311606971439032e-12,1.1619939474994322e-11,5.545880203974579e-11,2.532894540919721e-10,1.1062789391958155e-09,4.6175120940346865e-09,1.840408391765267e-08,6.998736137698857e-08,2.5370418499158556e-07,8.758007481901302e-07,2.8759402947324566e-06,8.972933719565235e-06,2.6564606406607622e-05,7.451889589386049e-05,0.00019776168525678306,0.0004956558693777601,0.0011709869914049615,0.002602193314233246,0.005426525082120557,0.010591530883175044,0.019291716965783173,0.03268243815379736,0.05130382733444906,0.07430209476023679,0.09878801235167903,0.11987758802226188,0.13186534682448822,0.13041627707916423,0.11482302655882921,0.08889524636812596,0.059578728948850385,0.033865803823557104,0.01587459554229239,0.005891602469304384,0.001623196598685905,0.00029512665430652844],\"type\":\"scatter\"},{\"mode\":\"lines\",\"name\":\"Normal\",\"x\":[0,1,2,3,4,5,6,7,8,9,10,11,12,13,14,15,16,17,18,19,20,21,22,23,24,25,26,27,28,29,30,31,32,33,34,35,36,37,38,39,40,41,42,43,44,45,46,47,48,49,50,51,52,53,54,55,56,57,58,59,60,61,62,63,64,65,66,67,68,69,70,71,72,73,74,75,76,77,78,79,80,81,82,83,84,85,86,87,88,89,90,91,92,93,94,95,96,97,98,99],\"y\":[4.9121537829279345e-195,1.0235034300706955e-190,1.9083222230744416e-186,3.1838981806496125e-182,4.7534802223893657e-178,6.350519726132591e-174,7.591924929121341e-170,8.121562639155814e-166,7.774497871959302e-162,6.6596308638935075e-158,5.1047329033108944e-154,3.501393706180268e-150,2.149086657132373e-146,1.1803531582831473e-142,5.801162922878355e-139,2.5513099121397978e-135,1.0040525134281906e-131,3.5358570318808917e-128,1.1142381472648193e-124,3.142001637000674e-121,7.92829586391552e-118,1.7901867883400953e-114,3.617111566622546e-111,6.5398911302729956e-108,1.0580938509416639e-104,1.5318735584931692e-101,1.984571301855896e-98,2.3006764733757407e-95,2.386653949842437e-92,2.2154829555720663e-89,1.840316120719764e-86,1.3679225385526291e-83,9.098622311711106e-81,5.41545345591172e-78,2.884291001696925e-75,1.3746381105237657e-72,5.86249847531668e-70,2.237289389549155e-67,7.640233660195841e-65,2.334727378106194e-62,6.38426299251979e-60,1.5621776477226214e-57,3.4205435759728176e-55,6.702007246624315e-53,1.1750591165195156e-50,1.8435698499480866e-48,2.5882399436892904e-46,3.2515806554462697e-44,3.655355197963134e-42,3.6771360245602265e-40,3.310052363327167e-38,2.6662759190021948e-36,1.9218539203715181e-34,1.2395975672102317e-32,7.154612452210202e-31,3.695188268692888e-29,1.7077806340693134e-27,7.062730845030879e-26,2.6137153296798567e-24,8.655436443371155e-23,2.5648662089020855e-21,6.801199555016497e-20,1.6138061905814305e-18,3.426591190556257e-17,6.510558843973735e-16,1.1069278149757401e-14,1.6840903611789642e-13,2.2927491303556308e-12,2.7931402433965612e-11,3.0449068027881444e-10,2.970300062450686e-09,2.5928160226898524e-08,2.0252942832744072e-07,1.415629582151624e-06,8.854339695072964e-06,4.9557317157809665e-05,0.00024820152902099967,0.0011123620798546103,0.004461007525496179,0.016009021720694024,0.051409299876370364,0.14772828039793395,0.3798662007932454,0.874062969790312,1.7996988837729289,3.3159046264249477,5.467002489199778,8.065690817304771,10.648266850745072,12.579440923099774,13.29807601338109,12.579440923099774,10.648266850745072,8.065690817304771,5.467002489199806,3.3159046264249685,1.7996988837729417,0.87406296979032,0.3798662007932491,0.14772828039793395],\"type\":\"scatter\"}],                        {\"template\":{\"data\":{\"barpolar\":[{\"marker\":{\"line\":{\"color\":\"#E5ECF6\",\"width\":0.5},\"pattern\":{\"fillmode\":\"overlay\",\"size\":10,\"solidity\":0.2}},\"type\":\"barpolar\"}],\"bar\":[{\"error_x\":{\"color\":\"#2a3f5f\"},\"error_y\":{\"color\":\"#2a3f5f\"},\"marker\":{\"line\":{\"color\":\"#E5ECF6\",\"width\":0.5},\"pattern\":{\"fillmode\":\"overlay\",\"size\":10,\"solidity\":0.2}},\"type\":\"bar\"}],\"carpet\":[{\"aaxis\":{\"endlinecolor\":\"#2a3f5f\",\"gridcolor\":\"white\",\"linecolor\":\"white\",\"minorgridcolor\":\"white\",\"startlinecolor\":\"#2a3f5f\"},\"baxis\":{\"endlinecolor\":\"#2a3f5f\",\"gridcolor\":\"white\",\"linecolor\":\"white\",\"minorgridcolor\":\"white\",\"startlinecolor\":\"#2a3f5f\"},\"type\":\"carpet\"}],\"choropleth\":[{\"colorbar\":{\"outlinewidth\":0,\"ticks\":\"\"},\"type\":\"choropleth\"}],\"contourcarpet\":[{\"colorbar\":{\"outlinewidth\":0,\"ticks\":\"\"},\"type\":\"contourcarpet\"}],\"contour\":[{\"colorbar\":{\"outlinewidth\":0,\"ticks\":\"\"},\"colorscale\":[[0.0,\"#0d0887\"],[0.1111111111111111,\"#46039f\"],[0.2222222222222222,\"#7201a8\"],[0.3333333333333333,\"#9c179e\"],[0.4444444444444444,\"#bd3786\"],[0.5555555555555556,\"#d8576b\"],[0.6666666666666666,\"#ed7953\"],[0.7777777777777778,\"#fb9f3a\"],[0.8888888888888888,\"#fdca26\"],[1.0,\"#f0f921\"]],\"type\":\"contour\"}],\"heatmapgl\":[{\"colorbar\":{\"outlinewidth\":0,\"ticks\":\"\"},\"colorscale\":[[0.0,\"#0d0887\"],[0.1111111111111111,\"#46039f\"],[0.2222222222222222,\"#7201a8\"],[0.3333333333333333,\"#9c179e\"],[0.4444444444444444,\"#bd3786\"],[0.5555555555555556,\"#d8576b\"],[0.6666666666666666,\"#ed7953\"],[0.7777777777777778,\"#fb9f3a\"],[0.8888888888888888,\"#fdca26\"],[1.0,\"#f0f921\"]],\"type\":\"heatmapgl\"}],\"heatmap\":[{\"colorbar\":{\"outlinewidth\":0,\"ticks\":\"\"},\"colorscale\":[[0.0,\"#0d0887\"],[0.1111111111111111,\"#46039f\"],[0.2222222222222222,\"#7201a8\"],[0.3333333333333333,\"#9c179e\"],[0.4444444444444444,\"#bd3786\"],[0.5555555555555556,\"#d8576b\"],[0.6666666666666666,\"#ed7953\"],[0.7777777777777778,\"#fb9f3a\"],[0.8888888888888888,\"#fdca26\"],[1.0,\"#f0f921\"]],\"type\":\"heatmap\"}],\"histogram2dcontour\":[{\"colorbar\":{\"outlinewidth\":0,\"ticks\":\"\"},\"colorscale\":[[0.0,\"#0d0887\"],[0.1111111111111111,\"#46039f\"],[0.2222222222222222,\"#7201a8\"],[0.3333333333333333,\"#9c179e\"],[0.4444444444444444,\"#bd3786\"],[0.5555555555555556,\"#d8576b\"],[0.6666666666666666,\"#ed7953\"],[0.7777777777777778,\"#fb9f3a\"],[0.8888888888888888,\"#fdca26\"],[1.0,\"#f0f921\"]],\"type\":\"histogram2dcontour\"}],\"histogram2d\":[{\"colorbar\":{\"outlinewidth\":0,\"ticks\":\"\"},\"colorscale\":[[0.0,\"#0d0887\"],[0.1111111111111111,\"#46039f\"],[0.2222222222222222,\"#7201a8\"],[0.3333333333333333,\"#9c179e\"],[0.4444444444444444,\"#bd3786\"],[0.5555555555555556,\"#d8576b\"],[0.6666666666666666,\"#ed7953\"],[0.7777777777777778,\"#fb9f3a\"],[0.8888888888888888,\"#fdca26\"],[1.0,\"#f0f921\"]],\"type\":\"histogram2d\"}],\"histogram\":[{\"marker\":{\"pattern\":{\"fillmode\":\"overlay\",\"size\":10,\"solidity\":0.2}},\"type\":\"histogram\"}],\"mesh3d\":[{\"colorbar\":{\"outlinewidth\":0,\"ticks\":\"\"},\"type\":\"mesh3d\"}],\"parcoords\":[{\"line\":{\"colorbar\":{\"outlinewidth\":0,\"ticks\":\"\"}},\"type\":\"parcoords\"}],\"pie\":[{\"automargin\":true,\"type\":\"pie\"}],\"scatter3d\":[{\"line\":{\"colorbar\":{\"outlinewidth\":0,\"ticks\":\"\"}},\"marker\":{\"colorbar\":{\"outlinewidth\":0,\"ticks\":\"\"}},\"type\":\"scatter3d\"}],\"scattercarpet\":[{\"marker\":{\"colorbar\":{\"outlinewidth\":0,\"ticks\":\"\"}},\"type\":\"scattercarpet\"}],\"scattergeo\":[{\"marker\":{\"colorbar\":{\"outlinewidth\":0,\"ticks\":\"\"}},\"type\":\"scattergeo\"}],\"scattergl\":[{\"marker\":{\"colorbar\":{\"outlinewidth\":0,\"ticks\":\"\"}},\"type\":\"scattergl\"}],\"scattermapbox\":[{\"marker\":{\"colorbar\":{\"outlinewidth\":0,\"ticks\":\"\"}},\"type\":\"scattermapbox\"}],\"scatterpolargl\":[{\"marker\":{\"colorbar\":{\"outlinewidth\":0,\"ticks\":\"\"}},\"type\":\"scatterpolargl\"}],\"scatterpolar\":[{\"marker\":{\"colorbar\":{\"outlinewidth\":0,\"ticks\":\"\"}},\"type\":\"scatterpolar\"}],\"scatter\":[{\"fillpattern\":{\"fillmode\":\"overlay\",\"size\":10,\"solidity\":0.2},\"type\":\"scatter\"}],\"scatterternary\":[{\"marker\":{\"colorbar\":{\"outlinewidth\":0,\"ticks\":\"\"}},\"type\":\"scatterternary\"}],\"surface\":[{\"colorbar\":{\"outlinewidth\":0,\"ticks\":\"\"},\"colorscale\":[[0.0,\"#0d0887\"],[0.1111111111111111,\"#46039f\"],[0.2222222222222222,\"#7201a8\"],[0.3333333333333333,\"#9c179e\"],[0.4444444444444444,\"#bd3786\"],[0.5555555555555556,\"#d8576b\"],[0.6666666666666666,\"#ed7953\"],[0.7777777777777778,\"#fb9f3a\"],[0.8888888888888888,\"#fdca26\"],[1.0,\"#f0f921\"]],\"type\":\"surface\"}],\"table\":[{\"cells\":{\"fill\":{\"color\":\"#EBF0F8\"},\"line\":{\"color\":\"white\"}},\"header\":{\"fill\":{\"color\":\"#C8D4E3\"},\"line\":{\"color\":\"white\"}},\"type\":\"table\"}]},\"layout\":{\"annotationdefaults\":{\"arrowcolor\":\"#2a3f5f\",\"arrowhead\":0,\"arrowwidth\":1},\"autotypenumbers\":\"strict\",\"coloraxis\":{\"colorbar\":{\"outlinewidth\":0,\"ticks\":\"\"}},\"colorscale\":{\"diverging\":[[0,\"#8e0152\"],[0.1,\"#c51b7d\"],[0.2,\"#de77ae\"],[0.3,\"#f1b6da\"],[0.4,\"#fde0ef\"],[0.5,\"#f7f7f7\"],[0.6,\"#e6f5d0\"],[0.7,\"#b8e186\"],[0.8,\"#7fbc41\"],[0.9,\"#4d9221\"],[1,\"#276419\"]],\"sequential\":[[0.0,\"#0d0887\"],[0.1111111111111111,\"#46039f\"],[0.2222222222222222,\"#7201a8\"],[0.3333333333333333,\"#9c179e\"],[0.4444444444444444,\"#bd3786\"],[0.5555555555555556,\"#d8576b\"],[0.6666666666666666,\"#ed7953\"],[0.7777777777777778,\"#fb9f3a\"],[0.8888888888888888,\"#fdca26\"],[1.0,\"#f0f921\"]],\"sequentialminus\":[[0.0,\"#0d0887\"],[0.1111111111111111,\"#46039f\"],[0.2222222222222222,\"#7201a8\"],[0.3333333333333333,\"#9c179e\"],[0.4444444444444444,\"#bd3786\"],[0.5555555555555556,\"#d8576b\"],[0.6666666666666666,\"#ed7953\"],[0.7777777777777778,\"#fb9f3a\"],[0.8888888888888888,\"#fdca26\"],[1.0,\"#f0f921\"]]},\"colorway\":[\"#636efa\",\"#EF553B\",\"#00cc96\",\"#ab63fa\",\"#FFA15A\",\"#19d3f3\",\"#FF6692\",\"#B6E880\",\"#FF97FF\",\"#FECB52\"],\"font\":{\"color\":\"#2a3f5f\"},\"geo\":{\"bgcolor\":\"white\",\"lakecolor\":\"white\",\"landcolor\":\"#E5ECF6\",\"showlakes\":true,\"showland\":true,\"subunitcolor\":\"white\"},\"hoverlabel\":{\"align\":\"left\"},\"hovermode\":\"closest\",\"mapbox\":{\"style\":\"light\"},\"paper_bgcolor\":\"white\",\"plot_bgcolor\":\"#E5ECF6\",\"polar\":{\"angularaxis\":{\"gridcolor\":\"white\",\"linecolor\":\"white\",\"ticks\":\"\"},\"bgcolor\":\"#E5ECF6\",\"radialaxis\":{\"gridcolor\":\"white\",\"linecolor\":\"white\",\"ticks\":\"\"}},\"scene\":{\"xaxis\":{\"backgroundcolor\":\"#E5ECF6\",\"gridcolor\":\"white\",\"gridwidth\":2,\"linecolor\":\"white\",\"showbackground\":true,\"ticks\":\"\",\"zerolinecolor\":\"white\"},\"yaxis\":{\"backgroundcolor\":\"#E5ECF6\",\"gridcolor\":\"white\",\"gridwidth\":2,\"linecolor\":\"white\",\"showbackground\":true,\"ticks\":\"\",\"zerolinecolor\":\"white\"},\"zaxis\":{\"backgroundcolor\":\"#E5ECF6\",\"gridcolor\":\"white\",\"gridwidth\":2,\"linecolor\":\"white\",\"showbackground\":true,\"ticks\":\"\",\"zerolinecolor\":\"white\"}},\"shapedefaults\":{\"line\":{\"color\":\"#2a3f5f\"}},\"ternary\":{\"aaxis\":{\"gridcolor\":\"white\",\"linecolor\":\"white\",\"ticks\":\"\"},\"baxis\":{\"gridcolor\":\"white\",\"linecolor\":\"white\",\"ticks\":\"\"},\"bgcolor\":\"#E5ECF6\",\"caxis\":{\"gridcolor\":\"white\",\"linecolor\":\"white\",\"ticks\":\"\"}},\"title\":{\"x\":0.05},\"xaxis\":{\"automargin\":true,\"gridcolor\":\"white\",\"linecolor\":\"white\",\"ticks\":\"\",\"title\":{\"standoff\":15},\"zerolinecolor\":\"white\",\"zerolinewidth\":2},\"yaxis\":{\"automargin\":true,\"gridcolor\":\"white\",\"linecolor\":\"white\",\"ticks\":\"\",\"title\":{\"standoff\":15},\"zerolinecolor\":\"white\",\"zerolinewidth\":2}}},\"title\":{\"text\":\"Propor\\u00e7\\u00e3o de aprova\\u00e7\\u00e3o do App A\"},\"xaxis\":{\"title\":{\"text\":\"x\"}},\"yaxis\":{\"showticklabels\":false,\"title\":{\"text\":\"Prob. e densidade de prob.\"}}},                        {\"responsive\": true}                    ).then(function(){\n",
       "                            \n",
       "var gd = document.getElementById('25c09def-746d-4213-863e-6632f4723472');\n",
       "var x = new MutationObserver(function (mutations, observer) {{\n",
       "        var display = window.getComputedStyle(gd).display;\n",
       "        if (!display || display === 'none') {{\n",
       "            console.log([gd, 'removed!']);\n",
       "            Plotly.purge(gd);\n",
       "            observer.disconnect();\n",
       "        }}\n",
       "}});\n",
       "\n",
       "// Listen for the removal of the full notebook cells\n",
       "var notebookContainer = gd.closest('#notebook-container');\n",
       "if (notebookContainer) {{\n",
       "    x.observe(notebookContainer, {childList: true});\n",
       "}}\n",
       "\n",
       "// Listen for the clearing of the current output cell\n",
       "var outputEl = gd.closest('.output');\n",
       "if (outputEl) {{\n",
       "    x.observe(outputEl, {childList: true});\n",
       "}}\n",
       "\n",
       "                        })                };                });            </script>        </div>"
      ]
     },
     "metadata": {},
     "output_type": "display_data"
    }
   ],
   "source": [
    "binomial_e_proporção_vs_normal(empresa_A, rescale_x=False, rescale_y=False)"
   ]
  },
  {
   "cell_type": "markdown",
   "id": "80ac6574-58ec-4939-bf50-b3dd0e834264",
   "metadata": {
    "editable": true,
    "slideshow": {
     "slide_type": "slide"
    },
    "tags": []
   },
   "source": [
    "## Binomial vs normal\n",
    "\n",
    "Mudando a escala no eixo vertical..."
   ]
  },
  {
   "cell_type": "code",
   "execution_count": 8,
   "id": "fca7d002-24c4-4603-883a-1923dbf2c948",
   "metadata": {
    "editable": true,
    "slideshow": {
     "slide_type": ""
    },
    "tags": []
   },
   "outputs": [
    {
     "data": {
      "text/html": [
       "        <script type=\"text/javascript\">\n",
       "        window.PlotlyConfig = {MathJaxConfig: 'local'};\n",
       "        if (window.MathJax && window.MathJax.Hub && window.MathJax.Hub.Config) {window.MathJax.Hub.Config({SVG: {font: \"STIX-Web\"}});}\n",
       "        if (typeof require !== 'undefined') {\n",
       "        require.undef(\"plotly\");\n",
       "        requirejs.config({\n",
       "            paths: {\n",
       "                'plotly': ['https://cdn.plot.ly/plotly-2.32.0.min']\n",
       "            }\n",
       "        });\n",
       "        require(['plotly'], function(Plotly) {\n",
       "            window._Plotly = Plotly;\n",
       "        });\n",
       "        }\n",
       "        </script>\n",
       "        "
      ]
     },
     "metadata": {},
     "output_type": "display_data"
    },
    {
     "data": {
      "application/vnd.plotly.v1+json": {
       "config": {
        "linkText": "Export to plot.ly",
        "plotlyServerURL": "https://plot.ly",
        "showLink": false
       },
       "data": [
        {
         "mode": "markers",
         "name": "Binomial",
         "type": "scatter",
         "x": [
          0,
          1,
          2,
          3,
          4,
          5,
          6,
          7,
          8,
          9,
          10,
          11,
          12,
          13,
          14,
          15,
          16,
          17,
          18,
          19,
          20,
          21,
          22,
          23,
          24,
          25,
          26,
          27,
          28,
          29,
          30,
          31,
          32,
          33,
          34,
          35,
          36,
          37,
          38,
          39,
          40,
          41,
          42,
          43,
          44,
          45,
          46,
          47,
          48,
          49,
          50,
          51,
          52,
          53,
          54,
          55,
          56,
          57,
          58,
          59,
          60,
          61,
          62,
          63,
          64,
          65,
          66,
          67,
          68,
          69,
          70,
          71,
          72,
          73,
          74,
          75,
          76,
          77,
          78,
          79,
          80,
          81,
          82,
          83,
          84,
          85,
          86,
          87,
          88,
          89,
          90,
          91,
          92,
          93,
          94,
          95,
          96,
          97,
          98,
          99
         ],
         "y": [
          9.999999999999748e-101,
          8.999999999999761e-98,
          4.0094999999999115e-95,
          1.1787929999999625e-92,
          2.57271572249995e-90,
          4.445652768479863e-88,
          6.335055195083818e-86,
          7.656366707201349e-84,
          8.010473667409397e-82,
          7.369635774016633e-80,
          6.035731698919629e-78,
          4.4444933419317394e-76,
          2.966699305739442e-74,
          1.8074045001120137e-72,
          1.0108555168483685e-70,
          5.216014466937589e-69,
          2.4939069170045373e-67,
          1.1090550760326008e-65,
          4.602578565535304e-64,
          1.7877384112447712e-62,
          6.516306508987203e-61,
          2.2341622316527552e-59,
          7.220406121386846e-58,
          2.203793520527623e-56,
          6.363453790523596e-55,
          1.7410409570872362e-53,
          4.5200101770534495e-52,
          1.1149358436731846e-50,
          2.616117318904563e-49,
          5.845669043621215e-48,
          1.245127506291327e-46,
          2.5304204160114108e-45,
          4.910597119822121e-44,
          9.10692556767007e-43,
          1.6151400345014867e-41,
          2.7411233728396735e-40,
          4.454325480864467e-39,
          6.934301289129604e-38,
          1.0346707449832823e-36,
          1.4803750658991546e-35,
          2.0318147779465947e-34,
          2.67604873192965e-33,
          3.383290182511087e-32,
          4.107156919234359e-31,
          4.788571589925531e-30,
          5.363200180716607e-29,
          5.771269759684198e-28,
          5.967738517460681e-27,
          5.930440151726518e-26,
          5.664175491853075e-25,
          5.19971310152115e-24,
          4.5879821484009964e-23,
          3.89096178354778e-22,
          3.171500925457807e-21,
          2.4843423916086145e-20,
          1.8700322729563065e-19,
          1.3524340545487598e-18,
          9.395857642128227e-18,
          6.269305012937304e-17,
          4.0166055845598217e-16,
          2.4702124345042888e-15,
          1.4578302892156374e-14,
          8.253200508301441e-14,
          4.4803088473636763e-13,
          2.3311606971439032e-12,
          1.1619939474994322e-11,
          5.545880203974579e-11,
          2.532894540919721e-10,
          1.1062789391958155e-09,
          4.6175120940346865e-09,
          1.840408391765267e-08,
          6.998736137698857e-08,
          2.5370418499158556e-07,
          8.758007481901302e-07,
          2.8759402947324566e-06,
          8.972933719565235e-06,
          2.6564606406607622e-05,
          7.451889589386049e-05,
          0.00019776168525678306,
          0.0004956558693777601,
          0.0011709869914049615,
          0.002602193314233246,
          0.005426525082120557,
          0.010591530883175044,
          0.019291716965783173,
          0.03268243815379736,
          0.05130382733444906,
          0.07430209476023679,
          0.09878801235167903,
          0.11987758802226188,
          0.13186534682448822,
          0.13041627707916423,
          0.11482302655882921,
          0.08889524636812596,
          0.059578728948850385,
          0.033865803823557104,
          0.01587459554229239,
          0.005891602469304384,
          0.001623196598685905,
          0.00029512665430652844
         ]
        },
        {
         "mode": "lines",
         "name": "Normal",
         "type": "scatter",
         "x": [
          0,
          1,
          2,
          3,
          4,
          5,
          6,
          7,
          8,
          9,
          10,
          11,
          12,
          13,
          14,
          15,
          16,
          17,
          18,
          19,
          20,
          21,
          22,
          23,
          24,
          25,
          26,
          27,
          28,
          29,
          30,
          31,
          32,
          33,
          34,
          35,
          36,
          37,
          38,
          39,
          40,
          41,
          42,
          43,
          44,
          45,
          46,
          47,
          48,
          49,
          50,
          51,
          52,
          53,
          54,
          55,
          56,
          57,
          58,
          59,
          60,
          61,
          62,
          63,
          64,
          65,
          66,
          67,
          68,
          69,
          70,
          71,
          72,
          73,
          74,
          75,
          76,
          77,
          78,
          79,
          80,
          81,
          82,
          83,
          84,
          85,
          86,
          87,
          88,
          89,
          90,
          91,
          92,
          93,
          94,
          95,
          96,
          97,
          98,
          99
         ],
         "y": [
          4.870951719551215e-197,
          1.0149185088618716e-192,
          1.892315636828795e-188,
          3.157192344386898e-184,
          4.713609077869511e-180,
          6.297252966215466e-176,
          7.528245535945971e-172,
          8.053440761591745e-168,
          7.709287097175353e-164,
          6.60377134787564e-160,
          5.061915528713539e-156,
          3.472024787419973e-152,
          2.1310605918742023e-148,
          1.1704526161210685e-144,
          5.752504046758105e-141,
          2.5299100868617345e-137,
          9.956307422215155e-134,
          3.5061990423397465e-130,
          1.1048921632445472e-126,
          3.1156472197128075e-123,
          7.861795065469483e-120,
          1.775171096085976e-116,
          3.586772031951094e-113,
          6.485035964752152e-110,
          1.0492187929057102e-106,
          1.5190245406831986e-103,
          1.9679251551414206e-100,
          2.281378906146717e-97,
          2.3666352224887726e-94,
          2.196899972795189e-91,
          1.8248799546732896e-88,
          1.3564487057659257e-85,
          9.022305072940845e-83,
          5.3700298257966326e-80,
          2.8600982044229797e-77,
          1.3631079489993652e-74,
          5.813325130099881e-72,
          2.2185234992098426e-69,
          7.576149064030634e-67,
          2.3151441993925274e-64,
          6.3307132015206464e-62,
          1.5490744458906959e-59,
          3.3918528102867204e-57,
          6.645792286847129e-55,
          1.1652029796130342e-52,
          1.8281063923379113e-50,
          2.5665303574453358e-48,
          3.224307113501018e-46,
          3.6246948841402376e-44,
          3.646293017963955e-42,
          3.2822883735823727e-40,
          2.6439117841951064e-38,
          1.905733833231098e-36,
          1.2292000960025246e-34,
          7.094601139714989e-33,
          3.664193843851237e-31,
          1.6934561464763137e-29,
          7.003490215207556e-28,
          2.591792061512552e-26,
          8.582836549993962e-25,
          2.5433526763943557e-23,
          6.744152592016802e-22,
          1.600269939910051e-20,
          3.397849698811824e-19,
          6.455949711206036e-18,
          1.0976431484116369e-16,
          1.6699645823740388e-15,
          2.2735180559328092e-14,
          2.769711998595175e-13,
          3.019366795571615e-12,
          2.945385840130061e-11,
          2.5710680533037303e-10,
          2.00830656116644e-09,
          1.4037555931970268e-08,
          8.780071445055362e-08,
          4.914164130307306e-07,
          2.4611966929493335e-06,
          1.103031831874322e-05,
          4.4235895775018966e-05,
          0.00015874741574614773,
          0.000509780899987357,
          0.0014648916813873646,
          0.0037667996681698995,
          0.008667315222282045,
          0.01784603406158622,
          0.03288091549187027,
          0.05421146477153994,
          0.07998037580269197,
          0.10558951535096485,
          0.12473927344929933,
          0.13186534682448822,
          0.12473927344929933,
          0.10558951535096485,
          0.07998037580269197,
          0.05421146477154021,
          0.03288091549187048,
          0.017846034061586344,
          0.008667315222282125,
          0.0037667996681699364,
          0.0014648916813873646
         ]
        }
       ],
       "layout": {
        "autosize": true,
        "template": {
         "data": {
          "bar": [
           {
            "error_x": {
             "color": "#2a3f5f"
            },
            "error_y": {
             "color": "#2a3f5f"
            },
            "marker": {
             "line": {
              "color": "#E5ECF6",
              "width": 0.5
             },
             "pattern": {
              "fillmode": "overlay",
              "size": 10,
              "solidity": 0.2
             }
            },
            "type": "bar"
           }
          ],
          "barpolar": [
           {
            "marker": {
             "line": {
              "color": "#E5ECF6",
              "width": 0.5
             },
             "pattern": {
              "fillmode": "overlay",
              "size": 10,
              "solidity": 0.2
             }
            },
            "type": "barpolar"
           }
          ],
          "carpet": [
           {
            "aaxis": {
             "endlinecolor": "#2a3f5f",
             "gridcolor": "white",
             "linecolor": "white",
             "minorgridcolor": "white",
             "startlinecolor": "#2a3f5f"
            },
            "baxis": {
             "endlinecolor": "#2a3f5f",
             "gridcolor": "white",
             "linecolor": "white",
             "minorgridcolor": "white",
             "startlinecolor": "#2a3f5f"
            },
            "type": "carpet"
           }
          ],
          "choropleth": [
           {
            "colorbar": {
             "outlinewidth": 0,
             "ticks": ""
            },
            "type": "choropleth"
           }
          ],
          "contour": [
           {
            "colorbar": {
             "outlinewidth": 0,
             "ticks": ""
            },
            "colorscale": [
             [
              0,
              "#0d0887"
             ],
             [
              0.1111111111111111,
              "#46039f"
             ],
             [
              0.2222222222222222,
              "#7201a8"
             ],
             [
              0.3333333333333333,
              "#9c179e"
             ],
             [
              0.4444444444444444,
              "#bd3786"
             ],
             [
              0.5555555555555556,
              "#d8576b"
             ],
             [
              0.6666666666666666,
              "#ed7953"
             ],
             [
              0.7777777777777778,
              "#fb9f3a"
             ],
             [
              0.8888888888888888,
              "#fdca26"
             ],
             [
              1,
              "#f0f921"
             ]
            ],
            "type": "contour"
           }
          ],
          "contourcarpet": [
           {
            "colorbar": {
             "outlinewidth": 0,
             "ticks": ""
            },
            "type": "contourcarpet"
           }
          ],
          "heatmap": [
           {
            "colorbar": {
             "outlinewidth": 0,
             "ticks": ""
            },
            "colorscale": [
             [
              0,
              "#0d0887"
             ],
             [
              0.1111111111111111,
              "#46039f"
             ],
             [
              0.2222222222222222,
              "#7201a8"
             ],
             [
              0.3333333333333333,
              "#9c179e"
             ],
             [
              0.4444444444444444,
              "#bd3786"
             ],
             [
              0.5555555555555556,
              "#d8576b"
             ],
             [
              0.6666666666666666,
              "#ed7953"
             ],
             [
              0.7777777777777778,
              "#fb9f3a"
             ],
             [
              0.8888888888888888,
              "#fdca26"
             ],
             [
              1,
              "#f0f921"
             ]
            ],
            "type": "heatmap"
           }
          ],
          "heatmapgl": [
           {
            "colorbar": {
             "outlinewidth": 0,
             "ticks": ""
            },
            "colorscale": [
             [
              0,
              "#0d0887"
             ],
             [
              0.1111111111111111,
              "#46039f"
             ],
             [
              0.2222222222222222,
              "#7201a8"
             ],
             [
              0.3333333333333333,
              "#9c179e"
             ],
             [
              0.4444444444444444,
              "#bd3786"
             ],
             [
              0.5555555555555556,
              "#d8576b"
             ],
             [
              0.6666666666666666,
              "#ed7953"
             ],
             [
              0.7777777777777778,
              "#fb9f3a"
             ],
             [
              0.8888888888888888,
              "#fdca26"
             ],
             [
              1,
              "#f0f921"
             ]
            ],
            "type": "heatmapgl"
           }
          ],
          "histogram": [
           {
            "marker": {
             "pattern": {
              "fillmode": "overlay",
              "size": 10,
              "solidity": 0.2
             }
            },
            "type": "histogram"
           }
          ],
          "histogram2d": [
           {
            "colorbar": {
             "outlinewidth": 0,
             "ticks": ""
            },
            "colorscale": [
             [
              0,
              "#0d0887"
             ],
             [
              0.1111111111111111,
              "#46039f"
             ],
             [
              0.2222222222222222,
              "#7201a8"
             ],
             [
              0.3333333333333333,
              "#9c179e"
             ],
             [
              0.4444444444444444,
              "#bd3786"
             ],
             [
              0.5555555555555556,
              "#d8576b"
             ],
             [
              0.6666666666666666,
              "#ed7953"
             ],
             [
              0.7777777777777778,
              "#fb9f3a"
             ],
             [
              0.8888888888888888,
              "#fdca26"
             ],
             [
              1,
              "#f0f921"
             ]
            ],
            "type": "histogram2d"
           }
          ],
          "histogram2dcontour": [
           {
            "colorbar": {
             "outlinewidth": 0,
             "ticks": ""
            },
            "colorscale": [
             [
              0,
              "#0d0887"
             ],
             [
              0.1111111111111111,
              "#46039f"
             ],
             [
              0.2222222222222222,
              "#7201a8"
             ],
             [
              0.3333333333333333,
              "#9c179e"
             ],
             [
              0.4444444444444444,
              "#bd3786"
             ],
             [
              0.5555555555555556,
              "#d8576b"
             ],
             [
              0.6666666666666666,
              "#ed7953"
             ],
             [
              0.7777777777777778,
              "#fb9f3a"
             ],
             [
              0.8888888888888888,
              "#fdca26"
             ],
             [
              1,
              "#f0f921"
             ]
            ],
            "type": "histogram2dcontour"
           }
          ],
          "mesh3d": [
           {
            "colorbar": {
             "outlinewidth": 0,
             "ticks": ""
            },
            "type": "mesh3d"
           }
          ],
          "parcoords": [
           {
            "line": {
             "colorbar": {
              "outlinewidth": 0,
              "ticks": ""
             }
            },
            "type": "parcoords"
           }
          ],
          "pie": [
           {
            "automargin": true,
            "type": "pie"
           }
          ],
          "scatter": [
           {
            "fillpattern": {
             "fillmode": "overlay",
             "size": 10,
             "solidity": 0.2
            },
            "type": "scatter"
           }
          ],
          "scatter3d": [
           {
            "line": {
             "colorbar": {
              "outlinewidth": 0,
              "ticks": ""
             }
            },
            "marker": {
             "colorbar": {
              "outlinewidth": 0,
              "ticks": ""
             }
            },
            "type": "scatter3d"
           }
          ],
          "scattercarpet": [
           {
            "marker": {
             "colorbar": {
              "outlinewidth": 0,
              "ticks": ""
             }
            },
            "type": "scattercarpet"
           }
          ],
          "scattergeo": [
           {
            "marker": {
             "colorbar": {
              "outlinewidth": 0,
              "ticks": ""
             }
            },
            "type": "scattergeo"
           }
          ],
          "scattergl": [
           {
            "marker": {
             "colorbar": {
              "outlinewidth": 0,
              "ticks": ""
             }
            },
            "type": "scattergl"
           }
          ],
          "scattermapbox": [
           {
            "marker": {
             "colorbar": {
              "outlinewidth": 0,
              "ticks": ""
             }
            },
            "type": "scattermapbox"
           }
          ],
          "scatterpolar": [
           {
            "marker": {
             "colorbar": {
              "outlinewidth": 0,
              "ticks": ""
             }
            },
            "type": "scatterpolar"
           }
          ],
          "scatterpolargl": [
           {
            "marker": {
             "colorbar": {
              "outlinewidth": 0,
              "ticks": ""
             }
            },
            "type": "scatterpolargl"
           }
          ],
          "scatterternary": [
           {
            "marker": {
             "colorbar": {
              "outlinewidth": 0,
              "ticks": ""
             }
            },
            "type": "scatterternary"
           }
          ],
          "surface": [
           {
            "colorbar": {
             "outlinewidth": 0,
             "ticks": ""
            },
            "colorscale": [
             [
              0,
              "#0d0887"
             ],
             [
              0.1111111111111111,
              "#46039f"
             ],
             [
              0.2222222222222222,
              "#7201a8"
             ],
             [
              0.3333333333333333,
              "#9c179e"
             ],
             [
              0.4444444444444444,
              "#bd3786"
             ],
             [
              0.5555555555555556,
              "#d8576b"
             ],
             [
              0.6666666666666666,
              "#ed7953"
             ],
             [
              0.7777777777777778,
              "#fb9f3a"
             ],
             [
              0.8888888888888888,
              "#fdca26"
             ],
             [
              1,
              "#f0f921"
             ]
            ],
            "type": "surface"
           }
          ],
          "table": [
           {
            "cells": {
             "fill": {
              "color": "#EBF0F8"
             },
             "line": {
              "color": "white"
             }
            },
            "header": {
             "fill": {
              "color": "#C8D4E3"
             },
             "line": {
              "color": "white"
             }
            },
            "type": "table"
           }
          ]
         },
         "layout": {
          "annotationdefaults": {
           "arrowcolor": "#2a3f5f",
           "arrowhead": 0,
           "arrowwidth": 1
          },
          "autotypenumbers": "strict",
          "coloraxis": {
           "colorbar": {
            "outlinewidth": 0,
            "ticks": ""
           }
          },
          "colorscale": {
           "diverging": [
            [
             0,
             "#8e0152"
            ],
            [
             0.1,
             "#c51b7d"
            ],
            [
             0.2,
             "#de77ae"
            ],
            [
             0.3,
             "#f1b6da"
            ],
            [
             0.4,
             "#fde0ef"
            ],
            [
             0.5,
             "#f7f7f7"
            ],
            [
             0.6,
             "#e6f5d0"
            ],
            [
             0.7,
             "#b8e186"
            ],
            [
             0.8,
             "#7fbc41"
            ],
            [
             0.9,
             "#4d9221"
            ],
            [
             1,
             "#276419"
            ]
           ],
           "sequential": [
            [
             0,
             "#0d0887"
            ],
            [
             0.1111111111111111,
             "#46039f"
            ],
            [
             0.2222222222222222,
             "#7201a8"
            ],
            [
             0.3333333333333333,
             "#9c179e"
            ],
            [
             0.4444444444444444,
             "#bd3786"
            ],
            [
             0.5555555555555556,
             "#d8576b"
            ],
            [
             0.6666666666666666,
             "#ed7953"
            ],
            [
             0.7777777777777778,
             "#fb9f3a"
            ],
            [
             0.8888888888888888,
             "#fdca26"
            ],
            [
             1,
             "#f0f921"
            ]
           ],
           "sequentialminus": [
            [
             0,
             "#0d0887"
            ],
            [
             0.1111111111111111,
             "#46039f"
            ],
            [
             0.2222222222222222,
             "#7201a8"
            ],
            [
             0.3333333333333333,
             "#9c179e"
            ],
            [
             0.4444444444444444,
             "#bd3786"
            ],
            [
             0.5555555555555556,
             "#d8576b"
            ],
            [
             0.6666666666666666,
             "#ed7953"
            ],
            [
             0.7777777777777778,
             "#fb9f3a"
            ],
            [
             0.8888888888888888,
             "#fdca26"
            ],
            [
             1,
             "#f0f921"
            ]
           ]
          },
          "colorway": [
           "#636efa",
           "#EF553B",
           "#00cc96",
           "#ab63fa",
           "#FFA15A",
           "#19d3f3",
           "#FF6692",
           "#B6E880",
           "#FF97FF",
           "#FECB52"
          ],
          "font": {
           "color": "#2a3f5f"
          },
          "geo": {
           "bgcolor": "white",
           "lakecolor": "white",
           "landcolor": "#E5ECF6",
           "showlakes": true,
           "showland": true,
           "subunitcolor": "white"
          },
          "hoverlabel": {
           "align": "left"
          },
          "hovermode": "closest",
          "mapbox": {
           "style": "light"
          },
          "paper_bgcolor": "white",
          "plot_bgcolor": "#E5ECF6",
          "polar": {
           "angularaxis": {
            "gridcolor": "white",
            "linecolor": "white",
            "ticks": ""
           },
           "bgcolor": "#E5ECF6",
           "radialaxis": {
            "gridcolor": "white",
            "linecolor": "white",
            "ticks": ""
           }
          },
          "scene": {
           "xaxis": {
            "backgroundcolor": "#E5ECF6",
            "gridcolor": "white",
            "gridwidth": 2,
            "linecolor": "white",
            "showbackground": true,
            "ticks": "",
            "zerolinecolor": "white"
           },
           "yaxis": {
            "backgroundcolor": "#E5ECF6",
            "gridcolor": "white",
            "gridwidth": 2,
            "linecolor": "white",
            "showbackground": true,
            "ticks": "",
            "zerolinecolor": "white"
           },
           "zaxis": {
            "backgroundcolor": "#E5ECF6",
            "gridcolor": "white",
            "gridwidth": 2,
            "linecolor": "white",
            "showbackground": true,
            "ticks": "",
            "zerolinecolor": "white"
           }
          },
          "shapedefaults": {
           "line": {
            "color": "#2a3f5f"
           }
          },
          "ternary": {
           "aaxis": {
            "gridcolor": "white",
            "linecolor": "white",
            "ticks": ""
           },
           "baxis": {
            "gridcolor": "white",
            "linecolor": "white",
            "ticks": ""
           },
           "bgcolor": "#E5ECF6",
           "caxis": {
            "gridcolor": "white",
            "linecolor": "white",
            "ticks": ""
           }
          },
          "title": {
           "x": 0.05
          },
          "xaxis": {
           "automargin": true,
           "gridcolor": "white",
           "linecolor": "white",
           "ticks": "",
           "title": {
            "standoff": 15
           },
           "zerolinecolor": "white",
           "zerolinewidth": 2
          },
          "yaxis": {
           "automargin": true,
           "gridcolor": "white",
           "linecolor": "white",
           "ticks": "",
           "title": {
            "standoff": 15
           },
           "zerolinecolor": "white",
           "zerolinewidth": 2
          }
         }
        },
        "title": {
         "text": "Proporção de aprovação do App A"
        },
        "xaxis": {
         "autorange": true,
         "range": [
          -6.327814569536424,
          105.32781456953643
         ],
         "title": {
          "text": "x"
         },
         "type": "linear"
        },
        "yaxis": {
         "autorange": true,
         "range": [
          -0.010882091728234466,
          0.14274743855272268
         ],
         "showticklabels": false,
         "title": {
          "text": "Prob. e densidade de prob."
         },
         "type": "linear"
        }
       }
      },
      "image/png": "[encoded data removed]",
      "text/html": [
       "<div>                            <div id=\"8150471d-aa56-45e4-8d3f-c0f600968a55\" class=\"plotly-graph-div\" style=\"height:525px; width:100%;\"></div>            <script type=\"text/javascript\">                require([\"plotly\"], function(Plotly) {                    window.PLOTLYENV=window.PLOTLYENV || {};                                    if (document.getElementById(\"8150471d-aa56-45e4-8d3f-c0f600968a55\")) {                    Plotly.newPlot(                        \"8150471d-aa56-45e4-8d3f-c0f600968a55\",                        [{\"mode\":\"markers\",\"name\":\"Binomial\",\"x\":[0,1,2,3,4,5,6,7,8,9,10,11,12,13,14,15,16,17,18,19,20,21,22,23,24,25,26,27,28,29,30,31,32,33,34,35,36,37,38,39,40,41,42,43,44,45,46,47,48,49,50,51,52,53,54,55,56,57,58,59,60,61,62,63,64,65,66,67,68,69,70,71,72,73,74,75,76,77,78,79,80,81,82,83,84,85,86,87,88,89,90,91,92,93,94,95,96,97,98,99],\"y\":[9.999999999999748e-101,8.999999999999761e-98,4.0094999999999115e-95,1.1787929999999625e-92,2.57271572249995e-90,4.445652768479863e-88,6.335055195083818e-86,7.656366707201349e-84,8.010473667409397e-82,7.369635774016633e-80,6.035731698919629e-78,4.4444933419317394e-76,2.966699305739442e-74,1.8074045001120137e-72,1.0108555168483685e-70,5.216014466937589e-69,2.4939069170045373e-67,1.1090550760326008e-65,4.602578565535304e-64,1.7877384112447712e-62,6.516306508987203e-61,2.2341622316527552e-59,7.220406121386846e-58,2.203793520527623e-56,6.363453790523596e-55,1.7410409570872362e-53,4.5200101770534495e-52,1.1149358436731846e-50,2.616117318904563e-49,5.845669043621215e-48,1.245127506291327e-46,2.5304204160114108e-45,4.910597119822121e-44,9.10692556767007e-43,1.6151400345014867e-41,2.7411233728396735e-40,4.454325480864467e-39,6.934301289129604e-38,1.0346707449832823e-36,1.4803750658991546e-35,2.0318147779465947e-34,2.67604873192965e-33,3.383290182511087e-32,4.107156919234359e-31,4.788571589925531e-30,5.363200180716607e-29,5.771269759684198e-28,5.967738517460681e-27,5.930440151726518e-26,5.664175491853075e-25,5.19971310152115e-24,4.5879821484009964e-23,3.89096178354778e-22,3.171500925457807e-21,2.4843423916086145e-20,1.8700322729563065e-19,1.3524340545487598e-18,9.395857642128227e-18,6.269305012937304e-17,4.0166055845598217e-16,2.4702124345042888e-15,1.4578302892156374e-14,8.253200508301441e-14,4.4803088473636763e-13,2.3311606971439032e-12,1.1619939474994322e-11,5.545880203974579e-11,2.532894540919721e-10,1.1062789391958155e-09,4.6175120940346865e-09,1.840408391765267e-08,6.998736137698857e-08,2.5370418499158556e-07,8.758007481901302e-07,2.8759402947324566e-06,8.972933719565235e-06,2.6564606406607622e-05,7.451889589386049e-05,0.00019776168525678306,0.0004956558693777601,0.0011709869914049615,0.002602193314233246,0.005426525082120557,0.010591530883175044,0.019291716965783173,0.03268243815379736,0.05130382733444906,0.07430209476023679,0.09878801235167903,0.11987758802226188,0.13186534682448822,0.13041627707916423,0.11482302655882921,0.08889524636812596,0.059578728948850385,0.033865803823557104,0.01587459554229239,0.005891602469304384,0.001623196598685905,0.00029512665430652844],\"type\":\"scatter\"},{\"mode\":\"lines\",\"name\":\"Normal\",\"x\":[0,1,2,3,4,5,6,7,8,9,10,11,12,13,14,15,16,17,18,19,20,21,22,23,24,25,26,27,28,29,30,31,32,33,34,35,36,37,38,39,40,41,42,43,44,45,46,47,48,49,50,51,52,53,54,55,56,57,58,59,60,61,62,63,64,65,66,67,68,69,70,71,72,73,74,75,76,77,78,79,80,81,82,83,84,85,86,87,88,89,90,91,92,93,94,95,96,97,98,99],\"y\":[4.870951719551215e-197,1.0149185088618716e-192,1.892315636828795e-188,3.157192344386898e-184,4.713609077869511e-180,6.297252966215466e-176,7.528245535945971e-172,8.053440761591745e-168,7.709287097175353e-164,6.60377134787564e-160,5.061915528713539e-156,3.472024787419973e-152,2.1310605918742023e-148,1.1704526161210685e-144,5.752504046758105e-141,2.5299100868617345e-137,9.956307422215155e-134,3.5061990423397465e-130,1.1048921632445472e-126,3.1156472197128075e-123,7.861795065469483e-120,1.775171096085976e-116,3.586772031951094e-113,6.485035964752152e-110,1.0492187929057102e-106,1.5190245406831986e-103,1.9679251551414206e-100,2.281378906146717e-97,2.3666352224887726e-94,2.196899972795189e-91,1.8248799546732896e-88,1.3564487057659257e-85,9.022305072940845e-83,5.3700298257966326e-80,2.8600982044229797e-77,1.3631079489993652e-74,5.813325130099881e-72,2.2185234992098426e-69,7.576149064030634e-67,2.3151441993925274e-64,6.3307132015206464e-62,1.5490744458906959e-59,3.3918528102867204e-57,6.645792286847129e-55,1.1652029796130342e-52,1.8281063923379113e-50,2.5665303574453358e-48,3.224307113501018e-46,3.6246948841402376e-44,3.646293017963955e-42,3.2822883735823727e-40,2.6439117841951064e-38,1.905733833231098e-36,1.2292000960025246e-34,7.094601139714989e-33,3.664193843851237e-31,1.6934561464763137e-29,7.003490215207556e-28,2.591792061512552e-26,8.582836549993962e-25,2.5433526763943557e-23,6.744152592016802e-22,1.600269939910051e-20,3.397849698811824e-19,6.455949711206036e-18,1.0976431484116369e-16,1.6699645823740388e-15,2.2735180559328092e-14,2.769711998595175e-13,3.019366795571615e-12,2.945385840130061e-11,2.5710680533037303e-10,2.00830656116644e-09,1.4037555931970268e-08,8.780071445055362e-08,4.914164130307306e-07,2.4611966929493335e-06,1.103031831874322e-05,4.4235895775018966e-05,0.00015874741574614773,0.000509780899987357,0.0014648916813873646,0.0037667996681698995,0.008667315222282045,0.01784603406158622,0.03288091549187027,0.05421146477153994,0.07998037580269197,0.10558951535096485,0.12473927344929933,0.13186534682448822,0.12473927344929933,0.10558951535096485,0.07998037580269197,0.05421146477154021,0.03288091549187048,0.017846034061586344,0.008667315222282125,0.0037667996681699364,0.0014648916813873646],\"type\":\"scatter\"}],                        {\"template\":{\"data\":{\"barpolar\":[{\"marker\":{\"line\":{\"color\":\"#E5ECF6\",\"width\":0.5},\"pattern\":{\"fillmode\":\"overlay\",\"size\":10,\"solidity\":0.2}},\"type\":\"barpolar\"}],\"bar\":[{\"error_x\":{\"color\":\"#2a3f5f\"},\"error_y\":{\"color\":\"#2a3f5f\"},\"marker\":{\"line\":{\"color\":\"#E5ECF6\",\"width\":0.5},\"pattern\":{\"fillmode\":\"overlay\",\"size\":10,\"solidity\":0.2}},\"type\":\"bar\"}],\"carpet\":[{\"aaxis\":{\"endlinecolor\":\"#2a3f5f\",\"gridcolor\":\"white\",\"linecolor\":\"white\",\"minorgridcolor\":\"white\",\"startlinecolor\":\"#2a3f5f\"},\"baxis\":{\"endlinecolor\":\"#2a3f5f\",\"gridcolor\":\"white\",\"linecolor\":\"white\",\"minorgridcolor\":\"white\",\"startlinecolor\":\"#2a3f5f\"},\"type\":\"carpet\"}],\"choropleth\":[{\"colorbar\":{\"outlinewidth\":0,\"ticks\":\"\"},\"type\":\"choropleth\"}],\"contourcarpet\":[{\"colorbar\":{\"outlinewidth\":0,\"ticks\":\"\"},\"type\":\"contourcarpet\"}],\"contour\":[{\"colorbar\":{\"outlinewidth\":0,\"ticks\":\"\"},\"colorscale\":[[0.0,\"#0d0887\"],[0.1111111111111111,\"#46039f\"],[0.2222222222222222,\"#7201a8\"],[0.3333333333333333,\"#9c179e\"],[0.4444444444444444,\"#bd3786\"],[0.5555555555555556,\"#d8576b\"],[0.6666666666666666,\"#ed7953\"],[0.7777777777777778,\"#fb9f3a\"],[0.8888888888888888,\"#fdca26\"],[1.0,\"#f0f921\"]],\"type\":\"contour\"}],\"heatmapgl\":[{\"colorbar\":{\"outlinewidth\":0,\"ticks\":\"\"},\"colorscale\":[[0.0,\"#0d0887\"],[0.1111111111111111,\"#46039f\"],[0.2222222222222222,\"#7201a8\"],[0.3333333333333333,\"#9c179e\"],[0.4444444444444444,\"#bd3786\"],[0.5555555555555556,\"#d8576b\"],[0.6666666666666666,\"#ed7953\"],[0.7777777777777778,\"#fb9f3a\"],[0.8888888888888888,\"#fdca26\"],[1.0,\"#f0f921\"]],\"type\":\"heatmapgl\"}],\"heatmap\":[{\"colorbar\":{\"outlinewidth\":0,\"ticks\":\"\"},\"colorscale\":[[0.0,\"#0d0887\"],[0.1111111111111111,\"#46039f\"],[0.2222222222222222,\"#7201a8\"],[0.3333333333333333,\"#9c179e\"],[0.4444444444444444,\"#bd3786\"],[0.5555555555555556,\"#d8576b\"],[0.6666666666666666,\"#ed7953\"],[0.7777777777777778,\"#fb9f3a\"],[0.8888888888888888,\"#fdca26\"],[1.0,\"#f0f921\"]],\"type\":\"heatmap\"}],\"histogram2dcontour\":[{\"colorbar\":{\"outlinewidth\":0,\"ticks\":\"\"},\"colorscale\":[[0.0,\"#0d0887\"],[0.1111111111111111,\"#46039f\"],[0.2222222222222222,\"#7201a8\"],[0.3333333333333333,\"#9c179e\"],[0.4444444444444444,\"#bd3786\"],[0.5555555555555556,\"#d8576b\"],[0.6666666666666666,\"#ed7953\"],[0.7777777777777778,\"#fb9f3a\"],[0.8888888888888888,\"#fdca26\"],[1.0,\"#f0f921\"]],\"type\":\"histogram2dcontour\"}],\"histogram2d\":[{\"colorbar\":{\"outlinewidth\":0,\"ticks\":\"\"},\"colorscale\":[[0.0,\"#0d0887\"],[0.1111111111111111,\"#46039f\"],[0.2222222222222222,\"#7201a8\"],[0.3333333333333333,\"#9c179e\"],[0.4444444444444444,\"#bd3786\"],[0.5555555555555556,\"#d8576b\"],[0.6666666666666666,\"#ed7953\"],[0.7777777777777778,\"#fb9f3a\"],[0.8888888888888888,\"#fdca26\"],[1.0,\"#f0f921\"]],\"type\":\"histogram2d\"}],\"histogram\":[{\"marker\":{\"pattern\":{\"fillmode\":\"overlay\",\"size\":10,\"solidity\":0.2}},\"type\":\"histogram\"}],\"mesh3d\":[{\"colorbar\":{\"outlinewidth\":0,\"ticks\":\"\"},\"type\":\"mesh3d\"}],\"parcoords\":[{\"line\":{\"colorbar\":{\"outlinewidth\":0,\"ticks\":\"\"}},\"type\":\"parcoords\"}],\"pie\":[{\"automargin\":true,\"type\":\"pie\"}],\"scatter3d\":[{\"line\":{\"colorbar\":{\"outlinewidth\":0,\"ticks\":\"\"}},\"marker\":{\"colorbar\":{\"outlinewidth\":0,\"ticks\":\"\"}},\"type\":\"scatter3d\"}],\"scattercarpet\":[{\"marker\":{\"colorbar\":{\"outlinewidth\":0,\"ticks\":\"\"}},\"type\":\"scattercarpet\"}],\"scattergeo\":[{\"marker\":{\"colorbar\":{\"outlinewidth\":0,\"ticks\":\"\"}},\"type\":\"scattergeo\"}],\"scattergl\":[{\"marker\":{\"colorbar\":{\"outlinewidth\":0,\"ticks\":\"\"}},\"type\":\"scattergl\"}],\"scattermapbox\":[{\"marker\":{\"colorbar\":{\"outlinewidth\":0,\"ticks\":\"\"}},\"type\":\"scattermapbox\"}],\"scatterpolargl\":[{\"marker\":{\"colorbar\":{\"outlinewidth\":0,\"ticks\":\"\"}},\"type\":\"scatterpolargl\"}],\"scatterpolar\":[{\"marker\":{\"colorbar\":{\"outlinewidth\":0,\"ticks\":\"\"}},\"type\":\"scatterpolar\"}],\"scatter\":[{\"fillpattern\":{\"fillmode\":\"overlay\",\"size\":10,\"solidity\":0.2},\"type\":\"scatter\"}],\"scatterternary\":[{\"marker\":{\"colorbar\":{\"outlinewidth\":0,\"ticks\":\"\"}},\"type\":\"scatterternary\"}],\"surface\":[{\"colorbar\":{\"outlinewidth\":0,\"ticks\":\"\"},\"colorscale\":[[0.0,\"#0d0887\"],[0.1111111111111111,\"#46039f\"],[0.2222222222222222,\"#7201a8\"],[0.3333333333333333,\"#9c179e\"],[0.4444444444444444,\"#bd3786\"],[0.5555555555555556,\"#d8576b\"],[0.6666666666666666,\"#ed7953\"],[0.7777777777777778,\"#fb9f3a\"],[0.8888888888888888,\"#fdca26\"],[1.0,\"#f0f921\"]],\"type\":\"surface\"}],\"table\":[{\"cells\":{\"fill\":{\"color\":\"#EBF0F8\"},\"line\":{\"color\":\"white\"}},\"header\":{\"fill\":{\"color\":\"#C8D4E3\"},\"line\":{\"color\":\"white\"}},\"type\":\"table\"}]},\"layout\":{\"annotationdefaults\":{\"arrowcolor\":\"#2a3f5f\",\"arrowhead\":0,\"arrowwidth\":1},\"autotypenumbers\":\"strict\",\"coloraxis\":{\"colorbar\":{\"outlinewidth\":0,\"ticks\":\"\"}},\"colorscale\":{\"diverging\":[[0,\"#8e0152\"],[0.1,\"#c51b7d\"],[0.2,\"#de77ae\"],[0.3,\"#f1b6da\"],[0.4,\"#fde0ef\"],[0.5,\"#f7f7f7\"],[0.6,\"#e6f5d0\"],[0.7,\"#b8e186\"],[0.8,\"#7fbc41\"],[0.9,\"#4d9221\"],[1,\"#276419\"]],\"sequential\":[[0.0,\"#0d0887\"],[0.1111111111111111,\"#46039f\"],[0.2222222222222222,\"#7201a8\"],[0.3333333333333333,\"#9c179e\"],[0.4444444444444444,\"#bd3786\"],[0.5555555555555556,\"#d8576b\"],[0.6666666666666666,\"#ed7953\"],[0.7777777777777778,\"#fb9f3a\"],[0.8888888888888888,\"#fdca26\"],[1.0,\"#f0f921\"]],\"sequentialminus\":[[0.0,\"#0d0887\"],[0.1111111111111111,\"#46039f\"],[0.2222222222222222,\"#7201a8\"],[0.3333333333333333,\"#9c179e\"],[0.4444444444444444,\"#bd3786\"],[0.5555555555555556,\"#d8576b\"],[0.6666666666666666,\"#ed7953\"],[0.7777777777777778,\"#fb9f3a\"],[0.8888888888888888,\"#fdca26\"],[1.0,\"#f0f921\"]]},\"colorway\":[\"#636efa\",\"#EF553B\",\"#00cc96\",\"#ab63fa\",\"#FFA15A\",\"#19d3f3\",\"#FF6692\",\"#B6E880\",\"#FF97FF\",\"#FECB52\"],\"font\":{\"color\":\"#2a3f5f\"},\"geo\":{\"bgcolor\":\"white\",\"lakecolor\":\"white\",\"landcolor\":\"#E5ECF6\",\"showlakes\":true,\"showland\":true,\"subunitcolor\":\"white\"},\"hoverlabel\":{\"align\":\"left\"},\"hovermode\":\"closest\",\"mapbox\":{\"style\":\"light\"},\"paper_bgcolor\":\"white\",\"plot_bgcolor\":\"#E5ECF6\",\"polar\":{\"angularaxis\":{\"gridcolor\":\"white\",\"linecolor\":\"white\",\"ticks\":\"\"},\"bgcolor\":\"#E5ECF6\",\"radialaxis\":{\"gridcolor\":\"white\",\"linecolor\":\"white\",\"ticks\":\"\"}},\"scene\":{\"xaxis\":{\"backgroundcolor\":\"#E5ECF6\",\"gridcolor\":\"white\",\"gridwidth\":2,\"linecolor\":\"white\",\"showbackground\":true,\"ticks\":\"\",\"zerolinecolor\":\"white\"},\"yaxis\":{\"backgroundcolor\":\"#E5ECF6\",\"gridcolor\":\"white\",\"gridwidth\":2,\"linecolor\":\"white\",\"showbackground\":true,\"ticks\":\"\",\"zerolinecolor\":\"white\"},\"zaxis\":{\"backgroundcolor\":\"#E5ECF6\",\"gridcolor\":\"white\",\"gridwidth\":2,\"linecolor\":\"white\",\"showbackground\":true,\"ticks\":\"\",\"zerolinecolor\":\"white\"}},\"shapedefaults\":{\"line\":{\"color\":\"#2a3f5f\"}},\"ternary\":{\"aaxis\":{\"gridcolor\":\"white\",\"linecolor\":\"white\",\"ticks\":\"\"},\"baxis\":{\"gridcolor\":\"white\",\"linecolor\":\"white\",\"ticks\":\"\"},\"bgcolor\":\"#E5ECF6\",\"caxis\":{\"gridcolor\":\"white\",\"linecolor\":\"white\",\"ticks\":\"\"}},\"title\":{\"x\":0.05},\"xaxis\":{\"automargin\":true,\"gridcolor\":\"white\",\"linecolor\":\"white\",\"ticks\":\"\",\"title\":{\"standoff\":15},\"zerolinecolor\":\"white\",\"zerolinewidth\":2},\"yaxis\":{\"automargin\":true,\"gridcolor\":\"white\",\"linecolor\":\"white\",\"ticks\":\"\",\"title\":{\"standoff\":15},\"zerolinecolor\":\"white\",\"zerolinewidth\":2}}},\"title\":{\"text\":\"Propor\\u00e7\\u00e3o de aprova\\u00e7\\u00e3o do App A\"},\"xaxis\":{\"title\":{\"text\":\"x\"}},\"yaxis\":{\"showticklabels\":false,\"title\":{\"text\":\"Prob. e densidade de prob.\"}}},                        {\"responsive\": true}                    ).then(function(){\n",
       "                            \n",
       "var gd = document.getElementById('8150471d-aa56-45e4-8d3f-c0f600968a55');\n",
       "var x = new MutationObserver(function (mutations, observer) {{\n",
       "        var display = window.getComputedStyle(gd).display;\n",
       "        if (!display || display === 'none') {{\n",
       "            console.log([gd, 'removed!']);\n",
       "            Plotly.purge(gd);\n",
       "            observer.disconnect();\n",
       "        }}\n",
       "}});\n",
       "\n",
       "// Listen for the removal of the full notebook cells\n",
       "var notebookContainer = gd.closest('#notebook-container');\n",
       "if (notebookContainer) {{\n",
       "    x.observe(notebookContainer, {childList: true});\n",
       "}}\n",
       "\n",
       "// Listen for the clearing of the current output cell\n",
       "var outputEl = gd.closest('.output');\n",
       "if (outputEl) {{\n",
       "    x.observe(outputEl, {childList: true});\n",
       "}}\n",
       "\n",
       "                        })                };                });            </script>        </div>"
      ]
     },
     "metadata": {},
     "output_type": "display_data"
    }
   ],
   "source": [
    "binomial_e_proporção_vs_normal(empresa_A, rescale_x=False, rescale_y=True)"
   ]
  },
  {
   "cell_type": "markdown",
   "id": "7c707cef-279a-4117-9198-6e2019ed2203",
   "metadata": {
    "editable": true,
    "slideshow": {
     "slide_type": "slide"
    },
    "tags": []
   },
   "source": [
    "## Proporção vs normal\n",
    "\n",
    "Isto é, mudando a escala no eixo horizontal..."
   ]
  },
  {
   "cell_type": "code",
   "execution_count": 9,
   "id": "ec0813fc-d07e-481a-ae25-c1ce9d6846fe",
   "metadata": {
    "editable": true,
    "slideshow": {
     "slide_type": ""
    },
    "tags": []
   },
   "outputs": [
    {
     "data": {
      "text/html": [
       "        <script type=\"text/javascript\">\n",
       "        window.PlotlyConfig = {MathJaxConfig: 'local'};\n",
       "        if (window.MathJax && window.MathJax.Hub && window.MathJax.Hub.Config) {window.MathJax.Hub.Config({SVG: {font: \"STIX-Web\"}});}\n",
       "        if (typeof require !== 'undefined') {\n",
       "        require.undef(\"plotly\");\n",
       "        requirejs.config({\n",
       "            paths: {\n",
       "                'plotly': ['https://cdn.plot.ly/plotly-2.32.0.min']\n",
       "            }\n",
       "        });\n",
       "        require(['plotly'], function(Plotly) {\n",
       "            window._Plotly = Plotly;\n",
       "        });\n",
       "        }\n",
       "        </script>\n",
       "        "
      ]
     },
     "metadata": {},
     "output_type": "display_data"
    },
    {
     "data": {
      "application/vnd.plotly.v1+json": {
       "config": {
        "linkText": "Export to plot.ly",
        "plotlyServerURL": "https://plot.ly",
        "showLink": false
       },
       "data": [
        {
         "mode": "markers",
         "name": "Binomial",
         "type": "scatter",
         "x": [
          0,
          0.01,
          0.02,
          0.03,
          0.04,
          0.05,
          0.06,
          0.07,
          0.08,
          0.09,
          0.1,
          0.11,
          0.12,
          0.13,
          0.14,
          0.15,
          0.16,
          0.17,
          0.18,
          0.19,
          0.2,
          0.21,
          0.22,
          0.23,
          0.24,
          0.25,
          0.26,
          0.27,
          0.28,
          0.29,
          0.3,
          0.31,
          0.32,
          0.33,
          0.34,
          0.35,
          0.36,
          0.37,
          0.38,
          0.39,
          0.4,
          0.41,
          0.42,
          0.43,
          0.44,
          0.45,
          0.46,
          0.47,
          0.48,
          0.49,
          0.5,
          0.51,
          0.52,
          0.53,
          0.54,
          0.55,
          0.56,
          0.57,
          0.58,
          0.59,
          0.6,
          0.61,
          0.62,
          0.63,
          0.64,
          0.65,
          0.66,
          0.67,
          0.68,
          0.69,
          0.7,
          0.71,
          0.72,
          0.73,
          0.74,
          0.75,
          0.76,
          0.77,
          0.78,
          0.79,
          0.8,
          0.81,
          0.82,
          0.83,
          0.84,
          0.85,
          0.86,
          0.87,
          0.88,
          0.89,
          0.9,
          0.91,
          0.92,
          0.93,
          0.94,
          0.95,
          0.96,
          0.97,
          0.98,
          0.99
         ],
         "y": [
          9.999999999999748e-101,
          8.999999999999761e-98,
          4.0094999999999115e-95,
          1.1787929999999625e-92,
          2.57271572249995e-90,
          4.445652768479863e-88,
          6.335055195083818e-86,
          7.656366707201349e-84,
          8.010473667409397e-82,
          7.369635774016633e-80,
          6.035731698919629e-78,
          4.4444933419317394e-76,
          2.966699305739442e-74,
          1.8074045001120137e-72,
          1.0108555168483685e-70,
          5.216014466937589e-69,
          2.4939069170045373e-67,
          1.1090550760326008e-65,
          4.602578565535304e-64,
          1.7877384112447712e-62,
          6.516306508987203e-61,
          2.2341622316527552e-59,
          7.220406121386846e-58,
          2.203793520527623e-56,
          6.363453790523596e-55,
          1.7410409570872362e-53,
          4.5200101770534495e-52,
          1.1149358436731846e-50,
          2.616117318904563e-49,
          5.845669043621215e-48,
          1.245127506291327e-46,
          2.5304204160114108e-45,
          4.910597119822121e-44,
          9.10692556767007e-43,
          1.6151400345014867e-41,
          2.7411233728396735e-40,
          4.454325480864467e-39,
          6.934301289129604e-38,
          1.0346707449832823e-36,
          1.4803750658991546e-35,
          2.0318147779465947e-34,
          2.67604873192965e-33,
          3.383290182511087e-32,
          4.107156919234359e-31,
          4.788571589925531e-30,
          5.363200180716607e-29,
          5.771269759684198e-28,
          5.967738517460681e-27,
          5.930440151726518e-26,
          5.664175491853075e-25,
          5.19971310152115e-24,
          4.5879821484009964e-23,
          3.89096178354778e-22,
          3.171500925457807e-21,
          2.4843423916086145e-20,
          1.8700322729563065e-19,
          1.3524340545487598e-18,
          9.395857642128227e-18,
          6.269305012937304e-17,
          4.0166055845598217e-16,
          2.4702124345042888e-15,
          1.4578302892156374e-14,
          8.253200508301441e-14,
          4.4803088473636763e-13,
          2.3311606971439032e-12,
          1.1619939474994322e-11,
          5.545880203974579e-11,
          2.532894540919721e-10,
          1.1062789391958155e-09,
          4.6175120940346865e-09,
          1.840408391765267e-08,
          6.998736137698857e-08,
          2.5370418499158556e-07,
          8.758007481901302e-07,
          2.8759402947324566e-06,
          8.972933719565235e-06,
          2.6564606406607622e-05,
          7.451889589386049e-05,
          0.00019776168525678306,
          0.0004956558693777601,
          0.0011709869914049615,
          0.002602193314233246,
          0.005426525082120557,
          0.010591530883175044,
          0.019291716965783173,
          0.03268243815379736,
          0.05130382733444906,
          0.07430209476023679,
          0.09878801235167903,
          0.11987758802226188,
          0.13186534682448822,
          0.13041627707916423,
          0.11482302655882921,
          0.08889524636812596,
          0.059578728948850385,
          0.033865803823557104,
          0.01587459554229239,
          0.005891602469304384,
          0.001623196598685905,
          0.00029512665430652844
         ]
        },
        {
         "mode": "lines",
         "name": "Normal",
         "type": "scatter",
         "x": [
          0,
          0.01,
          0.02,
          0.03,
          0.04,
          0.05,
          0.06,
          0.07,
          0.08,
          0.09,
          0.1,
          0.11,
          0.12,
          0.13,
          0.14,
          0.15,
          0.16,
          0.17,
          0.18,
          0.19,
          0.2,
          0.21,
          0.22,
          0.23,
          0.24,
          0.25,
          0.26,
          0.27,
          0.28,
          0.29,
          0.3,
          0.31,
          0.32,
          0.33,
          0.34,
          0.35,
          0.36,
          0.37,
          0.38,
          0.39,
          0.4,
          0.41,
          0.42,
          0.43,
          0.44,
          0.45,
          0.46,
          0.47,
          0.48,
          0.49,
          0.5,
          0.51,
          0.52,
          0.53,
          0.54,
          0.55,
          0.56,
          0.57,
          0.58,
          0.59,
          0.6,
          0.61,
          0.62,
          0.63,
          0.64,
          0.65,
          0.66,
          0.67,
          0.68,
          0.69,
          0.7,
          0.71,
          0.72,
          0.73,
          0.74,
          0.75,
          0.76,
          0.77,
          0.78,
          0.79,
          0.8,
          0.81,
          0.82,
          0.83,
          0.84,
          0.85,
          0.86,
          0.87,
          0.88,
          0.89,
          0.9,
          0.91,
          0.92,
          0.93,
          0.94,
          0.95,
          0.96,
          0.97,
          0.98,
          0.99
         ],
         "y": [
          4.870951719551215e-197,
          1.0149185088618716e-192,
          1.892315636828795e-188,
          3.157192344386898e-184,
          4.713609077869511e-180,
          6.297252966215466e-176,
          7.528245535945971e-172,
          8.053440761591745e-168,
          7.709287097175353e-164,
          6.60377134787564e-160,
          5.061915528713539e-156,
          3.472024787419973e-152,
          2.1310605918742023e-148,
          1.1704526161210685e-144,
          5.752504046758105e-141,
          2.5299100868617345e-137,
          9.956307422215155e-134,
          3.5061990423397465e-130,
          1.1048921632445472e-126,
          3.1156472197128075e-123,
          7.861795065469483e-120,
          1.775171096085976e-116,
          3.586772031951094e-113,
          6.485035964752152e-110,
          1.0492187929057102e-106,
          1.5190245406831986e-103,
          1.9679251551414206e-100,
          2.281378906146717e-97,
          2.3666352224887726e-94,
          2.196899972795189e-91,
          1.8248799546732896e-88,
          1.3564487057659257e-85,
          9.022305072940845e-83,
          5.3700298257966326e-80,
          2.8600982044229797e-77,
          1.3631079489993652e-74,
          5.813325130099881e-72,
          2.2185234992098426e-69,
          7.576149064030634e-67,
          2.3151441993925274e-64,
          6.3307132015206464e-62,
          1.5490744458906959e-59,
          3.3918528102867204e-57,
          6.645792286847129e-55,
          1.1652029796130342e-52,
          1.8281063923379113e-50,
          2.5665303574453358e-48,
          3.224307113501018e-46,
          3.6246948841402376e-44,
          3.646293017963955e-42,
          3.2822883735823727e-40,
          2.6439117841951064e-38,
          1.905733833231098e-36,
          1.2292000960025246e-34,
          7.094601139714989e-33,
          3.664193843851237e-31,
          1.6934561464763137e-29,
          7.003490215207556e-28,
          2.591792061512552e-26,
          8.582836549993962e-25,
          2.5433526763943557e-23,
          6.744152592016802e-22,
          1.600269939910051e-20,
          3.397849698811824e-19,
          6.455949711206036e-18,
          1.0976431484116369e-16,
          1.6699645823740388e-15,
          2.2735180559328092e-14,
          2.769711998595175e-13,
          3.019366795571615e-12,
          2.945385840130061e-11,
          2.5710680533037303e-10,
          2.00830656116644e-09,
          1.4037555931970268e-08,
          8.780071445055362e-08,
          4.914164130307306e-07,
          2.4611966929493335e-06,
          1.103031831874322e-05,
          4.4235895775018966e-05,
          0.00015874741574614773,
          0.000509780899987357,
          0.0014648916813873646,
          0.0037667996681698995,
          0.008667315222282045,
          0.01784603406158622,
          0.03288091549187027,
          0.05421146477153994,
          0.07998037580269197,
          0.10558951535096485,
          0.12473927344929933,
          0.13186534682448822,
          0.12473927344929933,
          0.10558951535096485,
          0.07998037580269197,
          0.05421146477154021,
          0.03288091549187048,
          0.017846034061586344,
          0.008667315222282125,
          0.0037667996681699364,
          0.0014648916813873646
         ]
        }
       ],
       "layout": {
        "autosize": true,
        "template": {
         "data": {
          "bar": [
           {
            "error_x": {
             "color": "#2a3f5f"
            },
            "error_y": {
             "color": "#2a3f5f"
            },
            "marker": {
             "line": {
              "color": "#E5ECF6",
              "width": 0.5
             },
             "pattern": {
              "fillmode": "overlay",
              "size": 10,
              "solidity": 0.2
             }
            },
            "type": "bar"
           }
          ],
          "barpolar": [
           {
            "marker": {
             "line": {
              "color": "#E5ECF6",
              "width": 0.5
             },
             "pattern": {
              "fillmode": "overlay",
              "size": 10,
              "solidity": 0.2
             }
            },
            "type": "barpolar"
           }
          ],
          "carpet": [
           {
            "aaxis": {
             "endlinecolor": "#2a3f5f",
             "gridcolor": "white",
             "linecolor": "white",
             "minorgridcolor": "white",
             "startlinecolor": "#2a3f5f"
            },
            "baxis": {
             "endlinecolor": "#2a3f5f",
             "gridcolor": "white",
             "linecolor": "white",
             "minorgridcolor": "white",
             "startlinecolor": "#2a3f5f"
            },
            "type": "carpet"
           }
          ],
          "choropleth": [
           {
            "colorbar": {
             "outlinewidth": 0,
             "ticks": ""
            },
            "type": "choropleth"
           }
          ],
          "contour": [
           {
            "colorbar": {
             "outlinewidth": 0,
             "ticks": ""
            },
            "colorscale": [
             [
              0,
              "#0d0887"
             ],
             [
              0.1111111111111111,
              "#46039f"
             ],
             [
              0.2222222222222222,
              "#7201a8"
             ],
             [
              0.3333333333333333,
              "#9c179e"
             ],
             [
              0.4444444444444444,
              "#bd3786"
             ],
             [
              0.5555555555555556,
              "#d8576b"
             ],
             [
              0.6666666666666666,
              "#ed7953"
             ],
             [
              0.7777777777777778,
              "#fb9f3a"
             ],
             [
              0.8888888888888888,
              "#fdca26"
             ],
             [
              1,
              "#f0f921"
             ]
            ],
            "type": "contour"
           }
          ],
          "contourcarpet": [
           {
            "colorbar": {
             "outlinewidth": 0,
             "ticks": ""
            },
            "type": "contourcarpet"
           }
          ],
          "heatmap": [
           {
            "colorbar": {
             "outlinewidth": 0,
             "ticks": ""
            },
            "colorscale": [
             [
              0,
              "#0d0887"
             ],
             [
              0.1111111111111111,
              "#46039f"
             ],
             [
              0.2222222222222222,
              "#7201a8"
             ],
             [
              0.3333333333333333,
              "#9c179e"
             ],
             [
              0.4444444444444444,
              "#bd3786"
             ],
             [
              0.5555555555555556,
              "#d8576b"
             ],
             [
              0.6666666666666666,
              "#ed7953"
             ],
             [
              0.7777777777777778,
              "#fb9f3a"
             ],
             [
              0.8888888888888888,
              "#fdca26"
             ],
             [
              1,
              "#f0f921"
             ]
            ],
            "type": "heatmap"
           }
          ],
          "heatmapgl": [
           {
            "colorbar": {
             "outlinewidth": 0,
             "ticks": ""
            },
            "colorscale": [
             [
              0,
              "#0d0887"
             ],
             [
              0.1111111111111111,
              "#46039f"
             ],
             [
              0.2222222222222222,
              "#7201a8"
             ],
             [
              0.3333333333333333,
              "#9c179e"
             ],
             [
              0.4444444444444444,
              "#bd3786"
             ],
             [
              0.5555555555555556,
              "#d8576b"
             ],
             [
              0.6666666666666666,
              "#ed7953"
             ],
             [
              0.7777777777777778,
              "#fb9f3a"
             ],
             [
              0.8888888888888888,
              "#fdca26"
             ],
             [
              1,
              "#f0f921"
             ]
            ],
            "type": "heatmapgl"
           }
          ],
          "histogram": [
           {
            "marker": {
             "pattern": {
              "fillmode": "overlay",
              "size": 10,
              "solidity": 0.2
             }
            },
            "type": "histogram"
           }
          ],
          "histogram2d": [
           {
            "colorbar": {
             "outlinewidth": 0,
             "ticks": ""
            },
            "colorscale": [
             [
              0,
              "#0d0887"
             ],
             [
              0.1111111111111111,
              "#46039f"
             ],
             [
              0.2222222222222222,
              "#7201a8"
             ],
             [
              0.3333333333333333,
              "#9c179e"
             ],
             [
              0.4444444444444444,
              "#bd3786"
             ],
             [
              0.5555555555555556,
              "#d8576b"
             ],
             [
              0.6666666666666666,
              "#ed7953"
             ],
             [
              0.7777777777777778,
              "#fb9f3a"
             ],
             [
              0.8888888888888888,
              "#fdca26"
             ],
             [
              1,
              "#f0f921"
             ]
            ],
            "type": "histogram2d"
           }
          ],
          "histogram2dcontour": [
           {
            "colorbar": {
             "outlinewidth": 0,
             "ticks": ""
            },
            "colorscale": [
             [
              0,
              "#0d0887"
             ],
             [
              0.1111111111111111,
              "#46039f"
             ],
             [
              0.2222222222222222,
              "#7201a8"
             ],
             [
              0.3333333333333333,
              "#9c179e"
             ],
             [
              0.4444444444444444,
              "#bd3786"
             ],
             [
              0.5555555555555556,
              "#d8576b"
             ],
             [
              0.6666666666666666,
              "#ed7953"
             ],
             [
              0.7777777777777778,
              "#fb9f3a"
             ],
             [
              0.8888888888888888,
              "#fdca26"
             ],
             [
              1,
              "#f0f921"
             ]
            ],
            "type": "histogram2dcontour"
           }
          ],
          "mesh3d": [
           {
            "colorbar": {
             "outlinewidth": 0,
             "ticks": ""
            },
            "type": "mesh3d"
           }
          ],
          "parcoords": [
           {
            "line": {
             "colorbar": {
              "outlinewidth": 0,
              "ticks": ""
             }
            },
            "type": "parcoords"
           }
          ],
          "pie": [
           {
            "automargin": true,
            "type": "pie"
           }
          ],
          "scatter": [
           {
            "fillpattern": {
             "fillmode": "overlay",
             "size": 10,
             "solidity": 0.2
            },
            "type": "scatter"
           }
          ],
          "scatter3d": [
           {
            "line": {
             "colorbar": {
              "outlinewidth": 0,
              "ticks": ""
             }
            },
            "marker": {
             "colorbar": {
              "outlinewidth": 0,
              "ticks": ""
             }
            },
            "type": "scatter3d"
           }
          ],
          "scattercarpet": [
           {
            "marker": {
             "colorbar": {
              "outlinewidth": 0,
              "ticks": ""
             }
            },
            "type": "scattercarpet"
           }
          ],
          "scattergeo": [
           {
            "marker": {
             "colorbar": {
              "outlinewidth": 0,
              "ticks": ""
             }
            },
            "type": "scattergeo"
           }
          ],
          "scattergl": [
           {
            "marker": {
             "colorbar": {
              "outlinewidth": 0,
              "ticks": ""
             }
            },
            "type": "scattergl"
           }
          ],
          "scattermapbox": [
           {
            "marker": {
             "colorbar": {
              "outlinewidth": 0,
              "ticks": ""
             }
            },
            "type": "scattermapbox"
           }
          ],
          "scatterpolar": [
           {
            "marker": {
             "colorbar": {
              "outlinewidth": 0,
              "ticks": ""
             }
            },
            "type": "scatterpolar"
           }
          ],
          "scatterpolargl": [
           {
            "marker": {
             "colorbar": {
              "outlinewidth": 0,
              "ticks": ""
             }
            },
            "type": "scatterpolargl"
           }
          ],
          "scatterternary": [
           {
            "marker": {
             "colorbar": {
              "outlinewidth": 0,
              "ticks": ""
             }
            },
            "type": "scatterternary"
           }
          ],
          "surface": [
           {
            "colorbar": {
             "outlinewidth": 0,
             "ticks": ""
            },
            "colorscale": [
             [
              0,
              "#0d0887"
             ],
             [
              0.1111111111111111,
              "#46039f"
             ],
             [
              0.2222222222222222,
              "#7201a8"
             ],
             [
              0.3333333333333333,
              "#9c179e"
             ],
             [
              0.4444444444444444,
              "#bd3786"
             ],
             [
              0.5555555555555556,
              "#d8576b"
             ],
             [
              0.6666666666666666,
              "#ed7953"
             ],
             [
              0.7777777777777778,
              "#fb9f3a"
             ],
             [
              0.8888888888888888,
              "#fdca26"
             ],
             [
              1,
              "#f0f921"
             ]
            ],
            "type": "surface"
           }
          ],
          "table": [
           {
            "cells": {
             "fill": {
              "color": "#EBF0F8"
             },
             "line": {
              "color": "white"
             }
            },
            "header": {
             "fill": {
              "color": "#C8D4E3"
             },
             "line": {
              "color": "white"
             }
            },
            "type": "table"
           }
          ]
         },
         "layout": {
          "annotationdefaults": {
           "arrowcolor": "#2a3f5f",
           "arrowhead": 0,
           "arrowwidth": 1
          },
          "autotypenumbers": "strict",
          "coloraxis": {
           "colorbar": {
            "outlinewidth": 0,
            "ticks": ""
           }
          },
          "colorscale": {
           "diverging": [
            [
             0,
             "#8e0152"
            ],
            [
             0.1,
             "#c51b7d"
            ],
            [
             0.2,
             "#de77ae"
            ],
            [
             0.3,
             "#f1b6da"
            ],
            [
             0.4,
             "#fde0ef"
            ],
            [
             0.5,
             "#f7f7f7"
            ],
            [
             0.6,
             "#e6f5d0"
            ],
            [
             0.7,
             "#b8e186"
            ],
            [
             0.8,
             "#7fbc41"
            ],
            [
             0.9,
             "#4d9221"
            ],
            [
             1,
             "#276419"
            ]
           ],
           "sequential": [
            [
             0,
             "#0d0887"
            ],
            [
             0.1111111111111111,
             "#46039f"
            ],
            [
             0.2222222222222222,
             "#7201a8"
            ],
            [
             0.3333333333333333,
             "#9c179e"
            ],
            [
             0.4444444444444444,
             "#bd3786"
            ],
            [
             0.5555555555555556,
             "#d8576b"
            ],
            [
             0.6666666666666666,
             "#ed7953"
            ],
            [
             0.7777777777777778,
             "#fb9f3a"
            ],
            [
             0.8888888888888888,
             "#fdca26"
            ],
            [
             1,
             "#f0f921"
            ]
           ],
           "sequentialminus": [
            [
             0,
             "#0d0887"
            ],
            [
             0.1111111111111111,
             "#46039f"
            ],
            [
             0.2222222222222222,
             "#7201a8"
            ],
            [
             0.3333333333333333,
             "#9c179e"
            ],
            [
             0.4444444444444444,
             "#bd3786"
            ],
            [
             0.5555555555555556,
             "#d8576b"
            ],
            [
             0.6666666666666666,
             "#ed7953"
            ],
            [
             0.7777777777777778,
             "#fb9f3a"
            ],
            [
             0.8888888888888888,
             "#fdca26"
            ],
            [
             1,
             "#f0f921"
            ]
           ]
          },
          "colorway": [
           "#636efa",
           "#EF553B",
           "#00cc96",
           "#ab63fa",
           "#FFA15A",
           "#19d3f3",
           "#FF6692",
           "#B6E880",
           "#FF97FF",
           "#FECB52"
          ],
          "font": {
           "color": "#2a3f5f"
          },
          "geo": {
           "bgcolor": "white",
           "lakecolor": "white",
           "landcolor": "#E5ECF6",
           "showlakes": true,
           "showland": true,
           "subunitcolor": "white"
          },
          "hoverlabel": {
           "align": "left"
          },
          "hovermode": "closest",
          "mapbox": {
           "style": "light"
          },
          "paper_bgcolor": "white",
          "plot_bgcolor": "#E5ECF6",
          "polar": {
           "angularaxis": {
            "gridcolor": "white",
            "linecolor": "white",
            "ticks": ""
           },
           "bgcolor": "#E5ECF6",
           "radialaxis": {
            "gridcolor": "white",
            "linecolor": "white",
            "ticks": ""
           }
          },
          "scene": {
           "xaxis": {
            "backgroundcolor": "#E5ECF6",
            "gridcolor": "white",
            "gridwidth": 2,
            "linecolor": "white",
            "showbackground": true,
            "ticks": "",
            "zerolinecolor": "white"
           },
           "yaxis": {
            "backgroundcolor": "#E5ECF6",
            "gridcolor": "white",
            "gridwidth": 2,
            "linecolor": "white",
            "showbackground": true,
            "ticks": "",
            "zerolinecolor": "white"
           },
           "zaxis": {
            "backgroundcolor": "#E5ECF6",
            "gridcolor": "white",
            "gridwidth": 2,
            "linecolor": "white",
            "showbackground": true,
            "ticks": "",
            "zerolinecolor": "white"
           }
          },
          "shapedefaults": {
           "line": {
            "color": "#2a3f5f"
           }
          },
          "ternary": {
           "aaxis": {
            "gridcolor": "white",
            "linecolor": "white",
            "ticks": ""
           },
           "baxis": {
            "gridcolor": "white",
            "linecolor": "white",
            "ticks": ""
           },
           "bgcolor": "#E5ECF6",
           "caxis": {
            "gridcolor": "white",
            "linecolor": "white",
            "ticks": ""
           }
          },
          "title": {
           "x": 0.05
          },
          "xaxis": {
           "automargin": true,
           "gridcolor": "white",
           "linecolor": "white",
           "ticks": "",
           "title": {
            "standoff": 15
           },
           "zerolinecolor": "white",
           "zerolinewidth": 2
          },
          "yaxis": {
           "automargin": true,
           "gridcolor": "white",
           "linecolor": "white",
           "ticks": "",
           "title": {
            "standoff": 15
           },
           "zerolinecolor": "white",
           "zerolinewidth": 2
          }
         }
        },
        "title": {
         "text": "Proporção de aprovação do App A"
        },
        "xaxis": {
         "autorange": true,
         "range": [
          -0.06327814569536425,
          1.0532781456953642
         ],
         "title": {
          "text": "y"
         },
         "type": "linear"
        },
        "yaxis": {
         "autorange": true,
         "range": [
          -0.010882091728234466,
          0.14274743855272268
         ],
         "showticklabels": false,
         "title": {
          "text": "Prob. e densidade de prob."
         },
         "type": "linear"
        }
       }
      },
      "image/png": "[encoded data removed]",
      "text/html": [
       "<div>                            <div id=\"42b012fc-4d10-4ee4-9fb5-382f16e3cda9\" class=\"plotly-graph-div\" style=\"height:525px; width:100%;\"></div>            <script type=\"text/javascript\">                require([\"plotly\"], function(Plotly) {                    window.PLOTLYENV=window.PLOTLYENV || {};                                    if (document.getElementById(\"42b012fc-4d10-4ee4-9fb5-382f16e3cda9\")) {                    Plotly.newPlot(                        \"42b012fc-4d10-4ee4-9fb5-382f16e3cda9\",                        [{\"mode\":\"markers\",\"name\":\"Binomial\",\"x\":[0.0,0.01,0.02,0.03,0.04,0.05,0.06,0.07,0.08,0.09,0.1,0.11,0.12,0.13,0.14,0.15,0.16,0.17,0.18,0.19,0.2,0.21,0.22,0.23,0.24,0.25,0.26,0.27,0.28,0.29,0.3,0.31,0.32,0.33,0.34,0.35,0.36,0.37,0.38,0.39,0.4,0.41,0.42,0.43,0.44,0.45,0.46,0.47,0.48,0.49,0.5,0.51,0.52,0.53,0.54,0.55,0.56,0.57,0.58,0.59,0.6,0.61,0.62,0.63,0.64,0.65,0.66,0.67,0.68,0.69,0.7,0.71,0.72,0.73,0.74,0.75,0.76,0.77,0.78,0.79,0.8,0.81,0.82,0.83,0.84,0.85,0.86,0.87,0.88,0.89,0.9,0.91,0.92,0.93,0.94,0.95,0.96,0.97,0.98,0.99],\"y\":[9.999999999999748e-101,8.999999999999761e-98,4.0094999999999115e-95,1.1787929999999625e-92,2.57271572249995e-90,4.445652768479863e-88,6.335055195083818e-86,7.656366707201349e-84,8.010473667409397e-82,7.369635774016633e-80,6.035731698919629e-78,4.4444933419317394e-76,2.966699305739442e-74,1.8074045001120137e-72,1.0108555168483685e-70,5.216014466937589e-69,2.4939069170045373e-67,1.1090550760326008e-65,4.602578565535304e-64,1.7877384112447712e-62,6.516306508987203e-61,2.2341622316527552e-59,7.220406121386846e-58,2.203793520527623e-56,6.363453790523596e-55,1.7410409570872362e-53,4.5200101770534495e-52,1.1149358436731846e-50,2.616117318904563e-49,5.845669043621215e-48,1.245127506291327e-46,2.5304204160114108e-45,4.910597119822121e-44,9.10692556767007e-43,1.6151400345014867e-41,2.7411233728396735e-40,4.454325480864467e-39,6.934301289129604e-38,1.0346707449832823e-36,1.4803750658991546e-35,2.0318147779465947e-34,2.67604873192965e-33,3.383290182511087e-32,4.107156919234359e-31,4.788571589925531e-30,5.363200180716607e-29,5.771269759684198e-28,5.967738517460681e-27,5.930440151726518e-26,5.664175491853075e-25,5.19971310152115e-24,4.5879821484009964e-23,3.89096178354778e-22,3.171500925457807e-21,2.4843423916086145e-20,1.8700322729563065e-19,1.3524340545487598e-18,9.395857642128227e-18,6.269305012937304e-17,4.0166055845598217e-16,2.4702124345042888e-15,1.4578302892156374e-14,8.253200508301441e-14,4.4803088473636763e-13,2.3311606971439032e-12,1.1619939474994322e-11,5.545880203974579e-11,2.532894540919721e-10,1.1062789391958155e-09,4.6175120940346865e-09,1.840408391765267e-08,6.998736137698857e-08,2.5370418499158556e-07,8.758007481901302e-07,2.8759402947324566e-06,8.972933719565235e-06,2.6564606406607622e-05,7.451889589386049e-05,0.00019776168525678306,0.0004956558693777601,0.0011709869914049615,0.002602193314233246,0.005426525082120557,0.010591530883175044,0.019291716965783173,0.03268243815379736,0.05130382733444906,0.07430209476023679,0.09878801235167903,0.11987758802226188,0.13186534682448822,0.13041627707916423,0.11482302655882921,0.08889524636812596,0.059578728948850385,0.033865803823557104,0.01587459554229239,0.005891602469304384,0.001623196598685905,0.00029512665430652844],\"type\":\"scatter\"},{\"mode\":\"lines\",\"name\":\"Normal\",\"x\":[0.0,0.01,0.02,0.03,0.04,0.05,0.06,0.07,0.08,0.09,0.1,0.11,0.12,0.13,0.14,0.15,0.16,0.17,0.18,0.19,0.2,0.21,0.22,0.23,0.24,0.25,0.26,0.27,0.28,0.29,0.3,0.31,0.32,0.33,0.34,0.35,0.36,0.37,0.38,0.39,0.4,0.41,0.42,0.43,0.44,0.45,0.46,0.47,0.48,0.49,0.5,0.51,0.52,0.53,0.54,0.55,0.56,0.57,0.58,0.59,0.6,0.61,0.62,0.63,0.64,0.65,0.66,0.67,0.68,0.69,0.7,0.71,0.72,0.73,0.74,0.75,0.76,0.77,0.78,0.79,0.8,0.81,0.82,0.83,0.84,0.85,0.86,0.87,0.88,0.89,0.9,0.91,0.92,0.93,0.94,0.95,0.96,0.97,0.98,0.99],\"y\":[4.870951719551215e-197,1.0149185088618716e-192,1.892315636828795e-188,3.157192344386898e-184,4.713609077869511e-180,6.297252966215466e-176,7.528245535945971e-172,8.053440761591745e-168,7.709287097175353e-164,6.60377134787564e-160,5.061915528713539e-156,3.472024787419973e-152,2.1310605918742023e-148,1.1704526161210685e-144,5.752504046758105e-141,2.5299100868617345e-137,9.956307422215155e-134,3.5061990423397465e-130,1.1048921632445472e-126,3.1156472197128075e-123,7.861795065469483e-120,1.775171096085976e-116,3.586772031951094e-113,6.485035964752152e-110,1.0492187929057102e-106,1.5190245406831986e-103,1.9679251551414206e-100,2.281378906146717e-97,2.3666352224887726e-94,2.196899972795189e-91,1.8248799546732896e-88,1.3564487057659257e-85,9.022305072940845e-83,5.3700298257966326e-80,2.8600982044229797e-77,1.3631079489993652e-74,5.813325130099881e-72,2.2185234992098426e-69,7.576149064030634e-67,2.3151441993925274e-64,6.3307132015206464e-62,1.5490744458906959e-59,3.3918528102867204e-57,6.645792286847129e-55,1.1652029796130342e-52,1.8281063923379113e-50,2.5665303574453358e-48,3.224307113501018e-46,3.6246948841402376e-44,3.646293017963955e-42,3.2822883735823727e-40,2.6439117841951064e-38,1.905733833231098e-36,1.2292000960025246e-34,7.094601139714989e-33,3.664193843851237e-31,1.6934561464763137e-29,7.003490215207556e-28,2.591792061512552e-26,8.582836549993962e-25,2.5433526763943557e-23,6.744152592016802e-22,1.600269939910051e-20,3.397849698811824e-19,6.455949711206036e-18,1.0976431484116369e-16,1.6699645823740388e-15,2.2735180559328092e-14,2.769711998595175e-13,3.019366795571615e-12,2.945385840130061e-11,2.5710680533037303e-10,2.00830656116644e-09,1.4037555931970268e-08,8.780071445055362e-08,4.914164130307306e-07,2.4611966929493335e-06,1.103031831874322e-05,4.4235895775018966e-05,0.00015874741574614773,0.000509780899987357,0.0014648916813873646,0.0037667996681698995,0.008667315222282045,0.01784603406158622,0.03288091549187027,0.05421146477153994,0.07998037580269197,0.10558951535096485,0.12473927344929933,0.13186534682448822,0.12473927344929933,0.10558951535096485,0.07998037580269197,0.05421146477154021,0.03288091549187048,0.017846034061586344,0.008667315222282125,0.0037667996681699364,0.0014648916813873646],\"type\":\"scatter\"}],                        {\"template\":{\"data\":{\"barpolar\":[{\"marker\":{\"line\":{\"color\":\"#E5ECF6\",\"width\":0.5},\"pattern\":{\"fillmode\":\"overlay\",\"size\":10,\"solidity\":0.2}},\"type\":\"barpolar\"}],\"bar\":[{\"error_x\":{\"color\":\"#2a3f5f\"},\"error_y\":{\"color\":\"#2a3f5f\"},\"marker\":{\"line\":{\"color\":\"#E5ECF6\",\"width\":0.5},\"pattern\":{\"fillmode\":\"overlay\",\"size\":10,\"solidity\":0.2}},\"type\":\"bar\"}],\"carpet\":[{\"aaxis\":{\"endlinecolor\":\"#2a3f5f\",\"gridcolor\":\"white\",\"linecolor\":\"white\",\"minorgridcolor\":\"white\",\"startlinecolor\":\"#2a3f5f\"},\"baxis\":{\"endlinecolor\":\"#2a3f5f\",\"gridcolor\":\"white\",\"linecolor\":\"white\",\"minorgridcolor\":\"white\",\"startlinecolor\":\"#2a3f5f\"},\"type\":\"carpet\"}],\"choropleth\":[{\"colorbar\":{\"outlinewidth\":0,\"ticks\":\"\"},\"type\":\"choropleth\"}],\"contourcarpet\":[{\"colorbar\":{\"outlinewidth\":0,\"ticks\":\"\"},\"type\":\"contourcarpet\"}],\"contour\":[{\"colorbar\":{\"outlinewidth\":0,\"ticks\":\"\"},\"colorscale\":[[0.0,\"#0d0887\"],[0.1111111111111111,\"#46039f\"],[0.2222222222222222,\"#7201a8\"],[0.3333333333333333,\"#9c179e\"],[0.4444444444444444,\"#bd3786\"],[0.5555555555555556,\"#d8576b\"],[0.6666666666666666,\"#ed7953\"],[0.7777777777777778,\"#fb9f3a\"],[0.8888888888888888,\"#fdca26\"],[1.0,\"#f0f921\"]],\"type\":\"contour\"}],\"heatmapgl\":[{\"colorbar\":{\"outlinewidth\":0,\"ticks\":\"\"},\"colorscale\":[[0.0,\"#0d0887\"],[0.1111111111111111,\"#46039f\"],[0.2222222222222222,\"#7201a8\"],[0.3333333333333333,\"#9c179e\"],[0.4444444444444444,\"#bd3786\"],[0.5555555555555556,\"#d8576b\"],[0.6666666666666666,\"#ed7953\"],[0.7777777777777778,\"#fb9f3a\"],[0.8888888888888888,\"#fdca26\"],[1.0,\"#f0f921\"]],\"type\":\"heatmapgl\"}],\"heatmap\":[{\"colorbar\":{\"outlinewidth\":0,\"ticks\":\"\"},\"colorscale\":[[0.0,\"#0d0887\"],[0.1111111111111111,\"#46039f\"],[0.2222222222222222,\"#7201a8\"],[0.3333333333333333,\"#9c179e\"],[0.4444444444444444,\"#bd3786\"],[0.5555555555555556,\"#d8576b\"],[0.6666666666666666,\"#ed7953\"],[0.7777777777777778,\"#fb9f3a\"],[0.8888888888888888,\"#fdca26\"],[1.0,\"#f0f921\"]],\"type\":\"heatmap\"}],\"histogram2dcontour\":[{\"colorbar\":{\"outlinewidth\":0,\"ticks\":\"\"},\"colorscale\":[[0.0,\"#0d0887\"],[0.1111111111111111,\"#46039f\"],[0.2222222222222222,\"#7201a8\"],[0.3333333333333333,\"#9c179e\"],[0.4444444444444444,\"#bd3786\"],[0.5555555555555556,\"#d8576b\"],[0.6666666666666666,\"#ed7953\"],[0.7777777777777778,\"#fb9f3a\"],[0.8888888888888888,\"#fdca26\"],[1.0,\"#f0f921\"]],\"type\":\"histogram2dcontour\"}],\"histogram2d\":[{\"colorbar\":{\"outlinewidth\":0,\"ticks\":\"\"},\"colorscale\":[[0.0,\"#0d0887\"],[0.1111111111111111,\"#46039f\"],[0.2222222222222222,\"#7201a8\"],[0.3333333333333333,\"#9c179e\"],[0.4444444444444444,\"#bd3786\"],[0.5555555555555556,\"#d8576b\"],[0.6666666666666666,\"#ed7953\"],[0.7777777777777778,\"#fb9f3a\"],[0.8888888888888888,\"#fdca26\"],[1.0,\"#f0f921\"]],\"type\":\"histogram2d\"}],\"histogram\":[{\"marker\":{\"pattern\":{\"fillmode\":\"overlay\",\"size\":10,\"solidity\":0.2}},\"type\":\"histogram\"}],\"mesh3d\":[{\"colorbar\":{\"outlinewidth\":0,\"ticks\":\"\"},\"type\":\"mesh3d\"}],\"parcoords\":[{\"line\":{\"colorbar\":{\"outlinewidth\":0,\"ticks\":\"\"}},\"type\":\"parcoords\"}],\"pie\":[{\"automargin\":true,\"type\":\"pie\"}],\"scatter3d\":[{\"line\":{\"colorbar\":{\"outlinewidth\":0,\"ticks\":\"\"}},\"marker\":{\"colorbar\":{\"outlinewidth\":0,\"ticks\":\"\"}},\"type\":\"scatter3d\"}],\"scattercarpet\":[{\"marker\":{\"colorbar\":{\"outlinewidth\":0,\"ticks\":\"\"}},\"type\":\"scattercarpet\"}],\"scattergeo\":[{\"marker\":{\"colorbar\":{\"outlinewidth\":0,\"ticks\":\"\"}},\"type\":\"scattergeo\"}],\"scattergl\":[{\"marker\":{\"colorbar\":{\"outlinewidth\":0,\"ticks\":\"\"}},\"type\":\"scattergl\"}],\"scattermapbox\":[{\"marker\":{\"colorbar\":{\"outlinewidth\":0,\"ticks\":\"\"}},\"type\":\"scattermapbox\"}],\"scatterpolargl\":[{\"marker\":{\"colorbar\":{\"outlinewidth\":0,\"ticks\":\"\"}},\"type\":\"scatterpolargl\"}],\"scatterpolar\":[{\"marker\":{\"colorbar\":{\"outlinewidth\":0,\"ticks\":\"\"}},\"type\":\"scatterpolar\"}],\"scatter\":[{\"fillpattern\":{\"fillmode\":\"overlay\",\"size\":10,\"solidity\":0.2},\"type\":\"scatter\"}],\"scatterternary\":[{\"marker\":{\"colorbar\":{\"outlinewidth\":0,\"ticks\":\"\"}},\"type\":\"scatterternary\"}],\"surface\":[{\"colorbar\":{\"outlinewidth\":0,\"ticks\":\"\"},\"colorscale\":[[0.0,\"#0d0887\"],[0.1111111111111111,\"#46039f\"],[0.2222222222222222,\"#7201a8\"],[0.3333333333333333,\"#9c179e\"],[0.4444444444444444,\"#bd3786\"],[0.5555555555555556,\"#d8576b\"],[0.6666666666666666,\"#ed7953\"],[0.7777777777777778,\"#fb9f3a\"],[0.8888888888888888,\"#fdca26\"],[1.0,\"#f0f921\"]],\"type\":\"surface\"}],\"table\":[{\"cells\":{\"fill\":{\"color\":\"#EBF0F8\"},\"line\":{\"color\":\"white\"}},\"header\":{\"fill\":{\"color\":\"#C8D4E3\"},\"line\":{\"color\":\"white\"}},\"type\":\"table\"}]},\"layout\":{\"annotationdefaults\":{\"arrowcolor\":\"#2a3f5f\",\"arrowhead\":0,\"arrowwidth\":1},\"autotypenumbers\":\"strict\",\"coloraxis\":{\"colorbar\":{\"outlinewidth\":0,\"ticks\":\"\"}},\"colorscale\":{\"diverging\":[[0,\"#8e0152\"],[0.1,\"#c51b7d\"],[0.2,\"#de77ae\"],[0.3,\"#f1b6da\"],[0.4,\"#fde0ef\"],[0.5,\"#f7f7f7\"],[0.6,\"#e6f5d0\"],[0.7,\"#b8e186\"],[0.8,\"#7fbc41\"],[0.9,\"#4d9221\"],[1,\"#276419\"]],\"sequential\":[[0.0,\"#0d0887\"],[0.1111111111111111,\"#46039f\"],[0.2222222222222222,\"#7201a8\"],[0.3333333333333333,\"#9c179e\"],[0.4444444444444444,\"#bd3786\"],[0.5555555555555556,\"#d8576b\"],[0.6666666666666666,\"#ed7953\"],[0.7777777777777778,\"#fb9f3a\"],[0.8888888888888888,\"#fdca26\"],[1.0,\"#f0f921\"]],\"sequentialminus\":[[0.0,\"#0d0887\"],[0.1111111111111111,\"#46039f\"],[0.2222222222222222,\"#7201a8\"],[0.3333333333333333,\"#9c179e\"],[0.4444444444444444,\"#bd3786\"],[0.5555555555555556,\"#d8576b\"],[0.6666666666666666,\"#ed7953\"],[0.7777777777777778,\"#fb9f3a\"],[0.8888888888888888,\"#fdca26\"],[1.0,\"#f0f921\"]]},\"colorway\":[\"#636efa\",\"#EF553B\",\"#00cc96\",\"#ab63fa\",\"#FFA15A\",\"#19d3f3\",\"#FF6692\",\"#B6E880\",\"#FF97FF\",\"#FECB52\"],\"font\":{\"color\":\"#2a3f5f\"},\"geo\":{\"bgcolor\":\"white\",\"lakecolor\":\"white\",\"landcolor\":\"#E5ECF6\",\"showlakes\":true,\"showland\":true,\"subunitcolor\":\"white\"},\"hoverlabel\":{\"align\":\"left\"},\"hovermode\":\"closest\",\"mapbox\":{\"style\":\"light\"},\"paper_bgcolor\":\"white\",\"plot_bgcolor\":\"#E5ECF6\",\"polar\":{\"angularaxis\":{\"gridcolor\":\"white\",\"linecolor\":\"white\",\"ticks\":\"\"},\"bgcolor\":\"#E5ECF6\",\"radialaxis\":{\"gridcolor\":\"white\",\"linecolor\":\"white\",\"ticks\":\"\"}},\"scene\":{\"xaxis\":{\"backgroundcolor\":\"#E5ECF6\",\"gridcolor\":\"white\",\"gridwidth\":2,\"linecolor\":\"white\",\"showbackground\":true,\"ticks\":\"\",\"zerolinecolor\":\"white\"},\"yaxis\":{\"backgroundcolor\":\"#E5ECF6\",\"gridcolor\":\"white\",\"gridwidth\":2,\"linecolor\":\"white\",\"showbackground\":true,\"ticks\":\"\",\"zerolinecolor\":\"white\"},\"zaxis\":{\"backgroundcolor\":\"#E5ECF6\",\"gridcolor\":\"white\",\"gridwidth\":2,\"linecolor\":\"white\",\"showbackground\":true,\"ticks\":\"\",\"zerolinecolor\":\"white\"}},\"shapedefaults\":{\"line\":{\"color\":\"#2a3f5f\"}},\"ternary\":{\"aaxis\":{\"gridcolor\":\"white\",\"linecolor\":\"white\",\"ticks\":\"\"},\"baxis\":{\"gridcolor\":\"white\",\"linecolor\":\"white\",\"ticks\":\"\"},\"bgcolor\":\"#E5ECF6\",\"caxis\":{\"gridcolor\":\"white\",\"linecolor\":\"white\",\"ticks\":\"\"}},\"title\":{\"x\":0.05},\"xaxis\":{\"automargin\":true,\"gridcolor\":\"white\",\"linecolor\":\"white\",\"ticks\":\"\",\"title\":{\"standoff\":15},\"zerolinecolor\":\"white\",\"zerolinewidth\":2},\"yaxis\":{\"automargin\":true,\"gridcolor\":\"white\",\"linecolor\":\"white\",\"ticks\":\"\",\"title\":{\"standoff\":15},\"zerolinecolor\":\"white\",\"zerolinewidth\":2}}},\"title\":{\"text\":\"Propor\\u00e7\\u00e3o de aprova\\u00e7\\u00e3o do App A\"},\"xaxis\":{\"title\":{\"text\":\"y\"}},\"yaxis\":{\"showticklabels\":false,\"title\":{\"text\":\"Prob. e densidade de prob.\"}}},                        {\"responsive\": true}                    ).then(function(){\n",
       "                            \n",
       "var gd = document.getElementById('42b012fc-4d10-4ee4-9fb5-382f16e3cda9');\n",
       "var x = new MutationObserver(function (mutations, observer) {{\n",
       "        var display = window.getComputedStyle(gd).display;\n",
       "        if (!display || display === 'none') {{\n",
       "            console.log([gd, 'removed!']);\n",
       "            Plotly.purge(gd);\n",
       "            observer.disconnect();\n",
       "        }}\n",
       "}});\n",
       "\n",
       "// Listen for the removal of the full notebook cells\n",
       "var notebookContainer = gd.closest('#notebook-container');\n",
       "if (notebookContainer) {{\n",
       "    x.observe(notebookContainer, {childList: true});\n",
       "}}\n",
       "\n",
       "// Listen for the clearing of the current output cell\n",
       "var outputEl = gd.closest('.output');\n",
       "if (outputEl) {{\n",
       "    x.observe(outputEl, {childList: true});\n",
       "}}\n",
       "\n",
       "                        })                };                });            </script>        </div>"
      ]
     },
     "metadata": {},
     "output_type": "display_data"
    }
   ],
   "source": [
    "binomial_e_proporção_vs_normal(empresa_A, rescale_x=True, rescale_y=True)"
   ]
  },
  {
   "cell_type": "markdown",
   "id": "e03698b6-1c8c-47d4-abc9-aa5b42908ac0",
   "metadata": {
    "editable": true,
    "slideshow": {
     "slide_type": "slide"
    },
    "tags": []
   },
   "source": [
    "# Abordagem não ingênua\n",
    "\n",
    "Praticamente toda a área abaixo da curva normal está entre $\\mu - 3\\sigma$ e $\\mu + 3\\sigma$. Além disso, 95% da área reside aproximadamente entre $\\mu - 2\\sigma$ e $\\mu + 2\\sigma$. Esse é um bom - e comum - **intervalo de confiança** sobre $\\mu$.\n",
    "\n",
    "Para as empresas $A$ e $B$ temos:"
   ]
  },
  {
   "cell_type": "code",
   "execution_count": 12,
   "id": "5f6b5818-37e4-4251-adcd-1e743af8d8c2",
   "metadata": {
    "editable": true,
    "slideshow": {
     "slide_type": ""
    },
    "tags": []
   },
   "outputs": [
    {
     "name": "stdout",
     "output_type": "stream",
     "text": [
      "0.84 ≤ p_A ≤ 0.96\n",
      "0.74 ≤ p_B ≤ 0.76\n"
     ]
    }
   ],
   "source": [
    "dois_sigma_A = 2 * desvio_padrão_da_proporção(empresa_A)\n",
    "print(round(empresa_A.p - dois_sigma_A, 2), '≤ p_A ≤', round(empresa_A.p + dois_sigma_A, 2))\n",
    "\n",
    "dois_sigma_B = 2 * desvio_padrão_da_proporção(empresa_B)\n",
    "print(round(empresa_B.p - dois_sigma_B, 2), '≤ p_B ≤', round(empresa_B.p + dois_sigma_B, 2))"
   ]
  },
  {
   "cell_type": "markdown",
   "id": "b69564a5-7c37-47ac-89ad-2588bbefe257",
   "metadata": {
    "editable": true,
    "slideshow": {
     "slide_type": "skip"
    },
    "tags": []
   },
   "source": [
    "Ou seja, $p_A$ (e $\\pi_A$) é **quase** certamente maior que $p_B$, pois esses intervalos não apresentam interseção. Dá para ver isso graficamente. Vamos fazer isso.\n",
    "\n",
    "A célula abaixo contém o código necessário para gerar o gráfico mais abaixo. Por hora você não precisa se ocupar em entendê-la, mas não perca a chance de fazer isso depois"
   ]
  },
  {
   "cell_type": "code",
   "execution_count": 13,
   "id": "57aab980-ed1a-42ee-bfb2-aac406e672ff",
   "metadata": {
    "editable": true,
    "slideshow": {
     "slide_type": "skip"
    },
    "tags": []
   },
   "outputs": [],
   "source": [
    "def pdf_da_empresa(x: np.ndarray, empresa: Empresa):\n",
    "    \"\"\"\n",
    "    Essa função calcula a densidade de probabilidade para cada valor da variável aleatória x\n",
    "    para a empresa passada como argumento. Aqui nós usamos a distribuição normal para APROXIMAR\n",
    "    a distribuição da proporção.\n",
    "    \"\"\"\n",
    "    from scipy.stats import norm\n",
    "    μ = empresa.p\n",
    "    σ = desvio_padrão_da_proporção(empresa)\n",
    "    return norm.pdf(x, μ, σ)\n",
    "\n",
    "def pdf_da_empresa_versão_caseira(x, empresa: Empresa):\n",
    "    \"\"\"Equivalente à função acima, porém sem usar scipy\"\"\"\n",
    "    μ = empresa.p\n",
    "    σ = desvio_padrão_da_proporção(empresa)\n",
    "    return (1/(σ * np.sqrt(2 * np.pi))) * np.exp(-0.5 * ((x - μ) / σ) ** 2)\n",
    "\n",
    "def gráfico_das_duas_empresas(empresa_A: Empresa, empresa_B: Empresa, ajuste_y=False):\n",
    "    import plotly.graph_objs as go\n",
    "    import plotly.offline as pyo\n",
    "    from plotly.offline import init_notebook_mode, iplot\n",
    "    \n",
    "    init_notebook_mode(connected=True)\n",
    "\n",
    "    # Intervalo do eixo x (empresa.p) é [0,1]. 1000 pontos deve dar...\n",
    "    x = np.linspace(0, 1, 1000)\n",
    "\n",
    "    y_A = pdf_da_empresa(x, empresa_A)\n",
    "    y_B = pdf_da_empresa(x, empresa_B)\n",
    "    if ajuste_y:\n",
    "        y_A /= np.max(y_A)  # Equivale a y_A = y_A / np.max(y_A)\n",
    "        y_B /= np.max(y_B)\n",
    "    \n",
    "    trace1 = go.Scatter(x=x, y=y_A, mode='lines', name='Empresa A')\n",
    "    trace2 = go.Scatter(x=x, y=y_B, mode='lines', name='Empresa B')\n",
    "    \n",
    "    layout = go.Layout(\n",
    "        title='Proporção de aprovação das empresas A e B',\n",
    "        xaxis=dict(title='y'),\n",
    "        yaxis=dict(title='Densidade de probabilidade')\n",
    "    )\n",
    "    \n",
    "    # Figura\n",
    "    fig = go.Figure(data=[trace1, trace2], layout=layout)\n",
    "    \n",
    "    # Render the plot in the Jupyter Lab window\n",
    "    iplot(fig)"
   ]
  },
  {
   "cell_type": "code",
   "execution_count": 14,
   "id": "0aeef507-6b9a-47e3-bfa6-3fffa6a94818",
   "metadata": {
    "editable": true,
    "slideshow": {
     "slide_type": "slide"
    },
    "tags": []
   },
   "outputs": [
    {
     "data": {
      "text/html": [
       "        <script type=\"text/javascript\">\n",
       "        window.PlotlyConfig = {MathJaxConfig: 'local'};\n",
       "        if (window.MathJax && window.MathJax.Hub && window.MathJax.Hub.Config) {window.MathJax.Hub.Config({SVG: {font: \"STIX-Web\"}});}\n",
       "        if (typeof require !== 'undefined') {\n",
       "        require.undef(\"plotly\");\n",
       "        requirejs.config({\n",
       "            paths: {\n",
       "                'plotly': ['https://cdn.plot.ly/plotly-2.32.0.min']\n",
       "            }\n",
       "        });\n",
       "        require(['plotly'], function(Plotly) {\n",
       "            window._Plotly = Plotly;\n",
       "        });\n",
       "        }\n",
       "        </script>\n",
       "        "
      ]
     },
     "metadata": {},
     "output_type": "display_data"
    },
    {
     "data": {
      "application/vnd.plotly.v1+json": {
       "config": {
        "linkText": "Export to plot.ly",
        "plotlyServerURL": "https://plot.ly",
        "showLink": false
       },
       "data": [
        {
         "mode": "lines",
         "name": "Empresa A",
         "type": "scatter",
         "x": [
          0,
          0.001001001001001001,
          0.002002002002002002,
          0.003003003003003003,
          0.004004004004004004,
          0.005005005005005005,
          0.006006006006006006,
          0.007007007007007007,
          0.008008008008008008,
          0.009009009009009009,
          0.01001001001001001,
          0.011011011011011011,
          0.012012012012012012,
          0.013013013013013013,
          0.014014014014014014,
          0.015015015015015015,
          0.016016016016016016,
          0.017017017017017015,
          0.018018018018018018,
          0.01901901901901902,
          0.02002002002002002,
          0.02102102102102102,
          0.022022022022022022,
          0.023023023023023025,
          0.024024024024024024,
          0.025025025025025023,
          0.026026026026026026,
          0.02702702702702703,
          0.028028028028028028,
          0.029029029029029027,
          0.03003003003003003,
          0.031031031031031032,
          0.03203203203203203,
          0.03303303303303303,
          0.03403403403403403,
          0.035035035035035036,
          0.036036036036036036,
          0.037037037037037035,
          0.03803803803803804,
          0.03903903903903904,
          0.04004004004004004,
          0.04104104104104104,
          0.04204204204204204,
          0.043043043043043044,
          0.044044044044044044,
          0.04504504504504504,
          0.04604604604604605,
          0.04704704704704705,
          0.04804804804804805,
          0.04904904904904905,
          0.050050050050050046,
          0.05105105105105105,
          0.05205205205205205,
          0.05305305305305305,
          0.05405405405405406,
          0.055055055055055056,
          0.056056056056056056,
          0.057057057057057055,
          0.058058058058058054,
          0.05905905905905906,
          0.06006006006006006,
          0.06106106106106106,
          0.062062062062062065,
          0.06306306306306306,
          0.06406406406406406,
          0.06506506506506507,
          0.06606606606606606,
          0.06706706706706707,
          0.06806806806806806,
          0.06906906906906907,
          0.07007007007007007,
          0.07107107107107107,
          0.07207207207207207,
          0.07307307307307308,
          0.07407407407407407,
          0.07507507507507508,
          0.07607607607607608,
          0.07707707707707707,
          0.07807807807807808,
          0.07907907907907907,
          0.08008008008008008,
          0.08108108108108109,
          0.08208208208208208,
          0.08308308308308308,
          0.08408408408408408,
          0.08508508508508508,
          0.08608608608608609,
          0.08708708708708708,
          0.08808808808808809,
          0.0890890890890891,
          0.09009009009009009,
          0.09109109109109109,
          0.0920920920920921,
          0.09309309309309309,
          0.0940940940940941,
          0.09509509509509509,
          0.0960960960960961,
          0.0970970970970971,
          0.0980980980980981,
          0.0990990990990991,
          0.10010010010010009,
          0.1011011011011011,
          0.1021021021021021,
          0.1031031031031031,
          0.1041041041041041,
          0.10510510510510511,
          0.1061061061061061,
          0.10710710710710711,
          0.10810810810810811,
          0.1091091091091091,
          0.11011011011011011,
          0.1111111111111111,
          0.11211211211211211,
          0.11311311311311312,
          0.11411411411411411,
          0.11511511511511512,
          0.11611611611611611,
          0.11711711711711711,
          0.11811811811811812,
          0.11911911911911911,
          0.12012012012012012,
          0.12112112112112113,
          0.12212212212212212,
          0.12312312312312312,
          0.12412412412412413,
          0.12512512512512514,
          0.12612612612612611,
          0.12712712712712712,
          0.12812812812812813,
          0.12912912912912913,
          0.13013013013013014,
          0.13113113113113112,
          0.13213213213213212,
          0.13313313313313313,
          0.13413413413413414,
          0.13513513513513514,
          0.13613613613613612,
          0.13713713713713713,
          0.13813813813813813,
          0.13913913913913914,
          0.14014014014014015,
          0.14114114114114115,
          0.14214214214214213,
          0.14314314314314314,
          0.14414414414414414,
          0.14514514514514515,
          0.14614614614614616,
          0.14714714714714713,
          0.14814814814814814,
          0.14914914914914915,
          0.15015015015015015,
          0.15115115115115116,
          0.15215215215215216,
          0.15315315315315314,
          0.15415415415415415,
          0.15515515515515516,
          0.15615615615615616,
          0.15715715715715717,
          0.15815815815815815,
          0.15915915915915915,
          0.16016016016016016,
          0.16116116116116116,
          0.16216216216216217,
          0.16316316316316315,
          0.16416416416416416,
          0.16516516516516516,
          0.16616616616616617,
          0.16716716716716717,
          0.16816816816816815,
          0.16916916916916916,
          0.17017017017017017,
          0.17117117117117117,
          0.17217217217217218,
          0.17317317317317318,
          0.17417417417417416,
          0.17517517517517517,
          0.17617617617617617,
          0.17717717717717718,
          0.1781781781781782,
          0.17917917917917917,
          0.18018018018018017,
          0.18118118118118118,
          0.18218218218218218,
          0.1831831831831832,
          0.1841841841841842,
          0.18518518518518517,
          0.18618618618618618,
          0.1871871871871872,
          0.1881881881881882,
          0.1891891891891892,
          0.19019019019019018,
          0.19119119119119118,
          0.1921921921921922,
          0.1931931931931932,
          0.1941941941941942,
          0.19519519519519518,
          0.1961961961961962,
          0.1971971971971972,
          0.1981981981981982,
          0.1991991991991992,
          0.20020020020020018,
          0.2012012012012012,
          0.2022022022022022,
          0.2032032032032032,
          0.2042042042042042,
          0.20520520520520522,
          0.2062062062062062,
          0.2072072072072072,
          0.2082082082082082,
          0.2092092092092092,
          0.21021021021021022,
          0.2112112112112112,
          0.2122122122122122,
          0.2132132132132132,
          0.21421421421421422,
          0.21521521521521522,
          0.21621621621621623,
          0.2172172172172172,
          0.2182182182182182,
          0.21921921921921922,
          0.22022022022022023,
          0.22122122122122123,
          0.2222222222222222,
          0.22322322322322322,
          0.22422422422422422,
          0.22522522522522523,
          0.22622622622622623,
          0.2272272272272272,
          0.22822822822822822,
          0.22922922922922923,
          0.23023023023023023,
          0.23123123123123124,
          0.23223223223223222,
          0.23323323323323322,
          0.23423423423423423,
          0.23523523523523523,
          0.23623623623623624,
          0.23723723723723725,
          0.23823823823823823,
          0.23923923923923923,
          0.24024024024024024,
          0.24124124124124124,
          0.24224224224224225,
          0.24324324324324323,
          0.24424424424424424,
          0.24524524524524524,
          0.24624624624624625,
          0.24724724724724725,
          0.24824824824824826,
          0.24924924924924924,
          0.2502502502502503,
          0.25125125125125125,
          0.25225225225225223,
          0.25325325325325326,
          0.25425425425425424,
          0.2552552552552553,
          0.25625625625625625,
          0.25725725725725723,
          0.25825825825825827,
          0.25925925925925924,
          0.2602602602602603,
          0.26126126126126126,
          0.26226226226226224,
          0.26326326326326327,
          0.26426426426426425,
          0.2652652652652653,
          0.26626626626626626,
          0.26726726726726724,
          0.2682682682682683,
          0.26926926926926925,
          0.2702702702702703,
          0.27127127127127126,
          0.27227227227227224,
          0.2732732732732733,
          0.27427427427427425,
          0.2752752752752753,
          0.27627627627627627,
          0.2772772772772773,
          0.2782782782782783,
          0.27927927927927926,
          0.2802802802802803,
          0.28128128128128127,
          0.2822822822822823,
          0.2832832832832833,
          0.28428428428428426,
          0.2852852852852853,
          0.2862862862862863,
          0.2872872872872873,
          0.2882882882882883,
          0.28928928928928926,
          0.2902902902902903,
          0.2912912912912913,
          0.2922922922922923,
          0.2932932932932933,
          0.29429429429429427,
          0.2952952952952953,
          0.2962962962962963,
          0.2972972972972973,
          0.2982982982982983,
          0.29929929929929927,
          0.3003003003003003,
          0.3013013013013013,
          0.3023023023023023,
          0.3033033033033033,
          0.30430430430430433,
          0.3053053053053053,
          0.3063063063063063,
          0.3073073073073073,
          0.3083083083083083,
          0.30930930930930933,
          0.3103103103103103,
          0.3113113113113113,
          0.3123123123123123,
          0.3133133133133133,
          0.31431431431431434,
          0.3153153153153153,
          0.3163163163163163,
          0.3173173173173173,
          0.3183183183183183,
          0.31931931931931934,
          0.3203203203203203,
          0.3213213213213213,
          0.32232232232232233,
          0.3233233233233233,
          0.32432432432432434,
          0.3253253253253253,
          0.3263263263263263,
          0.32732732732732733,
          0.3283283283283283,
          0.32932932932932935,
          0.3303303303303303,
          0.3313313313313313,
          0.33233233233233234,
          0.3333333333333333,
          0.33433433433433435,
          0.3353353353353353,
          0.3363363363363363,
          0.33733733733733734,
          0.3383383383383383,
          0.33933933933933935,
          0.34034034034034033,
          0.34134134134134136,
          0.34234234234234234,
          0.3433433433433433,
          0.34434434434434436,
          0.34534534534534533,
          0.34634634634634637,
          0.34734734734734735,
          0.3483483483483483,
          0.34934934934934936,
          0.35035035035035034,
          0.35135135135135137,
          0.35235235235235235,
          0.3533533533533533,
          0.35435435435435436,
          0.35535535535535534,
          0.3563563563563564,
          0.35735735735735735,
          0.35835835835835833,
          0.35935935935935936,
          0.36036036036036034,
          0.3613613613613614,
          0.36236236236236236,
          0.36336336336336333,
          0.36436436436436437,
          0.36536536536536535,
          0.3663663663663664,
          0.36736736736736736,
          0.3683683683683684,
          0.36936936936936937,
          0.37037037037037035,
          0.3713713713713714,
          0.37237237237237236,
          0.3733733733733734,
          0.3743743743743744,
          0.37537537537537535,
          0.3763763763763764,
          0.37737737737737737,
          0.3783783783783784,
          0.3793793793793794,
          0.38038038038038036,
          0.3813813813813814,
          0.38238238238238237,
          0.3833833833833834,
          0.3843843843843844,
          0.38538538538538536,
          0.3863863863863864,
          0.38738738738738737,
          0.3883883883883884,
          0.3893893893893894,
          0.39039039039039036,
          0.3913913913913914,
          0.3923923923923924,
          0.3933933933933934,
          0.3943943943943944,
          0.39539539539539537,
          0.3963963963963964,
          0.3973973973973974,
          0.3983983983983984,
          0.3993993993993994,
          0.40040040040040037,
          0.4014014014014014,
          0.4024024024024024,
          0.4034034034034034,
          0.4044044044044044,
          0.40540540540540543,
          0.4064064064064064,
          0.4074074074074074,
          0.4084084084084084,
          0.4094094094094094,
          0.41041041041041043,
          0.4114114114114114,
          0.4124124124124124,
          0.4134134134134134,
          0.4144144144144144,
          0.41541541541541543,
          0.4164164164164164,
          0.4174174174174174,
          0.4184184184184184,
          0.4194194194194194,
          0.42042042042042044,
          0.4214214214214214,
          0.4224224224224224,
          0.42342342342342343,
          0.4244244244244244,
          0.42542542542542544,
          0.4264264264264264,
          0.4274274274274274,
          0.42842842842842843,
          0.4294294294294294,
          0.43043043043043044,
          0.4314314314314314,
          0.43243243243243246,
          0.43343343343343343,
          0.4344344344344344,
          0.43543543543543545,
          0.4364364364364364,
          0.43743743743743746,
          0.43843843843843844,
          0.4394394394394394,
          0.44044044044044045,
          0.44144144144144143,
          0.44244244244244246,
          0.44344344344344344,
          0.4444444444444444,
          0.44544544544544545,
          0.44644644644644643,
          0.44744744744744747,
          0.44844844844844844,
          0.4494494494494494,
          0.45045045045045046,
          0.45145145145145144,
          0.45245245245245247,
          0.45345345345345345,
          0.4544544544544544,
          0.45545545545545546,
          0.45645645645645644,
          0.4574574574574575,
          0.45845845845845845,
          0.45945945945945943,
          0.46046046046046046,
          0.46146146146146144,
          0.4624624624624625,
          0.46346346346346345,
          0.46446446446446443,
          0.46546546546546547,
          0.46646646646646645,
          0.4674674674674675,
          0.46846846846846846,
          0.4694694694694695,
          0.47047047047047047,
          0.47147147147147145,
          0.4724724724724725,
          0.47347347347347346,
          0.4744744744744745,
          0.4754754754754755,
          0.47647647647647645,
          0.4774774774774775,
          0.47847847847847846,
          0.4794794794794795,
          0.4804804804804805,
          0.48148148148148145,
          0.4824824824824825,
          0.48348348348348347,
          0.4844844844844845,
          0.4854854854854855,
          0.48648648648648646,
          0.4874874874874875,
          0.48848848848848847,
          0.4894894894894895,
          0.4904904904904905,
          0.49149149149149146,
          0.4924924924924925,
          0.4934934934934935,
          0.4944944944944945,
          0.4954954954954955,
          0.4964964964964965,
          0.4974974974974975,
          0.4984984984984985,
          0.4994994994994995,
          0.5005005005005005,
          0.5015015015015015,
          0.5025025025025025,
          0.5035035035035035,
          0.5045045045045045,
          0.5055055055055055,
          0.5065065065065065,
          0.5075075075075075,
          0.5085085085085085,
          0.5095095095095095,
          0.5105105105105106,
          0.5115115115115115,
          0.5125125125125125,
          0.5135135135135135,
          0.5145145145145145,
          0.5155155155155156,
          0.5165165165165165,
          0.5175175175175175,
          0.5185185185185185,
          0.5195195195195195,
          0.5205205205205206,
          0.5215215215215215,
          0.5225225225225225,
          0.5235235235235235,
          0.5245245245245245,
          0.5255255255255256,
          0.5265265265265265,
          0.5275275275275275,
          0.5285285285285285,
          0.5295295295295295,
          0.5305305305305306,
          0.5315315315315315,
          0.5325325325325325,
          0.5335335335335335,
          0.5345345345345345,
          0.5355355355355356,
          0.5365365365365365,
          0.5375375375375375,
          0.5385385385385385,
          0.5395395395395395,
          0.5405405405405406,
          0.5415415415415415,
          0.5425425425425425,
          0.5435435435435435,
          0.5445445445445445,
          0.5455455455455456,
          0.5465465465465466,
          0.5475475475475475,
          0.5485485485485485,
          0.5495495495495496,
          0.5505505505505506,
          0.5515515515515516,
          0.5525525525525525,
          0.5535535535535535,
          0.5545545545545546,
          0.5555555555555556,
          0.5565565565565566,
          0.5575575575575575,
          0.5585585585585585,
          0.5595595595595596,
          0.5605605605605606,
          0.5615615615615616,
          0.5625625625625625,
          0.5635635635635635,
          0.5645645645645646,
          0.5655655655655656,
          0.5665665665665666,
          0.5675675675675675,
          0.5685685685685685,
          0.5695695695695696,
          0.5705705705705706,
          0.5715715715715716,
          0.5725725725725725,
          0.5735735735735735,
          0.5745745745745746,
          0.5755755755755756,
          0.5765765765765766,
          0.5775775775775776,
          0.5785785785785785,
          0.5795795795795796,
          0.5805805805805806,
          0.5815815815815816,
          0.5825825825825826,
          0.5835835835835835,
          0.5845845845845846,
          0.5855855855855856,
          0.5865865865865866,
          0.5875875875875876,
          0.5885885885885885,
          0.5895895895895896,
          0.5905905905905906,
          0.5915915915915916,
          0.5925925925925926,
          0.5935935935935935,
          0.5945945945945946,
          0.5955955955955956,
          0.5965965965965966,
          0.5975975975975976,
          0.5985985985985985,
          0.5995995995995996,
          0.6006006006006006,
          0.6016016016016016,
          0.6026026026026026,
          0.6036036036036035,
          0.6046046046046046,
          0.6056056056056056,
          0.6066066066066066,
          0.6076076076076076,
          0.6086086086086087,
          0.6096096096096096,
          0.6106106106106106,
          0.6116116116116116,
          0.6126126126126126,
          0.6136136136136137,
          0.6146146146146146,
          0.6156156156156156,
          0.6166166166166166,
          0.6176176176176176,
          0.6186186186186187,
          0.6196196196196196,
          0.6206206206206206,
          0.6216216216216216,
          0.6226226226226226,
          0.6236236236236237,
          0.6246246246246246,
          0.6256256256256256,
          0.6266266266266266,
          0.6276276276276276,
          0.6286286286286287,
          0.6296296296296297,
          0.6306306306306306,
          0.6316316316316316,
          0.6326326326326326,
          0.6336336336336337,
          0.6346346346346347,
          0.6356356356356356,
          0.6366366366366366,
          0.6376376376376376,
          0.6386386386386387,
          0.6396396396396397,
          0.6406406406406406,
          0.6416416416416416,
          0.6426426426426426,
          0.6436436436436437,
          0.6446446446446447,
          0.6456456456456456,
          0.6466466466466466,
          0.6476476476476476,
          0.6486486486486487,
          0.6496496496496497,
          0.6506506506506506,
          0.6516516516516516,
          0.6526526526526526,
          0.6536536536536537,
          0.6546546546546547,
          0.6556556556556556,
          0.6566566566566566,
          0.6576576576576576,
          0.6586586586586587,
          0.6596596596596597,
          0.6606606606606606,
          0.6616616616616616,
          0.6626626626626626,
          0.6636636636636637,
          0.6646646646646647,
          0.6656656656656657,
          0.6666666666666666,
          0.6676676676676676,
          0.6686686686686687,
          0.6696696696696697,
          0.6706706706706707,
          0.6716716716716716,
          0.6726726726726726,
          0.6736736736736737,
          0.6746746746746747,
          0.6756756756756757,
          0.6766766766766766,
          0.6776776776776777,
          0.6786786786786787,
          0.6796796796796797,
          0.6806806806806807,
          0.6816816816816816,
          0.6826826826826827,
          0.6836836836836837,
          0.6846846846846847,
          0.6856856856856857,
          0.6866866866866866,
          0.6876876876876877,
          0.6886886886886887,
          0.6896896896896897,
          0.6906906906906907,
          0.6916916916916916,
          0.6926926926926927,
          0.6936936936936937,
          0.6946946946946947,
          0.6956956956956957,
          0.6966966966966966,
          0.6976976976976977,
          0.6986986986986987,
          0.6996996996996997,
          0.7007007007007007,
          0.7017017017017017,
          0.7027027027027027,
          0.7037037037037037,
          0.7047047047047047,
          0.7057057057057057,
          0.7067067067067067,
          0.7077077077077077,
          0.7087087087087087,
          0.7097097097097097,
          0.7107107107107107,
          0.7117117117117117,
          0.7127127127127127,
          0.7137137137137137,
          0.7147147147147147,
          0.7157157157157157,
          0.7167167167167167,
          0.7177177177177178,
          0.7187187187187187,
          0.7197197197197197,
          0.7207207207207207,
          0.7217217217217217,
          0.7227227227227228,
          0.7237237237237237,
          0.7247247247247247,
          0.7257257257257257,
          0.7267267267267267,
          0.7277277277277278,
          0.7287287287287287,
          0.7297297297297297,
          0.7307307307307307,
          0.7317317317317317,
          0.7327327327327328,
          0.7337337337337337,
          0.7347347347347347,
          0.7357357357357357,
          0.7367367367367368,
          0.7377377377377378,
          0.7387387387387387,
          0.7397397397397397,
          0.7407407407407407,
          0.7417417417417418,
          0.7427427427427428,
          0.7437437437437437,
          0.7447447447447447,
          0.7457457457457457,
          0.7467467467467468,
          0.7477477477477478,
          0.7487487487487487,
          0.7497497497497497,
          0.7507507507507507,
          0.7517517517517518,
          0.7527527527527528,
          0.7537537537537538,
          0.7547547547547547,
          0.7557557557557557,
          0.7567567567567568,
          0.7577577577577578,
          0.7587587587587588,
          0.7597597597597597,
          0.7607607607607607,
          0.7617617617617618,
          0.7627627627627628,
          0.7637637637637638,
          0.7647647647647647,
          0.7657657657657657,
          0.7667667667667668,
          0.7677677677677678,
          0.7687687687687688,
          0.7697697697697697,
          0.7707707707707707,
          0.7717717717717718,
          0.7727727727727728,
          0.7737737737737738,
          0.7747747747747747,
          0.7757757757757757,
          0.7767767767767768,
          0.7777777777777778,
          0.7787787787787788,
          0.7797797797797797,
          0.7807807807807807,
          0.7817817817817818,
          0.7827827827827828,
          0.7837837837837838,
          0.7847847847847848,
          0.7857857857857857,
          0.7867867867867868,
          0.7877877877877878,
          0.7887887887887888,
          0.7897897897897898,
          0.7907907907907907,
          0.7917917917917918,
          0.7927927927927928,
          0.7937937937937938,
          0.7947947947947948,
          0.7957957957957957,
          0.7967967967967968,
          0.7977977977977978,
          0.7987987987987988,
          0.7997997997997998,
          0.8008008008008007,
          0.8018018018018018,
          0.8028028028028028,
          0.8038038038038038,
          0.8048048048048048,
          0.8058058058058059,
          0.8068068068068068,
          0.8078078078078078,
          0.8088088088088088,
          0.8098098098098098,
          0.8108108108108109,
          0.8118118118118118,
          0.8128128128128128,
          0.8138138138138138,
          0.8148148148148148,
          0.8158158158158159,
          0.8168168168168168,
          0.8178178178178178,
          0.8188188188188188,
          0.8198198198198198,
          0.8208208208208209,
          0.8218218218218218,
          0.8228228228228228,
          0.8238238238238238,
          0.8248248248248248,
          0.8258258258258259,
          0.8268268268268268,
          0.8278278278278278,
          0.8288288288288288,
          0.8298298298298298,
          0.8308308308308309,
          0.8318318318318318,
          0.8328328328328328,
          0.8338338338338338,
          0.8348348348348348,
          0.8358358358358359,
          0.8368368368368369,
          0.8378378378378378,
          0.8388388388388388,
          0.8398398398398398,
          0.8408408408408409,
          0.8418418418418419,
          0.8428428428428428,
          0.8438438438438438,
          0.8448448448448448,
          0.8458458458458459,
          0.8468468468468469,
          0.8478478478478478,
          0.8488488488488488,
          0.8498498498498498,
          0.8508508508508509,
          0.8518518518518519,
          0.8528528528528528,
          0.8538538538538538,
          0.8548548548548548,
          0.8558558558558559,
          0.8568568568568569,
          0.8578578578578578,
          0.8588588588588588,
          0.8598598598598598,
          0.8608608608608609,
          0.8618618618618619,
          0.8628628628628628,
          0.8638638638638638,
          0.8648648648648649,
          0.8658658658658659,
          0.8668668668668669,
          0.8678678678678678,
          0.8688688688688688,
          0.8698698698698699,
          0.8708708708708709,
          0.8718718718718719,
          0.8728728728728729,
          0.8738738738738738,
          0.8748748748748749,
          0.8758758758758759,
          0.8768768768768769,
          0.8778778778778779,
          0.8788788788788788,
          0.8798798798798799,
          0.8808808808808809,
          0.8818818818818819,
          0.8828828828828829,
          0.8838838838838838,
          0.8848848848848849,
          0.8858858858858859,
          0.8868868868868869,
          0.8878878878878879,
          0.8888888888888888,
          0.8898898898898899,
          0.8908908908908909,
          0.8918918918918919,
          0.8928928928928929,
          0.8938938938938938,
          0.8948948948948949,
          0.8958958958958959,
          0.8968968968968969,
          0.8978978978978979,
          0.8988988988988988,
          0.8998998998998999,
          0.9009009009009009,
          0.9019019019019019,
          0.9029029029029029,
          0.9039039039039038,
          0.9049049049049049,
          0.9059059059059059,
          0.9069069069069069,
          0.9079079079079079,
          0.9089089089089089,
          0.9099099099099099,
          0.9109109109109109,
          0.9119119119119119,
          0.9129129129129129,
          0.9139139139139139,
          0.914914914914915,
          0.9159159159159159,
          0.9169169169169169,
          0.9179179179179179,
          0.9189189189189189,
          0.91991991991992,
          0.9209209209209209,
          0.9219219219219219,
          0.9229229229229229,
          0.9239239239239239,
          0.924924924924925,
          0.9259259259259259,
          0.9269269269269269,
          0.9279279279279279,
          0.9289289289289289,
          0.92992992992993,
          0.9309309309309309,
          0.9319319319319319,
          0.9329329329329329,
          0.933933933933934,
          0.934934934934935,
          0.9359359359359359,
          0.9369369369369369,
          0.9379379379379379,
          0.938938938938939,
          0.93993993993994,
          0.9409409409409409,
          0.9419419419419419,
          0.9429429429429429,
          0.943943943943944,
          0.944944944944945,
          0.9459459459459459,
          0.9469469469469469,
          0.9479479479479479,
          0.948948948948949,
          0.94994994994995,
          0.950950950950951,
          0.9519519519519519,
          0.9529529529529529,
          0.953953953953954,
          0.954954954954955,
          0.955955955955956,
          0.9569569569569569,
          0.9579579579579579,
          0.958958958958959,
          0.95995995995996,
          0.960960960960961,
          0.9619619619619619,
          0.9629629629629629,
          0.963963963963964,
          0.964964964964965,
          0.965965965965966,
          0.9669669669669669,
          0.9679679679679679,
          0.968968968968969,
          0.96996996996997,
          0.970970970970971,
          0.9719719719719719,
          0.9729729729729729,
          0.973973973973974,
          0.974974974974975,
          0.975975975975976,
          0.9769769769769769,
          0.9779779779779779,
          0.978978978978979,
          0.97997997997998,
          0.980980980980981,
          0.9819819819819819,
          0.9829829829829829,
          0.983983983983984,
          0.984984984984985,
          0.985985985985986,
          0.986986986986987,
          0.9879879879879879,
          0.988988988988989,
          0.98998998998999,
          0.990990990990991,
          0.991991991991992,
          0.992992992992993,
          0.993993993993994,
          0.994994994994995,
          0.995995995995996,
          0.996996996996997,
          0.997997997997998,
          0.998998998998999,
          1
         ],
         "y": [
          4.9121537829279345e-195,
          1.3358552689548691e-194,
          3.628802607325139e-194,
          9.846542643836664e-194,
          2.6688285280736233e-193,
          7.225602406479066e-193,
          1.954087172380214e-192,
          5.278740235749928e-192,
          1.4244038289188925e-191,
          3.839303614668097e-191,
          1.0336851260383342e-190,
          2.7799728887098995e-190,
          7.468086472443055e-190,
          2.003985613477847e-189,
          5.371509459810495e-189,
          1.438184402552346e-188,
          3.846354317310251e-188,
          1.0275441368551248e-187,
          2.7420045247392817e-187,
          7.308905264177349e-187,
          1.9460454650081407e-186,
          5.175712164685333e-186,
          1.3750032787008447e-185,
          3.6488317268592235e-185,
          9.672092053153533e-185,
          2.560964102979314e-184,
          6.77334262747772e-184,
          1.789448000044925e-183,
          4.722278588805822e-183,
          1.2448029544293068e-182,
          3.277676597779453e-182,
          8.620810015626867e-182,
          2.2648869646500275e-181,
          5.943762864286137e-181,
          1.5580912916958295e-180,
          4.079818193552914e-180,
          1.0671002076165149e-179,
          2.787957072961443e-179,
          7.275845102051403e-179,
          1.8966940893270252e-178,
          4.938870296863825e-178,
          1.2846192783773477e-177,
          3.3376264884808662e-177,
          8.661986763301351e-177,
          2.2455037363460717e-176,
          5.8146895491359966e-176,
          1.5040274641182726e-175,
          3.885988267860236e-175,
          1.0029139854265637e-174,
          2.585487092178257e-174,
          6.657904239210882e-174,
          1.7125734184946358e-173,
          4.400249856092142e-173,
          1.1293328470867511e-172,
          2.895229975288945e-172,
          7.414137859819838e-172,
          1.8965082302500838e-171,
          4.8457978219777945e-171,
          1.236779656652365e-170,
          3.153086316197744e-170,
          8.02963622671112e-170,
          2.0425484421496083e-169,
          5.189975934581379e-169,
          1.317270017398903e-168,
          3.3396484559249073e-168,
          8.457522943311213e-168,
          2.139449794269148e-167,
          5.406018137227121e-167,
          1.3644869341658514e-166,
          3.4401529224666556e-166,
          8.663683919326709e-166,
          2.179435067032109e-165,
          5.476483120844077e-165,
          1.3745991041955673e-164,
          3.4464092215979845e-164,
          8.6312583250407e-164,
          2.1592248510541096e-163,
          5.395579664470294e-163,
          1.3467743374918107e-162,
          3.357902174002306e-162,
          8.362915929340892e-162,
          2.0804817295422365e-161,
          5.1699526503792645e-161,
          1.2832926561007326e-160,
          3.181861973025095e-160,
          7.880494091244232e-160,
          1.9495844093767153e-159,
          4.817781755430229e-159,
          1.1892377488479096e-158,
          2.9322887466745756e-158,
          7.222062877799334e-158,
          1.7767743696935465e-157,
          4.3663624191458656e-157,
          1.0718247073721217e-156,
          2.6281141934555684e-156,
          6.436965528650259e-156,
          1.5748334076816707e-155,
          3.848615626181719e-155,
          9.394873626100637e-155,
          2.290835108961277e-154,
          5.5797302320568676e-154,
          1.3575288192826005e-153,
          3.299144957651922e-153,
          8.008851146328944e-153,
          1.9420281903661946e-152,
          4.703891781906848e-152,
          1.1380873542804641e-151,
          2.7504918205271716e-151,
          6.639900964365033e-151,
          1.6011400832984912e-150,
          3.8566794343325647e-150,
          9.279279112321967e-150,
          2.2301363589111477e-149,
          5.353836231668439e-149,
          1.2838527941978359e-148,
          3.075260166250118e-148,
          7.358088027183694e-148,
          1.7585899196215706e-147,
          4.1983695521220785e-147,
          1.001182459077508e-146,
          2.384856677697453e-146,
          5.674502880935514e-146,
          1.3486828694380712e-145,
          3.201904287689713e-145,
          7.593173688823635e-145,
          1.7986837317893424e-144,
          4.256011210405636e-144,
          1.0059287108199377e-143,
          2.3749153164140143e-143,
          5.600741610204585e-143,
          1.3193482022401596e-142,
          3.10448671916801e-142,
          7.296870974491921e-142,
          1.7131682289291553e-141,
          4.0177216053644376e-141,
          9.411875056483651e-141,
          2.20236324243691e-140,
          5.147759288187997e-140,
          1.2018879907667384e-139,
          2.803020310391428e-139,
          6.529876650745351e-139,
          1.519498215841655e-138,
          3.5319284370917094e-138,
          8.200495232093854e-138,
          1.9018871732502295e-137,
          4.40601430168126e-137,
          1.0195852395312897e-136,
          2.356772493114122e-136,
          5.441620689617316e-136,
          1.25503360576832e-135,
          2.891338426866838e-135,
          6.653635189816755e-135,
          1.5294508550805196e-134,
          3.5117901137433087e-134,
          8.054490269478148e-134,
          1.8452875623308762e-133,
          4.222858525028655e-133,
          9.653070838187959e-133,
          2.2041489454425435e-132,
          5.027277611311993e-132,
          1.145358073657397e-131,
          2.606550713242251e-131,
          5.925262027561788e-131,
          1.3454433796855044e-130,
          3.051685510369548e-130,
          6.914019645683805e-130,
          1.5647246591496154e-129,
          3.537217202890245e-129,
          7.987337104691231e-129,
          1.8016017037331396e-128,
          4.059121374156923e-128,
          9.135278152496887e-128,
          2.0536574128840986e-127,
          4.6115901506942535e-127,
          1.0344032890863644e-126,
          2.3176378063742766e-126,
          5.187017635399123e-126,
          1.1595950865250728e-125,
          2.5894736282440555e-125,
          5.776078706246694e-125,
          1.2869782175202814e-124,
          2.8643479577071266e-124,
          6.367908823518743e-124,
          1.4141138719950078e-123,
          3.136811436505047e-123,
          6.950386038096781e-123,
          1.538317302925328e-122,
          3.4009434228343185e-122,
          7.510509043753263e-122,
          1.6567455915903662e-121,
          3.650553839486151e-121,
          8.034857451468728e-121,
          1.766501776664151e-120,
          3.8794170029795586e-120,
          8.510113166188267e-120,
          1.8647503172743173e-119,
          4.08152563142962e-119,
          8.923615529790682e-119,
          1.9488376313958278e-118,
          4.251350852863861e-118,
          9.263918425732717e-118,
          2.016410641581283e-117,
          4.384092647405554e-117,
          9.52131536259154e-117,
          2.0655259741941588e-116,
          4.4759049501997926e-116,
          9.688299011426806e-116,
          2.094742753826728e-115,
          4.52408070340101e-115,
          9.759924864793196e-115,
          2.1031928135683973e-114,
          4.52718443736413e-114,
          9.73405444147524e-114,
          2.090623547800148e-113,
          4.4851233208799256e-113,
          9.611461345150557e-113,
          2.0574104560215094e-112,
          4.399151773364147e-112,
          9.395792837355077e-112,
          2.0045385085382595e-111,
          4.271809319234657e-111,
          9.093389588174653e-111,
          1.9335536243556995e-110,
          4.106795980513637e-110,
          8.712976034579648e-110,
          1.8464875966215666e-109,
          3.9087937388640286e-109,
          8.265242444395932e-109,
          1.7457615521754107e-108,
          3.683246085006907e-108,
          7.762346609911089e-108,
          1.634074341408614e-107,
          3.43611012383471e-107,
          7.217367531436502e-107,
          1.5142830216206022e-106,
          3.1735969384049395e-106,
          6.643745198929848e-106,
          1.389282776368919e-105,
          2.9019158806545315e-105,
          6.054739612118854e-105,
          1.2618932184406742e-104,
          2.6270372208347595e-104,
          5.462938731084664e-104,
          1.1347571228555264e-103,
          2.354485332084138e-103,
          4.879839577482764e-103,
          1.0102563404796237e-102,
          2.0891715768292233e-102,
          4.315519829331117e-102,
          8.904480934335441e-102,
          1.8352726147493576e-101,
          3.778409671411349e-101,
          7.770232039673443e-101,
          1.5961562991319278e-100,
          3.275166085373069e-100,
          6.712862077043123e-100,
          1.3743539795129692e-99,
          2.8106448260715264e-99,
          5.7415587958152835e-99,
          1.1715751426968139e-98,
          2.3879595440838882e-98,
          4.8618355520956906e-98,
          9.887580886347513e-98,
          2.008613223841105e-97,
          4.0758582325319716e-97,
          8.261488566999793e-97,
          1.6726844769283207e-96,
          3.3828771837475164e-96,
          6.8339991319239645e-96,
          1.3790502512216316e-95,
          2.779724457038995e-95,
          5.596801299795095e-95,
          1.1256270294269058e-94,
          2.2613387338110553e-94,
          4.5378821637125264e-94,
          9.096143242965499e-94,
          1.8212847512724667e-93,
          3.642628625123578e-93,
          7.277268935123438e-93,
          1.4522401432637663e-92,
          2.8948424614240896e-92,
          5.7640523298046795e-92,
          1.146429571061707e-91,
          2.2776308078081042e-91,
          4.519972175961379e-91,
          8.959931269411848e-91,
          1.7741489524435779e-90,
          3.5090694531345833e-90,
          6.932826520184316e-90,
          1.3681861379630642e-89,
          2.6970967330431155e-89,
          5.310853774360641e-89,
          1.0445966988785976e-88,
          2.0523406073820633e-88,
          4.027788997574013e-88,
          7.89587870882673e-88,
          1.5461467416099875e-87,
          3.024248227098545e-87,
          5.908818416912516e-87,
          1.1531885912982764e-86,
          2.2481046010232857e-86,
          4.3777320478199064e-86,
          8.515268001311023e-86,
          1.6544892528291644e-85,
          3.211042574439497e-85,
          6.225076046617037e-85,
          1.2054792594808643e-84,
          2.331800054488798e-84,
          4.5054622748156225e-84,
          8.695686842330117e-84,
          1.676428010709507e-83,
          3.228363364087065e-83,
          6.21006857366533e-83,
          1.1932374228792915e-82,
          2.290202155616336e-82,
          4.3907353079019907e-82,
          8.408473861793113e-82,
          1.6084722927510668e-81,
          3.0734522768610137e-81,
          5.866186252241187e-81,
          1.118411710031576e-80,
          2.1299237068374134e-80,
          4.0517521692045146e-80,
          7.699068492153658e-80,
          1.4613356428551127e-79,
          2.770628230837989e-79,
          5.2471444123812815e-79,
          9.926228378938716e-79,
          1.8756940168771626e-78,
          3.5404315900598754e-78,
          6.675240313617517e-78,
          1.2571702272666256e-77,
          2.3650359872090525e-77,
          4.444244091111811e-77,
          8.342083601194934e-77,
          1.564111308899441e-76,
          2.929390429381681e-76,
          5.4802875267873356e-76,
          1.0241083683456941e-75,
          1.9116349818097904e-75,
          3.564351352363204e-75,
          6.638539290724643e-75,
          1.2350400364982396e-74,
          2.2951233260627375e-74,
          4.26037179965723e-74,
          7.899606524355848e-74,
          1.4631198499000175e-73,
          2.7068913788018412e-73,
          5.0023979705328786e-73,
          9.234260758952886e-73,
          1.7027171593797485e-72,
          3.136168405925092e-72,
          5.769958932163959e-72,
          1.0603825025098502e-71,
          1.9465648081418197e-71,
          3.5693707983894276e-71,
          6.537789737545369e-71,
          1.1961529506148932e-70,
          2.186044340844872e-70,
          3.9906873249709894e-70,
          7.27700914234436e-70,
          1.3254844082629216e-69,
          2.411641842893888e-69,
          4.382959739895893e-69,
          7.956803564273939e-69,
          1.4428669161183217e-68,
          2.6135475056380908e-68,
          4.72880064563691e-68,
          8.546496060170605e-68,
          1.5429138300933237e-67,
          2.782349813003153e-67,
          5.011852421171003e-67,
          9.017814584475635e-67,
          1.620767848002878e-66,
          2.909757579032365e-66,
          5.218062629379439e-66,
          9.347129307319349e-66,
          1.672490648266688e-65,
          2.989273344255582e-65,
          5.336838306403871e-65,
          9.517413631080522e-65,
          1.6953927741183993e-64,
          3.016742177970453e-64,
          5.3619473700138355e-64,
          9.519702630548656e-64,
          1.688265330254585e-63,
          2.99071139626956e-63,
          5.292060411902554e-63,
          9.353875064419592e-63,
          1.6514857117194094e-62,
          2.912557851042697e-62,
          5.130867317563468e-62,
          9.028664015283156e-62,
          1.586984495009024e-61,
          2.7863672665203624e-61,
          4.8867544753217566e-61,
          8.560894858484573e-61,
          1.4980775340621202e-60,
          2.618580341097096e-60,
          4.5720818761188104e-60,
          7.974043106487162e-60,
          1.3891835855341777e-59,
          2.4174482787490884e-59,
          4.202146829062092e-59,
          7.296284154869979e-59,
          1.2654609247678054e-58,
          2.1923617865653672e-58,
          3.793955142898555e-58,
          6.558260209373957e-58,
          1.1324044836284017e-57,
          1.953129324003415e-57,
          3.364936746134875e-57,
          5.79080969888149e-57,
          9.954470535735726e-57,
          1.7092812232024681e-56,
          2.9317393909064397e-56,
          5.022890223769951e-56,
          8.596041334097695e-56,
          1.4694668311650015e-55,
          2.5092132034693596e-55,
          4.2798822893091166e-55,
          7.29193131477087e-55,
          1.2409943316497176e-54,
          2.1096650611571498e-54,
          3.5823969550338944e-54,
          6.076456423544721e-54,
          1.0295407771979636e-53,
          1.742421419480269e-53,
          2.9456377298815863e-53,
          4.974185197186799e-53,
          8.390368815848445e-53,
          1.4136979765642294e-52,
          2.3792972643391974e-52,
          3.99997482656815e-52,
          6.717107442829563e-52,
          1.1267402690145654e-51,
          1.8879123218568565e-51,
          3.159776101108835e-51,
          5.2825945992676834e-51,
          8.821749877174068e-51,
          1.4715623950898323e-50,
          2.4519923239381456e-50,
          4.081088525267231e-50,
          6.7849930724247545e-50,
          1.126780404689785e-49,
          1.8691564210169994e-49,
          3.0971945917280536e-49,
          5.126344892744226e-49,
          8.475466952353903e-49,
          1.3997031247472595e-48,
          2.3090041500719244e-48,
          3.804783756831266e-48,
          6.262557527342101e-48,
          1.0296508010978204e-47,
          1.6910041724314685e-47,
          2.7740601948819383e-47,
          4.545729262864102e-47,
          7.44059619424711e-47,
          1.2165455916241931e-46,
          1.986852041497936e-46,
          3.2412993979568846e-46,
          5.2818888057457465e-46,
          8.59757244340739e-46,
          1.3979090535437553e-45,
          2.2703795971886233e-45,
          3.683278153419857e-45,
          5.96880021865196e-45,
          9.661755714882426e-45,
          1.5622176729538815e-44,
          2.523152640860647e-44,
          4.0706333495470395e-44,
          6.559895669092694e-44,
          1.0559621758336676e-43,
          1.6979162945898362e-43,
          2.727097556257927e-43,
          4.3752367296719766e-43,
          7.0116288983953425e-43,
          1.1224132177787603e-42,
          1.7947464646299804e-42,
          2.8666186673524956e-42,
          4.5735478463350355e-42,
          7.288749305237291e-42,
          1.1602973043098015e-41,
          1.8450240751807991e-41,
          2.9305644420155625e-41,
          4.649615047306678e-41,
          7.368841317926992e-41,
          1.1665353254795195e-40,
          1.8446461475655625e-40,
          2.913699286487866e-40,
          4.59719441118045e-40,
          7.245318749747532e-40,
          1.1406137614699995e-39,
          1.7936438036953222e-39,
          2.8174114815461165e-39,
          4.4205961660767535e-39,
          6.928319217723086e-39,
          1.0846544938773959e-38,
          1.6961780337285734e-38,
          2.649524460499531e-38,
          4.134099413749716e-38,
          6.443330120432603e-38,
          1.0031279552288132e-37,
          1.5599790584787923e-37,
          2.4232470189740644e-37,
          3.760045410673628e-37,
          5.827804532474142e-37,
          9.022634146921059e-37,
          1.3953340833630725e-36,
          2.1554578849934962e-36,
          3.3259626256731196e-36,
          5.1263903399859674e-36,
          7.892643063583732e-36,
          1.2138072797252637e-35,
          1.8646335619284657e-35,
          2.861236391005895e-35,
          4.385614632300499e-35,
          6.714654612093379e-35,
          1.0269123422354663e-34,
          1.5687710013188353e-34,
          2.3938791164022074e-34,
          3.64889497486075e-34,
          5.555677079471578e-34,
          8.449463029119143e-34,
          1.2836236478829337e-33,
          1.947882665670966e-33,
          2.9525982650206523e-33,
          4.47056497906369e-33,
          6.761404948993374e-33,
          1.0214755284201124e-32,
          1.5414713958437285e-32,
          2.3235897807271592e-32,
          3.498645415343485e-32,
          5.262073197075388e-32,
          7.905517868174801e-32,
          1.1863702519146942e-31,
          1.7783885600013047e-31,
          2.662867441860872e-31,
          3.982803897531149e-31,
          5.950381122612181e-31,
          8.880085085514854e-31,
          1.323749944396147e-30,
          1.9711118403726482e-30,
          2.9317913733858425e-30,
          4.355834220845143e-30,
          6.464368516993714e-30,
          9.58290878764314e-30,
          1.4190087924888115e-29,
          2.098888183249331e-29,
          3.1010588102649384e-29,
          4.5766445796560053e-29,
          6.746846892081759e-29,
          9.935071726229599e-29,
          1.4613614376230257e-28,
          2.1471419801878666e-28,
          3.1512319233080376e-28,
          4.619728528688935e-28,
          6.765019112809253e-28,
          9.895507771654385e-28,
          1.4458512824602193e-27,
          2.110209864564179e-27,
          3.0764095954913082e-27,
          4.480011715228284e-27,
          6.51674348014072e-27,
          9.468879429652588e-27,
          1.3743046978290653e-26,
          1.9924340706970118e-26,
          2.885369070652577e-26,
          4.173834924491229e-26,
          6.030948907746972e-26,
          8.704674059628046e-26,
          1.2549772773998735e-25,
          1.8073226661433641e-25,
          2.599872270284109e-25,
          3.7358102786174415e-25,
          5.362089979153577e-25,
          7.687760873647716e-25,
          1.1009868174843617e-24,
          1.5750010798235508e-24,
          2.2505884033765022e-24,
          3.21238642248713e-24,
          4.580110654229145e-24,
          6.522898842615565e-24,
          9.279440694276302e-24,
          1.3186193409470758e-23,
          1.8716884765577996e-23,
          2.653775471183678e-23,
          3.758471563033583e-23,
          5.317100214501124e-23,
          7.513718269222781e-23,
          1.0605995831811147e-22,
          1.4954244647060845e-22,
          2.1061727743724352e-22,
          2.9630569026885308e-22,
          4.1639209212479914e-22,
          5.844958586075626e-22,
          8.195527043092393e-22,
          1.1478597329336702e-21,
          1.6058953420939654e-21,
          2.244203006499484e-21,
          3.132734034063038e-21,
          4.368188737243867e-21,
          6.084091659267654e-21,
          8.464602839791772e-21,
          1.1763428234709664e-20,
          1.6329681451728228e-20,
          2.264321042475757e-20,
          3.1362796213051913e-20,
          4.339183673547692e-20,
          5.996775291870361e-20,
          8.278354140607092e-20,
          1.1415283742211796e-19,
          1.572337978986304e-19,
          2.163324070278472e-19,
          2.9731289401712576e-19,
          4.081524334614828e-19,
          5.596899647167415e-19,
          7.666358672118505e-19,
          1.0489317515847362e-18,
          1.4335796050653393e-18,
          1.957099382095364e-18,
          2.668827044141416e-18,
          3.635335218775605e-18,
          4.9463515771964505e-18,
          6.722672952714824e-18,
          9.126735618586145e-18,
          1.2376716419173435e-17,
          1.676532182409943e-17,
          2.268479362827508e-17,
          3.06601485651746e-17,
          4.139331049524252e-17,
          5.582163484039453e-17,
          7.51954262970104e-17,
          1.0118049135592129e-16,
          1.3599364884221483e-16,
          1.8258157658447095e-16,
          2.4485657100310875e-16,
          3.2800695895163047e-16,
          4.389053111368938e-16,
          5.86644628811213e-16,
          7.83241779146511e-16,
          1.044559241654979e-15,
          1.3915114696509607e-15,
          1.8516418544762696e-15,
          2.4611816682239885e-15,
          3.267735064230834e-15,
          4.3337762877088725e-15,
          5.741199306570883e-15,
          7.597229439441741e-15,
          1.0042095455248675e-14,
          1.3258974398842288e-14,
          1.7486866836782756e-14,
          2.303724588606244e-14,
          3.031556010696877e-14,
          3.9848971754745667e-14,
          5.232209517632727e-14,
          6.862298691656297e-14,
          8.990225649904345e-14,
          1.1764894889978355e-13,
          1.5378783905403726e-13,
          2.0080402862206152e-13,
          2.6190231224410685e-13,
          3.41210767637832e-13,
          4.440405244926848e-13,
          5.772168097301422e-13,
          7.495003109403061e-13,
          9.72122843599676e-13,
          1.2594674961101222e-12,
          1.6299311628219235e-12,
          2.1070170331974927e-12,
          2.720716646484355e-12,
          3.5092561136878573e-12,
          4.521299750555362e-12,
          5.818727513905457e-12,
          7.480131339729353e-12,
          9.605211031197707e-12,
          1.2320294309942307e-11,
          1.578525994312254e-11,
          2.0202209829508313e-11,
          2.5826318414538407e-11,
          3.297938926282712e-11,
          4.206677323919927e-11,
          5.3598455614040274e-11,
          6.821530665711444e-11,
          8.672171933262316e-11,
          1.1012613749940713e-10,
          1.39691319319619e-10,
          1.7699659632717264e-10,
          2.2401489433405012e-10,
          2.832078966676852e-10,
          3.5764347539908196e-10,
          4.511404188328817e-10,
          5.68446575300357e-10,
          7.154578519846212e-10,
          8.994870979999677e-10,
          1.1295938165130924e-09,
          1.4169879544496749e-09,
          1.7755237849320846e-09,
          2.2223032152065727e-09,
          2.77841182538131e-09,
          3.469815693133646e-09,
          4.32845273038697e-09,
          5.393559018375933e-09,
          6.7132786748922235e-09,
          8.346615352536385e-09,
          1.036579481864585e-08,
          1.2859121519731722e-08,
          1.5934427950159787e-08,
          1.972323444938447e-08,
          2.438575923414083e-08,
          3.0116944597944274e-08,
          3.715369593358775e-08,
          4.578356630772114e-08,
          5.635516160525758e-08,
          6.929059075792598e-08,
          8.510034341216333e-08,
          1.044010448754275e-07,
          1.2793661678756525e-07,
          1.5660346338005937e-07,
          1.9148040932413917e-07,
          2.3386423819631013e-07,
          2.85311822957906e-07,
          3.4769000431757793e-07,
          4.232345625333954e-07,
          5.146198466069144e-07,
          6.250408758368079e-07,
          7.583100167054017e-07,
          9.189706679378983e-07,
          1.1124307637151548e-06,
          1.3451193354388605e-06,
          1.6246698627754678e-06,
          1.9601347022583768e-06,
          2.3622355145420468e-06,
          2.8436553282842254e-06,
          3.419378689203722e-06,
          4.107087257585462e-06,
          4.927619247745317e-06,
          5.90550226098833e-06,
          7.0695703626159555e-06,
          8.453677707710241e-06,
          1.0097522644878014e-05,
          1.2047598037917105e-05,
          1.4358285559452541e-05,
          1.7093113945821732e-05,
          2.032620367748592e-05,
          2.4143923283383154e-05,
          2.8646785480805066e-05,
          3.3951614674958624e-05,
          4.019402097494452e-05,
          4.753121985603913e-05,
          5.614524093226764e-05,
          6.624657401803813e-05,
          7.80783057718514e-05,
          9.192080574630002e-05,
          0.00010809702663211367,
          0.00012697848989325506,
          0.00014899203485489046,
          0.00017462741663305253,
          0.00020444584608588607,
          0.00023908957321811875,
          0.000279292624173721,
          0.0003258928110897568,
          0.00037984514363294605,
          0.00044223678096567905,
          0.0005143036731460767,
          0.0005974490515022738,
          0.0006932639382662577,
          0.0008035498566257575,
          0.0009303439332579744,
          0.001075946596232457,
          0.0012429520817843194,
          0.0014342819737132393,
          0.0016532220088923456,
          0.0019034623913867636,
          0.002189141865774468,
          0.0025148958072061366,
          0.0028859085912810375,
          0.0033079705106833926,
          0.00378753950742341,
          0.004331807989143406,
          0.004948774994952204,
          0.005647323970284849,
          0.006437306400983177,
          0.007329631543777047,
          0.008336362473217488,
          0.009470818643482289,
          0.010747685136930873,
          0.012183128739434541,
          0.013794920944960319,
          0.015602567948253206,
          0.017627447634402885,
          0.019892953517249966,
          0.022424645514700636,
          0.02525040737783283,
          0.028400610511976804,
          0.03190828384164019,
          0.035809289277132644,
          0.040142502239070864,
          0.044949996587737115,
          0.05027723318771545,
          0.0561732512147243,
          0.06269086118151711,
          0.06988683852375076,
          0.07782211644557145,
          0.08656197657916481,
          0.09617623586378572,
          0.10673942789892049,
          0.11833097687469499,
          0.13103536203182156,
          0.14494227045510658,
          0.16014673586051348,
          0.17674926089805798,
          0.19485592036355134,
          0.21457844259354428,
          0.23603426621231452,
          0.2593465693096855,
          0.28464426805649184,
          0.31206198171325183,
          0.34173996095951054,
          0.3738239764692571,
          0.4084651646840865,
          0.4458198277929964,
          0.48604918501830646,
          0.5293190724330419,
          0.5757995886987158,
          0.6256646843150344,
          0.679091692216328,
          0.7362607978346802,
          0.7973544470770227,
          0.8625566910338875,
          0.9320524666501855,
          1.0060268130429966,
          1.0846640236467398,
          1.168146734899895,
          1.2566549527581052,
          1.350365018922171,
          1.449448519302918,
          1.5540711379041128,
          1.664391459983709,
          1.7805597290486324,
          1.902716562941597,
          2.0309916349842068,
          2.1655023268418403,
          2.306352360463909,
          2.4536304171216172,
          2.607408752204581,
          2.7677418150397606,
          2.9346648835528737,
          3.108192724093527,
          3.28831828718444,
          3.475011450321648,
          3.6682178192395924,
          3.867857599255016,
          4.073824548407668,
          4.285985024120297,
          4.504177134996727,
          4.7282100091618835,
          4.9578631902176005,
          5.192886171438602,
          5.432998078265431,
          5.677887508462453,
          5.927212538502004,
          6.180600903813256,
          6.437650359498096,
          6.697929226975477,
          6.960977130773229,
          7.226305928354169,
          7.493400834447719,
          7.761721739874198,
          8.03070472330508,
          8.299763752814671,
          8.568292572461118,
          8.835666767500749,
          9.101246000209276,
          9.364376406669045,
          9.62439314330303,
          9.88062307041006,
          10.132387558497538,
          10.37900540183736,
          10.619795822401299,
          10.854081546181035,
          11.081191932880252,
          11.300466139093466,
          11.511256294373846,
          11.712930669047982,
          11.904876812270418,
          12.08650463863188,
          12.25724944164639,
          12.416574812649944,
          12.563975444045369,
          12.698979796425533,
          12.821152609896448,
          12.930097240896735,
          13.02545780696491,
          13.106921123229199,
          13.174218415876148,
          13.22712679947989,
          13.265470506828446,
          13.2891218617507,
          13.298001987408727,
          13.292081244556538,
          13.271379396357421,
          13.23596549847716,
          13.185957515308619,
          13.121521665312445,
          13.042871500558451,
          12.95026672760092,
          12.84401177879913,
          12.724454145081555,
          12.591982482930788,
          12.44702451001903,
          12.290044705435005,
          12.121541831799869,
          11.942046297758264,
          11.752117380342844,
          11.55234032753759,
          11.343323362000838,
          11.125694607351265,
          10.90009895866528,
          10.667194918885231,
          10.427651422696671,
          10.182144669103744,
          9.931354983423972,
          9.67596372874262,
          9.416650286026183,
          9.154089121104597,
          8.888946955605482,
          8.621880057678132,
          8.353531666991804,
          8.08452956705182,
          7.815483816362942,
          7.5469846483992225,
          7.279600548732611,
          7.013876516042147,
          6.750332512092538,
          6.4894621041477585,
          6.23173130169122,
          5.977577587769824,
          5.727409143781943,
          5.481604265099869,
          5.240510963566529,
          5.004446751646622,
          4.7736986018489524,
          4.548523073980187,
          4.329146601844356,
          4.115765930171495,
          3.9085486918475065,
          3.707634114924151,
          3.5131338484159893,
          3.325132895537146,
          3.143690642792597,
          2.968841973214175,
          2.800598452013499,
          2.638949573009599,
          2.4838640543701174,
          2.335291172474842,
          2.193162123062412,
          2.057391399245319,
          1.927878176468424,
          1.804507695032257,
          1.6871526313958276,
          1.5756744501068063,
          1.4699247288695052,
          1.3697464499464957,
          1.2749752517887485,
          1.1854406354944034,
          1.1009671214011698,
          1.0213753518137714,
          0.9464831365510866,
          0.8761064386610563,
          0.8100602982902605,
          0.7481596933053892,
          0.6902203358409192,
          0.6360594044890019,
          0.5854962123507179,
          0.5383528116306067,
          0.49445453587781374,
          0.4536304813557577,
          0.4157139293583773,
          0.38054271158450126,
          0.3479595209333693,
          0.3178121702951646,
          0.28995380208144317,
          0.26424305137375725,
          0.24054416566620812,
          0.21872708424131082,
          0.19866748025095074,
          0.18024676857746316,
          0.16335208252687394,
          0.14787622235947892,
          0.13371757859486008,
          0.12078003294188622,
          0.10897283960151669,
          0.09821048957408697,
          0.08841256047537345,
          0.07950355422957395,
          0.07141272486438809,
          0.06407389848580344,
          0.057425287359767554,
          0.051409299876370364
         ]
        },
        {
         "mode": "lines",
         "name": "Empresa B",
         "type": "scatter",
         "x": [
          0,
          0.001001001001001001,
          0.002002002002002002,
          0.003003003003003003,
          0.004004004004004004,
          0.005005005005005005,
          0.006006006006006006,
          0.007007007007007007,
          0.008008008008008008,
          0.009009009009009009,
          0.01001001001001001,
          0.011011011011011011,
          0.012012012012012012,
          0.013013013013013013,
          0.014014014014014014,
          0.015015015015015015,
          0.016016016016016016,
          0.017017017017017015,
          0.018018018018018018,
          0.01901901901901902,
          0.02002002002002002,
          0.02102102102102102,
          0.022022022022022022,
          0.023023023023023025,
          0.024024024024024024,
          0.025025025025025023,
          0.026026026026026026,
          0.02702702702702703,
          0.028028028028028028,
          0.029029029029029027,
          0.03003003003003003,
          0.031031031031031032,
          0.03203203203203203,
          0.03303303303303303,
          0.03403403403403403,
          0.035035035035035036,
          0.036036036036036036,
          0.037037037037037035,
          0.03803803803803804,
          0.03903903903903904,
          0.04004004004004004,
          0.04104104104104104,
          0.04204204204204204,
          0.043043043043043044,
          0.044044044044044044,
          0.04504504504504504,
          0.04604604604604605,
          0.04704704704704705,
          0.04804804804804805,
          0.04904904904904905,
          0.050050050050050046,
          0.05105105105105105,
          0.05205205205205205,
          0.05305305305305305,
          0.05405405405405406,
          0.055055055055055056,
          0.056056056056056056,
          0.057057057057057055,
          0.058058058058058054,
          0.05905905905905906,
          0.06006006006006006,
          0.06106106106106106,
          0.062062062062062065,
          0.06306306306306306,
          0.06406406406406406,
          0.06506506506506507,
          0.06606606606606606,
          0.06706706706706707,
          0.06806806806806806,
          0.06906906906906907,
          0.07007007007007007,
          0.07107107107107107,
          0.07207207207207207,
          0.07307307307307308,
          0.07407407407407407,
          0.07507507507507508,
          0.07607607607607608,
          0.07707707707707707,
          0.07807807807807808,
          0.07907907907907907,
          0.08008008008008008,
          0.08108108108108109,
          0.08208208208208208,
          0.08308308308308308,
          0.08408408408408408,
          0.08508508508508508,
          0.08608608608608609,
          0.08708708708708708,
          0.08808808808808809,
          0.0890890890890891,
          0.09009009009009009,
          0.09109109109109109,
          0.0920920920920921,
          0.09309309309309309,
          0.0940940940940941,
          0.09509509509509509,
          0.0960960960960961,
          0.0970970970970971,
          0.0980980980980981,
          0.0990990990990991,
          0.10010010010010009,
          0.1011011011011011,
          0.1021021021021021,
          0.1031031031031031,
          0.1041041041041041,
          0.10510510510510511,
          0.1061061061061061,
          0.10710710710710711,
          0.10810810810810811,
          0.1091091091091091,
          0.11011011011011011,
          0.1111111111111111,
          0.11211211211211211,
          0.11311311311311312,
          0.11411411411411411,
          0.11511511511511512,
          0.11611611611611611,
          0.11711711711711711,
          0.11811811811811812,
          0.11911911911911911,
          0.12012012012012012,
          0.12112112112112113,
          0.12212212212212212,
          0.12312312312312312,
          0.12412412412412413,
          0.12512512512512514,
          0.12612612612612611,
          0.12712712712712712,
          0.12812812812812813,
          0.12912912912912913,
          0.13013013013013014,
          0.13113113113113112,
          0.13213213213213212,
          0.13313313313313313,
          0.13413413413413414,
          0.13513513513513514,
          0.13613613613613612,
          0.13713713713713713,
          0.13813813813813813,
          0.13913913913913914,
          0.14014014014014015,
          0.14114114114114115,
          0.14214214214214213,
          0.14314314314314314,
          0.14414414414414414,
          0.14514514514514515,
          0.14614614614614616,
          0.14714714714714713,
          0.14814814814814814,
          0.14914914914914915,
          0.15015015015015015,
          0.15115115115115116,
          0.15215215215215216,
          0.15315315315315314,
          0.15415415415415415,
          0.15515515515515516,
          0.15615615615615616,
          0.15715715715715717,
          0.15815815815815815,
          0.15915915915915915,
          0.16016016016016016,
          0.16116116116116116,
          0.16216216216216217,
          0.16316316316316315,
          0.16416416416416416,
          0.16516516516516516,
          0.16616616616616617,
          0.16716716716716717,
          0.16816816816816815,
          0.16916916916916916,
          0.17017017017017017,
          0.17117117117117117,
          0.17217217217217218,
          0.17317317317317318,
          0.17417417417417416,
          0.17517517517517517,
          0.17617617617617617,
          0.17717717717717718,
          0.1781781781781782,
          0.17917917917917917,
          0.18018018018018017,
          0.18118118118118118,
          0.18218218218218218,
          0.1831831831831832,
          0.1841841841841842,
          0.18518518518518517,
          0.18618618618618618,
          0.1871871871871872,
          0.1881881881881882,
          0.1891891891891892,
          0.19019019019019018,
          0.19119119119119118,
          0.1921921921921922,
          0.1931931931931932,
          0.1941941941941942,
          0.19519519519519518,
          0.1961961961961962,
          0.1971971971971972,
          0.1981981981981982,
          0.1991991991991992,
          0.20020020020020018,
          0.2012012012012012,
          0.2022022022022022,
          0.2032032032032032,
          0.2042042042042042,
          0.20520520520520522,
          0.2062062062062062,
          0.2072072072072072,
          0.2082082082082082,
          0.2092092092092092,
          0.21021021021021022,
          0.2112112112112112,
          0.2122122122122122,
          0.2132132132132132,
          0.21421421421421422,
          0.21521521521521522,
          0.21621621621621623,
          0.2172172172172172,
          0.2182182182182182,
          0.21921921921921922,
          0.22022022022022023,
          0.22122122122122123,
          0.2222222222222222,
          0.22322322322322322,
          0.22422422422422422,
          0.22522522522522523,
          0.22622622622622623,
          0.2272272272272272,
          0.22822822822822822,
          0.22922922922922923,
          0.23023023023023023,
          0.23123123123123124,
          0.23223223223223222,
          0.23323323323323322,
          0.23423423423423423,
          0.23523523523523523,
          0.23623623623623624,
          0.23723723723723725,
          0.23823823823823823,
          0.23923923923923923,
          0.24024024024024024,
          0.24124124124124124,
          0.24224224224224225,
          0.24324324324324323,
          0.24424424424424424,
          0.24524524524524524,
          0.24624624624624625,
          0.24724724724724725,
          0.24824824824824826,
          0.24924924924924924,
          0.2502502502502503,
          0.25125125125125125,
          0.25225225225225223,
          0.25325325325325326,
          0.25425425425425424,
          0.2552552552552553,
          0.25625625625625625,
          0.25725725725725723,
          0.25825825825825827,
          0.25925925925925924,
          0.2602602602602603,
          0.26126126126126126,
          0.26226226226226224,
          0.26326326326326327,
          0.26426426426426425,
          0.2652652652652653,
          0.26626626626626626,
          0.26726726726726724,
          0.2682682682682683,
          0.26926926926926925,
          0.2702702702702703,
          0.27127127127127126,
          0.27227227227227224,
          0.2732732732732733,
          0.27427427427427425,
          0.2752752752752753,
          0.27627627627627627,
          0.2772772772772773,
          0.2782782782782783,
          0.27927927927927926,
          0.2802802802802803,
          0.28128128128128127,
          0.2822822822822823,
          0.2832832832832833,
          0.28428428428428426,
          0.2852852852852853,
          0.2862862862862863,
          0.2872872872872873,
          0.2882882882882883,
          0.28928928928928926,
          0.2902902902902903,
          0.2912912912912913,
          0.2922922922922923,
          0.2932932932932933,
          0.29429429429429427,
          0.2952952952952953,
          0.2962962962962963,
          0.2972972972972973,
          0.2982982982982983,
          0.29929929929929927,
          0.3003003003003003,
          0.3013013013013013,
          0.3023023023023023,
          0.3033033033033033,
          0.30430430430430433,
          0.3053053053053053,
          0.3063063063063063,
          0.3073073073073073,
          0.3083083083083083,
          0.30930930930930933,
          0.3103103103103103,
          0.3113113113113113,
          0.3123123123123123,
          0.3133133133133133,
          0.31431431431431434,
          0.3153153153153153,
          0.3163163163163163,
          0.3173173173173173,
          0.3183183183183183,
          0.31931931931931934,
          0.3203203203203203,
          0.3213213213213213,
          0.32232232232232233,
          0.3233233233233233,
          0.32432432432432434,
          0.3253253253253253,
          0.3263263263263263,
          0.32732732732732733,
          0.3283283283283283,
          0.32932932932932935,
          0.3303303303303303,
          0.3313313313313313,
          0.33233233233233234,
          0.3333333333333333,
          0.33433433433433435,
          0.3353353353353353,
          0.3363363363363363,
          0.33733733733733734,
          0.3383383383383383,
          0.33933933933933935,
          0.34034034034034033,
          0.34134134134134136,
          0.34234234234234234,
          0.3433433433433433,
          0.34434434434434436,
          0.34534534534534533,
          0.34634634634634637,
          0.34734734734734735,
          0.3483483483483483,
          0.34934934934934936,
          0.35035035035035034,
          0.35135135135135137,
          0.35235235235235235,
          0.3533533533533533,
          0.35435435435435436,
          0.35535535535535534,
          0.3563563563563564,
          0.35735735735735735,
          0.35835835835835833,
          0.35935935935935936,
          0.36036036036036034,
          0.3613613613613614,
          0.36236236236236236,
          0.36336336336336333,
          0.36436436436436437,
          0.36536536536536535,
          0.3663663663663664,
          0.36736736736736736,
          0.3683683683683684,
          0.36936936936936937,
          0.37037037037037035,
          0.3713713713713714,
          0.37237237237237236,
          0.3733733733733734,
          0.3743743743743744,
          0.37537537537537535,
          0.3763763763763764,
          0.37737737737737737,
          0.3783783783783784,
          0.3793793793793794,
          0.38038038038038036,
          0.3813813813813814,
          0.38238238238238237,
          0.3833833833833834,
          0.3843843843843844,
          0.38538538538538536,
          0.3863863863863864,
          0.38738738738738737,
          0.3883883883883884,
          0.3893893893893894,
          0.39039039039039036,
          0.3913913913913914,
          0.3923923923923924,
          0.3933933933933934,
          0.3943943943943944,
          0.39539539539539537,
          0.3963963963963964,
          0.3973973973973974,
          0.3983983983983984,
          0.3993993993993994,
          0.40040040040040037,
          0.4014014014014014,
          0.4024024024024024,
          0.4034034034034034,
          0.4044044044044044,
          0.40540540540540543,
          0.4064064064064064,
          0.4074074074074074,
          0.4084084084084084,
          0.4094094094094094,
          0.41041041041041043,
          0.4114114114114114,
          0.4124124124124124,
          0.4134134134134134,
          0.4144144144144144,
          0.41541541541541543,
          0.4164164164164164,
          0.4174174174174174,
          0.4184184184184184,
          0.4194194194194194,
          0.42042042042042044,
          0.4214214214214214,
          0.4224224224224224,
          0.42342342342342343,
          0.4244244244244244,
          0.42542542542542544,
          0.4264264264264264,
          0.4274274274274274,
          0.42842842842842843,
          0.4294294294294294,
          0.43043043043043044,
          0.4314314314314314,
          0.43243243243243246,
          0.43343343343343343,
          0.4344344344344344,
          0.43543543543543545,
          0.4364364364364364,
          0.43743743743743746,
          0.43843843843843844,
          0.4394394394394394,
          0.44044044044044045,
          0.44144144144144143,
          0.44244244244244246,
          0.44344344344344344,
          0.4444444444444444,
          0.44544544544544545,
          0.44644644644644643,
          0.44744744744744747,
          0.44844844844844844,
          0.4494494494494494,
          0.45045045045045046,
          0.45145145145145144,
          0.45245245245245247,
          0.45345345345345345,
          0.4544544544544544,
          0.45545545545545546,
          0.45645645645645644,
          0.4574574574574575,
          0.45845845845845845,
          0.45945945945945943,
          0.46046046046046046,
          0.46146146146146144,
          0.4624624624624625,
          0.46346346346346345,
          0.46446446446446443,
          0.46546546546546547,
          0.46646646646646645,
          0.4674674674674675,
          0.46846846846846846,
          0.4694694694694695,
          0.47047047047047047,
          0.47147147147147145,
          0.4724724724724725,
          0.47347347347347346,
          0.4744744744744745,
          0.4754754754754755,
          0.47647647647647645,
          0.4774774774774775,
          0.47847847847847846,
          0.4794794794794795,
          0.4804804804804805,
          0.48148148148148145,
          0.4824824824824825,
          0.48348348348348347,
          0.4844844844844845,
          0.4854854854854855,
          0.48648648648648646,
          0.4874874874874875,
          0.48848848848848847,
          0.4894894894894895,
          0.4904904904904905,
          0.49149149149149146,
          0.4924924924924925,
          0.4934934934934935,
          0.4944944944944945,
          0.4954954954954955,
          0.4964964964964965,
          0.4974974974974975,
          0.4984984984984985,
          0.4994994994994995,
          0.5005005005005005,
          0.5015015015015015,
          0.5025025025025025,
          0.5035035035035035,
          0.5045045045045045,
          0.5055055055055055,
          0.5065065065065065,
          0.5075075075075075,
          0.5085085085085085,
          0.5095095095095095,
          0.5105105105105106,
          0.5115115115115115,
          0.5125125125125125,
          0.5135135135135135,
          0.5145145145145145,
          0.5155155155155156,
          0.5165165165165165,
          0.5175175175175175,
          0.5185185185185185,
          0.5195195195195195,
          0.5205205205205206,
          0.5215215215215215,
          0.5225225225225225,
          0.5235235235235235,
          0.5245245245245245,
          0.5255255255255256,
          0.5265265265265265,
          0.5275275275275275,
          0.5285285285285285,
          0.5295295295295295,
          0.5305305305305306,
          0.5315315315315315,
          0.5325325325325325,
          0.5335335335335335,
          0.5345345345345345,
          0.5355355355355356,
          0.5365365365365365,
          0.5375375375375375,
          0.5385385385385385,
          0.5395395395395395,
          0.5405405405405406,
          0.5415415415415415,
          0.5425425425425425,
          0.5435435435435435,
          0.5445445445445445,
          0.5455455455455456,
          0.5465465465465466,
          0.5475475475475475,
          0.5485485485485485,
          0.5495495495495496,
          0.5505505505505506,
          0.5515515515515516,
          0.5525525525525525,
          0.5535535535535535,
          0.5545545545545546,
          0.5555555555555556,
          0.5565565565565566,
          0.5575575575575575,
          0.5585585585585585,
          0.5595595595595596,
          0.5605605605605606,
          0.5615615615615616,
          0.5625625625625625,
          0.5635635635635635,
          0.5645645645645646,
          0.5655655655655656,
          0.5665665665665666,
          0.5675675675675675,
          0.5685685685685685,
          0.5695695695695696,
          0.5705705705705706,
          0.5715715715715716,
          0.5725725725725725,
          0.5735735735735735,
          0.5745745745745746,
          0.5755755755755756,
          0.5765765765765766,
          0.5775775775775776,
          0.5785785785785785,
          0.5795795795795796,
          0.5805805805805806,
          0.5815815815815816,
          0.5825825825825826,
          0.5835835835835835,
          0.5845845845845846,
          0.5855855855855856,
          0.5865865865865866,
          0.5875875875875876,
          0.5885885885885885,
          0.5895895895895896,
          0.5905905905905906,
          0.5915915915915916,
          0.5925925925925926,
          0.5935935935935935,
          0.5945945945945946,
          0.5955955955955956,
          0.5965965965965966,
          0.5975975975975976,
          0.5985985985985985,
          0.5995995995995996,
          0.6006006006006006,
          0.6016016016016016,
          0.6026026026026026,
          0.6036036036036035,
          0.6046046046046046,
          0.6056056056056056,
          0.6066066066066066,
          0.6076076076076076,
          0.6086086086086087,
          0.6096096096096096,
          0.6106106106106106,
          0.6116116116116116,
          0.6126126126126126,
          0.6136136136136137,
          0.6146146146146146,
          0.6156156156156156,
          0.6166166166166166,
          0.6176176176176176,
          0.6186186186186187,
          0.6196196196196196,
          0.6206206206206206,
          0.6216216216216216,
          0.6226226226226226,
          0.6236236236236237,
          0.6246246246246246,
          0.6256256256256256,
          0.6266266266266266,
          0.6276276276276276,
          0.6286286286286287,
          0.6296296296296297,
          0.6306306306306306,
          0.6316316316316316,
          0.6326326326326326,
          0.6336336336336337,
          0.6346346346346347,
          0.6356356356356356,
          0.6366366366366366,
          0.6376376376376376,
          0.6386386386386387,
          0.6396396396396397,
          0.6406406406406406,
          0.6416416416416416,
          0.6426426426426426,
          0.6436436436436437,
          0.6446446446446447,
          0.6456456456456456,
          0.6466466466466466,
          0.6476476476476476,
          0.6486486486486487,
          0.6496496496496497,
          0.6506506506506506,
          0.6516516516516516,
          0.6526526526526526,
          0.6536536536536537,
          0.6546546546546547,
          0.6556556556556556,
          0.6566566566566566,
          0.6576576576576576,
          0.6586586586586587,
          0.6596596596596597,
          0.6606606606606606,
          0.6616616616616616,
          0.6626626626626626,
          0.6636636636636637,
          0.6646646646646647,
          0.6656656656656657,
          0.6666666666666666,
          0.6676676676676676,
          0.6686686686686687,
          0.6696696696696697,
          0.6706706706706707,
          0.6716716716716716,
          0.6726726726726726,
          0.6736736736736737,
          0.6746746746746747,
          0.6756756756756757,
          0.6766766766766766,
          0.6776776776776777,
          0.6786786786786787,
          0.6796796796796797,
          0.6806806806806807,
          0.6816816816816816,
          0.6826826826826827,
          0.6836836836836837,
          0.6846846846846847,
          0.6856856856856857,
          0.6866866866866866,
          0.6876876876876877,
          0.6886886886886887,
          0.6896896896896897,
          0.6906906906906907,
          0.6916916916916916,
          0.6926926926926927,
          0.6936936936936937,
          0.6946946946946947,
          0.6956956956956957,
          0.6966966966966966,
          0.6976976976976977,
          0.6986986986986987,
          0.6996996996996997,
          0.7007007007007007,
          0.7017017017017017,
          0.7027027027027027,
          0.7037037037037037,
          0.7047047047047047,
          0.7057057057057057,
          0.7067067067067067,
          0.7077077077077077,
          0.7087087087087087,
          0.7097097097097097,
          0.7107107107107107,
          0.7117117117117117,
          0.7127127127127127,
          0.7137137137137137,
          0.7147147147147147,
          0.7157157157157157,
          0.7167167167167167,
          0.7177177177177178,
          0.7187187187187187,
          0.7197197197197197,
          0.7207207207207207,
          0.7217217217217217,
          0.7227227227227228,
          0.7237237237237237,
          0.7247247247247247,
          0.7257257257257257,
          0.7267267267267267,
          0.7277277277277278,
          0.7287287287287287,
          0.7297297297297297,
          0.7307307307307307,
          0.7317317317317317,
          0.7327327327327328,
          0.7337337337337337,
          0.7347347347347347,
          0.7357357357357357,
          0.7367367367367368,
          0.7377377377377378,
          0.7387387387387387,
          0.7397397397397397,
          0.7407407407407407,
          0.7417417417417418,
          0.7427427427427428,
          0.7437437437437437,
          0.7447447447447447,
          0.7457457457457457,
          0.7467467467467468,
          0.7477477477477478,
          0.7487487487487487,
          0.7497497497497497,
          0.7507507507507507,
          0.7517517517517518,
          0.7527527527527528,
          0.7537537537537538,
          0.7547547547547547,
          0.7557557557557557,
          0.7567567567567568,
          0.7577577577577578,
          0.7587587587587588,
          0.7597597597597597,
          0.7607607607607607,
          0.7617617617617618,
          0.7627627627627628,
          0.7637637637637638,
          0.7647647647647647,
          0.7657657657657657,
          0.7667667667667668,
          0.7677677677677678,
          0.7687687687687688,
          0.7697697697697697,
          0.7707707707707707,
          0.7717717717717718,
          0.7727727727727728,
          0.7737737737737738,
          0.7747747747747747,
          0.7757757757757757,
          0.7767767767767768,
          0.7777777777777778,
          0.7787787787787788,
          0.7797797797797797,
          0.7807807807807807,
          0.7817817817817818,
          0.7827827827827828,
          0.7837837837837838,
          0.7847847847847848,
          0.7857857857857857,
          0.7867867867867868,
          0.7877877877877878,
          0.7887887887887888,
          0.7897897897897898,
          0.7907907907907907,
          0.7917917917917918,
          0.7927927927927928,
          0.7937937937937938,
          0.7947947947947948,
          0.7957957957957957,
          0.7967967967967968,
          0.7977977977977978,
          0.7987987987987988,
          0.7997997997997998,
          0.8008008008008007,
          0.8018018018018018,
          0.8028028028028028,
          0.8038038038038038,
          0.8048048048048048,
          0.8058058058058059,
          0.8068068068068068,
          0.8078078078078078,
          0.8088088088088088,
          0.8098098098098098,
          0.8108108108108109,
          0.8118118118118118,
          0.8128128128128128,
          0.8138138138138138,
          0.8148148148148148,
          0.8158158158158159,
          0.8168168168168168,
          0.8178178178178178,
          0.8188188188188188,
          0.8198198198198198,
          0.8208208208208209,
          0.8218218218218218,
          0.8228228228228228,
          0.8238238238238238,
          0.8248248248248248,
          0.8258258258258259,
          0.8268268268268268,
          0.8278278278278278,
          0.8288288288288288,
          0.8298298298298298,
          0.8308308308308309,
          0.8318318318318318,
          0.8328328328328328,
          0.8338338338338338,
          0.8348348348348348,
          0.8358358358358359,
          0.8368368368368369,
          0.8378378378378378,
          0.8388388388388388,
          0.8398398398398398,
          0.8408408408408409,
          0.8418418418418419,
          0.8428428428428428,
          0.8438438438438438,
          0.8448448448448448,
          0.8458458458458459,
          0.8468468468468469,
          0.8478478478478478,
          0.8488488488488488,
          0.8498498498498498,
          0.8508508508508509,
          0.8518518518518519,
          0.8528528528528528,
          0.8538538538538538,
          0.8548548548548548,
          0.8558558558558559,
          0.8568568568568569,
          0.8578578578578578,
          0.8588588588588588,
          0.8598598598598598,
          0.8608608608608609,
          0.8618618618618619,
          0.8628628628628628,
          0.8638638638638638,
          0.8648648648648649,
          0.8658658658658659,
          0.8668668668668669,
          0.8678678678678678,
          0.8688688688688688,
          0.8698698698698699,
          0.8708708708708709,
          0.8718718718718719,
          0.8728728728728729,
          0.8738738738738738,
          0.8748748748748749,
          0.8758758758758759,
          0.8768768768768769,
          0.8778778778778779,
          0.8788788788788788,
          0.8798798798798799,
          0.8808808808808809,
          0.8818818818818819,
          0.8828828828828829,
          0.8838838838838838,
          0.8848848848848849,
          0.8858858858858859,
          0.8868868868868869,
          0.8878878878878879,
          0.8888888888888888,
          0.8898898898898899,
          0.8908908908908909,
          0.8918918918918919,
          0.8928928928928929,
          0.8938938938938938,
          0.8948948948948949,
          0.8958958958958959,
          0.8968968968968969,
          0.8978978978978979,
          0.8988988988988988,
          0.8998998998998999,
          0.9009009009009009,
          0.9019019019019019,
          0.9029029029029029,
          0.9039039039039038,
          0.9049049049049049,
          0.9059059059059059,
          0.9069069069069069,
          0.9079079079079079,
          0.9089089089089089,
          0.9099099099099099,
          0.9109109109109109,
          0.9119119119119119,
          0.9129129129129129,
          0.9139139139139139,
          0.914914914914915,
          0.9159159159159159,
          0.9169169169169169,
          0.9179179179179179,
          0.9189189189189189,
          0.91991991991992,
          0.9209209209209209,
          0.9219219219219219,
          0.9229229229229229,
          0.9239239239239239,
          0.924924924924925,
          0.9259259259259259,
          0.9269269269269269,
          0.9279279279279279,
          0.9289289289289289,
          0.92992992992993,
          0.9309309309309309,
          0.9319319319319319,
          0.9329329329329329,
          0.933933933933934,
          0.934934934934935,
          0.9359359359359359,
          0.9369369369369369,
          0.9379379379379379,
          0.938938938938939,
          0.93993993993994,
          0.9409409409409409,
          0.9419419419419419,
          0.9429429429429429,
          0.943943943943944,
          0.944944944944945,
          0.9459459459459459,
          0.9469469469469469,
          0.9479479479479479,
          0.948948948948949,
          0.94994994994995,
          0.950950950950951,
          0.9519519519519519,
          0.9529529529529529,
          0.953953953953954,
          0.954954954954955,
          0.955955955955956,
          0.9569569569569569,
          0.9579579579579579,
          0.958958958958959,
          0.95995995995996,
          0.960960960960961,
          0.9619619619619619,
          0.9629629629629629,
          0.963963963963964,
          0.964964964964965,
          0.965965965965966,
          0.9669669669669669,
          0.9679679679679679,
          0.968968968968969,
          0.96996996996997,
          0.970970970970971,
          0.9719719719719719,
          0.9729729729729729,
          0.973973973973974,
          0.974974974974975,
          0.975975975975976,
          0.9769769769769769,
          0.9779779779779779,
          0.978978978978979,
          0.97997997997998,
          0.980980980980981,
          0.9819819819819819,
          0.9829829829829829,
          0.983983983983984,
          0.984984984984985,
          0.985985985985986,
          0.986986986986987,
          0.9879879879879879,
          0.988988988988989,
          0.98998998998999,
          0.990990990990991,
          0.991991991991992,
          0.992992992992993,
          0.993993993993994,
          0.994994994994995,
          0.995995995995996,
          0.996996996996997,
          0.997997997997998,
          0.998998998998999,
          1
         ],
         "y": [
          0,
          0,
          0,
          0,
          0,
          0,
          0,
          0,
          0,
          0,
          0,
          0,
          0,
          0,
          0,
          0,
          0,
          0,
          0,
          0,
          0,
          0,
          0,
          0,
          0,
          0,
          0,
          0,
          0,
          0,
          0,
          0,
          0,
          0,
          0,
          0,
          0,
          0,
          0,
          0,
          0,
          0,
          0,
          0,
          0,
          0,
          0,
          0,
          0,
          0,
          0,
          0,
          0,
          0,
          0,
          0,
          0,
          0,
          0,
          0,
          0,
          0,
          0,
          0,
          0,
          0,
          0,
          0,
          0,
          0,
          0,
          0,
          0,
          0,
          0,
          0,
          0,
          0,
          0,
          0,
          0,
          0,
          0,
          0,
          0,
          0,
          0,
          0,
          0,
          0,
          0,
          0,
          0,
          0,
          0,
          0,
          0,
          0,
          0,
          0,
          0,
          0,
          0,
          0,
          0,
          0,
          0,
          0,
          0,
          0,
          0,
          0,
          0,
          0,
          0,
          0,
          0,
          0,
          0,
          0,
          0,
          0,
          0,
          0,
          0,
          0,
          0,
          0,
          0,
          0,
          0,
          0,
          0,
          0,
          0,
          0,
          0,
          0,
          0,
          0,
          0,
          0,
          0,
          0,
          0,
          0,
          0,
          0,
          0,
          0,
          0,
          0,
          0,
          0,
          0,
          0,
          0,
          0,
          0,
          0,
          0,
          0,
          0,
          0,
          0,
          0,
          0,
          0,
          0,
          0,
          0,
          0,
          0,
          0,
          0,
          0,
          0,
          0,
          0,
          0,
          0,
          0,
          0,
          0,
          0,
          0,
          0,
          0,
          0,
          0,
          0,
          0,
          0,
          0,
          0,
          0,
          0,
          0,
          0,
          0,
          0,
          0,
          0,
          0,
          0,
          0,
          0,
          0,
          0,
          0,
          0,
          0,
          0,
          0,
          0,
          0,
          0,
          0,
          0,
          0,
          0,
          0,
          0,
          0,
          0,
          0,
          0,
          0,
          0,
          0,
          0,
          0,
          0,
          0,
          0,
          0,
          0,
          0,
          0,
          0,
          0,
          0,
          0,
          0,
          0,
          0,
          0,
          0,
          0,
          0,
          0,
          0,
          0,
          0,
          0,
          0,
          0,
          0,
          0,
          0,
          0,
          0,
          0,
          0,
          0,
          0,
          0,
          0,
          0,
          0,
          0,
          0,
          0,
          0,
          0,
          0,
          0,
          0,
          0,
          0,
          0,
          0,
          0,
          0,
          0,
          0,
          0,
          0,
          0,
          0,
          0,
          0,
          0,
          0,
          0,
          0,
          0,
          0,
          0,
          0,
          0,
          0,
          0,
          0,
          0,
          0,
          0,
          0,
          0,
          0,
          0,
          0,
          0,
          0,
          0,
          0,
          0,
          0,
          0,
          0,
          0,
          0,
          0,
          0,
          0,
          0,
          0,
          0,
          0,
          0,
          0,
          0,
          0,
          0,
          0,
          0,
          0,
          0,
          0,
          0,
          0,
          0,
          0,
          0,
          0,
          0,
          0,
          0,
          0,
          0,
          0,
          0,
          0,
          0,
          0,
          0,
          0,
          0,
          0,
          0,
          0,
          0,
          0,
          0,
          0,
          0,
          0,
          0,
          0,
          0,
          0,
          0,
          0,
          0,
          0,
          0,
          0,
          0,
          0,
          0,
          0,
          0,
          0,
          0,
          0,
          0,
          0,
          0,
          0,
          0,
          0,
          0,
          0,
          0,
          0,
          0,
          0,
          0,
          0,
          0,
          0,
          0,
          0,
          0,
          0,
          0,
          0,
          0,
          0,
          0,
          0,
          0,
          0,
          0,
          0,
          0,
          0,
          0,
          0,
          0,
          0,
          0,
          0,
          0,
          0,
          0,
          0,
          0,
          0,
          0,
          0,
          0,
          0,
          0,
          0,
          0,
          0,
          0,
          0,
          0,
          0,
          0,
          0,
          0,
          0,
          0,
          0,
          0,
          0,
          0,
          0,
          0,
          0,
          0,
          0,
          0,
          0,
          0,
          0,
          0,
          0,
          0,
          0,
          0,
          0,
          0,
          0,
          0,
          0,
          0,
          0,
          0,
          0,
          0,
          0,
          0,
          0,
          0,
          0,
          0,
          0,
          0,
          0,
          0,
          0,
          0,
          0,
          0,
          0,
          0,
          0,
          0,
          0,
          0,
          0,
          0,
          0,
          0,
          0,
          0,
          0,
          0,
          0,
          0,
          0,
          0,
          0,
          0,
          0,
          0,
          0,
          0,
          0,
          0,
          0,
          0,
          0,
          0,
          0,
          0,
          0,
          0,
          0,
          0,
          0,
          0,
          0,
          0,
          0,
          0,
          0,
          0,
          0,
          0,
          0,
          0,
          0,
          0,
          0,
          0,
          0,
          0,
          0,
          0,
          0,
          0,
          0,
          0,
          0,
          0,
          0,
          0,
          0,
          0,
          0,
          0,
          0,
          0,
          0,
          0,
          0,
          0,
          0,
          0,
          0,
          0,
          0,
          0,
          0,
          0,
          0,
          0,
          0,
          0,
          0,
          0,
          0,
          0,
          0,
          0,
          0,
          0,
          0,
          1.7001e-319,
          1.193949346e-315,
          7.95481779789e-312,
          5.02418685249062e-308,
          3.008102024518213e-304,
          1.707302886221182e-300,
          9.18585996291186e-297,
          4.6851154755328884e-293,
          2.2652284737156105e-289,
          1.0382333086412024e-285,
          4.510961670364993e-282,
          1.8579522544075662e-278,
          7.254227895014062e-275,
          2.6849677526263483e-271,
          9.420591808900494e-268,
          3.133347280358689e-264,
          9.879389565623547e-261,
          2.952860451142956e-257,
          8.366560748068467e-254,
          2.2472026979258086e-250,
          5.721748438457313e-247,
          1.381040787708708e-243,
          3.1599156077557887e-240,
          6.853867370257168e-237,
          1.409247073123366e-233,
          2.7468175922271555e-230,
          5.07532353407241e-227,
          8.88973628023488e-224,
          1.4760642307223244e-220,
          2.323340527122944e-217,
          3.4666637032616877e-214,
          4.903450459278872e-211,
          6.57480843622709e-208,
          8.357100961796732e-205,
          1.0069767130863743e-201,
          1.1502028493865089e-198,
          1.245433904086307e-195,
          1.2783746869582142e-192,
          1.2439040284440947e-189,
          1.1473787949904751e-186,
          1.0032703963004842e-183,
          8.316113523004045e-181,
          6.534525456284816e-178,
          4.867421234306317e-175,
          3.436964480651593e-172,
          2.3006067452639198e-169,
          1.459825571845134e-166,
          8.781137515546045e-164,
          5.007164081424008e-161,
          2.7066001481214236e-158,
          1.3869078702115952e-155,
          6.736935002411541e-153,
          3.1021895840657435e-150,
          1.354146172773949e-147,
          5.6034305198715734e-145,
          2.1980302708967482e-142,
          8.173434382294212e-140,
          2.881155675961429e-137,
          9.627645766915404e-135,
          3.049753328074272e-132,
          9.157998295575213e-130,
          2.6069195929558796e-127,
          7.034705925894858e-125,
          1.799515084832563e-122,
          4.363713902402005e-120,
          1.0031093540484087e-117,
          2.1859062133913047e-115,
          4.5155016172085875e-113,
          8.84243168188954e-111,
          1.6414537758420596e-108,
          2.8885296832326375e-106,
          4.818548622233642e-104,
          7.619858204936245e-102,
          1.1422699904990275e-99,
          1.6232367928192423e-97,
          2.186684981033681e-95,
          2.7924268127743716e-93,
          3.3804040247601363e-91,
          3.879240043108465e-89,
          4.220033819131558e-87,
          4.3518752952989746e-85,
          4.254300726400266e-83,
          3.9424951079819314e-81,
          3.46342169957672e-79,
          2.8842361607541966e-77,
          2.27691854632057e-75,
          1.7039443430339412e-73,
          1.2088002712607635e-71,
          8.12914604240469e-70,
          5.1823475615942004e-68,
          3.13183865324111e-66,
          1.7941694473352593e-64,
          9.743584752995453e-63,
          5.01608989170039e-61,
          2.447953069999796e-59,
          1.1324840598091267e-57,
          4.96652174585334e-56,
          2.0647326156465437e-54,
          8.137041450448707e-53,
          3.039908220250644e-51,
          1.0765783663497625e-49,
          3.6142821972149025e-48,
          1.1502432726262365e-46,
          3.4701526420006335e-45,
          9.924272681728744e-44,
          2.6905435856577973e-42,
          6.914688310060871e-41,
          1.684598533571847e-39,
          3.8905541245782636e-38,
          8.517609746581336e-37,
          1.7677272137368155e-35,
          3.477795097650672e-34,
          6.486104887043858e-33,
          1.1467141646807708e-31,
          1.9218417341823744e-30,
          3.05331278709933e-29,
          4.598500162625115e-28,
          6.565266338282378e-27,
          8.885456098038891e-26,
          1.13998289509182e-24,
          1.3864626605415745e-23,
          1.5984875353300046e-22,
          1.7470348305846565e-21,
          1.8100272215113544e-20,
          1.7777057719608258e-19,
          1.6551063005980325e-18,
          1.4607743508947494e-17,
          1.2221699763693527e-16,
          9.693292546018235e-16,
          7.287897614015559e-15,
          5.194269019306219e-14,
          3.5094402112551006e-13,
          2.2477214522541937e-12,
          1.364703691747048e-11,
          7.854625362489369e-11,
          4.285522879728039e-10,
          2.2165288780442352e-09,
          1.086761396003451e-08,
          5.051103242497127e-08,
          2.2255098517495975e-07,
          9.295313253863033e-07,
          3.680355513491512e-06,
          1.3813595933445716e-05,
          4.9149030683487414e-05,
          0.0001657732299312844,
          0.0005300356425114504,
          0.001606523134060327,
          0.00461593969128962,
          0.012572582713696273,
          0.03246236154068283,
          0.07945604656311457,
          0.18435929037416565,
          0.40550324738221605,
          0.845502465872799,
          1.6711931769762,
          3.131335938965944,
          5.56190932643867,
          9.365034458909546,
          14.948103226415505,
          22.617991167818513,
          32.44241723176548,
          44.1126972990754,
          56.859790551874184,
          69.4765317886679,
          80.47523231908286,
          88.36445043862103,
          91.97804107228497,
          90.75738293660496,
          84.89282887839501,
          75.27508953166985,
          63.27363559286556,
          50.41799031901114,
          38.08373244616773,
          27.26997335301417,
          18.51062808400095,
          11.911016597913896,
          7.265537320338983,
          4.201243749258907,
          2.3029221345501627,
          1.1966629969449318,
          0.5894618507881841,
          0.2752521867909162,
          0.12184201871928028,
          0.0511275082143659,
          0.02033777328409413,
          0.007669082497577282,
          0.0027414141540973162,
          0.0009289602375473427,
          0.0002984082549565105,
          9.086900530157777e-05,
          2.623082490483847e-05,
          7.17793227148495e-06,
          1.8619927994058452e-06,
          4.578759908400312e-07,
          1.0673552217662552e-07,
          2.3586381567273628e-08,
          4.940886689975185e-09,
          9.811597001249635e-10,
          1.8469950973875507e-10,
          3.295968229701494e-11,
          5.5755989070273734e-12,
          8.9411064411899e-13,
          1.359196473722051e-13,
          1.9586843194293792e-14,
          2.6757028868808644e-15,
          3.4649945927505523e-16,
          4.2536178375481223e-17,
          4.950004675441894e-18,
          5.4606454950008515e-19,
          5.710492826232644e-20,
          5.661016631858712e-21,
          5.319937188252223e-22,
          4.739252106850689e-23,
          4.002251280847475e-24,
          3.2039824315653212e-25,
          2.431460020962612e-26,
          1.7491835060224062e-27,
          1.1928747537631127e-28,
          7.711618813472594e-30,
          4.725932283719224e-31,
          2.745495069332561e-32,
          1.5119766178195752e-33,
          7.893338275125503e-35,
          3.906317945495826e-36,
          1.8325916170007855e-37,
          8.149951715116819e-39,
          3.4358611847137813e-40,
          1.3731165951489942e-41,
          5.2020012955634335e-43,
          1.8682058574109477e-44,
          6.360192144232028e-46,
          2.0526125317641733e-47,
          6.279642923658902e-49,
          1.8211853829948818e-50,
          5.006850176240634e-52,
          1.3048670633957238e-53,
          3.2237338214548113e-55,
          7.549936786937509e-57,
          1.6761724128702255e-58,
          3.5276484199356327e-60,
          7.037900697392233e-62,
          1.3310433740420773e-63,
          2.3863410617490694e-65,
          4.0556834811713256e-67,
          6.53411579896515e-69,
          9.979317336413301e-71,
          1.4447944768356129e-72,
          1.982907912002392e-74,
          2.579825028865346e-76,
          3.181772994253182e-78,
          3.719969372268557e-80,
          4.1228807202746347e-82,
          4.331650515364222e-84,
          4.314170278488837e-86,
          4.0731686135164765e-88,
          3.645513643495347e-90,
          3.092974223159357e-92,
          2.487626110490104e-94,
          1.8966410494677513e-96,
          1.3708073313491614e-98,
          9.392018175500399e-101,
          6.100039729257554e-103,
          3.755758303344971e-105,
          2.1920670896783364e-107,
          1.212833770318773e-109,
          6.3612132289850105e-112,
          3.1627863747118936e-114,
          1.4907025632645266e-116,
          6.660446904987097e-119,
          2.8210252685989825e-121,
          1.1326658722732366e-123,
          4.311097921954434e-126,
          1.5554827279771274e-128,
          5.320270722470725e-131,
          1.7250174956210784e-133,
          5.302058432678411e-136,
          1.544851534153519e-138,
          4.266976201128491e-141,
          1.1172360122955405e-143,
          2.773070205935376e-146,
          6.524812510600519e-149,
          1.4553466219152055e-151,
          3.077202529872591e-154,
          6.167894729342102e-157,
          1.1719499316788042e-159,
          2.110923023133307e-162,
          3.6043500999030678e-165,
          5.83408528738436e-168,
          8.951788488546075e-171,
          1.3020812467292096e-173,
          1.7953849862759407e-176,
          2.3467581108138e-179,
          2.9078386133182696e-182,
          3.415572469048797e-185,
          3.803189301008279e-188,
          4.014427456272736e-191,
          4.016895366744541e-194,
          3.810207762864166e-197,
          3.426084176595494e-200,
          2.920375080533053e-203,
          2.3597743281223047e-206,
          1.807563419135563e-209,
          1.312525798363916e-212,
          9.034692725018761e-216,
          5.895357658945462e-219,
          3.646684261336478e-222,
          2.138343154755115e-225,
          1.1886332426233192e-228,
          6.2633917610378276e-232,
          3.128689859993818e-235,
          1.4815171591226097e-238,
          6.650313067578932e-242,
          2.8298846167221635e-245,
          1.1415280813634687e-248,
          4.365115142900347e-252,
          1.5823262825188968e-255,
          5.437354051909907e-259,
          1.7712114755414063e-262,
          5.469460056425467e-266,
          1.601067810240997e-269,
          4.442896849553395e-273,
          1.1687293971074024e-276,
          2.914425371200546e-280,
          6.889427641936199e-284,
          1.543848146621232e-287,
          3.279572617311768e-291,
          6.604214278233236e-295,
          1.2607131803891706e-298,
          2.2814064448280057e-302,
          3.913634539084766e-306,
          6.36427746692227e-310,
          9.8109073894e-314,
          1.433661e-317,
          2.283e-321,
          0,
          0,
          0,
          0,
          0,
          0,
          0,
          0,
          0,
          0,
          0,
          0,
          0,
          0,
          0,
          0,
          0,
          0,
          0,
          0,
          0,
          0,
          0,
          0,
          0,
          0,
          0,
          0,
          0,
          0,
          0,
          0,
          0,
          0,
          0,
          0,
          0,
          0,
          0,
          0,
          0,
          0,
          0,
          0,
          0,
          0,
          0,
          0,
          0,
          0,
          0,
          0,
          0,
          0,
          0,
          0,
          0,
          0,
          0,
          0,
          0,
          0,
          0,
          0,
          0,
          0,
          0,
          0,
          0,
          0,
          0,
          0,
          0,
          0,
          0,
          0,
          0,
          0,
          0,
          0,
          0,
          0,
          0
         ]
        }
       ],
       "layout": {
        "autosize": true,
        "template": {
         "data": {
          "bar": [
           {
            "error_x": {
             "color": "#2a3f5f"
            },
            "error_y": {
             "color": "#2a3f5f"
            },
            "marker": {
             "line": {
              "color": "#E5ECF6",
              "width": 0.5
             },
             "pattern": {
              "fillmode": "overlay",
              "size": 10,
              "solidity": 0.2
             }
            },
            "type": "bar"
           }
          ],
          "barpolar": [
           {
            "marker": {
             "line": {
              "color": "#E5ECF6",
              "width": 0.5
             },
             "pattern": {
              "fillmode": "overlay",
              "size": 10,
              "solidity": 0.2
             }
            },
            "type": "barpolar"
           }
          ],
          "carpet": [
           {
            "aaxis": {
             "endlinecolor": "#2a3f5f",
             "gridcolor": "white",
             "linecolor": "white",
             "minorgridcolor": "white",
             "startlinecolor": "#2a3f5f"
            },
            "baxis": {
             "endlinecolor": "#2a3f5f",
             "gridcolor": "white",
             "linecolor": "white",
             "minorgridcolor": "white",
             "startlinecolor": "#2a3f5f"
            },
            "type": "carpet"
           }
          ],
          "choropleth": [
           {
            "colorbar": {
             "outlinewidth": 0,
             "ticks": ""
            },
            "type": "choropleth"
           }
          ],
          "contour": [
           {
            "colorbar": {
             "outlinewidth": 0,
             "ticks": ""
            },
            "colorscale": [
             [
              0,
              "#0d0887"
             ],
             [
              0.1111111111111111,
              "#46039f"
             ],
             [
              0.2222222222222222,
              "#7201a8"
             ],
             [
              0.3333333333333333,
              "#9c179e"
             ],
             [
              0.4444444444444444,
              "#bd3786"
             ],
             [
              0.5555555555555556,
              "#d8576b"
             ],
             [
              0.6666666666666666,
              "#ed7953"
             ],
             [
              0.7777777777777778,
              "#fb9f3a"
             ],
             [
              0.8888888888888888,
              "#fdca26"
             ],
             [
              1,
              "#f0f921"
             ]
            ],
            "type": "contour"
           }
          ],
          "contourcarpet": [
           {
            "colorbar": {
             "outlinewidth": 0,
             "ticks": ""
            },
            "type": "contourcarpet"
           }
          ],
          "heatmap": [
           {
            "colorbar": {
             "outlinewidth": 0,
             "ticks": ""
            },
            "colorscale": [
             [
              0,
              "#0d0887"
             ],
             [
              0.1111111111111111,
              "#46039f"
             ],
             [
              0.2222222222222222,
              "#7201a8"
             ],
             [
              0.3333333333333333,
              "#9c179e"
             ],
             [
              0.4444444444444444,
              "#bd3786"
             ],
             [
              0.5555555555555556,
              "#d8576b"
             ],
             [
              0.6666666666666666,
              "#ed7953"
             ],
             [
              0.7777777777777778,
              "#fb9f3a"
             ],
             [
              0.8888888888888888,
              "#fdca26"
             ],
             [
              1,
              "#f0f921"
             ]
            ],
            "type": "heatmap"
           }
          ],
          "heatmapgl": [
           {
            "colorbar": {
             "outlinewidth": 0,
             "ticks": ""
            },
            "colorscale": [
             [
              0,
              "#0d0887"
             ],
             [
              0.1111111111111111,
              "#46039f"
             ],
             [
              0.2222222222222222,
              "#7201a8"
             ],
             [
              0.3333333333333333,
              "#9c179e"
             ],
             [
              0.4444444444444444,
              "#bd3786"
             ],
             [
              0.5555555555555556,
              "#d8576b"
             ],
             [
              0.6666666666666666,
              "#ed7953"
             ],
             [
              0.7777777777777778,
              "#fb9f3a"
             ],
             [
              0.8888888888888888,
              "#fdca26"
             ],
             [
              1,
              "#f0f921"
             ]
            ],
            "type": "heatmapgl"
           }
          ],
          "histogram": [
           {
            "marker": {
             "pattern": {
              "fillmode": "overlay",
              "size": 10,
              "solidity": 0.2
             }
            },
            "type": "histogram"
           }
          ],
          "histogram2d": [
           {
            "colorbar": {
             "outlinewidth": 0,
             "ticks": ""
            },
            "colorscale": [
             [
              0,
              "#0d0887"
             ],
             [
              0.1111111111111111,
              "#46039f"
             ],
             [
              0.2222222222222222,
              "#7201a8"
             ],
             [
              0.3333333333333333,
              "#9c179e"
             ],
             [
              0.4444444444444444,
              "#bd3786"
             ],
             [
              0.5555555555555556,
              "#d8576b"
             ],
             [
              0.6666666666666666,
              "#ed7953"
             ],
             [
              0.7777777777777778,
              "#fb9f3a"
             ],
             [
              0.8888888888888888,
              "#fdca26"
             ],
             [
              1,
              "#f0f921"
             ]
            ],
            "type": "histogram2d"
           }
          ],
          "histogram2dcontour": [
           {
            "colorbar": {
             "outlinewidth": 0,
             "ticks": ""
            },
            "colorscale": [
             [
              0,
              "#0d0887"
             ],
             [
              0.1111111111111111,
              "#46039f"
             ],
             [
              0.2222222222222222,
              "#7201a8"
             ],
             [
              0.3333333333333333,
              "#9c179e"
             ],
             [
              0.4444444444444444,
              "#bd3786"
             ],
             [
              0.5555555555555556,
              "#d8576b"
             ],
             [
              0.6666666666666666,
              "#ed7953"
             ],
             [
              0.7777777777777778,
              "#fb9f3a"
             ],
             [
              0.8888888888888888,
              "#fdca26"
             ],
             [
              1,
              "#f0f921"
             ]
            ],
            "type": "histogram2dcontour"
           }
          ],
          "mesh3d": [
           {
            "colorbar": {
             "outlinewidth": 0,
             "ticks": ""
            },
            "type": "mesh3d"
           }
          ],
          "parcoords": [
           {
            "line": {
             "colorbar": {
              "outlinewidth": 0,
              "ticks": ""
             }
            },
            "type": "parcoords"
           }
          ],
          "pie": [
           {
            "automargin": true,
            "type": "pie"
           }
          ],
          "scatter": [
           {
            "fillpattern": {
             "fillmode": "overlay",
             "size": 10,
             "solidity": 0.2
            },
            "type": "scatter"
           }
          ],
          "scatter3d": [
           {
            "line": {
             "colorbar": {
              "outlinewidth": 0,
              "ticks": ""
             }
            },
            "marker": {
             "colorbar": {
              "outlinewidth": 0,
              "ticks": ""
             }
            },
            "type": "scatter3d"
           }
          ],
          "scattercarpet": [
           {
            "marker": {
             "colorbar": {
              "outlinewidth": 0,
              "ticks": ""
             }
            },
            "type": "scattercarpet"
           }
          ],
          "scattergeo": [
           {
            "marker": {
             "colorbar": {
              "outlinewidth": 0,
              "ticks": ""
             }
            },
            "type": "scattergeo"
           }
          ],
          "scattergl": [
           {
            "marker": {
             "colorbar": {
              "outlinewidth": 0,
              "ticks": ""
             }
            },
            "type": "scattergl"
           }
          ],
          "scattermapbox": [
           {
            "marker": {
             "colorbar": {
              "outlinewidth": 0,
              "ticks": ""
             }
            },
            "type": "scattermapbox"
           }
          ],
          "scatterpolar": [
           {
            "marker": {
             "colorbar": {
              "outlinewidth": 0,
              "ticks": ""
             }
            },
            "type": "scatterpolar"
           }
          ],
          "scatterpolargl": [
           {
            "marker": {
             "colorbar": {
              "outlinewidth": 0,
              "ticks": ""
             }
            },
            "type": "scatterpolargl"
           }
          ],
          "scatterternary": [
           {
            "marker": {
             "colorbar": {
              "outlinewidth": 0,
              "ticks": ""
             }
            },
            "type": "scatterternary"
           }
          ],
          "surface": [
           {
            "colorbar": {
             "outlinewidth": 0,
             "ticks": ""
            },
            "colorscale": [
             [
              0,
              "#0d0887"
             ],
             [
              0.1111111111111111,
              "#46039f"
             ],
             [
              0.2222222222222222,
              "#7201a8"
             ],
             [
              0.3333333333333333,
              "#9c179e"
             ],
             [
              0.4444444444444444,
              "#bd3786"
             ],
             [
              0.5555555555555556,
              "#d8576b"
             ],
             [
              0.6666666666666666,
              "#ed7953"
             ],
             [
              0.7777777777777778,
              "#fb9f3a"
             ],
             [
              0.8888888888888888,
              "#fdca26"
             ],
             [
              1,
              "#f0f921"
             ]
            ],
            "type": "surface"
           }
          ],
          "table": [
           {
            "cells": {
             "fill": {
              "color": "#EBF0F8"
             },
             "line": {
              "color": "white"
             }
            },
            "header": {
             "fill": {
              "color": "#C8D4E3"
             },
             "line": {
              "color": "white"
             }
            },
            "type": "table"
           }
          ]
         },
         "layout": {
          "annotationdefaults": {
           "arrowcolor": "#2a3f5f",
           "arrowhead": 0,
           "arrowwidth": 1
          },
          "autotypenumbers": "strict",
          "coloraxis": {
           "colorbar": {
            "outlinewidth": 0,
            "ticks": ""
           }
          },
          "colorscale": {
           "diverging": [
            [
             0,
             "#8e0152"
            ],
            [
             0.1,
             "#c51b7d"
            ],
            [
             0.2,
             "#de77ae"
            ],
            [
             0.3,
             "#f1b6da"
            ],
            [
             0.4,
             "#fde0ef"
            ],
            [
             0.5,
             "#f7f7f7"
            ],
            [
             0.6,
             "#e6f5d0"
            ],
            [
             0.7,
             "#b8e186"
            ],
            [
             0.8,
             "#7fbc41"
            ],
            [
             0.9,
             "#4d9221"
            ],
            [
             1,
             "#276419"
            ]
           ],
           "sequential": [
            [
             0,
             "#0d0887"
            ],
            [
             0.1111111111111111,
             "#46039f"
            ],
            [
             0.2222222222222222,
             "#7201a8"
            ],
            [
             0.3333333333333333,
             "#9c179e"
            ],
            [
             0.4444444444444444,
             "#bd3786"
            ],
            [
             0.5555555555555556,
             "#d8576b"
            ],
            [
             0.6666666666666666,
             "#ed7953"
            ],
            [
             0.7777777777777778,
             "#fb9f3a"
            ],
            [
             0.8888888888888888,
             "#fdca26"
            ],
            [
             1,
             "#f0f921"
            ]
           ],
           "sequentialminus": [
            [
             0,
             "#0d0887"
            ],
            [
             0.1111111111111111,
             "#46039f"
            ],
            [
             0.2222222222222222,
             "#7201a8"
            ],
            [
             0.3333333333333333,
             "#9c179e"
            ],
            [
             0.4444444444444444,
             "#bd3786"
            ],
            [
             0.5555555555555556,
             "#d8576b"
            ],
            [
             0.6666666666666666,
             "#ed7953"
            ],
            [
             0.7777777777777778,
             "#fb9f3a"
            ],
            [
             0.8888888888888888,
             "#fdca26"
            ],
            [
             1,
             "#f0f921"
            ]
           ]
          },
          "colorway": [
           "#636efa",
           "#EF553B",
           "#00cc96",
           "#ab63fa",
           "#FFA15A",
           "#19d3f3",
           "#FF6692",
           "#B6E880",
           "#FF97FF",
           "#FECB52"
          ],
          "font": {
           "color": "#2a3f5f"
          },
          "geo": {
           "bgcolor": "white",
           "lakecolor": "white",
           "landcolor": "#E5ECF6",
           "showlakes": true,
           "showland": true,
           "subunitcolor": "white"
          },
          "hoverlabel": {
           "align": "left"
          },
          "hovermode": "closest",
          "mapbox": {
           "style": "light"
          },
          "paper_bgcolor": "white",
          "plot_bgcolor": "#E5ECF6",
          "polar": {
           "angularaxis": {
            "gridcolor": "white",
            "linecolor": "white",
            "ticks": ""
           },
           "bgcolor": "#E5ECF6",
           "radialaxis": {
            "gridcolor": "white",
            "linecolor": "white",
            "ticks": ""
           }
          },
          "scene": {
           "xaxis": {
            "backgroundcolor": "#E5ECF6",
            "gridcolor": "white",
            "gridwidth": 2,
            "linecolor": "white",
            "showbackground": true,
            "ticks": "",
            "zerolinecolor": "white"
           },
           "yaxis": {
            "backgroundcolor": "#E5ECF6",
            "gridcolor": "white",
            "gridwidth": 2,
            "linecolor": "white",
            "showbackground": true,
            "ticks": "",
            "zerolinecolor": "white"
           },
           "zaxis": {
            "backgroundcolor": "#E5ECF6",
            "gridcolor": "white",
            "gridwidth": 2,
            "linecolor": "white",
            "showbackground": true,
            "ticks": "",
            "zerolinecolor": "white"
           }
          },
          "shapedefaults": {
           "line": {
            "color": "#2a3f5f"
           }
          },
          "ternary": {
           "aaxis": {
            "gridcolor": "white",
            "linecolor": "white",
            "ticks": ""
           },
           "baxis": {
            "gridcolor": "white",
            "linecolor": "white",
            "ticks": ""
           },
           "bgcolor": "#E5ECF6",
           "caxis": {
            "gridcolor": "white",
            "linecolor": "white",
            "ticks": ""
           }
          },
          "title": {
           "x": 0.05
          },
          "xaxis": {
           "automargin": true,
           "gridcolor": "white",
           "linecolor": "white",
           "ticks": "",
           "title": {
            "standoff": 15
           },
           "zerolinecolor": "white",
           "zerolinewidth": 2
          },
          "yaxis": {
           "automargin": true,
           "gridcolor": "white",
           "linecolor": "white",
           "ticks": "",
           "title": {
            "standoff": 15
           },
           "zerolinecolor": "white",
           "zerolinewidth": 2
          }
         }
        },
        "title": {
         "text": "Proporção de aprovação das empresas A e B"
        },
        "xaxis": {
         "autorange": true,
         "range": [
          0,
          1
         ],
         "title": {
          "text": "y"
         },
         "type": "linear"
        },
        "yaxis": {
         "autorange": true,
         "range": [
          -5.109891170682498,
          97.08793224296747
         ],
         "title": {
          "text": "Densidade de probabilidade"
         },
         "type": "linear"
        }
       }
      },
      "image/png": "[encoded data removed]",
      "text/html": [
       "<div>                            <div id=\"7fdb867b-35a1-41b4-a6fe-c2549d380a1c\" class=\"plotly-graph-div\" style=\"height:525px; width:100%;\"></div>            <script type=\"text/javascript\">                require([\"plotly\"], function(Plotly) {                    window.PLOTLYENV=window.PLOTLYENV || {};                                    if (document.getElementById(\"7fdb867b-35a1-41b4-a6fe-c2549d380a1c\")) {                    Plotly.newPlot(                        \"7fdb867b-35a1-41b4-a6fe-c2549d380a1c\",                        [{\"mode\":\"lines\",\"name\":\"Empresa A\",\"x\":[0.0,0.001001001001001001,0.002002002002002002,0.003003003003003003,0.004004004004004004,0.005005005005005005,0.006006006006006006,0.007007007007007007,0.008008008008008008,0.009009009009009009,0.01001001001001001,0.011011011011011011,0.012012012012012012,0.013013013013013013,0.014014014014014014,0.015015015015015015,0.016016016016016016,0.017017017017017015,0.018018018018018018,0.01901901901901902,0.02002002002002002,0.02102102102102102,0.022022022022022022,0.023023023023023025,0.024024024024024024,0.025025025025025023,0.026026026026026026,0.02702702702702703,0.028028028028028028,0.029029029029029027,0.03003003003003003,0.031031031031031032,0.03203203203203203,0.03303303303303303,0.03403403403403403,0.035035035035035036,0.036036036036036036,0.037037037037037035,0.03803803803803804,0.03903903903903904,0.04004004004004004,0.04104104104104104,0.04204204204204204,0.043043043043043044,0.044044044044044044,0.04504504504504504,0.04604604604604605,0.04704704704704705,0.04804804804804805,0.04904904904904905,0.050050050050050046,0.05105105105105105,0.05205205205205205,0.05305305305305305,0.05405405405405406,0.055055055055055056,0.056056056056056056,0.057057057057057055,0.058058058058058054,0.05905905905905906,0.06006006006006006,0.06106106106106106,0.062062062062062065,0.06306306306306306,0.06406406406406406,0.06506506506506507,0.06606606606606606,0.06706706706706707,0.06806806806806806,0.06906906906906907,0.07007007007007007,0.07107107107107107,0.07207207207207207,0.07307307307307308,0.07407407407407407,0.07507507507507508,0.07607607607607608,0.07707707707707707,0.07807807807807808,0.07907907907907907,0.08008008008008008,0.08108108108108109,0.08208208208208208,0.08308308308308308,0.08408408408408408,0.08508508508508508,0.08608608608608609,0.08708708708708708,0.08808808808808809,0.0890890890890891,0.09009009009009009,0.09109109109109109,0.0920920920920921,0.09309309309309309,0.0940940940940941,0.09509509509509509,0.0960960960960961,0.0970970970970971,0.0980980980980981,0.0990990990990991,0.10010010010010009,0.1011011011011011,0.1021021021021021,0.1031031031031031,0.1041041041041041,0.10510510510510511,0.1061061061061061,0.10710710710710711,0.10810810810810811,0.1091091091091091,0.11011011011011011,0.1111111111111111,0.11211211211211211,0.11311311311311312,0.11411411411411411,0.11511511511511512,0.11611611611611611,0.11711711711711711,0.11811811811811812,0.11911911911911911,0.12012012012012012,0.12112112112112113,0.12212212212212212,0.12312312312312312,0.12412412412412413,0.12512512512512514,0.12612612612612611,0.12712712712712712,0.12812812812812813,0.12912912912912913,0.13013013013013014,0.13113113113113112,0.13213213213213212,0.13313313313313313,0.13413413413413414,0.13513513513513514,0.13613613613613612,0.13713713713713713,0.13813813813813813,0.13913913913913914,0.14014014014014015,0.14114114114114115,0.14214214214214213,0.14314314314314314,0.14414414414414414,0.14514514514514515,0.14614614614614616,0.14714714714714713,0.14814814814814814,0.14914914914914915,0.15015015015015015,0.15115115115115116,0.15215215215215216,0.15315315315315314,0.15415415415415415,0.15515515515515516,0.15615615615615616,0.15715715715715717,0.15815815815815815,0.15915915915915915,0.16016016016016016,0.16116116116116116,0.16216216216216217,0.16316316316316315,0.16416416416416416,0.16516516516516516,0.16616616616616617,0.16716716716716717,0.16816816816816815,0.16916916916916916,0.17017017017017017,0.17117117117117117,0.17217217217217218,0.17317317317317318,0.17417417417417416,0.17517517517517517,0.17617617617617617,0.17717717717717718,0.1781781781781782,0.17917917917917917,0.18018018018018017,0.18118118118118118,0.18218218218218218,0.1831831831831832,0.1841841841841842,0.18518518518518517,0.18618618618618618,0.1871871871871872,0.1881881881881882,0.1891891891891892,0.19019019019019018,0.19119119119119118,0.1921921921921922,0.1931931931931932,0.1941941941941942,0.19519519519519518,0.1961961961961962,0.1971971971971972,0.1981981981981982,0.1991991991991992,0.20020020020020018,0.2012012012012012,0.2022022022022022,0.2032032032032032,0.2042042042042042,0.20520520520520522,0.2062062062062062,0.2072072072072072,0.2082082082082082,0.2092092092092092,0.21021021021021022,0.2112112112112112,0.2122122122122122,0.2132132132132132,0.21421421421421422,0.21521521521521522,0.21621621621621623,0.2172172172172172,0.2182182182182182,0.21921921921921922,0.22022022022022023,0.22122122122122123,0.2222222222222222,0.22322322322322322,0.22422422422422422,0.22522522522522523,0.22622622622622623,0.2272272272272272,0.22822822822822822,0.22922922922922923,0.23023023023023023,0.23123123123123124,0.23223223223223222,0.23323323323323322,0.23423423423423423,0.23523523523523523,0.23623623623623624,0.23723723723723725,0.23823823823823823,0.23923923923923923,0.24024024024024024,0.24124124124124124,0.24224224224224225,0.24324324324324323,0.24424424424424424,0.24524524524524524,0.24624624624624625,0.24724724724724725,0.24824824824824826,0.24924924924924924,0.2502502502502503,0.25125125125125125,0.25225225225225223,0.25325325325325326,0.25425425425425424,0.2552552552552553,0.25625625625625625,0.25725725725725723,0.25825825825825827,0.25925925925925924,0.2602602602602603,0.26126126126126126,0.26226226226226224,0.26326326326326327,0.26426426426426425,0.2652652652652653,0.26626626626626626,0.26726726726726724,0.2682682682682683,0.26926926926926925,0.2702702702702703,0.27127127127127126,0.27227227227227224,0.2732732732732733,0.27427427427427425,0.2752752752752753,0.27627627627627627,0.2772772772772773,0.2782782782782783,0.27927927927927926,0.2802802802802803,0.28128128128128127,0.2822822822822823,0.2832832832832833,0.28428428428428426,0.2852852852852853,0.2862862862862863,0.2872872872872873,0.2882882882882883,0.28928928928928926,0.2902902902902903,0.2912912912912913,0.2922922922922923,0.2932932932932933,0.29429429429429427,0.2952952952952953,0.2962962962962963,0.2972972972972973,0.2982982982982983,0.29929929929929927,0.3003003003003003,0.3013013013013013,0.3023023023023023,0.3033033033033033,0.30430430430430433,0.3053053053053053,0.3063063063063063,0.3073073073073073,0.3083083083083083,0.30930930930930933,0.3103103103103103,0.3113113113113113,0.3123123123123123,0.3133133133133133,0.31431431431431434,0.3153153153153153,0.3163163163163163,0.3173173173173173,0.3183183183183183,0.31931931931931934,0.3203203203203203,0.3213213213213213,0.32232232232232233,0.3233233233233233,0.32432432432432434,0.3253253253253253,0.3263263263263263,0.32732732732732733,0.3283283283283283,0.32932932932932935,0.3303303303303303,0.3313313313313313,0.33233233233233234,0.3333333333333333,0.33433433433433435,0.3353353353353353,0.3363363363363363,0.33733733733733734,0.3383383383383383,0.33933933933933935,0.34034034034034033,0.34134134134134136,0.34234234234234234,0.3433433433433433,0.34434434434434436,0.34534534534534533,0.34634634634634637,0.34734734734734735,0.3483483483483483,0.34934934934934936,0.35035035035035034,0.35135135135135137,0.35235235235235235,0.3533533533533533,0.35435435435435436,0.35535535535535534,0.3563563563563564,0.35735735735735735,0.35835835835835833,0.35935935935935936,0.36036036036036034,0.3613613613613614,0.36236236236236236,0.36336336336336333,0.36436436436436437,0.36536536536536535,0.3663663663663664,0.36736736736736736,0.3683683683683684,0.36936936936936937,0.37037037037037035,0.3713713713713714,0.37237237237237236,0.3733733733733734,0.3743743743743744,0.37537537537537535,0.3763763763763764,0.37737737737737737,0.3783783783783784,0.3793793793793794,0.38038038038038036,0.3813813813813814,0.38238238238238237,0.3833833833833834,0.3843843843843844,0.38538538538538536,0.3863863863863864,0.38738738738738737,0.3883883883883884,0.3893893893893894,0.39039039039039036,0.3913913913913914,0.3923923923923924,0.3933933933933934,0.3943943943943944,0.39539539539539537,0.3963963963963964,0.3973973973973974,0.3983983983983984,0.3993993993993994,0.40040040040040037,0.4014014014014014,0.4024024024024024,0.4034034034034034,0.4044044044044044,0.40540540540540543,0.4064064064064064,0.4074074074074074,0.4084084084084084,0.4094094094094094,0.41041041041041043,0.4114114114114114,0.4124124124124124,0.4134134134134134,0.4144144144144144,0.41541541541541543,0.4164164164164164,0.4174174174174174,0.4184184184184184,0.4194194194194194,0.42042042042042044,0.4214214214214214,0.4224224224224224,0.42342342342342343,0.4244244244244244,0.42542542542542544,0.4264264264264264,0.4274274274274274,0.42842842842842843,0.4294294294294294,0.43043043043043044,0.4314314314314314,0.43243243243243246,0.43343343343343343,0.4344344344344344,0.43543543543543545,0.4364364364364364,0.43743743743743746,0.43843843843843844,0.4394394394394394,0.44044044044044045,0.44144144144144143,0.44244244244244246,0.44344344344344344,0.4444444444444444,0.44544544544544545,0.44644644644644643,0.44744744744744747,0.44844844844844844,0.4494494494494494,0.45045045045045046,0.45145145145145144,0.45245245245245247,0.45345345345345345,0.4544544544544544,0.45545545545545546,0.45645645645645644,0.4574574574574575,0.45845845845845845,0.45945945945945943,0.46046046046046046,0.46146146146146144,0.4624624624624625,0.46346346346346345,0.46446446446446443,0.46546546546546547,0.46646646646646645,0.4674674674674675,0.46846846846846846,0.4694694694694695,0.47047047047047047,0.47147147147147145,0.4724724724724725,0.47347347347347346,0.4744744744744745,0.4754754754754755,0.47647647647647645,0.4774774774774775,0.47847847847847846,0.4794794794794795,0.4804804804804805,0.48148148148148145,0.4824824824824825,0.48348348348348347,0.4844844844844845,0.4854854854854855,0.48648648648648646,0.4874874874874875,0.48848848848848847,0.4894894894894895,0.4904904904904905,0.49149149149149146,0.4924924924924925,0.4934934934934935,0.4944944944944945,0.4954954954954955,0.4964964964964965,0.4974974974974975,0.4984984984984985,0.4994994994994995,0.5005005005005005,0.5015015015015015,0.5025025025025025,0.5035035035035035,0.5045045045045045,0.5055055055055055,0.5065065065065065,0.5075075075075075,0.5085085085085085,0.5095095095095095,0.5105105105105106,0.5115115115115115,0.5125125125125125,0.5135135135135135,0.5145145145145145,0.5155155155155156,0.5165165165165165,0.5175175175175175,0.5185185185185185,0.5195195195195195,0.5205205205205206,0.5215215215215215,0.5225225225225225,0.5235235235235235,0.5245245245245245,0.5255255255255256,0.5265265265265265,0.5275275275275275,0.5285285285285285,0.5295295295295295,0.5305305305305306,0.5315315315315315,0.5325325325325325,0.5335335335335335,0.5345345345345345,0.5355355355355356,0.5365365365365365,0.5375375375375375,0.5385385385385385,0.5395395395395395,0.5405405405405406,0.5415415415415415,0.5425425425425425,0.5435435435435435,0.5445445445445445,0.5455455455455456,0.5465465465465466,0.5475475475475475,0.5485485485485485,0.5495495495495496,0.5505505505505506,0.5515515515515516,0.5525525525525525,0.5535535535535535,0.5545545545545546,0.5555555555555556,0.5565565565565566,0.5575575575575575,0.5585585585585585,0.5595595595595596,0.5605605605605606,0.5615615615615616,0.5625625625625625,0.5635635635635635,0.5645645645645646,0.5655655655655656,0.5665665665665666,0.5675675675675675,0.5685685685685685,0.5695695695695696,0.5705705705705706,0.5715715715715716,0.5725725725725725,0.5735735735735735,0.5745745745745746,0.5755755755755756,0.5765765765765766,0.5775775775775776,0.5785785785785785,0.5795795795795796,0.5805805805805806,0.5815815815815816,0.5825825825825826,0.5835835835835835,0.5845845845845846,0.5855855855855856,0.5865865865865866,0.5875875875875876,0.5885885885885885,0.5895895895895896,0.5905905905905906,0.5915915915915916,0.5925925925925926,0.5935935935935935,0.5945945945945946,0.5955955955955956,0.5965965965965966,0.5975975975975976,0.5985985985985985,0.5995995995995996,0.6006006006006006,0.6016016016016016,0.6026026026026026,0.6036036036036035,0.6046046046046046,0.6056056056056056,0.6066066066066066,0.6076076076076076,0.6086086086086087,0.6096096096096096,0.6106106106106106,0.6116116116116116,0.6126126126126126,0.6136136136136137,0.6146146146146146,0.6156156156156156,0.6166166166166166,0.6176176176176176,0.6186186186186187,0.6196196196196196,0.6206206206206206,0.6216216216216216,0.6226226226226226,0.6236236236236237,0.6246246246246246,0.6256256256256256,0.6266266266266266,0.6276276276276276,0.6286286286286287,0.6296296296296297,0.6306306306306306,0.6316316316316316,0.6326326326326326,0.6336336336336337,0.6346346346346347,0.6356356356356356,0.6366366366366366,0.6376376376376376,0.6386386386386387,0.6396396396396397,0.6406406406406406,0.6416416416416416,0.6426426426426426,0.6436436436436437,0.6446446446446447,0.6456456456456456,0.6466466466466466,0.6476476476476476,0.6486486486486487,0.6496496496496497,0.6506506506506506,0.6516516516516516,0.6526526526526526,0.6536536536536537,0.6546546546546547,0.6556556556556556,0.6566566566566566,0.6576576576576576,0.6586586586586587,0.6596596596596597,0.6606606606606606,0.6616616616616616,0.6626626626626626,0.6636636636636637,0.6646646646646647,0.6656656656656657,0.6666666666666666,0.6676676676676676,0.6686686686686687,0.6696696696696697,0.6706706706706707,0.6716716716716716,0.6726726726726726,0.6736736736736737,0.6746746746746747,0.6756756756756757,0.6766766766766766,0.6776776776776777,0.6786786786786787,0.6796796796796797,0.6806806806806807,0.6816816816816816,0.6826826826826827,0.6836836836836837,0.6846846846846847,0.6856856856856857,0.6866866866866866,0.6876876876876877,0.6886886886886887,0.6896896896896897,0.6906906906906907,0.6916916916916916,0.6926926926926927,0.6936936936936937,0.6946946946946947,0.6956956956956957,0.6966966966966966,0.6976976976976977,0.6986986986986987,0.6996996996996997,0.7007007007007007,0.7017017017017017,0.7027027027027027,0.7037037037037037,0.7047047047047047,0.7057057057057057,0.7067067067067067,0.7077077077077077,0.7087087087087087,0.7097097097097097,0.7107107107107107,0.7117117117117117,0.7127127127127127,0.7137137137137137,0.7147147147147147,0.7157157157157157,0.7167167167167167,0.7177177177177178,0.7187187187187187,0.7197197197197197,0.7207207207207207,0.7217217217217217,0.7227227227227228,0.7237237237237237,0.7247247247247247,0.7257257257257257,0.7267267267267267,0.7277277277277278,0.7287287287287287,0.7297297297297297,0.7307307307307307,0.7317317317317317,0.7327327327327328,0.7337337337337337,0.7347347347347347,0.7357357357357357,0.7367367367367368,0.7377377377377378,0.7387387387387387,0.7397397397397397,0.7407407407407407,0.7417417417417418,0.7427427427427428,0.7437437437437437,0.7447447447447447,0.7457457457457457,0.7467467467467468,0.7477477477477478,0.7487487487487487,0.7497497497497497,0.7507507507507507,0.7517517517517518,0.7527527527527528,0.7537537537537538,0.7547547547547547,0.7557557557557557,0.7567567567567568,0.7577577577577578,0.7587587587587588,0.7597597597597597,0.7607607607607607,0.7617617617617618,0.7627627627627628,0.7637637637637638,0.7647647647647647,0.7657657657657657,0.7667667667667668,0.7677677677677678,0.7687687687687688,0.7697697697697697,0.7707707707707707,0.7717717717717718,0.7727727727727728,0.7737737737737738,0.7747747747747747,0.7757757757757757,0.7767767767767768,0.7777777777777778,0.7787787787787788,0.7797797797797797,0.7807807807807807,0.7817817817817818,0.7827827827827828,0.7837837837837838,0.7847847847847848,0.7857857857857857,0.7867867867867868,0.7877877877877878,0.7887887887887888,0.7897897897897898,0.7907907907907907,0.7917917917917918,0.7927927927927928,0.7937937937937938,0.7947947947947948,0.7957957957957957,0.7967967967967968,0.7977977977977978,0.7987987987987988,0.7997997997997998,0.8008008008008007,0.8018018018018018,0.8028028028028028,0.8038038038038038,0.8048048048048048,0.8058058058058059,0.8068068068068068,0.8078078078078078,0.8088088088088088,0.8098098098098098,0.8108108108108109,0.8118118118118118,0.8128128128128128,0.8138138138138138,0.8148148148148148,0.8158158158158159,0.8168168168168168,0.8178178178178178,0.8188188188188188,0.8198198198198198,0.8208208208208209,0.8218218218218218,0.8228228228228228,0.8238238238238238,0.8248248248248248,0.8258258258258259,0.8268268268268268,0.8278278278278278,0.8288288288288288,0.8298298298298298,0.8308308308308309,0.8318318318318318,0.8328328328328328,0.8338338338338338,0.8348348348348348,0.8358358358358359,0.8368368368368369,0.8378378378378378,0.8388388388388388,0.8398398398398398,0.8408408408408409,0.8418418418418419,0.8428428428428428,0.8438438438438438,0.8448448448448448,0.8458458458458459,0.8468468468468469,0.8478478478478478,0.8488488488488488,0.8498498498498498,0.8508508508508509,0.8518518518518519,0.8528528528528528,0.8538538538538538,0.8548548548548548,0.8558558558558559,0.8568568568568569,0.8578578578578578,0.8588588588588588,0.8598598598598598,0.8608608608608609,0.8618618618618619,0.8628628628628628,0.8638638638638638,0.8648648648648649,0.8658658658658659,0.8668668668668669,0.8678678678678678,0.8688688688688688,0.8698698698698699,0.8708708708708709,0.8718718718718719,0.8728728728728729,0.8738738738738738,0.8748748748748749,0.8758758758758759,0.8768768768768769,0.8778778778778779,0.8788788788788788,0.8798798798798799,0.8808808808808809,0.8818818818818819,0.8828828828828829,0.8838838838838838,0.8848848848848849,0.8858858858858859,0.8868868868868869,0.8878878878878879,0.8888888888888888,0.8898898898898899,0.8908908908908909,0.8918918918918919,0.8928928928928929,0.8938938938938938,0.8948948948948949,0.8958958958958959,0.8968968968968969,0.8978978978978979,0.8988988988988988,0.8998998998998999,0.9009009009009009,0.9019019019019019,0.9029029029029029,0.9039039039039038,0.9049049049049049,0.9059059059059059,0.9069069069069069,0.9079079079079079,0.9089089089089089,0.9099099099099099,0.9109109109109109,0.9119119119119119,0.9129129129129129,0.9139139139139139,0.914914914914915,0.9159159159159159,0.9169169169169169,0.9179179179179179,0.9189189189189189,0.91991991991992,0.9209209209209209,0.9219219219219219,0.9229229229229229,0.9239239239239239,0.924924924924925,0.9259259259259259,0.9269269269269269,0.9279279279279279,0.9289289289289289,0.92992992992993,0.9309309309309309,0.9319319319319319,0.9329329329329329,0.933933933933934,0.934934934934935,0.9359359359359359,0.9369369369369369,0.9379379379379379,0.938938938938939,0.93993993993994,0.9409409409409409,0.9419419419419419,0.9429429429429429,0.943943943943944,0.944944944944945,0.9459459459459459,0.9469469469469469,0.9479479479479479,0.948948948948949,0.94994994994995,0.950950950950951,0.9519519519519519,0.9529529529529529,0.953953953953954,0.954954954954955,0.955955955955956,0.9569569569569569,0.9579579579579579,0.958958958958959,0.95995995995996,0.960960960960961,0.9619619619619619,0.9629629629629629,0.963963963963964,0.964964964964965,0.965965965965966,0.9669669669669669,0.9679679679679679,0.968968968968969,0.96996996996997,0.970970970970971,0.9719719719719719,0.9729729729729729,0.973973973973974,0.974974974974975,0.975975975975976,0.9769769769769769,0.9779779779779779,0.978978978978979,0.97997997997998,0.980980980980981,0.9819819819819819,0.9829829829829829,0.983983983983984,0.984984984984985,0.985985985985986,0.986986986986987,0.9879879879879879,0.988988988988989,0.98998998998999,0.990990990990991,0.991991991991992,0.992992992992993,0.993993993993994,0.994994994994995,0.995995995995996,0.996996996996997,0.997997997997998,0.998998998998999,1.0],\"y\":[4.9121537829279345e-195,1.3358552689548691e-194,3.628802607325139e-194,9.846542643836664e-194,2.6688285280736233e-193,7.225602406479066e-193,1.954087172380214e-192,5.278740235749928e-192,1.4244038289188925e-191,3.839303614668097e-191,1.0336851260383342e-190,2.7799728887098995e-190,7.468086472443055e-190,2.003985613477847e-189,5.371509459810495e-189,1.438184402552346e-188,3.846354317310251e-188,1.0275441368551248e-187,2.7420045247392817e-187,7.308905264177349e-187,1.9460454650081407e-186,5.175712164685333e-186,1.3750032787008447e-185,3.6488317268592235e-185,9.672092053153533e-185,2.560964102979314e-184,6.77334262747772e-184,1.789448000044925e-183,4.722278588805822e-183,1.2448029544293068e-182,3.277676597779453e-182,8.620810015626867e-182,2.2648869646500275e-181,5.943762864286137e-181,1.5580912916958295e-180,4.079818193552914e-180,1.0671002076165149e-179,2.787957072961443e-179,7.275845102051403e-179,1.8966940893270252e-178,4.938870296863825e-178,1.2846192783773477e-177,3.3376264884808662e-177,8.661986763301351e-177,2.2455037363460717e-176,5.8146895491359966e-176,1.5040274641182726e-175,3.885988267860236e-175,1.0029139854265637e-174,2.585487092178257e-174,6.657904239210882e-174,1.7125734184946358e-173,4.400249856092142e-173,1.1293328470867511e-172,2.895229975288945e-172,7.414137859819838e-172,1.8965082302500838e-171,4.8457978219777945e-171,1.236779656652365e-170,3.153086316197744e-170,8.02963622671112e-170,2.0425484421496083e-169,5.189975934581379e-169,1.317270017398903e-168,3.3396484559249073e-168,8.457522943311213e-168,2.139449794269148e-167,5.406018137227121e-167,1.3644869341658514e-166,3.4401529224666556e-166,8.663683919326709e-166,2.179435067032109e-165,5.476483120844077e-165,1.3745991041955673e-164,3.4464092215979845e-164,8.6312583250407e-164,2.1592248510541096e-163,5.395579664470294e-163,1.3467743374918107e-162,3.357902174002306e-162,8.362915929340892e-162,2.0804817295422365e-161,5.1699526503792645e-161,1.2832926561007326e-160,3.181861973025095e-160,7.880494091244232e-160,1.9495844093767153e-159,4.817781755430229e-159,1.1892377488479096e-158,2.9322887466745756e-158,7.222062877799334e-158,1.7767743696935465e-157,4.3663624191458656e-157,1.0718247073721217e-156,2.6281141934555684e-156,6.436965528650259e-156,1.5748334076816707e-155,3.848615626181719e-155,9.394873626100637e-155,2.290835108961277e-154,5.5797302320568676e-154,1.3575288192826005e-153,3.299144957651922e-153,8.008851146328944e-153,1.9420281903661946e-152,4.703891781906848e-152,1.1380873542804641e-151,2.7504918205271716e-151,6.639900964365033e-151,1.6011400832984912e-150,3.8566794343325647e-150,9.279279112321967e-150,2.2301363589111477e-149,5.353836231668439e-149,1.2838527941978359e-148,3.075260166250118e-148,7.358088027183694e-148,1.7585899196215706e-147,4.1983695521220785e-147,1.001182459077508e-146,2.384856677697453e-146,5.674502880935514e-146,1.3486828694380712e-145,3.201904287689713e-145,7.593173688823635e-145,1.7986837317893424e-144,4.256011210405636e-144,1.0059287108199377e-143,2.3749153164140143e-143,5.600741610204585e-143,1.3193482022401596e-142,3.10448671916801e-142,7.296870974491921e-142,1.7131682289291553e-141,4.0177216053644376e-141,9.411875056483651e-141,2.20236324243691e-140,5.147759288187997e-140,1.2018879907667384e-139,2.803020310391428e-139,6.529876650745351e-139,1.519498215841655e-138,3.5319284370917094e-138,8.200495232093854e-138,1.9018871732502295e-137,4.40601430168126e-137,1.0195852395312897e-136,2.356772493114122e-136,5.441620689617316e-136,1.25503360576832e-135,2.891338426866838e-135,6.653635189816755e-135,1.5294508550805196e-134,3.5117901137433087e-134,8.054490269478148e-134,1.8452875623308762e-133,4.222858525028655e-133,9.653070838187959e-133,2.2041489454425435e-132,5.027277611311993e-132,1.145358073657397e-131,2.606550713242251e-131,5.925262027561788e-131,1.3454433796855044e-130,3.051685510369548e-130,6.914019645683805e-130,1.5647246591496154e-129,3.537217202890245e-129,7.987337104691231e-129,1.8016017037331396e-128,4.059121374156923e-128,9.135278152496887e-128,2.0536574128840986e-127,4.6115901506942535e-127,1.0344032890863644e-126,2.3176378063742766e-126,5.187017635399123e-126,1.1595950865250728e-125,2.5894736282440555e-125,5.776078706246694e-125,1.2869782175202814e-124,2.8643479577071266e-124,6.367908823518743e-124,1.4141138719950078e-123,3.136811436505047e-123,6.950386038096781e-123,1.538317302925328e-122,3.4009434228343185e-122,7.510509043753263e-122,1.6567455915903662e-121,3.650553839486151e-121,8.034857451468728e-121,1.766501776664151e-120,3.8794170029795586e-120,8.510113166188267e-120,1.8647503172743173e-119,4.08152563142962e-119,8.923615529790682e-119,1.9488376313958278e-118,4.251350852863861e-118,9.263918425732717e-118,2.016410641581283e-117,4.384092647405554e-117,9.52131536259154e-117,2.0655259741941588e-116,4.4759049501997926e-116,9.688299011426806e-116,2.094742753826728e-115,4.52408070340101e-115,9.759924864793196e-115,2.1031928135683973e-114,4.52718443736413e-114,9.73405444147524e-114,2.090623547800148e-113,4.4851233208799256e-113,9.611461345150557e-113,2.0574104560215094e-112,4.399151773364147e-112,9.395792837355077e-112,2.0045385085382595e-111,4.271809319234657e-111,9.093389588174653e-111,1.9335536243556995e-110,4.106795980513637e-110,8.712976034579648e-110,1.8464875966215666e-109,3.9087937388640286e-109,8.265242444395932e-109,1.7457615521754107e-108,3.683246085006907e-108,7.762346609911089e-108,1.634074341408614e-107,3.43611012383471e-107,7.217367531436502e-107,1.5142830216206022e-106,3.1735969384049395e-106,6.643745198929848e-106,1.389282776368919e-105,2.9019158806545315e-105,6.054739612118854e-105,1.2618932184406742e-104,2.6270372208347595e-104,5.462938731084664e-104,1.1347571228555264e-103,2.354485332084138e-103,4.879839577482764e-103,1.0102563404796237e-102,2.0891715768292233e-102,4.315519829331117e-102,8.904480934335441e-102,1.8352726147493576e-101,3.778409671411349e-101,7.770232039673443e-101,1.5961562991319278e-100,3.275166085373069e-100,6.712862077043123e-100,1.3743539795129692e-99,2.8106448260715264e-99,5.7415587958152835e-99,1.1715751426968139e-98,2.3879595440838882e-98,4.8618355520956906e-98,9.887580886347513e-98,2.008613223841105e-97,4.0758582325319716e-97,8.261488566999793e-97,1.6726844769283207e-96,3.3828771837475164e-96,6.8339991319239645e-96,1.3790502512216316e-95,2.779724457038995e-95,5.596801299795095e-95,1.1256270294269058e-94,2.2613387338110553e-94,4.5378821637125264e-94,9.096143242965499e-94,1.8212847512724667e-93,3.642628625123578e-93,7.277268935123438e-93,1.4522401432637663e-92,2.8948424614240896e-92,5.7640523298046795e-92,1.146429571061707e-91,2.2776308078081042e-91,4.519972175961379e-91,8.959931269411848e-91,1.7741489524435779e-90,3.5090694531345833e-90,6.932826520184316e-90,1.3681861379630642e-89,2.6970967330431155e-89,5.310853774360641e-89,1.0445966988785976e-88,2.0523406073820633e-88,4.027788997574013e-88,7.89587870882673e-88,1.5461467416099875e-87,3.024248227098545e-87,5.908818416912516e-87,1.1531885912982764e-86,2.2481046010232857e-86,4.3777320478199064e-86,8.515268001311023e-86,1.6544892528291644e-85,3.211042574439497e-85,6.225076046617037e-85,1.2054792594808643e-84,2.331800054488798e-84,4.5054622748156225e-84,8.695686842330117e-84,1.676428010709507e-83,3.228363364087065e-83,6.21006857366533e-83,1.1932374228792915e-82,2.290202155616336e-82,4.3907353079019907e-82,8.408473861793113e-82,1.6084722927510668e-81,3.0734522768610137e-81,5.866186252241187e-81,1.118411710031576e-80,2.1299237068374134e-80,4.0517521692045146e-80,7.699068492153658e-80,1.4613356428551127e-79,2.770628230837989e-79,5.2471444123812815e-79,9.926228378938716e-79,1.8756940168771626e-78,3.5404315900598754e-78,6.675240313617517e-78,1.2571702272666256e-77,2.3650359872090525e-77,4.444244091111811e-77,8.342083601194934e-77,1.564111308899441e-76,2.929390429381681e-76,5.4802875267873356e-76,1.0241083683456941e-75,1.9116349818097904e-75,3.564351352363204e-75,6.638539290724643e-75,1.2350400364982396e-74,2.2951233260627375e-74,4.26037179965723e-74,7.899606524355848e-74,1.4631198499000175e-73,2.7068913788018412e-73,5.0023979705328786e-73,9.234260758952886e-73,1.7027171593797485e-72,3.136168405925092e-72,5.769958932163959e-72,1.0603825025098502e-71,1.9465648081418197e-71,3.5693707983894276e-71,6.537789737545369e-71,1.1961529506148932e-70,2.186044340844872e-70,3.9906873249709894e-70,7.27700914234436e-70,1.3254844082629216e-69,2.411641842893888e-69,4.382959739895893e-69,7.956803564273939e-69,1.4428669161183217e-68,2.6135475056380908e-68,4.72880064563691e-68,8.546496060170605e-68,1.5429138300933237e-67,2.782349813003153e-67,5.011852421171003e-67,9.017814584475635e-67,1.620767848002878e-66,2.909757579032365e-66,5.218062629379439e-66,9.347129307319349e-66,1.672490648266688e-65,2.989273344255582e-65,5.336838306403871e-65,9.517413631080522e-65,1.6953927741183993e-64,3.016742177970453e-64,5.3619473700138355e-64,9.519702630548656e-64,1.688265330254585e-63,2.99071139626956e-63,5.292060411902554e-63,9.353875064419592e-63,1.6514857117194094e-62,2.912557851042697e-62,5.130867317563468e-62,9.028664015283156e-62,1.586984495009024e-61,2.7863672665203624e-61,4.8867544753217566e-61,8.560894858484573e-61,1.4980775340621202e-60,2.618580341097096e-60,4.5720818761188104e-60,7.974043106487162e-60,1.3891835855341777e-59,2.4174482787490884e-59,4.202146829062092e-59,7.296284154869979e-59,1.2654609247678054e-58,2.1923617865653672e-58,3.793955142898555e-58,6.558260209373957e-58,1.1324044836284017e-57,1.953129324003415e-57,3.364936746134875e-57,5.79080969888149e-57,9.954470535735726e-57,1.7092812232024681e-56,2.9317393909064397e-56,5.022890223769951e-56,8.596041334097695e-56,1.4694668311650015e-55,2.5092132034693596e-55,4.2798822893091166e-55,7.29193131477087e-55,1.2409943316497176e-54,2.1096650611571498e-54,3.5823969550338944e-54,6.076456423544721e-54,1.0295407771979636e-53,1.742421419480269e-53,2.9456377298815863e-53,4.974185197186799e-53,8.390368815848445e-53,1.4136979765642294e-52,2.3792972643391974e-52,3.99997482656815e-52,6.717107442829563e-52,1.1267402690145654e-51,1.8879123218568565e-51,3.159776101108835e-51,5.2825945992676834e-51,8.821749877174068e-51,1.4715623950898323e-50,2.4519923239381456e-50,4.081088525267231e-50,6.7849930724247545e-50,1.126780404689785e-49,1.8691564210169994e-49,3.0971945917280536e-49,5.126344892744226e-49,8.475466952353903e-49,1.3997031247472595e-48,2.3090041500719244e-48,3.804783756831266e-48,6.262557527342101e-48,1.0296508010978204e-47,1.6910041724314685e-47,2.7740601948819383e-47,4.545729262864102e-47,7.44059619424711e-47,1.2165455916241931e-46,1.986852041497936e-46,3.2412993979568846e-46,5.2818888057457465e-46,8.59757244340739e-46,1.3979090535437553e-45,2.2703795971886233e-45,3.683278153419857e-45,5.96880021865196e-45,9.661755714882426e-45,1.5622176729538815e-44,2.523152640860647e-44,4.0706333495470395e-44,6.559895669092694e-44,1.0559621758336676e-43,1.6979162945898362e-43,2.727097556257927e-43,4.3752367296719766e-43,7.0116288983953425e-43,1.1224132177787603e-42,1.7947464646299804e-42,2.8666186673524956e-42,4.5735478463350355e-42,7.288749305237291e-42,1.1602973043098015e-41,1.8450240751807991e-41,2.9305644420155625e-41,4.649615047306678e-41,7.368841317926992e-41,1.1665353254795195e-40,1.8446461475655625e-40,2.913699286487866e-40,4.59719441118045e-40,7.245318749747532e-40,1.1406137614699995e-39,1.7936438036953222e-39,2.8174114815461165e-39,4.4205961660767535e-39,6.928319217723086e-39,1.0846544938773959e-38,1.6961780337285734e-38,2.649524460499531e-38,4.134099413749716e-38,6.443330120432603e-38,1.0031279552288132e-37,1.5599790584787923e-37,2.4232470189740644e-37,3.760045410673628e-37,5.827804532474142e-37,9.022634146921059e-37,1.3953340833630725e-36,2.1554578849934962e-36,3.3259626256731196e-36,5.1263903399859674e-36,7.892643063583732e-36,1.2138072797252637e-35,1.8646335619284657e-35,2.861236391005895e-35,4.385614632300499e-35,6.714654612093379e-35,1.0269123422354663e-34,1.5687710013188353e-34,2.3938791164022074e-34,3.64889497486075e-34,5.555677079471578e-34,8.449463029119143e-34,1.2836236478829337e-33,1.947882665670966e-33,2.9525982650206523e-33,4.47056497906369e-33,6.761404948993374e-33,1.0214755284201124e-32,1.5414713958437285e-32,2.3235897807271592e-32,3.498645415343485e-32,5.262073197075388e-32,7.905517868174801e-32,1.1863702519146942e-31,1.7783885600013047e-31,2.662867441860872e-31,3.982803897531149e-31,5.950381122612181e-31,8.880085085514854e-31,1.323749944396147e-30,1.9711118403726482e-30,2.9317913733858425e-30,4.355834220845143e-30,6.464368516993714e-30,9.58290878764314e-30,1.4190087924888115e-29,2.098888183249331e-29,3.1010588102649384e-29,4.5766445796560053e-29,6.746846892081759e-29,9.935071726229599e-29,1.4613614376230257e-28,2.1471419801878666e-28,3.1512319233080376e-28,4.619728528688935e-28,6.765019112809253e-28,9.895507771654385e-28,1.4458512824602193e-27,2.110209864564179e-27,3.0764095954913082e-27,4.480011715228284e-27,6.51674348014072e-27,9.468879429652588e-27,1.3743046978290653e-26,1.9924340706970118e-26,2.885369070652577e-26,4.173834924491229e-26,6.030948907746972e-26,8.704674059628046e-26,1.2549772773998735e-25,1.8073226661433641e-25,2.599872270284109e-25,3.7358102786174415e-25,5.362089979153577e-25,7.687760873647716e-25,1.1009868174843617e-24,1.5750010798235508e-24,2.2505884033765022e-24,3.21238642248713e-24,4.580110654229145e-24,6.522898842615565e-24,9.279440694276302e-24,1.3186193409470758e-23,1.8716884765577996e-23,2.653775471183678e-23,3.758471563033583e-23,5.317100214501124e-23,7.513718269222781e-23,1.0605995831811147e-22,1.4954244647060845e-22,2.1061727743724352e-22,2.9630569026885308e-22,4.1639209212479914e-22,5.844958586075626e-22,8.195527043092393e-22,1.1478597329336702e-21,1.6058953420939654e-21,2.244203006499484e-21,3.132734034063038e-21,4.368188737243867e-21,6.084091659267654e-21,8.464602839791772e-21,1.1763428234709664e-20,1.6329681451728228e-20,2.264321042475757e-20,3.1362796213051913e-20,4.339183673547692e-20,5.996775291870361e-20,8.278354140607092e-20,1.1415283742211796e-19,1.572337978986304e-19,2.163324070278472e-19,2.9731289401712576e-19,4.081524334614828e-19,5.596899647167415e-19,7.666358672118505e-19,1.0489317515847362e-18,1.4335796050653393e-18,1.957099382095364e-18,2.668827044141416e-18,3.635335218775605e-18,4.9463515771964505e-18,6.722672952714824e-18,9.126735618586145e-18,1.2376716419173435e-17,1.676532182409943e-17,2.268479362827508e-17,3.06601485651746e-17,4.139331049524252e-17,5.582163484039453e-17,7.51954262970104e-17,1.0118049135592129e-16,1.3599364884221483e-16,1.8258157658447095e-16,2.4485657100310875e-16,3.2800695895163047e-16,4.389053111368938e-16,5.86644628811213e-16,7.83241779146511e-16,1.044559241654979e-15,1.3915114696509607e-15,1.8516418544762696e-15,2.4611816682239885e-15,3.267735064230834e-15,4.3337762877088725e-15,5.741199306570883e-15,7.597229439441741e-15,1.0042095455248675e-14,1.3258974398842288e-14,1.7486866836782756e-14,2.303724588606244e-14,3.031556010696877e-14,3.9848971754745667e-14,5.232209517632727e-14,6.862298691656297e-14,8.990225649904345e-14,1.1764894889978355e-13,1.5378783905403726e-13,2.0080402862206152e-13,2.6190231224410685e-13,3.41210767637832e-13,4.440405244926848e-13,5.772168097301422e-13,7.495003109403061e-13,9.72122843599676e-13,1.2594674961101222e-12,1.6299311628219235e-12,2.1070170331974927e-12,2.720716646484355e-12,3.5092561136878573e-12,4.521299750555362e-12,5.818727513905457e-12,7.480131339729353e-12,9.605211031197707e-12,1.2320294309942307e-11,1.578525994312254e-11,2.0202209829508313e-11,2.5826318414538407e-11,3.297938926282712e-11,4.206677323919927e-11,5.3598455614040274e-11,6.821530665711444e-11,8.672171933262316e-11,1.1012613749940713e-10,1.39691319319619e-10,1.7699659632717264e-10,2.2401489433405012e-10,2.832078966676852e-10,3.5764347539908196e-10,4.511404188328817e-10,5.68446575300357e-10,7.154578519846212e-10,8.994870979999677e-10,1.1295938165130924e-09,1.4169879544496749e-09,1.7755237849320846e-09,2.2223032152065727e-09,2.77841182538131e-09,3.469815693133646e-09,4.32845273038697e-09,5.393559018375933e-09,6.7132786748922235e-09,8.346615352536385e-09,1.036579481864585e-08,1.2859121519731722e-08,1.5934427950159787e-08,1.972323444938447e-08,2.438575923414083e-08,3.0116944597944274e-08,3.715369593358775e-08,4.578356630772114e-08,5.635516160525758e-08,6.929059075792598e-08,8.510034341216333e-08,1.044010448754275e-07,1.2793661678756525e-07,1.5660346338005937e-07,1.9148040932413917e-07,2.3386423819631013e-07,2.85311822957906e-07,3.4769000431757793e-07,4.232345625333954e-07,5.146198466069144e-07,6.250408758368079e-07,7.583100167054017e-07,9.189706679378983e-07,1.1124307637151548e-06,1.3451193354388605e-06,1.6246698627754678e-06,1.9601347022583768e-06,2.3622355145420468e-06,2.8436553282842254e-06,3.419378689203722e-06,4.107087257585462e-06,4.927619247745317e-06,5.90550226098833e-06,7.0695703626159555e-06,8.453677707710241e-06,1.0097522644878014e-05,1.2047598037917105e-05,1.4358285559452541e-05,1.7093113945821732e-05,2.032620367748592e-05,2.4143923283383154e-05,2.8646785480805066e-05,3.3951614674958624e-05,4.019402097494452e-05,4.753121985603913e-05,5.614524093226764e-05,6.624657401803813e-05,7.80783057718514e-05,9.192080574630002e-05,0.00010809702663211367,0.00012697848989325506,0.00014899203485489046,0.00017462741663305253,0.00020444584608588607,0.00023908957321811875,0.000279292624173721,0.0003258928110897568,0.00037984514363294605,0.00044223678096567905,0.0005143036731460767,0.0005974490515022738,0.0006932639382662577,0.0008035498566257575,0.0009303439332579744,0.001075946596232457,0.0012429520817843194,0.0014342819737132393,0.0016532220088923456,0.0019034623913867636,0.002189141865774468,0.0025148958072061366,0.0028859085912810375,0.0033079705106833926,0.00378753950742341,0.004331807989143406,0.004948774994952204,0.005647323970284849,0.006437306400983177,0.007329631543777047,0.008336362473217488,0.009470818643482289,0.010747685136930873,0.012183128739434541,0.013794920944960319,0.015602567948253206,0.017627447634402885,0.019892953517249966,0.022424645514700636,0.02525040737783283,0.028400610511976804,0.03190828384164019,0.035809289277132644,0.040142502239070864,0.044949996587737115,0.05027723318771545,0.0561732512147243,0.06269086118151711,0.06988683852375076,0.07782211644557145,0.08656197657916481,0.09617623586378572,0.10673942789892049,0.11833097687469499,0.13103536203182156,0.14494227045510658,0.16014673586051348,0.17674926089805798,0.19485592036355134,0.21457844259354428,0.23603426621231452,0.2593465693096855,0.28464426805649184,0.31206198171325183,0.34173996095951054,0.3738239764692571,0.4084651646840865,0.4458198277929964,0.48604918501830646,0.5293190724330419,0.5757995886987158,0.6256646843150344,0.679091692216328,0.7362607978346802,0.7973544470770227,0.8625566910338875,0.9320524666501855,1.0060268130429966,1.0846640236467398,1.168146734899895,1.2566549527581052,1.350365018922171,1.449448519302918,1.5540711379041128,1.664391459983709,1.7805597290486324,1.902716562941597,2.0309916349842068,2.1655023268418403,2.306352360463909,2.4536304171216172,2.607408752204581,2.7677418150397606,2.9346648835528737,3.108192724093527,3.28831828718444,3.475011450321648,3.6682178192395924,3.867857599255016,4.073824548407668,4.285985024120297,4.504177134996727,4.7282100091618835,4.9578631902176005,5.192886171438602,5.432998078265431,5.677887508462453,5.927212538502004,6.180600903813256,6.437650359498096,6.697929226975477,6.960977130773229,7.226305928354169,7.493400834447719,7.761721739874198,8.03070472330508,8.299763752814671,8.568292572461118,8.835666767500749,9.101246000209276,9.364376406669045,9.62439314330303,9.88062307041006,10.132387558497538,10.37900540183736,10.619795822401299,10.854081546181035,11.081191932880252,11.300466139093466,11.511256294373846,11.712930669047982,11.904876812270418,12.08650463863188,12.25724944164639,12.416574812649944,12.563975444045369,12.698979796425533,12.821152609896448,12.930097240896735,13.02545780696491,13.106921123229199,13.174218415876148,13.22712679947989,13.265470506828446,13.2891218617507,13.298001987408727,13.292081244556538,13.271379396357421,13.23596549847716,13.185957515308619,13.121521665312445,13.042871500558451,12.95026672760092,12.84401177879913,12.724454145081555,12.591982482930788,12.44702451001903,12.290044705435005,12.121541831799869,11.942046297758264,11.752117380342844,11.55234032753759,11.343323362000838,11.125694607351265,10.90009895866528,10.667194918885231,10.427651422696671,10.182144669103744,9.931354983423972,9.67596372874262,9.416650286026183,9.154089121104597,8.888946955605482,8.621880057678132,8.353531666991804,8.08452956705182,7.815483816362942,7.5469846483992225,7.279600548732611,7.013876516042147,6.750332512092538,6.4894621041477585,6.23173130169122,5.977577587769824,5.727409143781943,5.481604265099869,5.240510963566529,5.004446751646622,4.7736986018489524,4.548523073980187,4.329146601844356,4.115765930171495,3.9085486918475065,3.707634114924151,3.5131338484159893,3.325132895537146,3.143690642792597,2.968841973214175,2.800598452013499,2.638949573009599,2.4838640543701174,2.335291172474842,2.193162123062412,2.057391399245319,1.927878176468424,1.804507695032257,1.6871526313958276,1.5756744501068063,1.4699247288695052,1.3697464499464957,1.2749752517887485,1.1854406354944034,1.1009671214011698,1.0213753518137714,0.9464831365510866,0.8761064386610563,0.8100602982902605,0.7481596933053892,0.6902203358409192,0.6360594044890019,0.5854962123507179,0.5383528116306067,0.49445453587781374,0.4536304813557577,0.4157139293583773,0.38054271158450126,0.3479595209333693,0.3178121702951646,0.28995380208144317,0.26424305137375725,0.24054416566620812,0.21872708424131082,0.19866748025095074,0.18024676857746316,0.16335208252687394,0.14787622235947892,0.13371757859486008,0.12078003294188622,0.10897283960151669,0.09821048957408697,0.08841256047537345,0.07950355422957395,0.07141272486438809,0.06407389848580344,0.057425287359767554,0.051409299876370364],\"type\":\"scatter\"},{\"mode\":\"lines\",\"name\":\"Empresa B\",\"x\":[0.0,0.001001001001001001,0.002002002002002002,0.003003003003003003,0.004004004004004004,0.005005005005005005,0.006006006006006006,0.007007007007007007,0.008008008008008008,0.009009009009009009,0.01001001001001001,0.011011011011011011,0.012012012012012012,0.013013013013013013,0.014014014014014014,0.015015015015015015,0.016016016016016016,0.017017017017017015,0.018018018018018018,0.01901901901901902,0.02002002002002002,0.02102102102102102,0.022022022022022022,0.023023023023023025,0.024024024024024024,0.025025025025025023,0.026026026026026026,0.02702702702702703,0.028028028028028028,0.029029029029029027,0.03003003003003003,0.031031031031031032,0.03203203203203203,0.03303303303303303,0.03403403403403403,0.035035035035035036,0.036036036036036036,0.037037037037037035,0.03803803803803804,0.03903903903903904,0.04004004004004004,0.04104104104104104,0.04204204204204204,0.043043043043043044,0.044044044044044044,0.04504504504504504,0.04604604604604605,0.04704704704704705,0.04804804804804805,0.04904904904904905,0.050050050050050046,0.05105105105105105,0.05205205205205205,0.05305305305305305,0.05405405405405406,0.055055055055055056,0.056056056056056056,0.057057057057057055,0.058058058058058054,0.05905905905905906,0.06006006006006006,0.06106106106106106,0.062062062062062065,0.06306306306306306,0.06406406406406406,0.06506506506506507,0.06606606606606606,0.06706706706706707,0.06806806806806806,0.06906906906906907,0.07007007007007007,0.07107107107107107,0.07207207207207207,0.07307307307307308,0.07407407407407407,0.07507507507507508,0.07607607607607608,0.07707707707707707,0.07807807807807808,0.07907907907907907,0.08008008008008008,0.08108108108108109,0.08208208208208208,0.08308308308308308,0.08408408408408408,0.08508508508508508,0.08608608608608609,0.08708708708708708,0.08808808808808809,0.0890890890890891,0.09009009009009009,0.09109109109109109,0.0920920920920921,0.09309309309309309,0.0940940940940941,0.09509509509509509,0.0960960960960961,0.0970970970970971,0.0980980980980981,0.0990990990990991,0.10010010010010009,0.1011011011011011,0.1021021021021021,0.1031031031031031,0.1041041041041041,0.10510510510510511,0.1061061061061061,0.10710710710710711,0.10810810810810811,0.1091091091091091,0.11011011011011011,0.1111111111111111,0.11211211211211211,0.11311311311311312,0.11411411411411411,0.11511511511511512,0.11611611611611611,0.11711711711711711,0.11811811811811812,0.11911911911911911,0.12012012012012012,0.12112112112112113,0.12212212212212212,0.12312312312312312,0.12412412412412413,0.12512512512512514,0.12612612612612611,0.12712712712712712,0.12812812812812813,0.12912912912912913,0.13013013013013014,0.13113113113113112,0.13213213213213212,0.13313313313313313,0.13413413413413414,0.13513513513513514,0.13613613613613612,0.13713713713713713,0.13813813813813813,0.13913913913913914,0.14014014014014015,0.14114114114114115,0.14214214214214213,0.14314314314314314,0.14414414414414414,0.14514514514514515,0.14614614614614616,0.14714714714714713,0.14814814814814814,0.14914914914914915,0.15015015015015015,0.15115115115115116,0.15215215215215216,0.15315315315315314,0.15415415415415415,0.15515515515515516,0.15615615615615616,0.15715715715715717,0.15815815815815815,0.15915915915915915,0.16016016016016016,0.16116116116116116,0.16216216216216217,0.16316316316316315,0.16416416416416416,0.16516516516516516,0.16616616616616617,0.16716716716716717,0.16816816816816815,0.16916916916916916,0.17017017017017017,0.17117117117117117,0.17217217217217218,0.17317317317317318,0.17417417417417416,0.17517517517517517,0.17617617617617617,0.17717717717717718,0.1781781781781782,0.17917917917917917,0.18018018018018017,0.18118118118118118,0.18218218218218218,0.1831831831831832,0.1841841841841842,0.18518518518518517,0.18618618618618618,0.1871871871871872,0.1881881881881882,0.1891891891891892,0.19019019019019018,0.19119119119119118,0.1921921921921922,0.1931931931931932,0.1941941941941942,0.19519519519519518,0.1961961961961962,0.1971971971971972,0.1981981981981982,0.1991991991991992,0.20020020020020018,0.2012012012012012,0.2022022022022022,0.2032032032032032,0.2042042042042042,0.20520520520520522,0.2062062062062062,0.2072072072072072,0.2082082082082082,0.2092092092092092,0.21021021021021022,0.2112112112112112,0.2122122122122122,0.2132132132132132,0.21421421421421422,0.21521521521521522,0.21621621621621623,0.2172172172172172,0.2182182182182182,0.21921921921921922,0.22022022022022023,0.22122122122122123,0.2222222222222222,0.22322322322322322,0.22422422422422422,0.22522522522522523,0.22622622622622623,0.2272272272272272,0.22822822822822822,0.22922922922922923,0.23023023023023023,0.23123123123123124,0.23223223223223222,0.23323323323323322,0.23423423423423423,0.23523523523523523,0.23623623623623624,0.23723723723723725,0.23823823823823823,0.23923923923923923,0.24024024024024024,0.24124124124124124,0.24224224224224225,0.24324324324324323,0.24424424424424424,0.24524524524524524,0.24624624624624625,0.24724724724724725,0.24824824824824826,0.24924924924924924,0.2502502502502503,0.25125125125125125,0.25225225225225223,0.25325325325325326,0.25425425425425424,0.2552552552552553,0.25625625625625625,0.25725725725725723,0.25825825825825827,0.25925925925925924,0.2602602602602603,0.26126126126126126,0.26226226226226224,0.26326326326326327,0.26426426426426425,0.2652652652652653,0.26626626626626626,0.26726726726726724,0.2682682682682683,0.26926926926926925,0.2702702702702703,0.27127127127127126,0.27227227227227224,0.2732732732732733,0.27427427427427425,0.2752752752752753,0.27627627627627627,0.2772772772772773,0.2782782782782783,0.27927927927927926,0.2802802802802803,0.28128128128128127,0.2822822822822823,0.2832832832832833,0.28428428428428426,0.2852852852852853,0.2862862862862863,0.2872872872872873,0.2882882882882883,0.28928928928928926,0.2902902902902903,0.2912912912912913,0.2922922922922923,0.2932932932932933,0.29429429429429427,0.2952952952952953,0.2962962962962963,0.2972972972972973,0.2982982982982983,0.29929929929929927,0.3003003003003003,0.3013013013013013,0.3023023023023023,0.3033033033033033,0.30430430430430433,0.3053053053053053,0.3063063063063063,0.3073073073073073,0.3083083083083083,0.30930930930930933,0.3103103103103103,0.3113113113113113,0.3123123123123123,0.3133133133133133,0.31431431431431434,0.3153153153153153,0.3163163163163163,0.3173173173173173,0.3183183183183183,0.31931931931931934,0.3203203203203203,0.3213213213213213,0.32232232232232233,0.3233233233233233,0.32432432432432434,0.3253253253253253,0.3263263263263263,0.32732732732732733,0.3283283283283283,0.32932932932932935,0.3303303303303303,0.3313313313313313,0.33233233233233234,0.3333333333333333,0.33433433433433435,0.3353353353353353,0.3363363363363363,0.33733733733733734,0.3383383383383383,0.33933933933933935,0.34034034034034033,0.34134134134134136,0.34234234234234234,0.3433433433433433,0.34434434434434436,0.34534534534534533,0.34634634634634637,0.34734734734734735,0.3483483483483483,0.34934934934934936,0.35035035035035034,0.35135135135135137,0.35235235235235235,0.3533533533533533,0.35435435435435436,0.35535535535535534,0.3563563563563564,0.35735735735735735,0.35835835835835833,0.35935935935935936,0.36036036036036034,0.3613613613613614,0.36236236236236236,0.36336336336336333,0.36436436436436437,0.36536536536536535,0.3663663663663664,0.36736736736736736,0.3683683683683684,0.36936936936936937,0.37037037037037035,0.3713713713713714,0.37237237237237236,0.3733733733733734,0.3743743743743744,0.37537537537537535,0.3763763763763764,0.37737737737737737,0.3783783783783784,0.3793793793793794,0.38038038038038036,0.3813813813813814,0.38238238238238237,0.3833833833833834,0.3843843843843844,0.38538538538538536,0.3863863863863864,0.38738738738738737,0.3883883883883884,0.3893893893893894,0.39039039039039036,0.3913913913913914,0.3923923923923924,0.3933933933933934,0.3943943943943944,0.39539539539539537,0.3963963963963964,0.3973973973973974,0.3983983983983984,0.3993993993993994,0.40040040040040037,0.4014014014014014,0.4024024024024024,0.4034034034034034,0.4044044044044044,0.40540540540540543,0.4064064064064064,0.4074074074074074,0.4084084084084084,0.4094094094094094,0.41041041041041043,0.4114114114114114,0.4124124124124124,0.4134134134134134,0.4144144144144144,0.41541541541541543,0.4164164164164164,0.4174174174174174,0.4184184184184184,0.4194194194194194,0.42042042042042044,0.4214214214214214,0.4224224224224224,0.42342342342342343,0.4244244244244244,0.42542542542542544,0.4264264264264264,0.4274274274274274,0.42842842842842843,0.4294294294294294,0.43043043043043044,0.4314314314314314,0.43243243243243246,0.43343343343343343,0.4344344344344344,0.43543543543543545,0.4364364364364364,0.43743743743743746,0.43843843843843844,0.4394394394394394,0.44044044044044045,0.44144144144144143,0.44244244244244246,0.44344344344344344,0.4444444444444444,0.44544544544544545,0.44644644644644643,0.44744744744744747,0.44844844844844844,0.4494494494494494,0.45045045045045046,0.45145145145145144,0.45245245245245247,0.45345345345345345,0.4544544544544544,0.45545545545545546,0.45645645645645644,0.4574574574574575,0.45845845845845845,0.45945945945945943,0.46046046046046046,0.46146146146146144,0.4624624624624625,0.46346346346346345,0.46446446446446443,0.46546546546546547,0.46646646646646645,0.4674674674674675,0.46846846846846846,0.4694694694694695,0.47047047047047047,0.47147147147147145,0.4724724724724725,0.47347347347347346,0.4744744744744745,0.4754754754754755,0.47647647647647645,0.4774774774774775,0.47847847847847846,0.4794794794794795,0.4804804804804805,0.48148148148148145,0.4824824824824825,0.48348348348348347,0.4844844844844845,0.4854854854854855,0.48648648648648646,0.4874874874874875,0.48848848848848847,0.4894894894894895,0.4904904904904905,0.49149149149149146,0.4924924924924925,0.4934934934934935,0.4944944944944945,0.4954954954954955,0.4964964964964965,0.4974974974974975,0.4984984984984985,0.4994994994994995,0.5005005005005005,0.5015015015015015,0.5025025025025025,0.5035035035035035,0.5045045045045045,0.5055055055055055,0.5065065065065065,0.5075075075075075,0.5085085085085085,0.5095095095095095,0.5105105105105106,0.5115115115115115,0.5125125125125125,0.5135135135135135,0.5145145145145145,0.5155155155155156,0.5165165165165165,0.5175175175175175,0.5185185185185185,0.5195195195195195,0.5205205205205206,0.5215215215215215,0.5225225225225225,0.5235235235235235,0.5245245245245245,0.5255255255255256,0.5265265265265265,0.5275275275275275,0.5285285285285285,0.5295295295295295,0.5305305305305306,0.5315315315315315,0.5325325325325325,0.5335335335335335,0.5345345345345345,0.5355355355355356,0.5365365365365365,0.5375375375375375,0.5385385385385385,0.5395395395395395,0.5405405405405406,0.5415415415415415,0.5425425425425425,0.5435435435435435,0.5445445445445445,0.5455455455455456,0.5465465465465466,0.5475475475475475,0.5485485485485485,0.5495495495495496,0.5505505505505506,0.5515515515515516,0.5525525525525525,0.5535535535535535,0.5545545545545546,0.5555555555555556,0.5565565565565566,0.5575575575575575,0.5585585585585585,0.5595595595595596,0.5605605605605606,0.5615615615615616,0.5625625625625625,0.5635635635635635,0.5645645645645646,0.5655655655655656,0.5665665665665666,0.5675675675675675,0.5685685685685685,0.5695695695695696,0.5705705705705706,0.5715715715715716,0.5725725725725725,0.5735735735735735,0.5745745745745746,0.5755755755755756,0.5765765765765766,0.5775775775775776,0.5785785785785785,0.5795795795795796,0.5805805805805806,0.5815815815815816,0.5825825825825826,0.5835835835835835,0.5845845845845846,0.5855855855855856,0.5865865865865866,0.5875875875875876,0.5885885885885885,0.5895895895895896,0.5905905905905906,0.5915915915915916,0.5925925925925926,0.5935935935935935,0.5945945945945946,0.5955955955955956,0.5965965965965966,0.5975975975975976,0.5985985985985985,0.5995995995995996,0.6006006006006006,0.6016016016016016,0.6026026026026026,0.6036036036036035,0.6046046046046046,0.6056056056056056,0.6066066066066066,0.6076076076076076,0.6086086086086087,0.6096096096096096,0.6106106106106106,0.6116116116116116,0.6126126126126126,0.6136136136136137,0.6146146146146146,0.6156156156156156,0.6166166166166166,0.6176176176176176,0.6186186186186187,0.6196196196196196,0.6206206206206206,0.6216216216216216,0.6226226226226226,0.6236236236236237,0.6246246246246246,0.6256256256256256,0.6266266266266266,0.6276276276276276,0.6286286286286287,0.6296296296296297,0.6306306306306306,0.6316316316316316,0.6326326326326326,0.6336336336336337,0.6346346346346347,0.6356356356356356,0.6366366366366366,0.6376376376376376,0.6386386386386387,0.6396396396396397,0.6406406406406406,0.6416416416416416,0.6426426426426426,0.6436436436436437,0.6446446446446447,0.6456456456456456,0.6466466466466466,0.6476476476476476,0.6486486486486487,0.6496496496496497,0.6506506506506506,0.6516516516516516,0.6526526526526526,0.6536536536536537,0.6546546546546547,0.6556556556556556,0.6566566566566566,0.6576576576576576,0.6586586586586587,0.6596596596596597,0.6606606606606606,0.6616616616616616,0.6626626626626626,0.6636636636636637,0.6646646646646647,0.6656656656656657,0.6666666666666666,0.6676676676676676,0.6686686686686687,0.6696696696696697,0.6706706706706707,0.6716716716716716,0.6726726726726726,0.6736736736736737,0.6746746746746747,0.6756756756756757,0.6766766766766766,0.6776776776776777,0.6786786786786787,0.6796796796796797,0.6806806806806807,0.6816816816816816,0.6826826826826827,0.6836836836836837,0.6846846846846847,0.6856856856856857,0.6866866866866866,0.6876876876876877,0.6886886886886887,0.6896896896896897,0.6906906906906907,0.6916916916916916,0.6926926926926927,0.6936936936936937,0.6946946946946947,0.6956956956956957,0.6966966966966966,0.6976976976976977,0.6986986986986987,0.6996996996996997,0.7007007007007007,0.7017017017017017,0.7027027027027027,0.7037037037037037,0.7047047047047047,0.7057057057057057,0.7067067067067067,0.7077077077077077,0.7087087087087087,0.7097097097097097,0.7107107107107107,0.7117117117117117,0.7127127127127127,0.7137137137137137,0.7147147147147147,0.7157157157157157,0.7167167167167167,0.7177177177177178,0.7187187187187187,0.7197197197197197,0.7207207207207207,0.7217217217217217,0.7227227227227228,0.7237237237237237,0.7247247247247247,0.7257257257257257,0.7267267267267267,0.7277277277277278,0.7287287287287287,0.7297297297297297,0.7307307307307307,0.7317317317317317,0.7327327327327328,0.7337337337337337,0.7347347347347347,0.7357357357357357,0.7367367367367368,0.7377377377377378,0.7387387387387387,0.7397397397397397,0.7407407407407407,0.7417417417417418,0.7427427427427428,0.7437437437437437,0.7447447447447447,0.7457457457457457,0.7467467467467468,0.7477477477477478,0.7487487487487487,0.7497497497497497,0.7507507507507507,0.7517517517517518,0.7527527527527528,0.7537537537537538,0.7547547547547547,0.7557557557557557,0.7567567567567568,0.7577577577577578,0.7587587587587588,0.7597597597597597,0.7607607607607607,0.7617617617617618,0.7627627627627628,0.7637637637637638,0.7647647647647647,0.7657657657657657,0.7667667667667668,0.7677677677677678,0.7687687687687688,0.7697697697697697,0.7707707707707707,0.7717717717717718,0.7727727727727728,0.7737737737737738,0.7747747747747747,0.7757757757757757,0.7767767767767768,0.7777777777777778,0.7787787787787788,0.7797797797797797,0.7807807807807807,0.7817817817817818,0.7827827827827828,0.7837837837837838,0.7847847847847848,0.7857857857857857,0.7867867867867868,0.7877877877877878,0.7887887887887888,0.7897897897897898,0.7907907907907907,0.7917917917917918,0.7927927927927928,0.7937937937937938,0.7947947947947948,0.7957957957957957,0.7967967967967968,0.7977977977977978,0.7987987987987988,0.7997997997997998,0.8008008008008007,0.8018018018018018,0.8028028028028028,0.8038038038038038,0.8048048048048048,0.8058058058058059,0.8068068068068068,0.8078078078078078,0.8088088088088088,0.8098098098098098,0.8108108108108109,0.8118118118118118,0.8128128128128128,0.8138138138138138,0.8148148148148148,0.8158158158158159,0.8168168168168168,0.8178178178178178,0.8188188188188188,0.8198198198198198,0.8208208208208209,0.8218218218218218,0.8228228228228228,0.8238238238238238,0.8248248248248248,0.8258258258258259,0.8268268268268268,0.8278278278278278,0.8288288288288288,0.8298298298298298,0.8308308308308309,0.8318318318318318,0.8328328328328328,0.8338338338338338,0.8348348348348348,0.8358358358358359,0.8368368368368369,0.8378378378378378,0.8388388388388388,0.8398398398398398,0.8408408408408409,0.8418418418418419,0.8428428428428428,0.8438438438438438,0.8448448448448448,0.8458458458458459,0.8468468468468469,0.8478478478478478,0.8488488488488488,0.8498498498498498,0.8508508508508509,0.8518518518518519,0.8528528528528528,0.8538538538538538,0.8548548548548548,0.8558558558558559,0.8568568568568569,0.8578578578578578,0.8588588588588588,0.8598598598598598,0.8608608608608609,0.8618618618618619,0.8628628628628628,0.8638638638638638,0.8648648648648649,0.8658658658658659,0.8668668668668669,0.8678678678678678,0.8688688688688688,0.8698698698698699,0.8708708708708709,0.8718718718718719,0.8728728728728729,0.8738738738738738,0.8748748748748749,0.8758758758758759,0.8768768768768769,0.8778778778778779,0.8788788788788788,0.8798798798798799,0.8808808808808809,0.8818818818818819,0.8828828828828829,0.8838838838838838,0.8848848848848849,0.8858858858858859,0.8868868868868869,0.8878878878878879,0.8888888888888888,0.8898898898898899,0.8908908908908909,0.8918918918918919,0.8928928928928929,0.8938938938938938,0.8948948948948949,0.8958958958958959,0.8968968968968969,0.8978978978978979,0.8988988988988988,0.8998998998998999,0.9009009009009009,0.9019019019019019,0.9029029029029029,0.9039039039039038,0.9049049049049049,0.9059059059059059,0.9069069069069069,0.9079079079079079,0.9089089089089089,0.9099099099099099,0.9109109109109109,0.9119119119119119,0.9129129129129129,0.9139139139139139,0.914914914914915,0.9159159159159159,0.9169169169169169,0.9179179179179179,0.9189189189189189,0.91991991991992,0.9209209209209209,0.9219219219219219,0.9229229229229229,0.9239239239239239,0.924924924924925,0.9259259259259259,0.9269269269269269,0.9279279279279279,0.9289289289289289,0.92992992992993,0.9309309309309309,0.9319319319319319,0.9329329329329329,0.933933933933934,0.934934934934935,0.9359359359359359,0.9369369369369369,0.9379379379379379,0.938938938938939,0.93993993993994,0.9409409409409409,0.9419419419419419,0.9429429429429429,0.943943943943944,0.944944944944945,0.9459459459459459,0.9469469469469469,0.9479479479479479,0.948948948948949,0.94994994994995,0.950950950950951,0.9519519519519519,0.9529529529529529,0.953953953953954,0.954954954954955,0.955955955955956,0.9569569569569569,0.9579579579579579,0.958958958958959,0.95995995995996,0.960960960960961,0.9619619619619619,0.9629629629629629,0.963963963963964,0.964964964964965,0.965965965965966,0.9669669669669669,0.9679679679679679,0.968968968968969,0.96996996996997,0.970970970970971,0.9719719719719719,0.9729729729729729,0.973973973973974,0.974974974974975,0.975975975975976,0.9769769769769769,0.9779779779779779,0.978978978978979,0.97997997997998,0.980980980980981,0.9819819819819819,0.9829829829829829,0.983983983983984,0.984984984984985,0.985985985985986,0.986986986986987,0.9879879879879879,0.988988988988989,0.98998998998999,0.990990990990991,0.991991991991992,0.992992992992993,0.993993993993994,0.994994994994995,0.995995995995996,0.996996996996997,0.997997997997998,0.998998998998999,1.0],\"y\":[0.0,0.0,0.0,0.0,0.0,0.0,0.0,0.0,0.0,0.0,0.0,0.0,0.0,0.0,0.0,0.0,0.0,0.0,0.0,0.0,0.0,0.0,0.0,0.0,0.0,0.0,0.0,0.0,0.0,0.0,0.0,0.0,0.0,0.0,0.0,0.0,0.0,0.0,0.0,0.0,0.0,0.0,0.0,0.0,0.0,0.0,0.0,0.0,0.0,0.0,0.0,0.0,0.0,0.0,0.0,0.0,0.0,0.0,0.0,0.0,0.0,0.0,0.0,0.0,0.0,0.0,0.0,0.0,0.0,0.0,0.0,0.0,0.0,0.0,0.0,0.0,0.0,0.0,0.0,0.0,0.0,0.0,0.0,0.0,0.0,0.0,0.0,0.0,0.0,0.0,0.0,0.0,0.0,0.0,0.0,0.0,0.0,0.0,0.0,0.0,0.0,0.0,0.0,0.0,0.0,0.0,0.0,0.0,0.0,0.0,0.0,0.0,0.0,0.0,0.0,0.0,0.0,0.0,0.0,0.0,0.0,0.0,0.0,0.0,0.0,0.0,0.0,0.0,0.0,0.0,0.0,0.0,0.0,0.0,0.0,0.0,0.0,0.0,0.0,0.0,0.0,0.0,0.0,0.0,0.0,0.0,0.0,0.0,0.0,0.0,0.0,0.0,0.0,0.0,0.0,0.0,0.0,0.0,0.0,0.0,0.0,0.0,0.0,0.0,0.0,0.0,0.0,0.0,0.0,0.0,0.0,0.0,0.0,0.0,0.0,0.0,0.0,0.0,0.0,0.0,0.0,0.0,0.0,0.0,0.0,0.0,0.0,0.0,0.0,0.0,0.0,0.0,0.0,0.0,0.0,0.0,0.0,0.0,0.0,0.0,0.0,0.0,0.0,0.0,0.0,0.0,0.0,0.0,0.0,0.0,0.0,0.0,0.0,0.0,0.0,0.0,0.0,0.0,0.0,0.0,0.0,0.0,0.0,0.0,0.0,0.0,0.0,0.0,0.0,0.0,0.0,0.0,0.0,0.0,0.0,0.0,0.0,0.0,0.0,0.0,0.0,0.0,0.0,0.0,0.0,0.0,0.0,0.0,0.0,0.0,0.0,0.0,0.0,0.0,0.0,0.0,0.0,0.0,0.0,0.0,0.0,0.0,0.0,0.0,0.0,0.0,0.0,0.0,0.0,0.0,0.0,0.0,0.0,0.0,0.0,0.0,0.0,0.0,0.0,0.0,0.0,0.0,0.0,0.0,0.0,0.0,0.0,0.0,0.0,0.0,0.0,0.0,0.0,0.0,0.0,0.0,0.0,0.0,0.0,0.0,0.0,0.0,0.0,0.0,0.0,0.0,0.0,0.0,0.0,0.0,0.0,0.0,0.0,0.0,0.0,0.0,0.0,0.0,0.0,0.0,0.0,0.0,0.0,0.0,0.0,0.0,0.0,0.0,0.0,0.0,0.0,0.0,0.0,0.0,0.0,0.0,0.0,0.0,0.0,0.0,0.0,0.0,0.0,0.0,0.0,0.0,0.0,0.0,0.0,0.0,0.0,0.0,0.0,0.0,0.0,0.0,0.0,0.0,0.0,0.0,0.0,0.0,0.0,0.0,0.0,0.0,0.0,0.0,0.0,0.0,0.0,0.0,0.0,0.0,0.0,0.0,0.0,0.0,0.0,0.0,0.0,0.0,0.0,0.0,0.0,0.0,0.0,0.0,0.0,0.0,0.0,0.0,0.0,0.0,0.0,0.0,0.0,0.0,0.0,0.0,0.0,0.0,0.0,0.0,0.0,0.0,0.0,0.0,0.0,0.0,0.0,0.0,0.0,0.0,0.0,0.0,0.0,0.0,0.0,0.0,0.0,0.0,0.0,0.0,0.0,0.0,0.0,0.0,0.0,0.0,0.0,0.0,0.0,0.0,0.0,0.0,0.0,0.0,0.0,0.0,0.0,0.0,0.0,0.0,0.0,0.0,0.0,0.0,0.0,0.0,0.0,0.0,0.0,0.0,0.0,0.0,0.0,0.0,0.0,0.0,0.0,0.0,0.0,0.0,0.0,0.0,0.0,0.0,0.0,0.0,0.0,0.0,0.0,0.0,0.0,0.0,0.0,0.0,0.0,0.0,0.0,0.0,0.0,0.0,0.0,0.0,0.0,0.0,0.0,0.0,0.0,0.0,0.0,0.0,0.0,0.0,0.0,0.0,0.0,0.0,0.0,0.0,0.0,0.0,0.0,0.0,0.0,0.0,0.0,0.0,0.0,0.0,0.0,0.0,0.0,0.0,0.0,0.0,0.0,0.0,0.0,0.0,0.0,0.0,0.0,0.0,0.0,0.0,0.0,0.0,0.0,0.0,0.0,0.0,0.0,0.0,0.0,0.0,0.0,0.0,0.0,0.0,0.0,0.0,0.0,0.0,0.0,0.0,0.0,0.0,0.0,0.0,0.0,0.0,0.0,0.0,0.0,0.0,0.0,0.0,0.0,0.0,0.0,0.0,0.0,0.0,0.0,0.0,0.0,0.0,0.0,0.0,0.0,0.0,0.0,0.0,0.0,0.0,0.0,0.0,0.0,0.0,0.0,1.7001e-319,1.193949346e-315,7.95481779789e-312,5.02418685249062e-308,3.008102024518213e-304,1.707302886221182e-300,9.18585996291186e-297,4.6851154755328884e-293,2.2652284737156105e-289,1.0382333086412024e-285,4.510961670364993e-282,1.8579522544075662e-278,7.254227895014062e-275,2.6849677526263483e-271,9.420591808900494e-268,3.133347280358689e-264,9.879389565623547e-261,2.952860451142956e-257,8.366560748068467e-254,2.2472026979258086e-250,5.721748438457313e-247,1.381040787708708e-243,3.1599156077557887e-240,6.853867370257168e-237,1.409247073123366e-233,2.7468175922271555e-230,5.07532353407241e-227,8.88973628023488e-224,1.4760642307223244e-220,2.323340527122944e-217,3.4666637032616877e-214,4.903450459278872e-211,6.57480843622709e-208,8.357100961796732e-205,1.0069767130863743e-201,1.1502028493865089e-198,1.245433904086307e-195,1.2783746869582142e-192,1.2439040284440947e-189,1.1473787949904751e-186,1.0032703963004842e-183,8.316113523004045e-181,6.534525456284816e-178,4.867421234306317e-175,3.436964480651593e-172,2.3006067452639198e-169,1.459825571845134e-166,8.781137515546045e-164,5.007164081424008e-161,2.7066001481214236e-158,1.3869078702115952e-155,6.736935002411541e-153,3.1021895840657435e-150,1.354146172773949e-147,5.6034305198715734e-145,2.1980302708967482e-142,8.173434382294212e-140,2.881155675961429e-137,9.627645766915404e-135,3.049753328074272e-132,9.157998295575213e-130,2.6069195929558796e-127,7.034705925894858e-125,1.799515084832563e-122,4.363713902402005e-120,1.0031093540484087e-117,2.1859062133913047e-115,4.5155016172085875e-113,8.84243168188954e-111,1.6414537758420596e-108,2.8885296832326375e-106,4.818548622233642e-104,7.619858204936245e-102,1.1422699904990275e-99,1.6232367928192423e-97,2.186684981033681e-95,2.7924268127743716e-93,3.3804040247601363e-91,3.879240043108465e-89,4.220033819131558e-87,4.3518752952989746e-85,4.254300726400266e-83,3.9424951079819314e-81,3.46342169957672e-79,2.8842361607541966e-77,2.27691854632057e-75,1.7039443430339412e-73,1.2088002712607635e-71,8.12914604240469e-70,5.1823475615942004e-68,3.13183865324111e-66,1.7941694473352593e-64,9.743584752995453e-63,5.01608989170039e-61,2.447953069999796e-59,1.1324840598091267e-57,4.96652174585334e-56,2.0647326156465437e-54,8.137041450448707e-53,3.039908220250644e-51,1.0765783663497625e-49,3.6142821972149025e-48,1.1502432726262365e-46,3.4701526420006335e-45,9.924272681728744e-44,2.6905435856577973e-42,6.914688310060871e-41,1.684598533571847e-39,3.8905541245782636e-38,8.517609746581336e-37,1.7677272137368155e-35,3.477795097650672e-34,6.486104887043858e-33,1.1467141646807708e-31,1.9218417341823744e-30,3.05331278709933e-29,4.598500162625115e-28,6.565266338282378e-27,8.885456098038891e-26,1.13998289509182e-24,1.3864626605415745e-23,1.5984875353300046e-22,1.7470348305846565e-21,1.8100272215113544e-20,1.7777057719608258e-19,1.6551063005980325e-18,1.4607743508947494e-17,1.2221699763693527e-16,9.693292546018235e-16,7.287897614015559e-15,5.194269019306219e-14,3.5094402112551006e-13,2.2477214522541937e-12,1.364703691747048e-11,7.854625362489369e-11,4.285522879728039e-10,2.2165288780442352e-09,1.086761396003451e-08,5.051103242497127e-08,2.2255098517495975e-07,9.295313253863033e-07,3.680355513491512e-06,1.3813595933445716e-05,4.9149030683487414e-05,0.0001657732299312844,0.0005300356425114504,0.001606523134060327,0.00461593969128962,0.012572582713696273,0.03246236154068283,0.07945604656311457,0.18435929037416565,0.40550324738221605,0.845502465872799,1.6711931769762,3.131335938965944,5.56190932643867,9.365034458909546,14.948103226415505,22.617991167818513,32.44241723176548,44.1126972990754,56.859790551874184,69.4765317886679,80.47523231908286,88.36445043862103,91.97804107228497,90.75738293660496,84.89282887839501,75.27508953166985,63.27363559286556,50.41799031901114,38.08373244616773,27.26997335301417,18.51062808400095,11.911016597913896,7.265537320338983,4.201243749258907,2.3029221345501627,1.1966629969449318,0.5894618507881841,0.2752521867909162,0.12184201871928028,0.0511275082143659,0.02033777328409413,0.007669082497577282,0.0027414141540973162,0.0009289602375473427,0.0002984082549565105,9.086900530157777e-05,2.623082490483847e-05,7.17793227148495e-06,1.8619927994058452e-06,4.578759908400312e-07,1.0673552217662552e-07,2.3586381567273628e-08,4.940886689975185e-09,9.811597001249635e-10,1.8469950973875507e-10,3.295968229701494e-11,5.5755989070273734e-12,8.9411064411899e-13,1.359196473722051e-13,1.9586843194293792e-14,2.6757028868808644e-15,3.4649945927505523e-16,4.2536178375481223e-17,4.950004675441894e-18,5.4606454950008515e-19,5.710492826232644e-20,5.661016631858712e-21,5.319937188252223e-22,4.739252106850689e-23,4.002251280847475e-24,3.2039824315653212e-25,2.431460020962612e-26,1.7491835060224062e-27,1.1928747537631127e-28,7.711618813472594e-30,4.725932283719224e-31,2.745495069332561e-32,1.5119766178195752e-33,7.893338275125503e-35,3.906317945495826e-36,1.8325916170007855e-37,8.149951715116819e-39,3.4358611847137813e-40,1.3731165951489942e-41,5.2020012955634335e-43,1.8682058574109477e-44,6.360192144232028e-46,2.0526125317641733e-47,6.279642923658902e-49,1.8211853829948818e-50,5.006850176240634e-52,1.3048670633957238e-53,3.2237338214548113e-55,7.549936786937509e-57,1.6761724128702255e-58,3.5276484199356327e-60,7.037900697392233e-62,1.3310433740420773e-63,2.3863410617490694e-65,4.0556834811713256e-67,6.53411579896515e-69,9.979317336413301e-71,1.4447944768356129e-72,1.982907912002392e-74,2.579825028865346e-76,3.181772994253182e-78,3.719969372268557e-80,4.1228807202746347e-82,4.331650515364222e-84,4.314170278488837e-86,4.0731686135164765e-88,3.645513643495347e-90,3.092974223159357e-92,2.487626110490104e-94,1.8966410494677513e-96,1.3708073313491614e-98,9.392018175500399e-101,6.100039729257554e-103,3.755758303344971e-105,2.1920670896783364e-107,1.212833770318773e-109,6.3612132289850105e-112,3.1627863747118936e-114,1.4907025632645266e-116,6.660446904987097e-119,2.8210252685989825e-121,1.1326658722732366e-123,4.311097921954434e-126,1.5554827279771274e-128,5.320270722470725e-131,1.7250174956210784e-133,5.302058432678411e-136,1.544851534153519e-138,4.266976201128491e-141,1.1172360122955405e-143,2.773070205935376e-146,6.524812510600519e-149,1.4553466219152055e-151,3.077202529872591e-154,6.167894729342102e-157,1.1719499316788042e-159,2.110923023133307e-162,3.6043500999030678e-165,5.83408528738436e-168,8.951788488546075e-171,1.3020812467292096e-173,1.7953849862759407e-176,2.3467581108138e-179,2.9078386133182696e-182,3.415572469048797e-185,3.803189301008279e-188,4.014427456272736e-191,4.016895366744541e-194,3.810207762864166e-197,3.426084176595494e-200,2.920375080533053e-203,2.3597743281223047e-206,1.807563419135563e-209,1.312525798363916e-212,9.034692725018761e-216,5.895357658945462e-219,3.646684261336478e-222,2.138343154755115e-225,1.1886332426233192e-228,6.2633917610378276e-232,3.128689859993818e-235,1.4815171591226097e-238,6.650313067578932e-242,2.8298846167221635e-245,1.1415280813634687e-248,4.365115142900347e-252,1.5823262825188968e-255,5.437354051909907e-259,1.7712114755414063e-262,5.469460056425467e-266,1.601067810240997e-269,4.442896849553395e-273,1.1687293971074024e-276,2.914425371200546e-280,6.889427641936199e-284,1.543848146621232e-287,3.279572617311768e-291,6.604214278233236e-295,1.2607131803891706e-298,2.2814064448280057e-302,3.913634539084766e-306,6.36427746692227e-310,9.8109073894e-314,1.433661e-317,2.283e-321,0.0,0.0,0.0,0.0,0.0,0.0,0.0,0.0,0.0,0.0,0.0,0.0,0.0,0.0,0.0,0.0,0.0,0.0,0.0,0.0,0.0,0.0,0.0,0.0,0.0,0.0,0.0,0.0,0.0,0.0,0.0,0.0,0.0,0.0,0.0,0.0,0.0,0.0,0.0,0.0,0.0,0.0,0.0,0.0,0.0,0.0,0.0,0.0,0.0,0.0,0.0,0.0,0.0,0.0,0.0,0.0,0.0,0.0,0.0,0.0,0.0,0.0,0.0,0.0,0.0,0.0,0.0,0.0,0.0,0.0,0.0,0.0,0.0,0.0,0.0,0.0,0.0,0.0,0.0,0.0,0.0,0.0,0.0],\"type\":\"scatter\"}],                        {\"template\":{\"data\":{\"barpolar\":[{\"marker\":{\"line\":{\"color\":\"#E5ECF6\",\"width\":0.5},\"pattern\":{\"fillmode\":\"overlay\",\"size\":10,\"solidity\":0.2}},\"type\":\"barpolar\"}],\"bar\":[{\"error_x\":{\"color\":\"#2a3f5f\"},\"error_y\":{\"color\":\"#2a3f5f\"},\"marker\":{\"line\":{\"color\":\"#E5ECF6\",\"width\":0.5},\"pattern\":{\"fillmode\":\"overlay\",\"size\":10,\"solidity\":0.2}},\"type\":\"bar\"}],\"carpet\":[{\"aaxis\":{\"endlinecolor\":\"#2a3f5f\",\"gridcolor\":\"white\",\"linecolor\":\"white\",\"minorgridcolor\":\"white\",\"startlinecolor\":\"#2a3f5f\"},\"baxis\":{\"endlinecolor\":\"#2a3f5f\",\"gridcolor\":\"white\",\"linecolor\":\"white\",\"minorgridcolor\":\"white\",\"startlinecolor\":\"#2a3f5f\"},\"type\":\"carpet\"}],\"choropleth\":[{\"colorbar\":{\"outlinewidth\":0,\"ticks\":\"\"},\"type\":\"choropleth\"}],\"contourcarpet\":[{\"colorbar\":{\"outlinewidth\":0,\"ticks\":\"\"},\"type\":\"contourcarpet\"}],\"contour\":[{\"colorbar\":{\"outlinewidth\":0,\"ticks\":\"\"},\"colorscale\":[[0.0,\"#0d0887\"],[0.1111111111111111,\"#46039f\"],[0.2222222222222222,\"#7201a8\"],[0.3333333333333333,\"#9c179e\"],[0.4444444444444444,\"#bd3786\"],[0.5555555555555556,\"#d8576b\"],[0.6666666666666666,\"#ed7953\"],[0.7777777777777778,\"#fb9f3a\"],[0.8888888888888888,\"#fdca26\"],[1.0,\"#f0f921\"]],\"type\":\"contour\"}],\"heatmapgl\":[{\"colorbar\":{\"outlinewidth\":0,\"ticks\":\"\"},\"colorscale\":[[0.0,\"#0d0887\"],[0.1111111111111111,\"#46039f\"],[0.2222222222222222,\"#7201a8\"],[0.3333333333333333,\"#9c179e\"],[0.4444444444444444,\"#bd3786\"],[0.5555555555555556,\"#d8576b\"],[0.6666666666666666,\"#ed7953\"],[0.7777777777777778,\"#fb9f3a\"],[0.8888888888888888,\"#fdca26\"],[1.0,\"#f0f921\"]],\"type\":\"heatmapgl\"}],\"heatmap\":[{\"colorbar\":{\"outlinewidth\":0,\"ticks\":\"\"},\"colorscale\":[[0.0,\"#0d0887\"],[0.1111111111111111,\"#46039f\"],[0.2222222222222222,\"#7201a8\"],[0.3333333333333333,\"#9c179e\"],[0.4444444444444444,\"#bd3786\"],[0.5555555555555556,\"#d8576b\"],[0.6666666666666666,\"#ed7953\"],[0.7777777777777778,\"#fb9f3a\"],[0.8888888888888888,\"#fdca26\"],[1.0,\"#f0f921\"]],\"type\":\"heatmap\"}],\"histogram2dcontour\":[{\"colorbar\":{\"outlinewidth\":0,\"ticks\":\"\"},\"colorscale\":[[0.0,\"#0d0887\"],[0.1111111111111111,\"#46039f\"],[0.2222222222222222,\"#7201a8\"],[0.3333333333333333,\"#9c179e\"],[0.4444444444444444,\"#bd3786\"],[0.5555555555555556,\"#d8576b\"],[0.6666666666666666,\"#ed7953\"],[0.7777777777777778,\"#fb9f3a\"],[0.8888888888888888,\"#fdca26\"],[1.0,\"#f0f921\"]],\"type\":\"histogram2dcontour\"}],\"histogram2d\":[{\"colorbar\":{\"outlinewidth\":0,\"ticks\":\"\"},\"colorscale\":[[0.0,\"#0d0887\"],[0.1111111111111111,\"#46039f\"],[0.2222222222222222,\"#7201a8\"],[0.3333333333333333,\"#9c179e\"],[0.4444444444444444,\"#bd3786\"],[0.5555555555555556,\"#d8576b\"],[0.6666666666666666,\"#ed7953\"],[0.7777777777777778,\"#fb9f3a\"],[0.8888888888888888,\"#fdca26\"],[1.0,\"#f0f921\"]],\"type\":\"histogram2d\"}],\"histogram\":[{\"marker\":{\"pattern\":{\"fillmode\":\"overlay\",\"size\":10,\"solidity\":0.2}},\"type\":\"histogram\"}],\"mesh3d\":[{\"colorbar\":{\"outlinewidth\":0,\"ticks\":\"\"},\"type\":\"mesh3d\"}],\"parcoords\":[{\"line\":{\"colorbar\":{\"outlinewidth\":0,\"ticks\":\"\"}},\"type\":\"parcoords\"}],\"pie\":[{\"automargin\":true,\"type\":\"pie\"}],\"scatter3d\":[{\"line\":{\"colorbar\":{\"outlinewidth\":0,\"ticks\":\"\"}},\"marker\":{\"colorbar\":{\"outlinewidth\":0,\"ticks\":\"\"}},\"type\":\"scatter3d\"}],\"scattercarpet\":[{\"marker\":{\"colorbar\":{\"outlinewidth\":0,\"ticks\":\"\"}},\"type\":\"scattercarpet\"}],\"scattergeo\":[{\"marker\":{\"colorbar\":{\"outlinewidth\":0,\"ticks\":\"\"}},\"type\":\"scattergeo\"}],\"scattergl\":[{\"marker\":{\"colorbar\":{\"outlinewidth\":0,\"ticks\":\"\"}},\"type\":\"scattergl\"}],\"scattermapbox\":[{\"marker\":{\"colorbar\":{\"outlinewidth\":0,\"ticks\":\"\"}},\"type\":\"scattermapbox\"}],\"scatterpolargl\":[{\"marker\":{\"colorbar\":{\"outlinewidth\":0,\"ticks\":\"\"}},\"type\":\"scatterpolargl\"}],\"scatterpolar\":[{\"marker\":{\"colorbar\":{\"outlinewidth\":0,\"ticks\":\"\"}},\"type\":\"scatterpolar\"}],\"scatter\":[{\"fillpattern\":{\"fillmode\":\"overlay\",\"size\":10,\"solidity\":0.2},\"type\":\"scatter\"}],\"scatterternary\":[{\"marker\":{\"colorbar\":{\"outlinewidth\":0,\"ticks\":\"\"}},\"type\":\"scatterternary\"}],\"surface\":[{\"colorbar\":{\"outlinewidth\":0,\"ticks\":\"\"},\"colorscale\":[[0.0,\"#0d0887\"],[0.1111111111111111,\"#46039f\"],[0.2222222222222222,\"#7201a8\"],[0.3333333333333333,\"#9c179e\"],[0.4444444444444444,\"#bd3786\"],[0.5555555555555556,\"#d8576b\"],[0.6666666666666666,\"#ed7953\"],[0.7777777777777778,\"#fb9f3a\"],[0.8888888888888888,\"#fdca26\"],[1.0,\"#f0f921\"]],\"type\":\"surface\"}],\"table\":[{\"cells\":{\"fill\":{\"color\":\"#EBF0F8\"},\"line\":{\"color\":\"white\"}},\"header\":{\"fill\":{\"color\":\"#C8D4E3\"},\"line\":{\"color\":\"white\"}},\"type\":\"table\"}]},\"layout\":{\"annotationdefaults\":{\"arrowcolor\":\"#2a3f5f\",\"arrowhead\":0,\"arrowwidth\":1},\"autotypenumbers\":\"strict\",\"coloraxis\":{\"colorbar\":{\"outlinewidth\":0,\"ticks\":\"\"}},\"colorscale\":{\"diverging\":[[0,\"#8e0152\"],[0.1,\"#c51b7d\"],[0.2,\"#de77ae\"],[0.3,\"#f1b6da\"],[0.4,\"#fde0ef\"],[0.5,\"#f7f7f7\"],[0.6,\"#e6f5d0\"],[0.7,\"#b8e186\"],[0.8,\"#7fbc41\"],[0.9,\"#4d9221\"],[1,\"#276419\"]],\"sequential\":[[0.0,\"#0d0887\"],[0.1111111111111111,\"#46039f\"],[0.2222222222222222,\"#7201a8\"],[0.3333333333333333,\"#9c179e\"],[0.4444444444444444,\"#bd3786\"],[0.5555555555555556,\"#d8576b\"],[0.6666666666666666,\"#ed7953\"],[0.7777777777777778,\"#fb9f3a\"],[0.8888888888888888,\"#fdca26\"],[1.0,\"#f0f921\"]],\"sequentialminus\":[[0.0,\"#0d0887\"],[0.1111111111111111,\"#46039f\"],[0.2222222222222222,\"#7201a8\"],[0.3333333333333333,\"#9c179e\"],[0.4444444444444444,\"#bd3786\"],[0.5555555555555556,\"#d8576b\"],[0.6666666666666666,\"#ed7953\"],[0.7777777777777778,\"#fb9f3a\"],[0.8888888888888888,\"#fdca26\"],[1.0,\"#f0f921\"]]},\"colorway\":[\"#636efa\",\"#EF553B\",\"#00cc96\",\"#ab63fa\",\"#FFA15A\",\"#19d3f3\",\"#FF6692\",\"#B6E880\",\"#FF97FF\",\"#FECB52\"],\"font\":{\"color\":\"#2a3f5f\"},\"geo\":{\"bgcolor\":\"white\",\"lakecolor\":\"white\",\"landcolor\":\"#E5ECF6\",\"showlakes\":true,\"showland\":true,\"subunitcolor\":\"white\"},\"hoverlabel\":{\"align\":\"left\"},\"hovermode\":\"closest\",\"mapbox\":{\"style\":\"light\"},\"paper_bgcolor\":\"white\",\"plot_bgcolor\":\"#E5ECF6\",\"polar\":{\"angularaxis\":{\"gridcolor\":\"white\",\"linecolor\":\"white\",\"ticks\":\"\"},\"bgcolor\":\"#E5ECF6\",\"radialaxis\":{\"gridcolor\":\"white\",\"linecolor\":\"white\",\"ticks\":\"\"}},\"scene\":{\"xaxis\":{\"backgroundcolor\":\"#E5ECF6\",\"gridcolor\":\"white\",\"gridwidth\":2,\"linecolor\":\"white\",\"showbackground\":true,\"ticks\":\"\",\"zerolinecolor\":\"white\"},\"yaxis\":{\"backgroundcolor\":\"#E5ECF6\",\"gridcolor\":\"white\",\"gridwidth\":2,\"linecolor\":\"white\",\"showbackground\":true,\"ticks\":\"\",\"zerolinecolor\":\"white\"},\"zaxis\":{\"backgroundcolor\":\"#E5ECF6\",\"gridcolor\":\"white\",\"gridwidth\":2,\"linecolor\":\"white\",\"showbackground\":true,\"ticks\":\"\",\"zerolinecolor\":\"white\"}},\"shapedefaults\":{\"line\":{\"color\":\"#2a3f5f\"}},\"ternary\":{\"aaxis\":{\"gridcolor\":\"white\",\"linecolor\":\"white\",\"ticks\":\"\"},\"baxis\":{\"gridcolor\":\"white\",\"linecolor\":\"white\",\"ticks\":\"\"},\"bgcolor\":\"#E5ECF6\",\"caxis\":{\"gridcolor\":\"white\",\"linecolor\":\"white\",\"ticks\":\"\"}},\"title\":{\"x\":0.05},\"xaxis\":{\"automargin\":true,\"gridcolor\":\"white\",\"linecolor\":\"white\",\"ticks\":\"\",\"title\":{\"standoff\":15},\"zerolinecolor\":\"white\",\"zerolinewidth\":2},\"yaxis\":{\"automargin\":true,\"gridcolor\":\"white\",\"linecolor\":\"white\",\"ticks\":\"\",\"title\":{\"standoff\":15},\"zerolinecolor\":\"white\",\"zerolinewidth\":2}}},\"title\":{\"text\":\"Propor\\u00e7\\u00e3o de aprova\\u00e7\\u00e3o das empresas A e B\"},\"xaxis\":{\"title\":{\"text\":\"y\"}},\"yaxis\":{\"title\":{\"text\":\"Densidade de probabilidade\"}}},                        {\"responsive\": true}                    ).then(function(){\n",
       "                            \n",
       "var gd = document.getElementById('7fdb867b-35a1-41b4-a6fe-c2549d380a1c');\n",
       "var x = new MutationObserver(function (mutations, observer) {{\n",
       "        var display = window.getComputedStyle(gd).display;\n",
       "        if (!display || display === 'none') {{\n",
       "            console.log([gd, 'removed!']);\n",
       "            Plotly.purge(gd);\n",
       "            observer.disconnect();\n",
       "        }}\n",
       "}});\n",
       "\n",
       "// Listen for the removal of the full notebook cells\n",
       "var notebookContainer = gd.closest('#notebook-container');\n",
       "if (notebookContainer) {{\n",
       "    x.observe(notebookContainer, {childList: true});\n",
       "}}\n",
       "\n",
       "// Listen for the clearing of the current output cell\n",
       "var outputEl = gd.closest('.output');\n",
       "if (outputEl) {{\n",
       "    x.observe(outputEl, {childList: true});\n",
       "}}\n",
       "\n",
       "                        })                };                });            </script>        </div>"
      ]
     },
     "metadata": {},
     "output_type": "display_data"
    }
   ],
   "source": [
    "gráfico_das_duas_empresas(empresa_A, empresa_B, False)"
   ]
  },
  {
   "cell_type": "markdown",
   "id": "f91f4385-ccdb-4570-a631-e54dfde0d7db",
   "metadata": {
    "editable": true,
    "slideshow": {
     "slide_type": "slide"
    },
    "tags": []
   },
   "source": [
    "## A abordagem certa: teste de hipótese\n",
    "\n",
    "Teste de hipótese entre duas amostras.\n",
    "\n",
    "$$\n",
    "\\begin{align}\n",
    "H_0: &\\quad p_A = p_B \\\\\n",
    "H_a: &\\quad p_A > p_B\n",
    "\\end{align}\n",
    "$$\n",
    "\n",
    "$p_A$ é o **parâmetro** que caracteriza o **modelo** que representa o app da empresa $A$.\n",
    "\n",
    "Exemplo: se $p_A = 1$, **toda a população** avalia o app como \"bom\"; se $p_A = 0.5$, metade da população avalia o app como \"bom\".\n",
    "\n",
    "Analogamente para $p_B$."
   ]
  },
  {
   "cell_type": "markdown",
   "id": "bec9c4a9-3671-4aad-b0f9-dab313600125",
   "metadata": {
    "editable": true,
    "slideshow": {
     "slide_type": "skip"
    },
    "tags": []
   },
   "source": [
    "\n",
    "### Note:\n",
    "- $\\hat p_A$ (=`empresa_A.p`) é um **estimador pontual** de $p_A$.\n",
    "- É $p_A$ que queremos **inferir**. Ou seja, avaliando $\\hat p_A$ numa amostra, _inferimos_ $p_A$."
   ]
  },
  {
   "cell_type": "markdown",
   "id": "5404923d-0b3e-4fed-b538-aed7c3bbc67c",
   "metadata": {
    "editable": true,
    "slideshow": {
     "slide_type": "slide"
    },
    "tags": []
   },
   "source": [
    "## Nível de confiança e significância; e valor crítico\n",
    "\n",
    "Essa é uma escolha que fazemos. Na falta de um critério melhor, escolhemos o **nível de significância** padrão de 5% ou, equivalentemente, num **nível de confiança** de 95%.\n",
    "\n",
    "Essa escolha leva a um **valor crítico** da estatística $z$, que podemos consultar numa tabela (aqui, por exemplo) ou usando Python:"
   ]
  },
  {
   "cell_type": "code",
   "execution_count": 15,
   "id": "0406ad14-3788-4635-a339-5e0c02968b76",
   "metadata": {
    "editable": true,
    "slideshow": {
     "slide_type": ""
    },
    "tags": []
   },
   "outputs": [
    {
     "data": {
      "text/plain": [
       "1.6448536269514722"
      ]
     },
     "execution_count": 15,
     "metadata": {},
     "output_type": "execute_result"
    }
   ],
   "source": [
    "from scipy.stats import norm\n",
    "\n",
    "norm.ppf(0.95)  # ppf = Percent point function"
   ]
  },
  {
   "cell_type": "markdown",
   "id": "57b132b9-7092-4229-947d-05730fb25a44",
   "metadata": {
    "editable": true,
    "slideshow": {
     "slide_type": ""
    },
    "tags": []
   },
   "source": [
    "<div style=\"display: flex; align-items: center;\">\n",
    "    <!-- Thinking emoji -->\n",
    "    <div style=\"font-size: 32px; margin-right: 10px; margin-top: 15px\">📌</div>\n",
    "    <div style=\"display: flex; align-items: center;\">\n",
    "        <div style=\"padding: 20px; border-radius: 15px; background-color: #f0f0f0; box-shadow: 0 0 10px rgba(0, 0, 0, 0.1); position: relative; margin-left: 20px;\">\n",
    "            <div style=\"content: ''; position: absolute; left: -30px; width: 0; height: 0; border-style: solid; border-width: 10px 30px 10px 0; border-color: transparent #f0f0f0 transparent transparent; top: 50%; transform: translateY(-50%); font-size: 20px\"></div>\n",
    "            <span style=\"font-size: 20px\">O nível de confiança deve ser escolhido <span style=\"font-weight: bold\">antes</span> do teste!</span>\n",
    "        </div>\n",
    "    </div>\n",
    "</div>"
   ]
  },
  {
   "cell_type": "markdown",
   "id": "ad245c55-c580-4e1d-be53-23501a4ce8de",
   "metadata": {
    "editable": true,
    "slideshow": {
     "slide_type": "slide"
    },
    "tags": []
   },
   "source": [
    "## Receita de bolo: teste de duas proporções"
   ]
  },
  {
   "cell_type": "markdown",
   "id": "85d130a2-7382-41bf-971f-eaaa928ff778",
   "metadata": {
    "editable": true,
    "slideshow": {
     "slide_type": "skip"
    },
    "tags": []
   },
   "source": [
    "A forma correta de abordar esse problema é através do chamado **teste $z$ para duas proporções**. Isso porque nós temos duas amostras: a da empresa $A$ e a da $B$. Além disso, estamos usando um teste $z$, que baseia-se na distribuição normal, pois o tamanho de cada amostra é grande (maior que da ordem de 30). Se não fosse, teríamos de usar a distribuição $t$.\n",
    "\n",
    "Para colocar esse teste em prática, precisamos seguir o passo-a-passo abaixo. É meio obscuro, eu sei, mas o que estamos fazendo aqui é basicamente juntando as duas amostras numa só: veja como $\\bar p$, a _proporção média_, é calculada. Já o _desvio padrão médio_ (em Inglês usa-se o termo _pooled_) é uma média ponderada nos graus de liberdade. Mas não vamos entrar nesses detalhes aqui."
   ]
  },
  {
   "cell_type": "markdown",
   "id": "d4747412-794b-4558-aed3-5d237330f1da",
   "metadata": {
    "editable": true,
    "slideshow": {
     "slide_type": ""
    },
    "tags": []
   },
   "source": [
    "$$\n",
    "\\begin{align}\n",
    "x_A &= n_A \\hat p_A \\\\\n",
    "x_B &= n_B \\hat p_B \\\\\n",
    "\\bar p &= \\frac{x_A + x_B}{n_A + n_B} \\\\\n",
    "\\bar q &= 1 - \\bar p \\\\\n",
    "\\bar s &= \\bar p\\bar q\\left(\\frac{1}{n_A}+\\frac{1}{n_B}\\right) \\\\\n",
    "z &= \\frac{\\hat p_A - \\hat p_B}{\\sqrt{\\bar s}} \\qquad\\leftarrow\\text{estatística $z$}\n",
    "\\end{align}\n",
    "$$"
   ]
  },
  {
   "cell_type": "markdown",
   "id": "c01dc523-dddd-4234-9a47-df575edd0093",
   "metadata": {
    "editable": true,
    "slideshow": {
     "slide_type": "subslide"
    },
    "tags": []
   },
   "source": [
    "Reproduzindo as equações acima em Python, fica assim:"
   ]
  },
  {
   "cell_type": "code",
   "execution_count": 16,
   "id": "ed74c51b-578d-4919-9c3a-5e045848600a",
   "metadata": {
    "editable": true,
    "slideshow": {
     "slide_type": ""
    },
    "tags": []
   },
   "outputs": [
    {
     "name": "stdout",
     "output_type": "stream",
     "text": [
      "3.4537762382304362\n"
     ]
    }
   ],
   "source": [
    "x_A = empresa_A.p * empresa_A.n  # Quantidade de sucessos (avaliações \"boas\")\n",
    "x_B = empresa_B.p * empresa_B.n\n",
    "p_médio = (x_A + x_B) / (empresa_A.n + empresa_B.n)\n",
    "q_médio = 1 - p_médio\n",
    "s_médio = np.sqrt(p_médio * q_médio * (1/empresa_A.n + 1/empresa_B.n))\n",
    "z = (empresa_A.p - empresa_B.p) / s_médio  # Estatística z\n",
    "\n",
    "print(z)"
   ]
  },
  {
   "cell_type": "markdown",
   "id": "4366ada6-723e-4ab3-9f83-e9ab94a12d9d",
   "metadata": {
    "editable": true,
    "slideshow": {
     "slide_type": "slide"
    },
    "tags": []
   },
   "source": [
    "A estatística $z$ obtida acima é superior ao valor crítico, de $\\sim 1,645$. Isso significa que, se $p_A = p_B$, esse seria um resultado extremamente improvável de acontecer. É por isso que _aceitamos a hipótese alternativa_ ($H_a$). Na verdade, no espírito do método científico, nós dizemos que **temos evidências suficientes para rejeitar a hipótese nula** com nível de confiança de 95%."
   ]
  },
  {
   "cell_type": "code",
   "execution_count": 17,
   "id": "a7c4f0fe-de74-4259-9532-e6fd45d3cc92",
   "metadata": {
    "editable": true,
    "slideshow": {
     "slide_type": "skip"
    },
    "tags": []
   },
   "outputs": [],
   "source": [
    "def pdf_diferença_pA_pB(z: float):\n",
    "    from scipy.stats import norm\n",
    "    \n",
    "    import plotly.graph_objs as go\n",
    "    import plotly.offline as pyo\n",
    "    from plotly.offline import init_notebook_mode, iplot\n",
    "    \n",
    "    init_notebook_mode(connected=True)\n",
    "    \n",
    "    x = np.linspace(-4, 4, 1000)\n",
    "    y = norm.pdf(x, loc=0, scale=1)\n",
    "    \n",
    "    trace1 = go.Scatter(x=x, y=y, mode='lines', name='Binomial')\n",
    "    \n",
    "    x_fill = np.linspace(z, 4, 1000)\n",
    "    y_fill = norm.pdf(x_fill, 0, 1)\n",
    "    trace2 = go.Scatter(x=x_fill, y=y_fill, fill='tozeroy', fillcolor='rgba(0,100,80,0.3)', mode='none', name='Probabilidade')\n",
    "    \n",
    "    layout = go.Layout(\n",
    "        title='Probabilidade da diferença pA-pB',\n",
    "        xaxis=dict(title='pA-pB'),\n",
    "        yaxis=dict(title='Densidade de probabilidade')\n",
    "    )\n",
    "    \n",
    "    fig = go.Figure(data=[trace1, trace2], layout=layout)\n",
    "    iplot(fig)"
   ]
  },
  {
   "cell_type": "markdown",
   "id": "9c1e5b5c-47eb-4a13-874c-3d0fe05eed9d",
   "metadata": {
    "editable": true,
    "slideshow": {
     "slide_type": "slide"
    },
    "tags": []
   },
   "source": [
    "## A estatística $z$, visualmente\n",
    "\n",
    "O gráfico distingue as regiões separadas pelo **valor crítico $z = 1.6$**. Mas no nosso caso, o **estatística $z \\approx 3.4$**."
   ]
  },
  {
   "cell_type": "code",
   "execution_count": 22,
   "id": "ff982cd1-d10e-461f-96b8-74f5057f92a2",
   "metadata": {
    "editable": true,
    "slideshow": {
     "slide_type": ""
    },
    "tags": []
   },
   "outputs": [
    {
     "data": {
      "text/html": [
       "        <script type=\"text/javascript\">\n",
       "        window.PlotlyConfig = {MathJaxConfig: 'local'};\n",
       "        if (window.MathJax && window.MathJax.Hub && window.MathJax.Hub.Config) {window.MathJax.Hub.Config({SVG: {font: \"STIX-Web\"}});}\n",
       "        if (typeof require !== 'undefined') {\n",
       "        require.undef(\"plotly\");\n",
       "        requirejs.config({\n",
       "            paths: {\n",
       "                'plotly': ['https://cdn.plot.ly/plotly-2.32.0.min']\n",
       "            }\n",
       "        });\n",
       "        require(['plotly'], function(Plotly) {\n",
       "            window._Plotly = Plotly;\n",
       "        });\n",
       "        }\n",
       "        </script>\n",
       "        "
      ]
     },
     "metadata": {},
     "output_type": "display_data"
    },
    {
     "data": {
      "application/vnd.plotly.v1+json": {
       "config": {
        "linkText": "Export to plot.ly",
        "plotlyServerURL": "https://plot.ly",
        "showLink": false
       },
       "data": [
        {
         "mode": "lines",
         "name": "Binomial",
         "type": "scatter",
         "x": [
          -4,
          -3.991991991991992,
          -3.983983983983984,
          -3.975975975975976,
          -3.967967967967968,
          -3.95995995995996,
          -3.951951951951952,
          -3.943943943943944,
          -3.935935935935936,
          -3.9279279279279278,
          -3.91991991991992,
          -3.911911911911912,
          -3.903903903903904,
          -3.895895895895896,
          -3.8878878878878878,
          -3.87987987987988,
          -3.871871871871872,
          -3.863863863863864,
          -3.855855855855856,
          -3.8478478478478477,
          -3.83983983983984,
          -3.831831831831832,
          -3.823823823823824,
          -3.815815815815816,
          -3.8078078078078077,
          -3.7997997997998,
          -3.7917917917917916,
          -3.7837837837837838,
          -3.775775775775776,
          -3.7677677677677677,
          -3.75975975975976,
          -3.7517517517517516,
          -3.7437437437437437,
          -3.735735735735736,
          -3.7277277277277276,
          -3.71971971971972,
          -3.7117117117117115,
          -3.7037037037037037,
          -3.6956956956956954,
          -3.6876876876876876,
          -3.67967967967968,
          -3.6716716716716715,
          -3.6636636636636637,
          -3.6556556556556554,
          -3.6476476476476476,
          -3.6396396396396398,
          -3.6316316316316315,
          -3.6236236236236237,
          -3.6156156156156154,
          -3.6076076076076076,
          -3.5995995995995997,
          -3.5915915915915915,
          -3.5835835835835836,
          -3.5755755755755754,
          -3.5675675675675675,
          -3.5595595595595597,
          -3.5515515515515514,
          -3.5435435435435436,
          -3.5355355355355353,
          -3.5275275275275275,
          -3.5195195195195197,
          -3.5115115115115114,
          -3.5035035035035036,
          -3.4954954954954953,
          -3.4874874874874875,
          -3.4794794794794797,
          -3.4714714714714714,
          -3.4634634634634636,
          -3.4554554554554553,
          -3.4474474474474475,
          -3.4394394394394396,
          -3.4314314314314314,
          -3.4234234234234235,
          -3.4154154154154153,
          -3.4074074074074074,
          -3.3993993993993996,
          -3.3913913913913913,
          -3.3833833833833835,
          -3.3753753753753752,
          -3.3673673673673674,
          -3.3593593593593596,
          -3.3513513513513513,
          -3.3433433433433435,
          -3.335335335335335,
          -3.3273273273273274,
          -3.3193193193193196,
          -3.3113113113113113,
          -3.3033033033033035,
          -3.295295295295295,
          -3.2872872872872874,
          -3.2792792792792795,
          -3.2712712712712713,
          -3.263263263263263,
          -3.255255255255255,
          -3.2472472472472473,
          -3.2392392392392395,
          -3.2312312312312312,
          -3.223223223223223,
          -3.215215215215215,
          -3.2072072072072073,
          -3.1991991991991995,
          -3.191191191191191,
          -3.183183183183183,
          -3.175175175175175,
          -3.1671671671671673,
          -3.159159159159159,
          -3.151151151151151,
          -3.143143143143143,
          -3.135135135135135,
          -3.1271271271271273,
          -3.119119119119119,
          -3.111111111111111,
          -3.103103103103103,
          -3.095095095095095,
          -3.0870870870870872,
          -3.079079079079079,
          -3.071071071071071,
          -3.063063063063063,
          -3.055055055055055,
          -3.047047047047047,
          -3.039039039039039,
          -3.031031031031031,
          -3.023023023023023,
          -3.015015015015015,
          -3.007007007007007,
          -2.998998998998999,
          -2.990990990990991,
          -2.982982982982983,
          -2.974974974974975,
          -2.966966966966967,
          -2.958958958958959,
          -2.950950950950951,
          -2.942942942942943,
          -2.934934934934935,
          -2.926926926926927,
          -2.918918918918919,
          -2.910910910910911,
          -2.9029029029029028,
          -2.894894894894895,
          -2.886886886886887,
          -2.878878878878879,
          -2.8708708708708706,
          -2.8628628628628627,
          -2.854854854854855,
          -2.846846846846847,
          -2.838838838838839,
          -2.8308308308308305,
          -2.8228228228228227,
          -2.814814814814815,
          -2.806806806806807,
          -2.798798798798799,
          -2.7907907907907905,
          -2.7827827827827827,
          -2.774774774774775,
          -2.766766766766767,
          -2.7587587587587588,
          -2.7507507507507505,
          -2.7427427427427427,
          -2.734734734734735,
          -2.726726726726727,
          -2.7187187187187187,
          -2.7107107107107105,
          -2.7027027027027026,
          -2.694694694694695,
          -2.686686686686687,
          -2.6786786786786787,
          -2.6706706706706704,
          -2.6626626626626626,
          -2.6546546546546548,
          -2.646646646646647,
          -2.6386386386386387,
          -2.6306306306306304,
          -2.6226226226226226,
          -2.6146146146146148,
          -2.606606606606607,
          -2.5985985985985987,
          -2.5905905905905904,
          -2.5825825825825826,
          -2.5745745745745747,
          -2.566566566566567,
          -2.5585585585585586,
          -2.5505505505505504,
          -2.5425425425425425,
          -2.5345345345345347,
          -2.5265265265265264,
          -2.5185185185185186,
          -2.5105105105105103,
          -2.5025025025025025,
          -2.4944944944944947,
          -2.4864864864864864,
          -2.4784784784784786,
          -2.4704704704704703,
          -2.4624624624624625,
          -2.4544544544544546,
          -2.4464464464464464,
          -2.4384384384384385,
          -2.4304304304304303,
          -2.4224224224224224,
          -2.4144144144144146,
          -2.4064064064064064,
          -2.3983983983983985,
          -2.3903903903903903,
          -2.3823823823823824,
          -2.3743743743743746,
          -2.3663663663663663,
          -2.358358358358358,
          -2.3503503503503502,
          -2.3423423423423424,
          -2.3343343343343346,
          -2.3263263263263263,
          -2.318318318318318,
          -2.31031031031031,
          -2.3023023023023024,
          -2.2942942942942945,
          -2.2862862862862863,
          -2.278278278278278,
          -2.27027027027027,
          -2.2622622622622623,
          -2.2542542542542545,
          -2.2462462462462462,
          -2.238238238238238,
          -2.23023023023023,
          -2.2222222222222223,
          -2.2142142142142145,
          -2.206206206206206,
          -2.198198198198198,
          -2.19019019019019,
          -2.1821821821821823,
          -2.1741741741741745,
          -2.166166166166166,
          -2.158158158158158,
          -2.15015015015015,
          -2.1421421421421423,
          -2.1341341341341344,
          -2.126126126126126,
          -2.118118118118118,
          -2.11011011011011,
          -2.1021021021021022,
          -2.0940940940940944,
          -2.086086086086086,
          -2.078078078078078,
          -2.07007007007007,
          -2.062062062062062,
          -2.0540540540540544,
          -2.046046046046046,
          -2.038038038038038,
          -2.03003003003003,
          -2.022022022022022,
          -2.014014014014014,
          -2.006006006006006,
          -1.9979979979979978,
          -1.98998998998999,
          -1.9819819819819822,
          -1.973973973973974,
          -1.965965965965966,
          -1.9579579579579578,
          -1.94994994994995,
          -1.9419419419419421,
          -1.9339339339339339,
          -1.925925925925926,
          -1.9179179179179178,
          -1.90990990990991,
          -1.9019019019019021,
          -1.8938938938938938,
          -1.885885885885886,
          -1.8778778778778777,
          -1.86986986986987,
          -1.861861861861862,
          -1.8538538538538538,
          -1.845845845845846,
          -1.8378378378378377,
          -1.82982982982983,
          -1.821821821821822,
          -1.8138138138138138,
          -1.805805805805806,
          -1.7977977977977977,
          -1.7897897897897899,
          -1.7817817817817816,
          -1.7737737737737738,
          -1.765765765765766,
          -1.7577577577577577,
          -1.7497497497497498,
          -1.7417417417417416,
          -1.7337337337337337,
          -1.725725725725726,
          -1.7177177177177176,
          -1.7097097097097098,
          -1.7017017017017015,
          -1.6936936936936937,
          -1.6856856856856859,
          -1.6776776776776776,
          -1.6696696696696698,
          -1.6616616616616615,
          -1.6536536536536537,
          -1.6456456456456459,
          -1.6376376376376376,
          -1.6296296296296298,
          -1.6216216216216215,
          -1.6136136136136137,
          -1.6056056056056058,
          -1.5975975975975976,
          -1.5895895895895897,
          -1.5815815815815815,
          -1.5735735735735736,
          -1.5655655655655654,
          -1.5575575575575575,
          -1.5495495495495497,
          -1.5415415415415414,
          -1.5335335335335336,
          -1.5255255255255253,
          -1.5175175175175175,
          -1.5095095095095097,
          -1.5015015015015014,
          -1.4934934934934936,
          -1.4854854854854853,
          -1.4774774774774775,
          -1.4694694694694697,
          -1.4614614614614614,
          -1.4534534534534536,
          -1.4454454454454453,
          -1.4374374374374375,
          -1.4294294294294296,
          -1.4214214214214214,
          -1.4134134134134135,
          -1.4054054054054053,
          -1.3973973973973974,
          -1.3893893893893896,
          -1.3813813813813813,
          -1.3733733733733735,
          -1.3653653653653652,
          -1.3573573573573574,
          -1.3493493493493496,
          -1.3413413413413413,
          -1.3333333333333335,
          -1.3253253253253252,
          -1.3173173173173174,
          -1.3093093093093096,
          -1.3013013013013013,
          -1.2932932932932935,
          -1.2852852852852852,
          -1.2772772772772774,
          -1.269269269269269,
          -1.2612612612612613,
          -1.2532532532532534,
          -1.2452452452452452,
          -1.2372372372372373,
          -1.229229229229229,
          -1.2212212212212212,
          -1.2132132132132134,
          -1.2052052052052051,
          -1.1971971971971973,
          -1.189189189189189,
          -1.1811811811811812,
          -1.1731731731731734,
          -1.165165165165165,
          -1.1571571571571573,
          -1.149149149149149,
          -1.1411411411411412,
          -1.1331331331331334,
          -1.125125125125125,
          -1.1171171171171173,
          -1.109109109109109,
          -1.1011011011011012,
          -1.0930930930930933,
          -1.085085085085085,
          -1.0770770770770772,
          -1.069069069069069,
          -1.0610610610610611,
          -1.0530530530530529,
          -1.045045045045045,
          -1.0370370370370372,
          -1.029029029029029,
          -1.021021021021021,
          -1.0130130130130128,
          -1.005005005005005,
          -0.9969969969969972,
          -0.9889889889889889,
          -0.9809809809809811,
          -0.9729729729729728,
          -0.964964964964965,
          -0.9569569569569571,
          -0.9489489489489489,
          -0.940940940940941,
          -0.9329329329329328,
          -0.924924924924925,
          -0.9169169169169171,
          -0.9089089089089089,
          -0.900900900900901,
          -0.8928928928928928,
          -0.8848848848848849,
          -0.8768768768768771,
          -0.8688688688688688,
          -0.860860860860861,
          -0.8528528528528527,
          -0.8448448448448449,
          -0.8368368368368371,
          -0.8288288288288288,
          -0.820820820820821,
          -0.8128128128128127,
          -0.8048048048048049,
          -0.796796796796797,
          -0.7887887887887888,
          -0.780780780780781,
          -0.7727727727727727,
          -0.7647647647647648,
          -0.7567567567567566,
          -0.7487487487487487,
          -0.7407407407407409,
          -0.7327327327327327,
          -0.7247247247247248,
          -0.7167167167167166,
          -0.7087087087087087,
          -0.7007007007007009,
          -0.6926926926926926,
          -0.6846846846846848,
          -0.6766766766766765,
          -0.6686686686686687,
          -0.6606606606606609,
          -0.6526526526526526,
          -0.6446446446446448,
          -0.6366366366366365,
          -0.6286286286286287,
          -0.6206206206206208,
          -0.6126126126126126,
          -0.6046046046046047,
          -0.5965965965965965,
          -0.5885885885885886,
          -0.5805805805805808,
          -0.5725725725725725,
          -0.5645645645645647,
          -0.5565565565565564,
          -0.5485485485485486,
          -0.5405405405405403,
          -0.5325325325325325,
          -0.5245245245245247,
          -0.5165165165165164,
          -0.5085085085085086,
          -0.5005005005005003,
          -0.4924924924924925,
          -0.48448448448448467,
          -0.4764764764764764,
          -0.46846846846846857,
          -0.4604604604604603,
          -0.45245245245245247,
          -0.44444444444444464,
          -0.43643643643643637,
          -0.42842842842842854,
          -0.42042042042042027,
          -0.41241241241241244,
          -0.4044044044044046,
          -0.39639639639639634,
          -0.3883883883883885,
          -0.38038038038038025,
          -0.3723723723723724,
          -0.3643643643643646,
          -0.3563563563563563,
          -0.3483483483483485,
          -0.3403403403403402,
          -0.3323323323323324,
          -0.32432432432432456,
          -0.3163163163163163,
          -0.30830830830830847,
          -0.3003003003003002,
          -0.29229229229229237,
          -0.28428428428428454,
          -0.27627627627627627,
          -0.26826826826826844,
          -0.26026026026026017,
          -0.25225225225225234,
          -0.24424424424424407,
          -0.23623623623623624,
          -0.2282282282282284,
          -0.22022022022022014,
          -0.21221221221221231,
          -0.20420420420420404,
          -0.19619619619619622,
          -0.1881881881881884,
          -0.18018018018018012,
          -0.1721721721721723,
          -0.16416416416416402,
          -0.1561561561561562,
          -0.14814814814814836,
          -0.1401401401401401,
          -0.13213213213213226,
          -0.12412412412412399,
          -0.11611611611611616,
          -0.10810810810810834,
          -0.10010010010010006,
          -0.09209209209209224,
          -0.08408408408408397,
          -0.07607607607607614,
          -0.06806806806806831,
          -0.06006006006006004,
          -0.05205205205205221,
          -0.04404404404404394,
          -0.03603603603603611,
          -0.02802802802802784,
          -0.020020020020020013,
          -0.012012012012012185,
          -0.004004004004003914,
          0.004004004004004358,
          0.012012012012012185,
          0.020020020020020013,
          0.02802802802802784,
          0.03603603603603567,
          0.044044044044044384,
          0.05205205205205221,
          0.06006006006006004,
          0.06806806806806787,
          0.0760760760760757,
          0.08408408408408441,
          0.09209209209209224,
          0.10010010010010006,
          0.10810810810810789,
          0.11611611611611572,
          0.12412412412412444,
          0.13213213213213226,
          0.1401401401401401,
          0.14814814814814792,
          0.15615615615615575,
          0.16416416416416446,
          0.1721721721721723,
          0.18018018018018012,
          0.18818818818818794,
          0.19619619619619577,
          0.2042042042042045,
          0.21221221221221231,
          0.22022022022022014,
          0.22822822822822797,
          0.2362362362362358,
          0.2442442442442445,
          0.25225225225225234,
          0.26026026026026017,
          0.268268268268268,
          0.2762762762762758,
          0.28428428428428454,
          0.29229229229229237,
          0.3003003003003002,
          0.308308308308308,
          0.31631631631631585,
          0.32432432432432456,
          0.3323323323323324,
          0.3403403403403402,
          0.34834834834834805,
          0.3563563563563559,
          0.3643643643643646,
          0.3723723723723724,
          0.38038038038038025,
          0.3883883883883881,
          0.3963963963963968,
          0.4044044044044046,
          0.41241241241241244,
          0.42042042042042027,
          0.4284284284284281,
          0.4364364364364368,
          0.44444444444444464,
          0.45245245245245247,
          0.4604604604604603,
          0.4684684684684681,
          0.47647647647647684,
          0.48448448448448467,
          0.4924924924924925,
          0.5005005005005003,
          0.5085085085085082,
          0.5165165165165169,
          0.5245245245245247,
          0.5325325325325325,
          0.5405405405405403,
          0.5485485485485482,
          0.5565565565565569,
          0.5645645645645647,
          0.5725725725725725,
          0.5805805805805804,
          0.5885885885885882,
          0.5965965965965969,
          0.6046046046046047,
          0.6126126126126126,
          0.6206206206206204,
          0.6286286286286282,
          0.6366366366366369,
          0.6446446446446448,
          0.6526526526526526,
          0.6606606606606604,
          0.6686686686686683,
          0.676676676676677,
          0.6846846846846848,
          0.6926926926926926,
          0.7007007007007005,
          0.7087087087087083,
          0.716716716716717,
          0.7247247247247248,
          0.7327327327327327,
          0.7407407407407405,
          0.7487487487487483,
          0.756756756756757,
          0.7647647647647648,
          0.7727727727727727,
          0.7807807807807805,
          0.7887887887887883,
          0.796796796796797,
          0.8048048048048049,
          0.8128128128128127,
          0.8208208208208205,
          0.8288288288288284,
          0.8368368368368371,
          0.8448448448448449,
          0.8528528528528527,
          0.8608608608608606,
          0.8688688688688693,
          0.8768768768768771,
          0.8848848848848849,
          0.8928928928928928,
          0.9009009009009006,
          0.9089089089089093,
          0.9169169169169171,
          0.924924924924925,
          0.9329329329329328,
          0.9409409409409406,
          0.9489489489489493,
          0.9569569569569571,
          0.964964964964965,
          0.9729729729729728,
          0.9809809809809806,
          0.9889889889889893,
          0.9969969969969972,
          1.005005005005005,
          1.0130130130130128,
          1.0210210210210207,
          1.0290290290290294,
          1.0370370370370372,
          1.045045045045045,
          1.0530530530530529,
          1.0610610610610607,
          1.0690690690690694,
          1.0770770770770772,
          1.085085085085085,
          1.0930930930930929,
          1.1011011011011007,
          1.1091091091091094,
          1.1171171171171173,
          1.125125125125125,
          1.133133133133133,
          1.1411411411411407,
          1.1491491491491495,
          1.1571571571571573,
          1.165165165165165,
          1.173173173173173,
          1.1811811811811808,
          1.1891891891891895,
          1.1971971971971973,
          1.2052052052052051,
          1.213213213213213,
          1.2212212212212208,
          1.2292292292292295,
          1.2372372372372373,
          1.2452452452452452,
          1.253253253253253,
          1.2612612612612608,
          1.2692692692692695,
          1.2772772772772774,
          1.2852852852852852,
          1.293293293293293,
          1.3013013013013008,
          1.3093093093093096,
          1.3173173173173174,
          1.3253253253253252,
          1.333333333333333,
          1.3413413413413409,
          1.3493493493493496,
          1.3573573573573574,
          1.3653653653653652,
          1.373373373373373,
          1.381381381381381,
          1.3893893893893896,
          1.3973973973973974,
          1.4054054054054053,
          1.413413413413413,
          1.4214214214214218,
          1.4294294294294296,
          1.4374374374374375,
          1.4454454454454453,
          1.4534534534534531,
          1.4614614614614618,
          1.4694694694694697,
          1.4774774774774775,
          1.4854854854854853,
          1.4934934934934931,
          1.5015015015015019,
          1.5095095095095097,
          1.5175175175175175,
          1.5255255255255253,
          1.5335335335335332,
          1.5415415415415419,
          1.5495495495495497,
          1.5575575575575575,
          1.5655655655655654,
          1.5735735735735732,
          1.581581581581582,
          1.5895895895895897,
          1.5975975975975976,
          1.6056056056056054,
          1.6136136136136132,
          1.621621621621622,
          1.6296296296296298,
          1.6376376376376376,
          1.6456456456456454,
          1.6536536536536532,
          1.661661661661662,
          1.6696696696696698,
          1.6776776776776776,
          1.6856856856856854,
          1.6936936936936933,
          1.701701701701702,
          1.7097097097097098,
          1.7177177177177176,
          1.7257257257257255,
          1.7337337337337333,
          1.741741741741742,
          1.7497497497497498,
          1.7577577577577577,
          1.7657657657657655,
          1.7737737737737733,
          1.781781781781782,
          1.7897897897897899,
          1.7977977977977977,
          1.8058058058058055,
          1.8138138138138133,
          1.821821821821822,
          1.82982982982983,
          1.8378378378378377,
          1.8458458458458455,
          1.8538538538538534,
          1.861861861861862,
          1.86986986986987,
          1.8778778778778777,
          1.8858858858858856,
          1.8938938938938943,
          1.9019019019019021,
          1.90990990990991,
          1.9179179179179178,
          1.9259259259259256,
          1.9339339339339343,
          1.9419419419419421,
          1.94994994994995,
          1.9579579579579578,
          1.9659659659659656,
          1.9739739739739743,
          1.9819819819819822,
          1.98998998998999,
          1.9979979979979978,
          2.0060060060060056,
          2.0140140140140144,
          2.022022022022022,
          2.03003003003003,
          2.038038038038038,
          2.0460460460460457,
          2.0540540540540544,
          2.062062062062062,
          2.07007007007007,
          2.078078078078078,
          2.0860860860860857,
          2.0940940940940944,
          2.1021021021021022,
          2.11011011011011,
          2.118118118118118,
          2.1261261261261257,
          2.1341341341341344,
          2.1421421421421423,
          2.15015015015015,
          2.158158158158158,
          2.1661661661661658,
          2.1741741741741745,
          2.1821821821821823,
          2.19019019019019,
          2.198198198198198,
          2.2062062062062058,
          2.2142142142142145,
          2.2222222222222223,
          2.23023023023023,
          2.238238238238238,
          2.246246246246246,
          2.2542542542542545,
          2.2622622622622623,
          2.27027027027027,
          2.278278278278278,
          2.286286286286286,
          2.2942942942942945,
          2.3023023023023024,
          2.31031031031031,
          2.318318318318318,
          2.326326326326326,
          2.3343343343343346,
          2.3423423423423424,
          2.3503503503503502,
          2.358358358358358,
          2.366366366366366,
          2.3743743743743746,
          2.3823823823823824,
          2.3903903903903903,
          2.398398398398398,
          2.406406406406406,
          2.4144144144144146,
          2.4224224224224224,
          2.4304304304304303,
          2.438438438438438,
          2.446446446446447,
          2.4544544544544546,
          2.4624624624624625,
          2.4704704704704703,
          2.478478478478478,
          2.486486486486487,
          2.4944944944944947,
          2.5025025025025025,
          2.5105105105105103,
          2.518518518518518,
          2.526526526526527,
          2.5345345345345347,
          2.5425425425425425,
          2.5505505505505504,
          2.558558558558558,
          2.566566566566567,
          2.5745745745745747,
          2.5825825825825826,
          2.5905905905905904,
          2.598598598598598,
          2.606606606606607,
          2.6146146146146148,
          2.6226226226226226,
          2.6306306306306304,
          2.6386386386386382,
          2.646646646646647,
          2.6546546546546548,
          2.6626626626626626,
          2.6706706706706704,
          2.6786786786786783,
          2.686686686686687,
          2.694694694694695,
          2.7027027027027026,
          2.7107107107107105,
          2.7187187187187183,
          2.726726726726727,
          2.734734734734735,
          2.7427427427427427,
          2.7507507507507505,
          2.7587587587587583,
          2.766766766766767,
          2.774774774774775,
          2.7827827827827827,
          2.7907907907907905,
          2.7987987987987983,
          2.806806806806807,
          2.814814814814815,
          2.8228228228228227,
          2.8308308308308305,
          2.8388388388388384,
          2.846846846846847,
          2.854854854854855,
          2.8628628628628627,
          2.8708708708708706,
          2.8788788788788784,
          2.886886886886887,
          2.894894894894895,
          2.9029029029029028,
          2.9109109109109106,
          2.9189189189189193,
          2.926926926926927,
          2.934934934934935,
          2.942942942942943,
          2.9509509509509506,
          2.9589589589589593,
          2.966966966966967,
          2.974974974974975,
          2.982982982982983,
          2.9909909909909906,
          2.9989989989989994,
          3.007007007007007,
          3.015015015015015,
          3.023023023023023,
          3.0310310310310307,
          3.0390390390390394,
          3.047047047047047,
          3.055055055055055,
          3.063063063063063,
          3.0710710710710707,
          3.0790790790790794,
          3.0870870870870872,
          3.095095095095095,
          3.103103103103103,
          3.1111111111111107,
          3.1191191191191194,
          3.1271271271271273,
          3.135135135135135,
          3.143143143143143,
          3.1511511511511507,
          3.1591591591591595,
          3.1671671671671673,
          3.175175175175175,
          3.183183183183183,
          3.1911911911911908,
          3.1991991991991995,
          3.2072072072072073,
          3.215215215215215,
          3.223223223223223,
          3.231231231231231,
          3.2392392392392395,
          3.2472472472472473,
          3.255255255255255,
          3.263263263263263,
          3.271271271271271,
          3.2792792792792795,
          3.2872872872872874,
          3.295295295295295,
          3.303303303303303,
          3.311311311311311,
          3.3193193193193196,
          3.3273273273273274,
          3.335335335335335,
          3.343343343343343,
          3.351351351351351,
          3.3593593593593596,
          3.3673673673673674,
          3.3753753753753752,
          3.383383383383383,
          3.391391391391391,
          3.3993993993993996,
          3.4074074074074074,
          3.4154154154154153,
          3.423423423423423,
          3.431431431431431,
          3.4394394394394396,
          3.4474474474474475,
          3.4554554554554553,
          3.463463463463463,
          3.471471471471472,
          3.4794794794794797,
          3.4874874874874875,
          3.4954954954954953,
          3.503503503503503,
          3.511511511511512,
          3.5195195195195197,
          3.5275275275275275,
          3.5355355355355353,
          3.543543543543543,
          3.551551551551552,
          3.5595595595595597,
          3.5675675675675675,
          3.5755755755755754,
          3.583583583583583,
          3.591591591591592,
          3.5995995995995997,
          3.6076076076076076,
          3.6156156156156154,
          3.6236236236236232,
          3.631631631631632,
          3.6396396396396398,
          3.6476476476476476,
          3.6556556556556554,
          3.6636636636636633,
          3.671671671671672,
          3.67967967967968,
          3.6876876876876876,
          3.6956956956956954,
          3.7037037037037033,
          3.711711711711712,
          3.71971971971972,
          3.7277277277277276,
          3.7357357357357355,
          3.7437437437437433,
          3.751751751751752,
          3.75975975975976,
          3.7677677677677677,
          3.7757757757757755,
          3.7837837837837833,
          3.791791791791792,
          3.7997997997998,
          3.8078078078078077,
          3.8158158158158155,
          3.8238238238238234,
          3.831831831831832,
          3.83983983983984,
          3.8478478478478477,
          3.8558558558558556,
          3.8638638638638634,
          3.871871871871872,
          3.87987987987988,
          3.8878878878878878,
          3.8958958958958956,
          3.9039039039039034,
          3.911911911911912,
          3.91991991991992,
          3.9279279279279278,
          3.9359359359359356,
          3.9439439439439443,
          3.951951951951952,
          3.95995995995996,
          3.967967967967968,
          3.9759759759759756,
          3.9839839839839843,
          3.991991991991992,
          4
         ],
         "y": [
          0.00013383022576488537,
          0.0001381820464104976,
          0.0001426662280423074,
          0.0001472864815032544,
          0.00015204661133382119,
          0.0001569505178147822,
          0.00016200219904484992,
          0.00016720575305353023,
          0.00017256537994949638,
          0.00017808538410479,
          0.00018377017637513806,
          0.0001896242763566838,
          0.00019565231467940776,
          0.00020185903533751658,
          0.00020824929805706861,
          0.00021482808070108828,
          0.00022160048171242648,
          0.0002285717225946002,
          0.00023574715043084504,
          0.00024313224044160314,
          0.00025073259858064884,
          0.0002585539641700594,
          0.00026660221257421334,
          0.00027488335791298686,
          0.0002834035558143255,
          0.00029216910620632244,
          0.00030118645614895666,
          0.00031046220270559993,
          0.00032000309585441465,
          0.0003298160414397229,
          0.0003399081041634312,
          0.00035028651061657994,
          0.00036095865235104664,
          0.0003719320889914511,
          0.0003832145513872607,
          0.00039481394480509277,
          0.0004067383521611968,
          0.0004189960372940584,
          0.0004315954482770799,
          0.00044454522077122966,
          0.00045785418141758614,
          0.00047153135126962387,
          0.00048558594926510307,
          0.0005000273957374089,
          0.0005148653159661124,
          0.000530109543766577,
          0.0005457701251183356,
          0.000561857321831991,
          0.0005783816152543497,
          0.0005953537100114529,
          0.0006127845377891921,
          0.0006306852611511047,
          0.0006490672773929725,
          0.0006679422224337958,
          0.0006873219747426652,
          0.0007072186593010809,
          0.0007276446516001658,
          0.0007486125816722454,
          0.0007701353381562253,
          0.0007922260723961207,
          0.0008148982025721397,
          0.0008381654178636029,
          0.0008620416826430069,
          0.000886541240700502,
          0.0009116786194979598,
          0.0009374686344518663,
          0.0009639263932441494,
          0.0009910673001600591,
          0.0010189070604522017,
          0.0010474616847297089,
          0.0010767474933715976,
          0.0011067811209632345,
          0.0011375795207548304,
          0.0011691599691408692,
          0.0012015400701592624,
          0.0012347377600090662,
          0.0012687713115854871,
          0.001303659339030883,
          0.0013394208023004641,
          0.0013760750117412627,
          0.001413641632683005,
          0.0014521406900393772,
          0.0014915925729181976,
          0.001532018039238954,
          0.0015734382203560601,
          0.0016158746256862426,
          0.0016593491473383148,
          0.0017038840647436216,
          0.0017495020492853824,
          0.0017962261689250466,
          0.0018440798928238502,
          0.0018930870959575723,
          0.0019432720637225455,
          0.001994659496530914,
          0.0020472745143930086,
          0.0021011426614847566,
          0.0021562899106979143,
          0.0022127426681709333,
          0.00227052777779815,
          0.0023296725257150068,
          0.002390204644756889,
          0.0024521523188891833,
          0.0025155441876060537,
          0.002580409350295453,
          0.0026467773705677444,
          0.0027146782805453373,
          0.002784142585110614,
          0.00285520126610952,
          0.002927885786507907,
          0.0030022280944979273,
          0.0030782606275515127,
          0.0031560163164180443,
          0.003235528589063281,
          0.0033168313745464274,
          0.003399959106832382,
          0.003484946728535948,
          0.0035718296945948893,
          0.003660643975868637,
          0.0037514260626593196,
          0.0038442129681518886,
          0.0039390422317699125,
          0.004035951922443679,
          0.004134980641787195,
          0.004236167527180521,
          0.004339552254753986,
          0.004445175042270676,
          0.004553076651903554,
          0.004663298392903681,
          0.004775882124155638,
          0.004890870256616671,
          0.00500830575563558,
          0.005128232143147633,
          0.005250693499741717,
          0.00537573446659573,
          0.00550340024727644,
          0.005633736609399753,
          0.0057667898861475005,
          0.005902606977636736,
          0.006041235352137465,
          0.006182723047134838,
          0.006327118670231636,
          0.006474471399887032,
          0.006624830985987414,
          0.006778247750245298,
          0.006934772586421903,
          0.007094456960369461,
          0.007257352909888934,
          0.007423513044398934,
          0.00759299054441176,
          0.007765839160812103,
          0.007942113213934373,
          0.008121867592434317,
          0.00830515775195071,
          0.00849203971355293,
          0.008682570061970006,
          0.008876805943597117,
          0.009074805064275111,
          0.009276625686838978,
          0.009482326628430989,
          0.009691967257574223,
          0.009905607491002465,
          0.010123307790242102,
          0.01034512915794207,
          0.010571133133947601,
          0.010801381791113642,
          0.011035937730853977,
          0.0112748640784219,
          0.011518224477918514,
          0.011766083087024698,
          0.012018504571452648,
          0.012275554099113305,
          0.012537297333995624,
          0.01280380042975411,
          0.013075130023000684,
          0.013351353226297257,
          0.01363253762084536,
          0.013918751248869248,
          0.014210062605689022,
          0.014506540631480273,
          0.014808254702716826,
          0.015115274623293382,
          0.015427670615324716,
          0.015745513309618375,
          0.016068873735817838,
          0.016397823312212994,
          0.016732433835215128,
          0.01707277746849385,
          0.01741892673177269,
          0.01777095448928153,
          0.018128933937862666,
          0.018492938594728423,
          0.01886304228486824,
          0.019239319128102502,
          0.019621843525781713,
          0.020010690147128515,
          0.02040593391522103,
          0.02080764999261595,
          0.021215913766609334,
          0.021630800834134413,
          0.022052386986294355,
          0.022480748192529352,
          0.022915960584417003,
          0.0233581004391047,
          0.02380724416237397,
          0.02426346827133567,
          0.024726849376755778,
          0.02519746416501184,
          0.025675389379679607,
          0.02616070180275011,
          0.02665347823547754,
          0.027153795478858073,
          0.027661730313740668,
          0.028177359480570326,
          0.028700759658764778,
          0.02923200744572589,
          0.029771179335487005,
          0.030318351696997918,
          0.030873600752049094,
          0.031437002552836886,
          0.03200863295917234,
          0.03258856761533513,
          0.03317688192657614,
          0.033773651035270635,
          0.03437894979672511,
          0.03499285275464128,
          0.035615434116240054,
          0.036246767727049725,
          0.03688692704536149,
          0.0375359851163567,
          0.03819401454590996,
          0.03886108747407236,
          0.03953727554823996,
          0.04022264989601193,
          0.04091728109774369,
          0.04162123915880031,
          0.0423345934815158,
          0.04305741283686412,
          0.043789765335848045,
          0.04453171840061165,
          0.04528333873528367,
          0.046044692296557665,
          0.04681584426401662,
          0.047596859010209054,
          0.0483878000704834,
          0.049188730112589375,
          0.049999710906053325,
          0.05082080329133613,
          0.051652067148782344,
          0.0524935613673682,
          0.05334534381325804,
          0.05420747129817849,
          0.0550799995476186,
          0.05596298316886676,
          0.056856475618893065,
          0.0577605291720876,
          0.05867519488786512,
          0.05960052257814575,
          0.06053656077472321,
          0.06148335669653095,
          0.062440956216817015,
          0.06340940383024005,
          0.06438874261989633,
          0.06537901422429118,
          0.0663802588042656,
          0.06739251500989027,
          0.06841581994734047,
          0.06945020914576254,
          0.0704957165241465,
          0.07155237435821646,
          0.0726202132473521,
          0.07369926208155571,
          0.07478954800847619,
          0.07589109640050568,
          0.07700393082196144,
          0.0781280729963669,
          0.07926354277384734,
          0.08041035809865252,
          0.0815685349768227,
          0.08273808744401089,
          0.08391902753347769,
          0.08511136524427226,
          0.08631510850961498,
          0.08753026316549749,
          0.0887568329195139,
          0.08999481931994045,
          0.09124422172507722,
          0.09250503727286848,
          0.09377726085081765,
          0.09506088506621117,
          0.09635590021666912,
          0.09766229426103645,
          0.09898005279063206,
          0.10030915900087167,
          0.10164959366327955,
          0.10300133509790668,
          0.10436435914617026,
          0.10573863914413087,
          0.10712414589622467,
          0.10852084764946465,
          0.10992871006812961,
          0.11134769620895497,
          0.11277776649684232,
          0.11421887870110481,
          0.11567098791226238,
          0.11713404651940532,
          0.11860800418813967,
          0.12009280783913319,
          0.12158840162727487,
          0.12309472692146589,
          0.12461172228505747,
          0.12613932345694964,
          0.12767746333336905,
          0.12922607195033883,
          0.13078507646685686,
          0.13235440114879818,
          0.1339339673535549,
          0.13552369351543045,
          0.13712349513180105,
          0.13873328475005986,
          0.14035297195535862,
          0.1419824633591593,
          0.14362166258861178,
          0.14527047027676968,
          0.146928784053658,
          0.1485964985382077,
          0.1502735053310671,
          0.15195969300830636,
          0.15365494711602484,
          0.15535915016587468,
          0.15707218163151385,
          0.1587939179459973,
          0.1605242325001215,
          0.16226299564173016,
          0.1640100746759936,
          0.16576533386667283,
          0.16752863443837612,
          0.16929983457982128,
          0.1710787894481097,
          0.17286535117402363,
          0.17465936886835493,
          0.17646068862927264,
          0.1782691535507391,
          0.1800846037319805,
          0.18190687628802057,
          0.1837358053612833,
          0.18557122213427082,
          0.18741295484332424,
          0.18926082879347014,
          0.19111466637436092,
          0.19297428707731104,
          0.19483950751343473,
          0.1967101414328897,
          0.1985859997452274,
          0.20046689054085629,
          0.20235261911361765,
          0.20424298798447663,
          0.20613779692633133,
          0.20803684298993794,
          0.20993992053095598,
          0.21184682123811008,
          0.21375733416246984,
          0.21567124574784685,
          0.21758833986230475,
          0.21950839783078424,
          0.22143119846883638,
          0.22335651811746327,
          0.22528413067906253,
          0.22721380765446972,
          0.229145318181096,
          0.23107842907215367,
          0.23301290485696585,
          0.23494850782235188,
          0.23688499805508315,
          0.2388221334854012,
          0.2407596699315897,
          0.2426973611455934,
          0.24463495885967249,
          0.24657221283408468,
          0.24850887090578502,
          0.2504446790381305,
          0.25237938137158134,
          0.25431272027538454,
          0.25624443640022837,
          0.2581742687318562,
          0.2601019546456235,
          0.2620272299619873,
          0.2639498290029111,
          0.26586948464917154,
          0.26778592839855175,
          0.26969889042490386,
          0.27160809963806626,
          0.27351328374461664,
          0.2754141693094443,
          0.2773104818181246,
          0.2792019457400746,
          0.2810882845924742,
          0.2829692210049305,
          0.2848444767848667,
          0.2867137729836161,
          0.28857682996319817,
          0.29043336746375803,
          0.2922831046716453,
          0.2941257602881114,
          0.2959610525986035,
          0.2977886995426301,
          0.29960841878417693,
          0.3014199277826479,
          0.30322294386430826,
          0.30501718429420455,
          0.3068023663485363,
          0.3085782073874558,
          0.3103444249282679,
          0.31210073671900673,
          0.31384686081236074,
          0.31558251563992046,
          0.3173074200867234,
          0.31902129356606623,
          0.32072385609455945,
          0.32241482836739593,
          0.3240939318338044,
          0.3257608887726624,
          0.32741542236823695,
          0.3290572567860276,
          0.3306861172486813,
          0.33230173011194963,
          0.33390382294066223,
          0.335492124584683,
          0.3370663652548239,
          0.33862627659868366,
          0.34017159177638295,
          0.3417020455361677,
          0.34321737428984783,
          0.34471731618804485,
          0.34620161119521503,
          0.34767000116442187,
          0.34912222991182473,
          0.3505580432908556,
          0.35197718926605354,
          0.3533794179865264,
          0.35476448185901127,
          0.3561321356205025,
          0.3574821364104176,
          0.3588142438422734,
          0.36012822007483947,
          0.3614238298827435,
          0.36270084072649544,
          0.36395902282190373,
          0.36519814920885496,
          0.36641799581942547,
          0.3676183415452998,
          0.36879896830446507,
          0.36995966110715417,
          0.3711002081210102,
          0.37222040073544366,
          0.3733200336251559,
          0.3743989048128014,
          0.37545681573076145,
          0.3764935712820047,
          0.3775089799000065,
          0.3785028536077019,
          0.37947500807544804,
          0.38042526267796883,
          0.38135344055025955,
          0.3822593686424251,
          0.38314287777343004,
          0.38400380268373535,
          0.38484198208680004,
          0.38565725871942497,
          0.38644947939091645,
          0.38721849503104894,
          0.3879641607368045,
          0.3886863358178705,
          0.38938488384087316,
          0.39005967267232927,
          0.39071057452029684,
          0.3913374659747055,
          0.39194022804634965,
          0.3925187462045269,
          0.393072910413305,
          0.3936026151664009,
          0.3941077595206576,
          0.3945882471281024,
          0.39504398626657344,
          0.39547488986890045,
          0.3958808755506264,
          0.39626186563625865,
          0.3966177871840368,
          0.3969485720092071,
          0.39725415670579195,
          0.3975344826668462,
          0.39778949610319,
          0.3980191480606099,
          0.39822339443552157,
          0.3984021959890858,
          0.39855551835977193,
          0.398683332074364,
          0.39878561255740275,
          0.3988623401390612,
          0.3989135000614489,
          0.3989390824833429,
          0.3989390824833429,
          0.3989135000614489,
          0.3988623401390612,
          0.39878561255740275,
          0.398683332074364,
          0.39855551835977193,
          0.3984021959890858,
          0.39822339443552157,
          0.3980191480606099,
          0.39778949610319,
          0.3975344826668462,
          0.39725415670579195,
          0.3969485720092071,
          0.3966177871840368,
          0.39626186563625865,
          0.3958808755506264,
          0.39547488986890045,
          0.39504398626657344,
          0.3945882471281024,
          0.3941077595206576,
          0.3936026151664009,
          0.393072910413305,
          0.3925187462045269,
          0.3919402280463497,
          0.3913374659747055,
          0.3907105745202968,
          0.39005967267232927,
          0.38938488384087316,
          0.38868633581787054,
          0.38796416073680456,
          0.3872184950310489,
          0.38644947939091645,
          0.38565725871942497,
          0.3848419820868001,
          0.3840038026837354,
          0.38314287777343004,
          0.3822593686424251,
          0.38135344055025955,
          0.38042526267796883,
          0.3794750080754481,
          0.3785028536077019,
          0.3775089799000065,
          0.3764935712820047,
          0.3754568157307615,
          0.37439890481280147,
          0.3733200336251559,
          0.37222040073544366,
          0.3711002081210102,
          0.3699596611071542,
          0.368798968304465,
          0.3676183415452998,
          0.36641799581942547,
          0.36519814920885496,
          0.3639590228219038,
          0.36270084072649533,
          0.3614238298827435,
          0.36012822007483947,
          0.3588142438422734,
          0.35748213641041765,
          0.35613213562050244,
          0.35476448185901127,
          0.3533794179865264,
          0.35197718926605354,
          0.35055804329085566,
          0.3491222299118247,
          0.34767000116442187,
          0.34620161119521503,
          0.34471731618804485,
          0.34321737428984794,
          0.3417020455361676,
          0.34017159177638295,
          0.33862627659868366,
          0.33706636525482403,
          0.33549212458468314,
          0.3339038229406621,
          0.33230173011194963,
          0.3306861172486813,
          0.3290572567860277,
          0.327415422368237,
          0.32576088877266235,
          0.3240939318338044,
          0.32241482836739593,
          0.3207238560945595,
          0.3190212935660663,
          0.31730742008672336,
          0.31558251563992046,
          0.31384686081236074,
          0.31210073671900684,
          0.31034442492826797,
          0.30857820738745567,
          0.3068023663485363,
          0.30501718429420455,
          0.3032229438643083,
          0.301419927782648,
          0.2996084187841769,
          0.2977886995426301,
          0.2959610525986035,
          0.29412576028811144,
          0.29228310467164537,
          0.29043336746375803,
          0.28857682996319817,
          0.2867137729836161,
          0.2848444767848668,
          0.28296922100493066,
          0.2810882845924742,
          0.2792019457400746,
          0.2773104818181246,
          0.27541416930944446,
          0.27351328374461653,
          0.27160809963806626,
          0.26969889042490386,
          0.26778592839855175,
          0.2658694846491716,
          0.26394982900291103,
          0.2620272299619873,
          0.2601019546456235,
          0.2581742687318562,
          0.2562444364002285,
          0.25431272027538443,
          0.25237938137158134,
          0.2504446790381305,
          0.24850887090578502,
          0.2465722128340848,
          0.2446349588596724,
          0.2426973611455934,
          0.2407596699315897,
          0.2388221334854012,
          0.23688499805508323,
          0.2349485078223518,
          0.23301290485696585,
          0.23107842907215367,
          0.229145318181096,
          0.2272138076544698,
          0.22528413067906244,
          0.22335651811746327,
          0.22143119846883638,
          0.21950839783078432,
          0.21758833986230489,
          0.21567124574784677,
          0.21375733416246984,
          0.21184682123811008,
          0.20993992053095606,
          0.20803684298993805,
          0.20613779692633125,
          0.20424298798447663,
          0.20235261911361765,
          0.20046689054085637,
          0.1985859997452275,
          0.1967101414328896,
          0.19483950751343473,
          0.19297428707731104,
          0.19111466637436103,
          0.18926082879347025,
          0.18741295484332415,
          0.18557122213427082,
          0.1837358053612833,
          0.18190687628802069,
          0.18008460373198062,
          0.17826915355073902,
          0.17646068862927264,
          0.17465936886835493,
          0.1728653511740237,
          0.1710787894481098,
          0.16929983457982128,
          0.16752863443837612,
          0.16576533386667283,
          0.1640100746759937,
          0.16226299564173025,
          0.1605242325001215,
          0.1587939179459973,
          0.15707218163151385,
          0.1553591501658748,
          0.15365494711602493,
          0.15195969300830636,
          0.1502735053310671,
          0.1485964985382077,
          0.14692878405365808,
          0.1452704702767696,
          0.14362166258861178,
          0.1419824633591593,
          0.14035297195535862,
          0.13873328475005994,
          0.13712349513180097,
          0.13552369351543045,
          0.1339339673535549,
          0.13235440114879818,
          0.13078507646685694,
          0.12922607195033875,
          0.12767746333336905,
          0.12613932345694964,
          0.12461172228505747,
          0.12309472692146597,
          0.12158840162727479,
          0.12009280783913319,
          0.11860800418813967,
          0.11713404651940532,
          0.11567098791226245,
          0.11421887870110475,
          0.11277776649684232,
          0.11134769620895497,
          0.10992871006812968,
          0.10852084764946472,
          0.10712414589622457,
          0.10573863914413087,
          0.10436435914617026,
          0.10300133509790675,
          0.10164959366327961,
          0.1003091590008716,
          0.09898005279063206,
          0.09766229426103645,
          0.09635590021666918,
          0.09506088506621124,
          0.09377726085081757,
          0.09250503727286848,
          0.09124422172507722,
          0.08999481931994051,
          0.08875683291951396,
          0.0875302631654974,
          0.08631510850961498,
          0.08511136524427226,
          0.08391902753347777,
          0.08273808744401095,
          0.08156853497682262,
          0.08041035809865252,
          0.07926354277384734,
          0.07812807299636694,
          0.07700393082196148,
          0.07589109640050568,
          0.07478954800847619,
          0.07369926208155571,
          0.07262021324735216,
          0.07155237435821651,
          0.0704957165241465,
          0.06945020914576254,
          0.06841581994734047,
          0.06739251500989032,
          0.06638025880426554,
          0.06537901422429118,
          0.06438874261989633,
          0.06340940383024005,
          0.06244095621681707,
          0.06148335669653089,
          0.06053656077472321,
          0.05960052257814575,
          0.05867519488786512,
          0.05776052917208764,
          0.056856475618893024,
          0.05596298316886676,
          0.0550799995476186,
          0.05420747129817849,
          0.05334534381325809,
          0.052493561367368144,
          0.051652067148782344,
          0.05082080329133613,
          0.049999710906053325,
          0.049188730112589424,
          0.0483878000704834,
          0.047596859010209054,
          0.04681584426401662,
          0.046044692296557665,
          0.04528333873528372,
          0.04453171840061165,
          0.043789765335848045,
          0.04305741283686412,
          0.0423345934815158,
          0.04162123915880035,
          0.04091728109774369,
          0.04022264989601193,
          0.03953727554823996,
          0.03886108747407236,
          0.03819401454590999,
          0.0375359851163567,
          0.03688692704536149,
          0.036246767727049725,
          0.035615434116240054,
          0.034992852754641306,
          0.03437894979672511,
          0.033773651035270635,
          0.03317688192657614,
          0.03258856761533513,
          0.03200863295917237,
          0.031437002552836886,
          0.030873600752049094,
          0.030318351696997918,
          0.029771179335487005,
          0.029232007445725912,
          0.028700759658764778,
          0.028177359480570326,
          0.027661730313740668,
          0.027153795478858073,
          0.02665347823547757,
          0.02616070180275011,
          0.025675389379679607,
          0.02519746416501184,
          0.024726849376755778,
          0.02426346827133569,
          0.02380724416237397,
          0.0233581004391047,
          0.022915960584417003,
          0.022480748192529383,
          0.022052386986294387,
          0.021630800834134413,
          0.021215913766609334,
          0.02080764999261595,
          0.020405933915221046,
          0.020010690147128488,
          0.019621843525781713,
          0.019239319128102502,
          0.01886304228486824,
          0.01849293859472844,
          0.01812893393786264,
          0.01777095448928153,
          0.01741892673177269,
          0.01707277746849385,
          0.016732433835215152,
          0.016397823312212973,
          0.016068873735817838,
          0.015745513309618375,
          0.015427670615324716,
          0.015115274623293401,
          0.014808254702716826,
          0.014506540631480273,
          0.014210062605689022,
          0.013918751248869248,
          0.013632537620845375,
          0.013351353226297257,
          0.013075130023000684,
          0.01280380042975411,
          0.012537297333995624,
          0.012275554099113318,
          0.012018504571452648,
          0.011766083087024698,
          0.011518224477918514,
          0.0112748640784219,
          0.011035937730853991,
          0.010801381791113642,
          0.010571133133947601,
          0.01034512915794207,
          0.010123307790242102,
          0.009905607491002473,
          0.009691967257574223,
          0.009482326628430989,
          0.009276625686838978,
          0.009074805064275111,
          0.008876805943597124,
          0.008682570061970006,
          0.00849203971355293,
          0.00830515775195071,
          0.008121867592434317,
          0.007942113213934383,
          0.007765839160812103,
          0.00759299054441176,
          0.007423513044398934,
          0.007257352909888934,
          0.007094456960369473,
          0.006934772586421903,
          0.006778247750245298,
          0.006624830985987414,
          0.006474471399887032,
          0.006327118670231648,
          0.006182723047134838,
          0.006041235352137465,
          0.005902606977636736,
          0.005766789886147505,
          0.005633736609399748,
          0.00550340024727644,
          0.00537573446659573,
          0.005250693499741717,
          0.005128232143147639,
          0.005008305755635575,
          0.004890870256616671,
          0.004775882124155638,
          0.004663298392903681,
          0.004553076651903562,
          0.004445175042270671,
          0.004339552254753986,
          0.004236167527180521,
          0.004134980641787195,
          0.0040359519224436825,
          0.003939042231769909,
          0.0038442129681518886,
          0.0037514260626593196,
          0.003660643975868637,
          0.0035718296945948928,
          0.0034849467285359447,
          0.003399959106832382,
          0.0033168313745464274,
          0.003235528589063281,
          0.0031560163164180495,
          0.003078260627551507,
          0.0030022280944979273,
          0.002927885786507907,
          0.00285520126610952,
          0.002784142585110619,
          0.0027146782805453347,
          0.0026467773705677444,
          0.002580409350295453,
          0.0025155441876060537,
          0.0024521523188891854,
          0.002390204644756889,
          0.0023296725257150068,
          0.00227052777779815,
          0.0022127426681709333,
          0.002156289910697916,
          0.0021011426614847566,
          0.0020472745143930086,
          0.001994659496530914,
          0.0019432720637225455,
          0.001893087095957574,
          0.0018440798928238502,
          0.0017962261689250466,
          0.0017495020492853824,
          0.0017038840647436249,
          0.0016593491473383163,
          0.0016158746256862426,
          0.0015734382203560601,
          0.001532018039238954,
          0.001491592572918199,
          0.0014521406900393785,
          0.001413641632683005,
          0.0013760750117412627,
          0.0013394208023004641,
          0.0013036593390308852,
          0.0012687713115854895,
          0.0012347377600090662,
          0.0012015400701592624,
          0.0011691599691408692,
          0.0011375795207548324,
          0.0011067811209632366,
          0.0010767474933715976,
          0.0010474616847297089,
          0.0010189070604522017,
          0.0009910673001600609,
          0.0009639263932441477,
          0.0009374686344518663,
          0.0009116786194979598,
          0.000886541240700502,
          0.0008620416826430083,
          0.0008381654178636015,
          0.0008148982025721397,
          0.0007922260723961207,
          0.0007701353381562253,
          0.0007486125816722467,
          0.0007276446516001645,
          0.0007072186593010809,
          0.0006873219747426652,
          0.0006679422224337958,
          0.0006490672773929736,
          0.0006306852611511035,
          0.0006127845377891921,
          0.0005953537100114529,
          0.0005783816152543497,
          0.000561857321831992,
          0.0005457701251183346,
          0.000530109543766577,
          0.0005148653159661124,
          0.0005000273957374089,
          0.00048558594926510393,
          0.000471531351269623,
          0.00045785418141758614,
          0.00044454522077122966,
          0.0004315954482770799,
          0.0004189960372940592,
          0.0004067383521611961,
          0.00039481394480509277,
          0.0003832145513872607,
          0.00037193208899145174,
          0.0003609586523510473,
          0.00035028651061657935,
          0.0003399081041634312,
          0.0003298160414397229,
          0.00032000309585441524,
          0.00031046220270560047,
          0.0003011864561489561,
          0.00029216910620632244,
          0.0002834035558143255,
          0.0002748833579129874,
          0.0002666022125742138,
          0.0002585539641700594,
          0.00025073259858064884,
          0.00024313224044160314,
          0.00023574715043084548,
          0.00022857172259460061,
          0.00022160048171242648,
          0.00021482808070108828,
          0.00020824929805706861,
          0.00020185903533751694,
          0.00019565231467940812,
          0.0001896242763566838,
          0.00018377017637513806,
          0.00017808538410479,
          0.00017256537994949668,
          0.00016720575305352993,
          0.00016200219904484992,
          0.0001569505178147822,
          0.00015204661133382119,
          0.00014728648150325464,
          0.00014266622804230716,
          0.0001381820464104976,
          0.00013383022576488537
         ]
        },
        {
         "fill": "tozeroy",
         "fillcolor": "rgba(0,100,80,0.3)",
         "mode": "none",
         "name": "Probabilidade",
         "type": "scatter",
         "x": [
          1.6,
          1.6024024024024024,
          1.604804804804805,
          1.6072072072072072,
          1.6096096096096097,
          1.612012012012012,
          1.6144144144144146,
          1.6168168168168169,
          1.6192192192192194,
          1.6216216216216217,
          1.624024024024024,
          1.6264264264264265,
          1.6288288288288288,
          1.6312312312312314,
          1.6336336336336337,
          1.6360360360360362,
          1.6384384384384385,
          1.640840840840841,
          1.6432432432432433,
          1.6456456456456456,
          1.6480480480480482,
          1.6504504504504505,
          1.652852852852853,
          1.6552552552552553,
          1.6576576576576578,
          1.6600600600600601,
          1.6624624624624627,
          1.664864864864865,
          1.6672672672672673,
          1.6696696696696698,
          1.672072072072072,
          1.6744744744744746,
          1.676876876876877,
          1.6792792792792794,
          1.6816816816816818,
          1.684084084084084,
          1.6864864864864866,
          1.6888888888888889,
          1.6912912912912914,
          1.6936936936936937,
          1.6960960960960962,
          1.6984984984984985,
          1.700900900900901,
          1.7033033033033034,
          1.705705705705706,
          1.7081081081081082,
          1.7105105105105105,
          1.712912912912913,
          1.7153153153153153,
          1.7177177177177179,
          1.7201201201201202,
          1.7225225225225227,
          1.724924924924925,
          1.7273273273273273,
          1.7297297297297298,
          1.7321321321321321,
          1.7345345345345347,
          1.736936936936937,
          1.7393393393393395,
          1.7417417417417418,
          1.7441441441441443,
          1.7465465465465466,
          1.7489489489489491,
          1.7513513513513514,
          1.7537537537537538,
          1.7561561561561563,
          1.7585585585585586,
          1.760960960960961,
          1.7633633633633634,
          1.765765765765766,
          1.7681681681681682,
          1.7705705705705705,
          1.772972972972973,
          1.7753753753753754,
          1.777777777777778,
          1.7801801801801802,
          1.7825825825825827,
          1.784984984984985,
          1.7873873873873876,
          1.7897897897897899,
          1.7921921921921924,
          1.7945945945945947,
          1.796996996996997,
          1.7993993993993995,
          1.8018018018018018,
          1.8042042042042044,
          1.8066066066066067,
          1.8090090090090092,
          1.8114114114114115,
          1.8138138138138138,
          1.8162162162162163,
          1.8186186186186186,
          1.8210210210210211,
          1.8234234234234235,
          1.825825825825826,
          1.8282282282282283,
          1.8306306306306306,
          1.833033033033033,
          1.8354354354354356,
          1.837837837837838,
          1.8402402402402402,
          1.8426426426426428,
          1.845045045045045,
          1.8474474474474476,
          1.84984984984985,
          1.8522522522522524,
          1.8546546546546547,
          1.857057057057057,
          1.8594594594594596,
          1.8618618618618619,
          1.8642642642642644,
          1.8666666666666667,
          1.8690690690690692,
          1.8714714714714715,
          1.8738738738738738,
          1.8762762762762764,
          1.8786786786786789,
          1.8810810810810812,
          1.8834834834834835,
          1.885885885885886,
          1.8882882882882883,
          1.8906906906906908,
          1.8930930930930931,
          1.8954954954954957,
          1.897897897897898,
          1.9003003003003003,
          1.9027027027027028,
          1.9051051051051051,
          1.9075075075075076,
          1.90990990990991,
          1.9123123123123125,
          1.9147147147147148,
          1.917117117117117,
          1.9195195195195196,
          1.9219219219219221,
          1.9243243243243244,
          1.9267267267267267,
          1.9291291291291293,
          1.9315315315315316,
          1.933933933933934,
          1.9363363363363364,
          1.938738738738739,
          1.9411411411411412,
          1.9435435435435435,
          1.945945945945946,
          1.9483483483483484,
          1.9507507507507509,
          1.9531531531531532,
          1.9555555555555557,
          1.957957957957958,
          1.9603603603603603,
          1.9627627627627628,
          1.9651651651651654,
          1.9675675675675677,
          1.96996996996997,
          1.9723723723723725,
          1.9747747747747748,
          1.9771771771771771,
          1.9795795795795796,
          1.9819819819819822,
          1.9843843843843845,
          1.9867867867867868,
          1.9891891891891893,
          1.9915915915915916,
          1.9939939939939941,
          1.9963963963963964,
          1.998798798798799,
          2.0012012012012015,
          2.0036036036036036,
          2.006006006006006,
          2.0084084084084086,
          2.0108108108108107,
          2.0132132132132132,
          2.0156156156156158,
          2.0180180180180183,
          2.0204204204204204,
          2.022822822822823,
          2.0252252252252254,
          2.027627627627628,
          2.03003003003003,
          2.0324324324324325,
          2.034834834834835,
          2.037237237237237,
          2.0396396396396397,
          2.042042042042042,
          2.0444444444444443,
          2.046846846846847,
          2.0492492492492493,
          2.051651651651652,
          2.054054054054054,
          2.0564564564564565,
          2.058858858858859,
          2.0612612612612615,
          2.0636636636636636,
          2.066066066066066,
          2.0684684684684687,
          2.0708708708708707,
          2.0732732732732733,
          2.075675675675676,
          2.0780780780780783,
          2.0804804804804804,
          2.082882882882883,
          2.0852852852852855,
          2.087687687687688,
          2.09009009009009,
          2.0924924924924926,
          2.094894894894895,
          2.097297297297297,
          2.0996996996996997,
          2.1021021021021022,
          2.1045045045045043,
          2.106906906906907,
          2.1093093093093094,
          2.111711711711712,
          2.1141141141141144,
          2.1165165165165165,
          2.118918918918919,
          2.1213213213213216,
          2.1237237237237236,
          2.126126126126126,
          2.1285285285285287,
          2.1309309309309308,
          2.1333333333333333,
          2.135735735735736,
          2.1381381381381384,
          2.140540540540541,
          2.142942942942943,
          2.1453453453453455,
          2.147747747747748,
          2.15015015015015,
          2.1525525525525526,
          2.154954954954955,
          2.1573573573573572,
          2.1597597597597598,
          2.1621621621621623,
          2.1645645645645644,
          2.166966966966967,
          2.1693693693693694,
          2.171771771771772,
          2.1741741741741745,
          2.1765765765765765,
          2.178978978978979,
          2.1813813813813816,
          2.1837837837837837,
          2.186186186186186,
          2.1885885885885887,
          2.190990990990991,
          2.1933933933933933,
          2.195795795795796,
          2.1981981981981984,
          2.200600600600601,
          2.203003003003003,
          2.2054054054054055,
          2.207807807807808,
          2.21021021021021,
          2.2126126126126127,
          2.215015015015015,
          2.2174174174174173,
          2.21981981981982,
          2.2222222222222223,
          2.224624624624625,
          2.227027027027027,
          2.2294294294294295,
          2.231831831831832,
          2.2342342342342345,
          2.2366366366366366,
          2.239039039039039,
          2.2414414414414416,
          2.2438438438438437,
          2.2462462462462462,
          2.2486486486486488,
          2.251051051051051,
          2.2534534534534534,
          2.255855855855856,
          2.2582582582582584,
          2.260660660660661,
          2.263063063063063,
          2.2654654654654656,
          2.267867867867868,
          2.27027027027027,
          2.2726726726726727,
          2.2750750750750752,
          2.2774774774774773,
          2.27987987987988,
          2.2822822822822824,
          2.284684684684685,
          2.2870870870870874,
          2.2894894894894895,
          2.291891891891892,
          2.2942942942942945,
          2.2966966966966966,
          2.299099099099099,
          2.3015015015015017,
          2.3039039039039038,
          2.3063063063063063,
          2.308708708708709,
          2.311111111111111,
          2.3135135135135134,
          2.315915915915916,
          2.3183183183183185,
          2.320720720720721,
          2.323123123123123,
          2.3255255255255256,
          2.327927927927928,
          2.33033033033033,
          2.3327327327327327,
          2.3351351351351353,
          2.3375375375375373,
          2.33993993993994,
          2.3423423423423424,
          2.344744744744745,
          2.3471471471471475,
          2.3495495495495495,
          2.351951951951952,
          2.3543543543543546,
          2.3567567567567567,
          2.359159159159159,
          2.3615615615615617,
          2.363963963963964,
          2.3663663663663663,
          2.368768768768769,
          2.3711711711711714,
          2.373573573573574,
          2.375975975975976,
          2.3783783783783785,
          2.380780780780781,
          2.383183183183183,
          2.3855855855855856,
          2.387987987987988,
          2.3903903903903903,
          2.3927927927927928,
          2.3951951951951953,
          2.3975975975975974,
          2.4,
          2.4024024024024024,
          2.404804804804805,
          2.4072072072072075,
          2.4096096096096096,
          2.412012012012012,
          2.4144144144144146,
          2.4168168168168167,
          2.4192192192192192,
          2.4216216216216218,
          2.424024024024024,
          2.4264264264264264,
          2.428828828828829,
          2.4312312312312314,
          2.433633633633634,
          2.436036036036036,
          2.4384384384384385,
          2.440840840840841,
          2.443243243243243,
          2.4456456456456457,
          2.448048048048048,
          2.4504504504504503,
          2.452852852852853,
          2.4552552552552553,
          2.457657657657658,
          2.46006006006006,
          2.4624624624624625,
          2.464864864864865,
          2.4672672672672675,
          2.4696696696696696,
          2.472072072072072,
          2.4744744744744747,
          2.4768768768768767,
          2.4792792792792793,
          2.481681681681682,
          2.484084084084084,
          2.4864864864864864,
          2.488888888888889,
          2.4912912912912915,
          2.493693693693694,
          2.496096096096096,
          2.4984984984984986,
          2.500900900900901,
          2.503303303303303,
          2.5057057057057057,
          2.5081081081081082,
          2.5105105105105103,
          2.512912912912913,
          2.5153153153153154,
          2.517717717717718,
          2.5201201201201204,
          2.5225225225225225,
          2.524924924924925,
          2.5273273273273276,
          2.5297297297297296,
          2.532132132132132,
          2.5345345345345347,
          2.536936936936937,
          2.5393393393393393,
          2.541741741741742,
          2.544144144144144,
          2.5465465465465464,
          2.548948948948949,
          2.5513513513513515,
          2.553753753753754,
          2.556156156156156,
          2.5585585585585586,
          2.560960960960961,
          2.5633633633633632,
          2.5657657657657658,
          2.5681681681681683,
          2.5705705705705704,
          2.572972972972973,
          2.5753753753753754,
          2.577777777777778,
          2.5801801801801805,
          2.5825825825825826,
          2.584984984984985,
          2.5873873873873876,
          2.5897897897897897,
          2.592192192192192,
          2.5945945945945947,
          2.596996996996997,
          2.5993993993993993,
          2.601801801801802,
          2.604204204204204,
          2.606606606606607,
          2.609009009009009,
          2.6114114114114115,
          2.613813813813814,
          2.616216216216216,
          2.6186186186186187,
          2.621021021021021,
          2.6234234234234233,
          2.625825825825826,
          2.6282282282282283,
          2.6306306306306304,
          2.6330330330330334,
          2.6354354354354355,
          2.637837837837838,
          2.6402402402402405,
          2.6426426426426426,
          2.645045045045045,
          2.6474474474474476,
          2.6498498498498497,
          2.6522522522522523,
          2.6546546546546548,
          2.657057057057057,
          2.65945945945946,
          2.661861861861862,
          2.664264264264264,
          2.666666666666667,
          2.669069069069069,
          2.6714714714714716,
          2.673873873873874,
          2.676276276276276,
          2.6786786786786787,
          2.6810810810810812,
          2.6834834834834833,
          2.685885885885886,
          2.6882882882882884,
          2.6906906906906904,
          2.6930930930930934,
          2.6954954954954955,
          2.697897897897898,
          2.7003003003003005,
          2.7027027027027026,
          2.705105105105105,
          2.7075075075075077,
          2.7099099099099098,
          2.7123123123123123,
          2.714714714714715,
          2.717117117117117,
          2.71951951951952,
          2.721921921921922,
          2.724324324324324,
          2.726726726726727,
          2.729129129129129,
          2.7315315315315316,
          2.733933933933934,
          2.736336336336336,
          2.7387387387387387,
          2.7411411411411413,
          2.7435435435435434,
          2.745945945945946,
          2.7483483483483484,
          2.7507507507507505,
          2.7531531531531535,
          2.7555555555555555,
          2.757957957957958,
          2.7603603603603606,
          2.7627627627627627,
          2.765165165165165,
          2.7675675675675677,
          2.76996996996997,
          2.7723723723723723,
          2.774774774774775,
          2.777177177177177,
          2.77957957957958,
          2.781981981981982,
          2.7843843843843845,
          2.786786786786787,
          2.789189189189189,
          2.7915915915915916,
          2.793993993993994,
          2.7963963963963963,
          2.798798798798799,
          2.8012012012012013,
          2.8036036036036034,
          2.8060060060060064,
          2.8084084084084084,
          2.8108108108108105,
          2.8132132132132135,
          2.8156156156156156,
          2.818018018018018,
          2.8204204204204206,
          2.8228228228228227,
          2.8252252252252252,
          2.8276276276276278,
          2.83003003003003,
          2.8324324324324324,
          2.834834834834835,
          2.837237237237237,
          2.83963963963964,
          2.842042042042042,
          2.8444444444444446,
          2.846846846846847,
          2.849249249249249,
          2.8516516516516517,
          2.854054054054054,
          2.8564564564564563,
          2.858858858858859,
          2.8612612612612613,
          2.8636636636636634,
          2.8660660660660664,
          2.8684684684684685,
          2.870870870870871,
          2.8732732732732735,
          2.8756756756756756,
          2.878078078078078,
          2.8804804804804807,
          2.8828828828828827,
          2.8852852852852853,
          2.887687687687688,
          2.89009009009009,
          2.892492492492493,
          2.894894894894895,
          2.897297297297297,
          2.8996996996997,
          2.902102102102102,
          2.9045045045045046,
          2.906906906906907,
          2.909309309309309,
          2.9117117117117117,
          2.9141141141141143,
          2.9165165165165163,
          2.918918918918919,
          2.9213213213213214,
          2.9237237237237235,
          2.9261261261261264,
          2.9285285285285285,
          2.930930930930931,
          2.9333333333333336,
          2.9357357357357357,
          2.938138138138138,
          2.9405405405405407,
          2.942942942942943,
          2.9453453453453453,
          2.947747747747748,
          2.95015015015015,
          2.952552552552553,
          2.954954954954955,
          2.957357357357357,
          2.95975975975976,
          2.962162162162162,
          2.9645645645645646,
          2.966966966966967,
          2.9693693693693692,
          2.9717717717717718,
          2.9741741741741743,
          2.9765765765765764,
          2.978978978978979,
          2.9813813813813814,
          2.9837837837837835,
          2.9861861861861865,
          2.9885885885885886,
          2.990990990990991,
          2.9933933933933936,
          2.9957957957957957,
          2.998198198198198,
          3.0006006006006007,
          3.003003003003003,
          3.0054054054054054,
          3.007807807807808,
          3.01021021021021,
          3.012612612612613,
          3.015015015015015,
          3.0174174174174175,
          3.01981981981982,
          3.022222222222222,
          3.0246246246246247,
          3.027027027027027,
          3.0294294294294293,
          3.031831831831832,
          3.0342342342342343,
          3.0366366366366364,
          3.0390390390390394,
          3.0414414414414415,
          3.0438438438438435,
          3.0462462462462465,
          3.0486486486486486,
          3.051051051051051,
          3.0534534534534536,
          3.0558558558558557,
          3.0582582582582583,
          3.060660660660661,
          3.063063063063063,
          3.0654654654654654,
          3.067867867867868,
          3.07027027027027,
          3.072672672672673,
          3.075075075075075,
          3.0774774774774776,
          3.07987987987988,
          3.082282282282282,
          3.0846846846846847,
          3.0870870870870872,
          3.0894894894894893,
          3.091891891891892,
          3.0942942942942944,
          3.0966966966966964,
          3.0990990990990994,
          3.1015015015015015,
          3.103903903903904,
          3.1063063063063066,
          3.1087087087087086,
          3.111111111111111,
          3.1135135135135137,
          3.1159159159159158,
          3.1183183183183183,
          3.120720720720721,
          3.123123123123123,
          3.125525525525526,
          3.127927927927928,
          3.13033033033033,
          3.132732732732733,
          3.135135135135135,
          3.1375375375375376,
          3.13993993993994,
          3.142342342342342,
          3.1447447447447447,
          3.1471471471471473,
          3.1495495495495494,
          3.151951951951952,
          3.1543543543543544,
          3.1567567567567565,
          3.1591591591591595,
          3.1615615615615615,
          3.163963963963964,
          3.1663663663663666,
          3.1687687687687687,
          3.171171171171171,
          3.1735735735735737,
          3.175975975975976,
          3.1783783783783783,
          3.180780780780781,
          3.183183183183183,
          3.185585585585586,
          3.187987987987988,
          3.1903903903903905,
          3.192792792792793,
          3.195195195195195,
          3.1975975975975977,
          3.2,
          3.2024024024024023,
          3.204804804804805,
          3.2072072072072073,
          3.2096096096096094,
          3.212012012012012,
          3.2144144144144144,
          3.2168168168168165,
          3.2192192192192195,
          3.2216216216216216,
          3.224024024024024,
          3.2264264264264266,
          3.2288288288288287,
          3.2312312312312312,
          3.2336336336336338,
          3.236036036036036,
          3.2384384384384384,
          3.240840840840841,
          3.243243243243243,
          3.245645645645646,
          3.248048048048048,
          3.2504504504504506,
          3.252852852852853,
          3.255255255255255,
          3.2576576576576577,
          3.26006006006006,
          3.2624624624624623,
          3.264864864864865,
          3.2672672672672673,
          3.2696696696696694,
          3.2720720720720724,
          3.2744744744744745,
          3.2768768768768766,
          3.2792792792792795,
          3.2816816816816816,
          3.284084084084084,
          3.2864864864864867,
          3.2888888888888888,
          3.2912912912912913,
          3.293693693693694,
          3.296096096096096,
          3.2984984984984984,
          3.300900900900901,
          3.303303303303303,
          3.305705705705706,
          3.308108108108108,
          3.3105105105105106,
          3.312912912912913,
          3.315315315315315,
          3.3177177177177177,
          3.3201201201201203,
          3.3225225225225223,
          3.324924924924925,
          3.3273273273273274,
          3.3297297297297295,
          3.3321321321321324,
          3.3345345345345345,
          3.336936936936937,
          3.3393393393393396,
          3.3417417417417417,
          3.344144144144144,
          3.3465465465465467,
          3.348948948948949,
          3.3513513513513513,
          3.353753753753754,
          3.356156156156156,
          3.358558558558559,
          3.360960960960961,
          3.363363363363363,
          3.365765765765766,
          3.368168168168168,
          3.3705705705705706,
          3.372972972972973,
          3.3753753753753752,
          3.3777777777777778,
          3.3801801801801803,
          3.3825825825825824,
          3.384984984984985,
          3.3873873873873874,
          3.3897897897897895,
          3.3921921921921925,
          3.3945945945945946,
          3.396996996996997,
          3.3993993993993996,
          3.4018018018018017,
          3.404204204204204,
          3.4066066066066067,
          3.409009009009009,
          3.4114114114114114,
          3.413813813813814,
          3.416216216216216,
          3.418618618618619,
          3.421021021021021,
          3.4234234234234235,
          3.425825825825826,
          3.428228228228228,
          3.4306306306306307,
          3.433033033033033,
          3.4354354354354353,
          3.437837837837838,
          3.4402402402402403,
          3.4426426426426424,
          3.445045045045045,
          3.4474474474474475,
          3.4498498498498495,
          3.4522522522522525,
          3.4546546546546546,
          3.457057057057057,
          3.4594594594594597,
          3.4618618618618617,
          3.4642642642642643,
          3.466666666666667,
          3.469069069069069,
          3.4714714714714714,
          3.473873873873874,
          3.476276276276276,
          3.478678678678679,
          3.481081081081081,
          3.4834834834834836,
          3.485885885885886,
          3.488288288288288,
          3.4906906906906907,
          3.4930930930930932,
          3.4954954954954953,
          3.497897897897898,
          3.5003003003003004,
          3.5027027027027025,
          3.5051051051051054,
          3.5075075075075075,
          3.5099099099099096,
          3.5123123123123126,
          3.5147147147147146,
          3.517117117117117,
          3.5195195195195197,
          3.5219219219219218,
          3.5243243243243243,
          3.526726726726727,
          3.529129129129129,
          3.5315315315315314,
          3.533933933933934,
          3.536336336336336,
          3.538738738738739,
          3.541141141141141,
          3.5435435435435436,
          3.545945945945946,
          3.5483483483483482,
          3.5507507507507508,
          3.5531531531531533,
          3.5555555555555554,
          3.557957957957958,
          3.5603603603603604,
          3.5627627627627625,
          3.5651651651651655,
          3.5675675675675675,
          3.56996996996997,
          3.5723723723723726,
          3.5747747747747747,
          3.577177177177177,
          3.5795795795795797,
          3.581981981981982,
          3.5843843843843843,
          3.586786786786787,
          3.589189189189189,
          3.591591591591592,
          3.593993993993994,
          3.596396396396396,
          3.598798798798799,
          3.601201201201201,
          3.6036036036036037,
          3.606006006006006,
          3.6084084084084083,
          3.610810810810811,
          3.6132132132132133,
          3.6156156156156154,
          3.618018018018018,
          3.6204204204204204,
          3.622822822822823,
          3.625225225225225,
          3.6276276276276276,
          3.63003003003003,
          3.6324324324324326,
          3.6348348348348347,
          3.6372372372372372,
          3.6396396396396398,
          3.642042042042042,
          3.6444444444444444,
          3.646846846846847,
          3.6492492492492494,
          3.6516516516516515,
          3.654054054054054,
          3.6564564564564566,
          3.6588588588588586,
          3.661261261261261,
          3.6636636636636637,
          3.666066066066066,
          3.6684684684684683,
          3.670870870870871,
          3.6732732732732734,
          3.675675675675676,
          3.678078078078078,
          3.6804804804804805,
          3.682882882882883,
          3.685285285285285,
          3.6876876876876876,
          3.69009009009009,
          3.6924924924924927,
          3.6948948948948948,
          3.6972972972972973,
          3.6996996996997,
          3.702102102102102,
          3.7045045045045044,
          3.706906906906907,
          3.7093093093093095,
          3.7117117117117115,
          3.714114114114114,
          3.7165165165165166,
          3.718918918918919,
          3.721321321321321,
          3.7237237237237237,
          3.7261261261261263,
          3.7285285285285283,
          3.730930930930931,
          3.7333333333333334,
          3.735735735735736,
          3.738138138138138,
          3.7405405405405405,
          3.742942942942943,
          3.745345345345345,
          3.7477477477477477,
          3.75015015015015,
          3.7525525525525527,
          3.754954954954955,
          3.7573573573573573,
          3.75975975975976,
          3.7621621621621624,
          3.7645645645645645,
          3.766966966966967,
          3.7693693693693695,
          3.7717717717717716,
          3.774174174174174,
          3.7765765765765766,
          3.778978978978979,
          3.7813813813813812,
          3.7837837837837838,
          3.7861861861861863,
          3.7885885885885884,
          3.790990990990991,
          3.7933933933933934,
          3.795795795795796,
          3.798198198198198,
          3.8006006006006006,
          3.803003003003003,
          3.8054054054054056,
          3.8078078078078077,
          3.8102102102102102,
          3.8126126126126128,
          3.815015015015015,
          3.8174174174174174,
          3.81981981981982,
          3.8222222222222224,
          3.8246246246246245,
          3.827027027027027,
          3.8294294294294295,
          3.8318318318318316,
          3.834234234234234,
          3.8366366366366367,
          3.839039039039039,
          3.8414414414414413,
          3.843843843843844,
          3.8462462462462463,
          3.8486486486486484,
          3.851051051051051,
          3.8534534534534535,
          3.855855855855856,
          3.858258258258258,
          3.8606606606606606,
          3.863063063063063,
          3.8654654654654657,
          3.8678678678678677,
          3.8702702702702703,
          3.872672672672673,
          3.875075075075075,
          3.8774774774774774,
          3.87987987987988,
          3.8822822822822824,
          3.8846846846846845,
          3.887087087087087,
          3.8894894894894896,
          3.8918918918918917,
          3.894294294294294,
          3.8966966966966967,
          3.8990990990990992,
          3.9015015015015013,
          3.903903903903904,
          3.9063063063063064,
          3.908708708708709,
          3.911111111111111,
          3.9135135135135135,
          3.915915915915916,
          3.918318318318318,
          3.9207207207207206,
          3.923123123123123,
          3.9255255255255257,
          3.9279279279279278,
          3.9303303303303303,
          3.932732732732733,
          3.935135135135135,
          3.9375375375375374,
          3.93993993993994,
          3.9423423423423425,
          3.9447447447447446,
          3.947147147147147,
          3.9495495495495496,
          3.951951951951952,
          3.9543543543543542,
          3.9567567567567568,
          3.9591591591591593,
          3.9615615615615614,
          3.963963963963964,
          3.9663663663663664,
          3.968768768768769,
          3.971171171171171,
          3.9735735735735735,
          3.975975975975976,
          3.978378378378378,
          3.9807807807807807,
          3.983183183183183,
          3.9855855855855857,
          3.987987987987988,
          3.9903903903903903,
          3.992792792792793,
          3.9951951951951954,
          3.9975975975975975,
          4
         ],
         "y": [
          0.11092083467945554,
          0.11049497183479502,
          0.110070108746998,
          0.1096462464666933,
          0.1092233860231715,
          0.10880152842444403,
          0.10838067465730133,
          0.10796082568737263,
          0.10754198245918521,
          0.10712414589622463,
          0.10670731690099479,
          0.10629149635507894,
          0.10587668511920066,
          0.10546288403328519,
          0.10505009391652158,
          0.10463831556742435,
          0.10422754976389664,
          0.10381779726329245,
          0.10340905880248033,
          0.10300133509790672,
          0.10259462684565979,
          0.10218893472153394,
          0.10178425938109403,
          0.10138060145974054,
          0.10097796157277454,
          0.10057634031546354,
          0.10017573826310694,
          0.0997761559711026,
          0.09937759397501299,
          0.09898005279063206,
          0.09858353291405257,
          0.09818803482173301,
          0.09779355897056573,
          0.09740010579794456,
          0.09700767572183339,
          0.09661626914083436,
          0.09622588643425693,
          0.095836527962187,
          0.09544819406555607,
          0.09506088506621117,
          0.0946746012669845,
          0.09428934295176385,
          0.09390511038556283,
          0.09352190381459181,
          0.09313972346632857,
          0.09275856954958983,
          0.09237844225460239,
          0.09199934175307502,
          0.09162126819827043,
          0.0912442217250772,
          0.09086820245008244,
          0.09049321047164419,
          0.09011924586996455,
          0.08974630870716246,
          0.08937439902734716,
          0.0890035168566918,
          0.08863366220350688,
          0.08826483505831446,
          0.08789703539392212,
          0.08753026316549743,
          0.08716451831064237,
          0.08679980074946816,
          0.08643611038467011,
          0.08607344710160282,
          0.08571181076835539,
          0.08535120123582692,
          0.08499161833780225,
          0.08463306189102762,
          0.08427553169528695,
          0.08391902753347769,
          0.08356354917168742,
          0.0832090963592702,
          0.08285566882892316,
          0.08250326629676367,
          0.08215188846240583,
          0.08180153500903789,
          0.08145220560349942,
          0.0811038998963587,
          0.08075661752199023,
          0.08041035809865252,
          0.08006512122856563,
          0.07972090649798955,
          0.07937771347730166,
          0.07903554172107545,
          0.07869439076815853,
          0.07835426014175106,
          0.07801514934948445,
          0.07767705788349966,
          0.07733998522052637,
          0.07700393082196144,
          0.07666889413394799,
          0.07633487458745462,
          0.07600187159835423,
          0.07566988456750343,
          0.07533891288082178,
          0.0750089559093713,
          0.0746800130094358,
          0.07435208352260042,
          0.07402516677583137,
          0.07369926208155568,
          0.07337436873774071,
          0.07305048602797419,
          0.07272761322154407,
          0.07240574957351845,
          0.07208489432482562,
          0.07176504670233405,
          0.07144620591893265,
          0.07112837117361073,
          0.07081154165153834,
          0.07049571652414655,
          0.07018089494920754,
          0.06986707607091518,
          0.06955425901996515,
          0.06924244291363553,
          0.06893162685586697,
          0.06862180993734333,
          0.06831299123557202,
          0.06800516981496459,
          0.06769834472691698,
          0.06739251500989027,
          0.0670876796894911,
          0.0667838377785521,
          0.06648098827721255,
          0.06617913017299876,
          0.06587826244090474,
          0.06557838404347255,
          0.06527949393087286,
          0.06498159104098564,
          0.06468467429948024,
          0.06438874261989633,
          0.06409379490372388,
          0.06379983004048399,
          0.06350684690780904,
          0.06321484437152314,
          0.06292382128572258,
          0.06263377649285595,
          0.062344708823804634,
          0.06205661709796284,
          0.06176950012331804,
          0.061483356696530926,
          0.06119818560301569,
          0.06091398561701998,
          0.06063075550170503,
          0.060348494009225546,
          0.06006719988080962,
          0.05978687184683871,
          0.05950750862692726,
          0.05922910893000264,
          0.058951671454384603,
          0.0586751948878651,
          0.05839967790778765,
          0.05812511918112688,
          0.05785151736456793,
          0.05757887110458579,
          0.05730717903752439,
          0.05703643978967589,
          0.05676665197735977,
          0.05649781420700168,
          0.05622992507521242,
          0.05596298316886676,
          0.05569698706518215,
          0.05543193533179722,
          0.05516782652685045,
          0.054904659199058514,
          0.054642431887794565,
          0.054381143123166546,
          0.05412079142609517,
          0.05386137530839201,
          0.05360289327283741,
          0.05334534381325804,
          0.053088725414604854,
          0.052833036553030455,
          0.052578275695966445,
          0.05232444130220096,
          0.05207153182195563,
          0.05181954569696277,
          0.051568481360542075,
          0.05131833723767774,
          0.05106911174509486,
          0.05082080329133613,
          0.050573410276837975,
          0.050326931094007134,
          0.05008136412729658,
          0.04983670775328141,
          0.049592960340734925,
          0.049350120250704135,
          0.049108185836585196,
          0.04886715544419906,
          0.048627027411866544,
          0.04838780007048344,
          0.04814947174359531,
          0.04791204074747254,
          0.04767550539118465,
          0.04743986397667505,
          0.04720511479883489,
          0.04697125614557765,
          0.04673828629791289,
          0.046506203530019906,
          0.04627500610932154,
          0.046044692296557624,
          0.0458152603458582,
          0.0455867085048165,
          0.04535903501456213,
          0.04513223810983367,
          0.04490631601905125,
          0.04468126696438888,
          0.04445708916184678,
          0.04423378082132342,
          0.04401134014668714,
          0.043789765335848045,
          0.04356905458082939,
          0.043349206067838666,
          0.043130217977339055,
          0.042912088484119947,
          0.04269481575736788,
          0.04247839796073693,
          0.04226283325241891,
          0.04204811978521375,
          0.041834255706599155,
          0.04162123915880031,
          0.04140906827885955,
          0.04119774119870553,
          0.040987256045222194,
          0.04077761094031793,
          0.04056880400099401,
          0.04036083333941315,
          0.04015369706296774,
          0.039947393274347785,
          0.03974192007160894,
          0.03953727554823996,
          0.03933345779322999,
          0.03913046489113603,
          0.03892829492214971,
          0.038726945962163924,
          0.03852641608283957,
          0.03832670335167175,
          0.0381278058320557,
          0.0379297215833529,
          0.03773244866095649,
          0.0375359851163567,
          0.03734032899720615,
          0.03714547834738449,
          0.036951431207063484,
          0.036758185612771194,
          0.03656573959745633,
          0.03637409119055227,
          0.03618323841804091,
          0.03599317930251595,
          0.03580391186324651,
          0.03561543411624002,
          0.03542774407430513,
          0.035240839747114255,
          0.03505471914126588,
          0.03486938026034684,
          0.03468482110499411,
          0.034501039672956285,
          0.03431803395915523,
          0.03413580195574713,
          0.03395434165218319,
          0.033773651035270635,
          0.03359372808923289,
          0.03341457079576981,
          0.03323617713411751,
          0.03305854508110817,
          0.032881672611229394,
          0.032705557696683374,
          0.03253019830744571,
          0.03235559241132425,
          0.03218173797401744,
          0.03200863295917234,
          0.03183627532844276,
          0.0316646630415468,
          0.031493794056324194,
          0.03132366632879353,
          0.03115427781320917,
          0.0309856264621178,
          0.03081771022641484,
          0.030650527055400483,
          0.03048407489683576,
          0.030318351696997918,
          0.03015335540073584,
          0.029989083951525185,
          0.029825535291523163,
          0.02966270736162302,
          0.02950059810150848,
          0.02933920544970769,
          0.02917852734364702,
          0.02901856171970461,
          0.0288593065132635,
          0.028700759658764778,
          0.02854291908976024,
          0.02838578273896479,
          0.028229348538308715,
          0.028073614418989628,
          0.027918578311524,
          0.027764238145798762,
          0.027610591851122305,
          0.027457637356275325,
          0.027305372589561575,
          0.027153795478858052,
          0.027002903951665144,
          0.026852695935156448,
          0.026703169356228185,
          0.02655432214154866,
          0.026406152217607143,
          0.026258657510762538,
          0.02611183594729203,
          0.025965685453439167,
          0.025820203955461748,
          0.025675389379679607,
          0.02553123965252192,
          0.025387752700574327,
          0.025244926450625864,
          0.025102758829715383,
          0.024961247765178083,
          0.024820391184691426,
          0.024680187016320854,
          0.024540633188565482,
          0.02440172763040321,
          0.02426346827133567,
          0.02412585304143299,
          0.023988879871378252,
          0.023852546692511547,
          0.023716851436873992,
          0.023581792037251175,
          0.023447366427216718,
          0.02331357254117525,
          0.023180408314405147,
          0.023047871683101243,
          0.022915960584417003,
          0.02278467295650649,
          0.02265400673856623,
          0.022523959870876575,
          0.0223945302948429,
          0.02226571595303662,
          0.022137514789235754,
          0.02200992474846539,
          0.021882943777037797,
          0.021756569822592168,
          0.021630800834134413,
          0.021505634762076332,
          0.021381069558274665,
          0.021257103176069984,
          0.02113373357032512,
          0.0210109586974634,
          0.020888776515506722,
          0.020767184984113212,
          0.02064618206461467,
          0.020525765720053792,
          0.02040593391522103,
          0.020286684616691305,
          0.020168015792860396,
          0.020049925413980988,
          0.01993241145219864,
          0.019815471881587315,
          0.01969910467818467,
          0.019583307820027228,
          0.019468079287185133,
          0.019353417061796663,
          0.019239319128102502,
          0.019125783472479847,
          0.019012808083476055,
          0.018900390951842233,
          0.018788530070566325,
          0.018677223434906257,
          0.018566469042422564,
          0.018456264893010763,
          0.0183466089889337,
          0.018237499334853392,
          0.018128933937862666,
          0.018020910807516662,
          0.01791342795586394,
          0.01780648339747739,
          0.017700075149484865,
          0.017594201231599566,
          0.01748885966615018,
          0.0173840484781108,
          0.017279765695130435,
          0.017176009347562495,
          0.01707277746849385,
          0.016970068093773622,
          0.016867879262041967,
          0.016766209014758223,
          0.01666505539622918,
          0.016564416453636828,
          0.01646429023706597,
          0.016364674799531628,
          0.0162655681970061,
          0.016166968488445777,
          0.016068873735817838,
          0.015971282004126546,
          0.015874191361439322,
          0.01577759987891268,
          0.015681505630817834,
          0.01558590669456598,
          0.015490801150733523,
          0.015396187083086942,
          0.01530206257860736,
          0.01520842572751503,
          0.015115274623293382,
          0.015022607362713046,
          0.014930422045855455,
          0.014838716776136253,
          0.014747489660328577,
          0.014656738808585921,
          0.014566462334464859,
          0.014476658354947571,
          0.014387324990464039,
          0.014298460364914061,
          0.014210062605689022,
          0.01412212984369338,
          0.014034660213366043,
          0.013947651852701404,
          0.0138611029032701,
          0.013775011510239724,
          0.01368937582239514,
          0.01360419399215857,
          0.013519464175609616,
          0.013435184532504854,
          0.013351353226297257,
          0.013267968424155566,
          0.013185028296983098,
          0.01310253101943664,
          0.013020474769944983,
          0.012938857730727159,
          0.012857678087810647,
          0.012776934031049196,
          0.012696623754140435,
          0.012616745454643382,
          0.012537297333995624,
          0.012458277597530244,
          0.012379684454492742,
          0.0123015161180574,
          0.012223770805343767,
          0.012146446737432707,
          0.012069542139382284,
          0.011993055240243536,
          0.011916984273075876,
          0.01184132747496234,
          0.011766083087024698,
          0.011691249354438268,
          0.011616824526446464,
          0.011542806856375399,
          0.011469194601647857,
          0.011395986023797433,
          0.01132317938848236,
          0.01125077296549894,
          0.011178765028795064,
          0.011107153856483332,
          0.011035937730853977,
          0.010965114938387725,
          0.0108946837697683,
          0.010824642519894758,
          0.010754989487893728,
          0.01068572297713132,
          0.010616841295224867,
          0.010548342754054588,
          0.010480225669774818,
          0.010412488362825288,
          0.01034512915794207,
          0.010278146384168314,
          0.010211538374864909,
          0.010145303467720846,
          0.010079440004763374,
          0.010013946332368103,
          0.009948820801268767,
          0.009884061766566839,
          0.00981966758774107,
          0.009755636628656632,
          0.009691967257574223,
          0.009628657847159057,
          0.009565706774489377,
          0.009503112421065144,
          0.00944087317281628,
          0.00937898742011081,
          0.00931745355776291,
          0.009256269985040639,
          0.009195435105673541,
          0.009134947327860125,
          0.009074805064275111,
          0.009015006732076444,
          0.008955550752912331,
          0.008896435552927818,
          0.008837659562771464,
          0.008779221217601678,
          0.008721118957092894,
          0.0086633512254417,
          0.008605916471372634,
          0.008548813148143902,
          0.00849203971355293,
          0.008435594629941734,
          0.008379476364202058,
          0.008323683387780521,
          0.008268214176683353,
          0.008213067211481215,
          0.008158240977313687,
          0.008103733963893632,
          0.008049544665511476,
          0.007995671581039228,
          0.007942113213934373,
          0.007888868072243663,
          0.00783593466860666,
          0.007783311520259169,
          0.0077309971490365755,
          0.0076789900813768715,
          0.007627288848323664,
          0.007575891985529065,
          0.007524798033256213,
          0.007474005536381908,
          0.007423513044398934,
          0.007373319111418231,
          0.007323422296171045,
          0.007273821162010795,
          0.007224514276914829,
          0.007175500213486142,
          0.00712677754895476,
          0.007078344865179126,
          0.007030200748647348,
          0.0069823437904781545,
          0.006934772586421903,
          0.006887485736861323,
          0.006840481846812148,
          0.006793759525923642,
          0.006747317388478969,
          0.006701154053395369,
          0.006655268144224337,
          0.006609658289151529,
          0.006564323120996582,
          0.006519261277212876,
          0.006474471399887019,
          0.0064299521357383425,
          0.006385702136118191,
          0.006341720057009064,
          0.006298004559023717,
          0.006254554307404083,
          0.006211367972020006,
          0.006168444227367994,
          0.006125781752569731,
          0.006083379231370482,
          0.006041235352137465,
          0.005999348807857947,
          0.005957718296137353,
          0.005916342519197237,
          0.005875220183873041,
          0.005834350001611853,
          0.005793730688469988,
          0.005753360965110422,
          0.005713239556800224,
          0.0056733651934077435,
          0.005633736609399753,
          0.0055943525438384946,
          0.005555211740378573,
          0.005516312947263716,
          0.005477654917323569,
          0.005439236407970142,
          0.005401056181194371,
          0.0053631130035624785,
          0.005325405646212171,
          0.005287932884848868,
          0.005250693499741717,
          0.005213686275719531,
          0.005176910002166645,
          0.005140363473018678,
          0.005104045486758117,
          0.005067954846409936,
          0.0050320903595369665,
          0.004996450838235276,
          0.004961035099129436,
          0.004925841963367609,
          0.004890870256616671,
          0.004856118809057129,
          0.004821586455377988,
          0.0047872720347715446,
          0.004753174390928059,
          0.004719292372030326,
          0.004685624830748189,
          0.004652170624232961,
          0.004618928614111695,
          0.004585897666481494,
          0.004553076651903554,
          0.00452046444539732,
          0.004488059926434385,
          0.004455861978932411,
          0.004423869491248921,
          0.004392081356175035,
          0.0043604964709290685,
          0.004329113737150128,
          0.0042979320608915695,
          0.004266950352614377,
          0.004236167527180521,
          0.004205582503846133,
          0.004175194206254727,
          0.004145001562430244,
          0.00411500350477006,
          0.004085198970037939,
          0.004055586899356875,
          0.004026166238201867,
          0.0039969359363926545,
          0.00396789494808633,
          0.003939042231769909,
          0.003910376750252864,
          0.0038818974706594962,
          0.0038536033644213093,
          0.0038254934072693516,
          0.0037975665792263484,
          0.003769821864598936,
          0.0037422582519697064,
          0.0037148747341892428,
          0.003687670308368085,
          0.003660643975868637,
          0.003633794742296957,
          0.003607121617494579,
          0.0035806236155302017,
          0.003554299754691314,
          0.003528149057475844,
          0.0035021705505836175,
          0.0034763632649078818,
          0.003450726235526701,
          0.003425258501694297,
          0.003399959106832382,
          0.003374827098521387,
          0.0033498615284916354,
          0.003325061452614504,
          0.003300425930893494,
          0.0032759540274552505,
          0.003251644810540569,
          0.0032274973524952814,
          0.003203510729761157,
          0.0031796840228667275,
          0.0031560163164180443,
          0.003132506699089422,
          0.0031091542636141165,
          0.0030859581067749445,
          0.0030629173293948765,
          0.003040031036327585,
          0.0030172983364479076,
          0.0029947183426423476,
          0.0029722901717994217,
          0.002950012944800055,
          0.002927885786507907,
          0.0029059078257596188,
          0.0028840781953550793,
          0.002862396032047602,
          0.002840860476534078,
          0.002819470673445116,
          0.0027982257713350966,
          0.0027771249226722057,
          0.0027561672838284637,
          0.0027353520150696737,
          0.0027146782805453347,
          0.0026941452482785763,
          0.0026737520901559645,
          0.002653497981917371,
          0.002633382103145738,
          0.0026134036372568283,
          0.002593561771488976,
          0.0025738556968927604,
          0.002554284608320661,
          0.002534847704416702,
          0.0025155441876060537,
          0.0024963732640845716,
          0.0024773341438083935,
          0.0024584260404833876,
          0.0024396481715546875,
          0.00242099975819613,
          0.0024024800252996784,
          0.0023840882014648404,
          0.0023658235189880526,
          0.002347685213852005,
          0.0023296725257150068,
          0.0023117846979002744,
          0.0022940209773852044,
          0.0022763806147906578,
          0.0022588628643701795,
          0.002241466983999209,
          0.002224192235164309,
          0.0022070378829522866,
          0.0021900031960393937,
          0.0021730874466804437,
          0.0021562899106979143,
          0.0021396098674710652,
          0.0021230465999250146,
          0.0021065993945197765,
          0.0020902675412393375,
          0.0020740503335806688,
          0.0020579470685427245,
          0.0020419570466154793,
          0.0020260795717688598,
          0.0020103139514417463,
          0.001994659496530914,
          0.001979115521379969,
          0.0019636813437682874,
          0.0019483562848999195,
          0.0019331396693924874,
          0.0019180308252660923,
          0.0019030290839321805,
          0.0018881337801824089,
          0.0018733442521775294,
          0.0018586598414362012,
          0.0018440798928238502,
          0.001829603754541518,
          0.0018152307781146445,
          0.0018009603183819136,
          0.0017867917334840578,
          0.0017727243848526372,
          0.0017587576371988615,
          0.0017448908585023658,
          0.001731123419999983,
          0.0017174546961745403,
          0.0017038840647436249,
          0.0016904109066483326,
          0.001677034606042072,
          0.0016637545502792837,
          0.0016505701299042248,
          0.001637480738639716,
          0.0016244857733758845,
          0.0016115846341589336,
          0.0015987767241798772,
          0.0015860614497632895,
          0.0015734382203560601,
          0.0015609064485161374,
          0.0015484655499012632,
          0.0015361149432577526,
          0.001523854050409204,
          0.0015116822962452734,
          0.001499599108710426,
          0.0014876039187926703,
          0.001475696160512338,
          0.0014638752709108301,
          0.0014521406900393772,
          0.0014404918609478088,
          0.0014289282296733271,
          0.0014174492452292643,
          0.0014060543595938867,
          0.0013947430276991483,
          0.001383514707419492,
          0.0013723688595606595,
          0.001361304947848457,
          0.001350322438917591,
          0.0013394208023004641,
          0.0013285995104159983,
          0.001317858038558465,
          0.0013071958648863174,
          0.0012966124704110297,
          0.0012861073389859496,
          0.0012756799572951627,
          0.0012653298148423459,
          0.0012550564039396665,
          0.0012448592196966444,
          0.0012347377600090662,
          0.0012246915255478869,
          0.0012147200197481377,
          0.0012048227487978704,
          0.0011949992216270828,
          0.0011852489498966705,
          0.0011755714479873942,
          0.0011659662329888485,
          0.001156432824688445,
          0.0011469707455604202,
          0.0011375795207548304,
          0.0011282586780865902,
          0.0011190077480245047,
          0.001109826263680309,
          0.0011007137607977522,
          0.0010916697777416616,
          0.0010826938554870343,
          0.001073785537608155,
          0.0010649443702677095,
          0.0010561699022059205,
          0.0010474616847297089,
          0.0010388192717018547,
          0.0010302422195301757,
          0.0010217300871567464,
          0.0010132824360470894,
          0.0010048988301794269,
          0.000996578836033925,
          0.0009883220225819507,
          0.000980127961275372,
          0.0009719962260358488,
          0.0009639263932441494,
          0.0009559180417294967,
          0.0009479707527589183,
          0.0009400841100266138,
          0.0009322576996433617,
          0.0009244911101259127,
          0.0009167839323864315,
          0.0009091357597219428,
          0.0009015461878037936,
          0.0008940148146671502,
          0.000886541240700502,
          0.0008791250686351841,
          0.0008717659035349337,
          0.0008644633527854528,
          0.0008572170260839957,
          0.0008500265354289889,
          0.0008428914951096458,
          0.0008358115216956269,
          0.0008287862340267189,
          0.0008218152532025147,
          0.0008148982025721397,
          0.0008080347077239903,
          0.0008012243964754833,
          0.0007944668988628504,
          0.0007877618471309373,
          0.0007811088757230241,
          0.0007745076212706882,
          0.0007679577225836665,
          0.0007614588206397504,
          0.0007550105585747153,
          0.0007486125816722454,
          0.0007422645373539126,
          0.0007359660751691616,
          0.0007297168467853147,
          0.0007235165059776208,
          0.0007173647086193067,
          0.0007112611126716628,
          0.0007052053781741545,
          0.0006991971672345548,
          0.0006932361440190964,
          0.0006873219747426652,
          0.0006814543276589949,
          0.0006756328730509078,
          0.0006698572832205691,
          0.0006641272324797671,
          0.0006584423971402257,
          0.000652802455503933,
          0.0006472070878535,
          0.000641655976442549,
          0.0006361488054861198,
          0.0006306852611511035,
          0.0006252650315467141,
          0.0006198878067149628,
          0.0006145532786211795,
          0.0006092611411445576,
          0.0006040110900687091,
          0.0005988028230722689,
          0.000593636039719509,
          0.0005885104414509826,
          0.0005834257315742057,
          0.0005783816152543497,
          0.0005733777995049692,
          0.0005684139931787612,
          0.0005634899069583417,
          0.0005586052533470557,
          0.0005537597466598102,
          0.0005489531030139426,
          0.0005441850403201069,
          0.0005394552782731945,
          0.0005347635383432752,
          0.000530109543766577,
          0.0005254930195364826,
          0.0005209136923945583,
          0.0005163712908216133,
          0.0005118655450287822,
          0.0005073961869486394,
          0.0005029629502263363,
          0.000498565570210774,
          0.0004942037839458002,
          0.0004898773301614296,
          0.00048558594926510307,
          0.0004813293833329686,
          0.00047710737610118855,
          0.0004729196729572793,
          0.0004687660209314815,
          0.0004646461686881538,
          0.0004605598665171967,
          0.000456506866325504,
          0.00045248692162845036,
          0.00044849978754139683,
          0.00044454522077122966,
          0.0004406229796079314,
          0.0004367328239161768,
          0.00043287451512695756,
          0.00042904781622923665,
          0.00042525249176163384,
          0.0004214883078041377,
          0.0004177550319698444,
          0.000414052433396733,
          0.000410380282739461,
          0.0004067383521611968,
          0.00040312641532547216,
          0.0003995442473880757,
          0.00039599162498896433,
          0.000392468326244211,
          0.00038897413073797664,
          0.00038550881951451637,
          0.00038207217507021284,
          0.0003786639813456338,
          0.00037528402371763,
          0.0003719320889914511,
          0.0003686079653928978,
          0.00036531144256049904,
          0.0003620423115377227,
          0.0003588003647652134,
          0.0003555853960730571,
          0.0003523972006730802,
          0.00034923557515117407,
          0.00034610031745965065,
          0.0003429912269096248,
          0.0003399081041634312,
          0.0003368507512270654,
          0.0003338189714426563,
          0.0003308125694809668,
          0.0003278313513339269,
          0.0003248751243071928,
          0.00032194369701273447,
          0.00031903687936145786,
          0.00031615448255585093,
          0.00031329631908266076,
          0.00031046220270559993,
          0.0003076519484580836,
          0.0003048653726359938,
          0.0003021022927904719,
          0.0002993625277207449,
          0.00029664589746697634,
          0.00029395222330314794,
          0.0002912813277299698,
          0.00028863303446782177,
          0.00028600716844972223,
          0.0002834035558143255,
          0.00028082202389894794,
          0.0002782624012326264,
          0.00027572451752920263,
          0.00027320820368043584,
          0.0002707132917491478,
          0.0002682396149623938,
          0.00026578700770466413,
          0.00026335530551111196,
          0.00026094434506081465,
          0.0002585539641700599,
          0.0002561840017856604,
          0.00025383429797830103,
          0.00025150469393591117,
          0.000249195031957068,
          0.00024690515544442454,
          0.0002446349088981731,
          0.0002423841379095303,
          0.00024015268915425435,
          0.0002379404103861906,
          0.00023574715043084504,
          0.00023357275917898563,
          0.00023141708758027144,
          0.00022927998763691364,
          0.00022716131239736061,
          0.0002250609159500139,
          0.00022297865341696916,
          0.00022091438094779106,
          0.00021886795571331047,
          0.0002168392358994513,
          0.00021482808070108828,
          0.00021283435031592884,
          0.00021085790593842546,
          0.00020889860975371248,
          0.000206956324931577,
          0.0002050309156204509,
          0.00020312224694143326,
          0.00020123018498234232,
          0.00019935459679179196,
          0.0001974953503732976,
          0.00019565231467940776,
          0.00019382535960586585,
          0.00019201435598579757,
          0.00019021917558392526,
          0.00018843969109080962,
          0.00018667577611712103,
          0.0001849273051879352,
          0.00018319415373705547,
          0.00018147619810136658,
          0.0001797733155152099,
          0.00017808538410479,
          0.00017641228288260398,
          0.00017475389174190234,
          0.00017311009145117313,
          0.00017148076364865227,
          0.00016986579083686502,
          0.00016826505637718836,
          0.00016667844448444463,
          0.0001651058402215169,
          0.0001635471294939961,
          0.00016200219904484992,
          0.00016047093644912084,
          0.00015895323010864712,
          0.00015744896924681508,
          0.00015595804390333205,
          0.00015448034492902807,
          0.0001530157639806837,
          0.00015156419351588263,
          0.00015012552678789022,
          0.0001486996578405579,
          0.0001472864815032544,
          0.00014588589338582043,
          0.00014449778987354948,
          0.00014312206812219636,
          0.00014175862605300744,
          0.00014040736234777906,
          0.00013906817644393878,
          0.00013774096852965507,
          0.0001364256395389684,
          0.00013512209114695055,
          0.00013383022576488537
         ]
        }
       ],
       "layout": {
        "autosize": true,
        "template": {
         "data": {
          "bar": [
           {
            "error_x": {
             "color": "#2a3f5f"
            },
            "error_y": {
             "color": "#2a3f5f"
            },
            "marker": {
             "line": {
              "color": "#E5ECF6",
              "width": 0.5
             },
             "pattern": {
              "fillmode": "overlay",
              "size": 10,
              "solidity": 0.2
             }
            },
            "type": "bar"
           }
          ],
          "barpolar": [
           {
            "marker": {
             "line": {
              "color": "#E5ECF6",
              "width": 0.5
             },
             "pattern": {
              "fillmode": "overlay",
              "size": 10,
              "solidity": 0.2
             }
            },
            "type": "barpolar"
           }
          ],
          "carpet": [
           {
            "aaxis": {
             "endlinecolor": "#2a3f5f",
             "gridcolor": "white",
             "linecolor": "white",
             "minorgridcolor": "white",
             "startlinecolor": "#2a3f5f"
            },
            "baxis": {
             "endlinecolor": "#2a3f5f",
             "gridcolor": "white",
             "linecolor": "white",
             "minorgridcolor": "white",
             "startlinecolor": "#2a3f5f"
            },
            "type": "carpet"
           }
          ],
          "choropleth": [
           {
            "colorbar": {
             "outlinewidth": 0,
             "ticks": ""
            },
            "type": "choropleth"
           }
          ],
          "contour": [
           {
            "colorbar": {
             "outlinewidth": 0,
             "ticks": ""
            },
            "colorscale": [
             [
              0,
              "#0d0887"
             ],
             [
              0.1111111111111111,
              "#46039f"
             ],
             [
              0.2222222222222222,
              "#7201a8"
             ],
             [
              0.3333333333333333,
              "#9c179e"
             ],
             [
              0.4444444444444444,
              "#bd3786"
             ],
             [
              0.5555555555555556,
              "#d8576b"
             ],
             [
              0.6666666666666666,
              "#ed7953"
             ],
             [
              0.7777777777777778,
              "#fb9f3a"
             ],
             [
              0.8888888888888888,
              "#fdca26"
             ],
             [
              1,
              "#f0f921"
             ]
            ],
            "type": "contour"
           }
          ],
          "contourcarpet": [
           {
            "colorbar": {
             "outlinewidth": 0,
             "ticks": ""
            },
            "type": "contourcarpet"
           }
          ],
          "heatmap": [
           {
            "colorbar": {
             "outlinewidth": 0,
             "ticks": ""
            },
            "colorscale": [
             [
              0,
              "#0d0887"
             ],
             [
              0.1111111111111111,
              "#46039f"
             ],
             [
              0.2222222222222222,
              "#7201a8"
             ],
             [
              0.3333333333333333,
              "#9c179e"
             ],
             [
              0.4444444444444444,
              "#bd3786"
             ],
             [
              0.5555555555555556,
              "#d8576b"
             ],
             [
              0.6666666666666666,
              "#ed7953"
             ],
             [
              0.7777777777777778,
              "#fb9f3a"
             ],
             [
              0.8888888888888888,
              "#fdca26"
             ],
             [
              1,
              "#f0f921"
             ]
            ],
            "type": "heatmap"
           }
          ],
          "heatmapgl": [
           {
            "colorbar": {
             "outlinewidth": 0,
             "ticks": ""
            },
            "colorscale": [
             [
              0,
              "#0d0887"
             ],
             [
              0.1111111111111111,
              "#46039f"
             ],
             [
              0.2222222222222222,
              "#7201a8"
             ],
             [
              0.3333333333333333,
              "#9c179e"
             ],
             [
              0.4444444444444444,
              "#bd3786"
             ],
             [
              0.5555555555555556,
              "#d8576b"
             ],
             [
              0.6666666666666666,
              "#ed7953"
             ],
             [
              0.7777777777777778,
              "#fb9f3a"
             ],
             [
              0.8888888888888888,
              "#fdca26"
             ],
             [
              1,
              "#f0f921"
             ]
            ],
            "type": "heatmapgl"
           }
          ],
          "histogram": [
           {
            "marker": {
             "pattern": {
              "fillmode": "overlay",
              "size": 10,
              "solidity": 0.2
             }
            },
            "type": "histogram"
           }
          ],
          "histogram2d": [
           {
            "colorbar": {
             "outlinewidth": 0,
             "ticks": ""
            },
            "colorscale": [
             [
              0,
              "#0d0887"
             ],
             [
              0.1111111111111111,
              "#46039f"
             ],
             [
              0.2222222222222222,
              "#7201a8"
             ],
             [
              0.3333333333333333,
              "#9c179e"
             ],
             [
              0.4444444444444444,
              "#bd3786"
             ],
             [
              0.5555555555555556,
              "#d8576b"
             ],
             [
              0.6666666666666666,
              "#ed7953"
             ],
             [
              0.7777777777777778,
              "#fb9f3a"
             ],
             [
              0.8888888888888888,
              "#fdca26"
             ],
             [
              1,
              "#f0f921"
             ]
            ],
            "type": "histogram2d"
           }
          ],
          "histogram2dcontour": [
           {
            "colorbar": {
             "outlinewidth": 0,
             "ticks": ""
            },
            "colorscale": [
             [
              0,
              "#0d0887"
             ],
             [
              0.1111111111111111,
              "#46039f"
             ],
             [
              0.2222222222222222,
              "#7201a8"
             ],
             [
              0.3333333333333333,
              "#9c179e"
             ],
             [
              0.4444444444444444,
              "#bd3786"
             ],
             [
              0.5555555555555556,
              "#d8576b"
             ],
             [
              0.6666666666666666,
              "#ed7953"
             ],
             [
              0.7777777777777778,
              "#fb9f3a"
             ],
             [
              0.8888888888888888,
              "#fdca26"
             ],
             [
              1,
              "#f0f921"
             ]
            ],
            "type": "histogram2dcontour"
           }
          ],
          "mesh3d": [
           {
            "colorbar": {
             "outlinewidth": 0,
             "ticks": ""
            },
            "type": "mesh3d"
           }
          ],
          "parcoords": [
           {
            "line": {
             "colorbar": {
              "outlinewidth": 0,
              "ticks": ""
             }
            },
            "type": "parcoords"
           }
          ],
          "pie": [
           {
            "automargin": true,
            "type": "pie"
           }
          ],
          "scatter": [
           {
            "fillpattern": {
             "fillmode": "overlay",
             "size": 10,
             "solidity": 0.2
            },
            "type": "scatter"
           }
          ],
          "scatter3d": [
           {
            "line": {
             "colorbar": {
              "outlinewidth": 0,
              "ticks": ""
             }
            },
            "marker": {
             "colorbar": {
              "outlinewidth": 0,
              "ticks": ""
             }
            },
            "type": "scatter3d"
           }
          ],
          "scattercarpet": [
           {
            "marker": {
             "colorbar": {
              "outlinewidth": 0,
              "ticks": ""
             }
            },
            "type": "scattercarpet"
           }
          ],
          "scattergeo": [
           {
            "marker": {
             "colorbar": {
              "outlinewidth": 0,
              "ticks": ""
             }
            },
            "type": "scattergeo"
           }
          ],
          "scattergl": [
           {
            "marker": {
             "colorbar": {
              "outlinewidth": 0,
              "ticks": ""
             }
            },
            "type": "scattergl"
           }
          ],
          "scattermapbox": [
           {
            "marker": {
             "colorbar": {
              "outlinewidth": 0,
              "ticks": ""
             }
            },
            "type": "scattermapbox"
           }
          ],
          "scatterpolar": [
           {
            "marker": {
             "colorbar": {
              "outlinewidth": 0,
              "ticks": ""
             }
            },
            "type": "scatterpolar"
           }
          ],
          "scatterpolargl": [
           {
            "marker": {
             "colorbar": {
              "outlinewidth": 0,
              "ticks": ""
             }
            },
            "type": "scatterpolargl"
           }
          ],
          "scatterternary": [
           {
            "marker": {
             "colorbar": {
              "outlinewidth": 0,
              "ticks": ""
             }
            },
            "type": "scatterternary"
           }
          ],
          "surface": [
           {
            "colorbar": {
             "outlinewidth": 0,
             "ticks": ""
            },
            "colorscale": [
             [
              0,
              "#0d0887"
             ],
             [
              0.1111111111111111,
              "#46039f"
             ],
             [
              0.2222222222222222,
              "#7201a8"
             ],
             [
              0.3333333333333333,
              "#9c179e"
             ],
             [
              0.4444444444444444,
              "#bd3786"
             ],
             [
              0.5555555555555556,
              "#d8576b"
             ],
             [
              0.6666666666666666,
              "#ed7953"
             ],
             [
              0.7777777777777778,
              "#fb9f3a"
             ],
             [
              0.8888888888888888,
              "#fdca26"
             ],
             [
              1,
              "#f0f921"
             ]
            ],
            "type": "surface"
           }
          ],
          "table": [
           {
            "cells": {
             "fill": {
              "color": "#EBF0F8"
             },
             "line": {
              "color": "white"
             }
            },
            "header": {
             "fill": {
              "color": "#C8D4E3"
             },
             "line": {
              "color": "white"
             }
            },
            "type": "table"
           }
          ]
         },
         "layout": {
          "annotationdefaults": {
           "arrowcolor": "#2a3f5f",
           "arrowhead": 0,
           "arrowwidth": 1
          },
          "autotypenumbers": "strict",
          "coloraxis": {
           "colorbar": {
            "outlinewidth": 0,
            "ticks": ""
           }
          },
          "colorscale": {
           "diverging": [
            [
             0,
             "#8e0152"
            ],
            [
             0.1,
             "#c51b7d"
            ],
            [
             0.2,
             "#de77ae"
            ],
            [
             0.3,
             "#f1b6da"
            ],
            [
             0.4,
             "#fde0ef"
            ],
            [
             0.5,
             "#f7f7f7"
            ],
            [
             0.6,
             "#e6f5d0"
            ],
            [
             0.7,
             "#b8e186"
            ],
            [
             0.8,
             "#7fbc41"
            ],
            [
             0.9,
             "#4d9221"
            ],
            [
             1,
             "#276419"
            ]
           ],
           "sequential": [
            [
             0,
             "#0d0887"
            ],
            [
             0.1111111111111111,
             "#46039f"
            ],
            [
             0.2222222222222222,
             "#7201a8"
            ],
            [
             0.3333333333333333,
             "#9c179e"
            ],
            [
             0.4444444444444444,
             "#bd3786"
            ],
            [
             0.5555555555555556,
             "#d8576b"
            ],
            [
             0.6666666666666666,
             "#ed7953"
            ],
            [
             0.7777777777777778,
             "#fb9f3a"
            ],
            [
             0.8888888888888888,
             "#fdca26"
            ],
            [
             1,
             "#f0f921"
            ]
           ],
           "sequentialminus": [
            [
             0,
             "#0d0887"
            ],
            [
             0.1111111111111111,
             "#46039f"
            ],
            [
             0.2222222222222222,
             "#7201a8"
            ],
            [
             0.3333333333333333,
             "#9c179e"
            ],
            [
             0.4444444444444444,
             "#bd3786"
            ],
            [
             0.5555555555555556,
             "#d8576b"
            ],
            [
             0.6666666666666666,
             "#ed7953"
            ],
            [
             0.7777777777777778,
             "#fb9f3a"
            ],
            [
             0.8888888888888888,
             "#fdca26"
            ],
            [
             1,
             "#f0f921"
            ]
           ]
          },
          "colorway": [
           "#636efa",
           "#EF553B",
           "#00cc96",
           "#ab63fa",
           "#FFA15A",
           "#19d3f3",
           "#FF6692",
           "#B6E880",
           "#FF97FF",
           "#FECB52"
          ],
          "font": {
           "color": "#2a3f5f"
          },
          "geo": {
           "bgcolor": "white",
           "lakecolor": "white",
           "landcolor": "#E5ECF6",
           "showlakes": true,
           "showland": true,
           "subunitcolor": "white"
          },
          "hoverlabel": {
           "align": "left"
          },
          "hovermode": "closest",
          "mapbox": {
           "style": "light"
          },
          "paper_bgcolor": "white",
          "plot_bgcolor": "#E5ECF6",
          "polar": {
           "angularaxis": {
            "gridcolor": "white",
            "linecolor": "white",
            "ticks": ""
           },
           "bgcolor": "#E5ECF6",
           "radialaxis": {
            "gridcolor": "white",
            "linecolor": "white",
            "ticks": ""
           }
          },
          "scene": {
           "xaxis": {
            "backgroundcolor": "#E5ECF6",
            "gridcolor": "white",
            "gridwidth": 2,
            "linecolor": "white",
            "showbackground": true,
            "ticks": "",
            "zerolinecolor": "white"
           },
           "yaxis": {
            "backgroundcolor": "#E5ECF6",
            "gridcolor": "white",
            "gridwidth": 2,
            "linecolor": "white",
            "showbackground": true,
            "ticks": "",
            "zerolinecolor": "white"
           },
           "zaxis": {
            "backgroundcolor": "#E5ECF6",
            "gridcolor": "white",
            "gridwidth": 2,
            "linecolor": "white",
            "showbackground": true,
            "ticks": "",
            "zerolinecolor": "white"
           }
          },
          "shapedefaults": {
           "line": {
            "color": "#2a3f5f"
           }
          },
          "ternary": {
           "aaxis": {
            "gridcolor": "white",
            "linecolor": "white",
            "ticks": ""
           },
           "baxis": {
            "gridcolor": "white",
            "linecolor": "white",
            "ticks": ""
           },
           "bgcolor": "#E5ECF6",
           "caxis": {
            "gridcolor": "white",
            "linecolor": "white",
            "ticks": ""
           }
          },
          "title": {
           "x": 0.05
          },
          "xaxis": {
           "automargin": true,
           "gridcolor": "white",
           "linecolor": "white",
           "ticks": "",
           "title": {
            "standoff": 15
           },
           "zerolinecolor": "white",
           "zerolinewidth": 2
          },
          "yaxis": {
           "automargin": true,
           "gridcolor": "white",
           "linecolor": "white",
           "ticks": "",
           "title": {
            "standoff": 15
           },
           "zerolinecolor": "white",
           "zerolinewidth": 2
          }
         }
        },
        "title": {
         "text": "Probabilidade da diferença pA-pB"
        },
        "xaxis": {
         "autorange": true,
         "range": [
          -4,
          4
         ],
         "title": {
          "text": "pA-pB"
         },
         "type": "linear"
        },
        "yaxis": {
         "autorange": true,
         "range": [
          -0.02202201712187834,
          0.4210949298309861
         ],
         "title": {
          "text": "Densidade de probabilidade"
         },
         "type": "linear"
        }
       }
      },
      "image/png": "[encoded data removed]",
      "text/html": [
       "<div>                            <div id=\"58a58ef0-ff2f-4136-ba35-b96e1af664e0\" class=\"plotly-graph-div\" style=\"height:525px; width:100%;\"></div>            <script type=\"text/javascript\">                require([\"plotly\"], function(Plotly) {                    window.PLOTLYENV=window.PLOTLYENV || {};                                    if (document.getElementById(\"58a58ef0-ff2f-4136-ba35-b96e1af664e0\")) {                    Plotly.newPlot(                        \"58a58ef0-ff2f-4136-ba35-b96e1af664e0\",                        [{\"mode\":\"lines\",\"name\":\"Binomial\",\"x\":[-4.0,-3.991991991991992,-3.983983983983984,-3.975975975975976,-3.967967967967968,-3.95995995995996,-3.951951951951952,-3.943943943943944,-3.935935935935936,-3.9279279279279278,-3.91991991991992,-3.911911911911912,-3.903903903903904,-3.895895895895896,-3.8878878878878878,-3.87987987987988,-3.871871871871872,-3.863863863863864,-3.855855855855856,-3.8478478478478477,-3.83983983983984,-3.831831831831832,-3.823823823823824,-3.815815815815816,-3.8078078078078077,-3.7997997997998,-3.7917917917917916,-3.7837837837837838,-3.775775775775776,-3.7677677677677677,-3.75975975975976,-3.7517517517517516,-3.7437437437437437,-3.735735735735736,-3.7277277277277276,-3.71971971971972,-3.7117117117117115,-3.7037037037037037,-3.6956956956956954,-3.6876876876876876,-3.67967967967968,-3.6716716716716715,-3.6636636636636637,-3.6556556556556554,-3.6476476476476476,-3.6396396396396398,-3.6316316316316315,-3.6236236236236237,-3.6156156156156154,-3.6076076076076076,-3.5995995995995997,-3.5915915915915915,-3.5835835835835836,-3.5755755755755754,-3.5675675675675675,-3.5595595595595597,-3.5515515515515514,-3.5435435435435436,-3.5355355355355353,-3.5275275275275275,-3.5195195195195197,-3.5115115115115114,-3.5035035035035036,-3.4954954954954953,-3.4874874874874875,-3.4794794794794797,-3.4714714714714714,-3.4634634634634636,-3.4554554554554553,-3.4474474474474475,-3.4394394394394396,-3.4314314314314314,-3.4234234234234235,-3.4154154154154153,-3.4074074074074074,-3.3993993993993996,-3.3913913913913913,-3.3833833833833835,-3.3753753753753752,-3.3673673673673674,-3.3593593593593596,-3.3513513513513513,-3.3433433433433435,-3.335335335335335,-3.3273273273273274,-3.3193193193193196,-3.3113113113113113,-3.3033033033033035,-3.295295295295295,-3.2872872872872874,-3.2792792792792795,-3.2712712712712713,-3.263263263263263,-3.255255255255255,-3.2472472472472473,-3.2392392392392395,-3.2312312312312312,-3.223223223223223,-3.215215215215215,-3.2072072072072073,-3.1991991991991995,-3.191191191191191,-3.183183183183183,-3.175175175175175,-3.1671671671671673,-3.159159159159159,-3.151151151151151,-3.143143143143143,-3.135135135135135,-3.1271271271271273,-3.119119119119119,-3.111111111111111,-3.103103103103103,-3.095095095095095,-3.0870870870870872,-3.079079079079079,-3.071071071071071,-3.063063063063063,-3.055055055055055,-3.047047047047047,-3.039039039039039,-3.031031031031031,-3.023023023023023,-3.015015015015015,-3.007007007007007,-2.998998998998999,-2.990990990990991,-2.982982982982983,-2.974974974974975,-2.966966966966967,-2.958958958958959,-2.950950950950951,-2.942942942942943,-2.934934934934935,-2.926926926926927,-2.918918918918919,-2.910910910910911,-2.9029029029029028,-2.894894894894895,-2.886886886886887,-2.878878878878879,-2.8708708708708706,-2.8628628628628627,-2.854854854854855,-2.846846846846847,-2.838838838838839,-2.8308308308308305,-2.8228228228228227,-2.814814814814815,-2.806806806806807,-2.798798798798799,-2.7907907907907905,-2.7827827827827827,-2.774774774774775,-2.766766766766767,-2.7587587587587588,-2.7507507507507505,-2.7427427427427427,-2.734734734734735,-2.726726726726727,-2.7187187187187187,-2.7107107107107105,-2.7027027027027026,-2.694694694694695,-2.686686686686687,-2.6786786786786787,-2.6706706706706704,-2.6626626626626626,-2.6546546546546548,-2.646646646646647,-2.6386386386386387,-2.6306306306306304,-2.6226226226226226,-2.6146146146146148,-2.606606606606607,-2.5985985985985987,-2.5905905905905904,-2.5825825825825826,-2.5745745745745747,-2.566566566566567,-2.5585585585585586,-2.5505505505505504,-2.5425425425425425,-2.5345345345345347,-2.5265265265265264,-2.5185185185185186,-2.5105105105105103,-2.5025025025025025,-2.4944944944944947,-2.4864864864864864,-2.4784784784784786,-2.4704704704704703,-2.4624624624624625,-2.4544544544544546,-2.4464464464464464,-2.4384384384384385,-2.4304304304304303,-2.4224224224224224,-2.4144144144144146,-2.4064064064064064,-2.3983983983983985,-2.3903903903903903,-2.3823823823823824,-2.3743743743743746,-2.3663663663663663,-2.358358358358358,-2.3503503503503502,-2.3423423423423424,-2.3343343343343346,-2.3263263263263263,-2.318318318318318,-2.31031031031031,-2.3023023023023024,-2.2942942942942945,-2.2862862862862863,-2.278278278278278,-2.27027027027027,-2.2622622622622623,-2.2542542542542545,-2.2462462462462462,-2.238238238238238,-2.23023023023023,-2.2222222222222223,-2.2142142142142145,-2.206206206206206,-2.198198198198198,-2.19019019019019,-2.1821821821821823,-2.1741741741741745,-2.166166166166166,-2.158158158158158,-2.15015015015015,-2.1421421421421423,-2.1341341341341344,-2.126126126126126,-2.118118118118118,-2.11011011011011,-2.1021021021021022,-2.0940940940940944,-2.086086086086086,-2.078078078078078,-2.07007007007007,-2.062062062062062,-2.0540540540540544,-2.046046046046046,-2.038038038038038,-2.03003003003003,-2.022022022022022,-2.014014014014014,-2.006006006006006,-1.9979979979979978,-1.98998998998999,-1.9819819819819822,-1.973973973973974,-1.965965965965966,-1.9579579579579578,-1.94994994994995,-1.9419419419419421,-1.9339339339339339,-1.925925925925926,-1.9179179179179178,-1.90990990990991,-1.9019019019019021,-1.8938938938938938,-1.885885885885886,-1.8778778778778777,-1.86986986986987,-1.861861861861862,-1.8538538538538538,-1.845845845845846,-1.8378378378378377,-1.82982982982983,-1.821821821821822,-1.8138138138138138,-1.805805805805806,-1.7977977977977977,-1.7897897897897899,-1.7817817817817816,-1.7737737737737738,-1.765765765765766,-1.7577577577577577,-1.7497497497497498,-1.7417417417417416,-1.7337337337337337,-1.725725725725726,-1.7177177177177176,-1.7097097097097098,-1.7017017017017015,-1.6936936936936937,-1.6856856856856859,-1.6776776776776776,-1.6696696696696698,-1.6616616616616615,-1.6536536536536537,-1.6456456456456459,-1.6376376376376376,-1.6296296296296298,-1.6216216216216215,-1.6136136136136137,-1.6056056056056058,-1.5975975975975976,-1.5895895895895897,-1.5815815815815815,-1.5735735735735736,-1.5655655655655654,-1.5575575575575575,-1.5495495495495497,-1.5415415415415414,-1.5335335335335336,-1.5255255255255253,-1.5175175175175175,-1.5095095095095097,-1.5015015015015014,-1.4934934934934936,-1.4854854854854853,-1.4774774774774775,-1.4694694694694697,-1.4614614614614614,-1.4534534534534536,-1.4454454454454453,-1.4374374374374375,-1.4294294294294296,-1.4214214214214214,-1.4134134134134135,-1.4054054054054053,-1.3973973973973974,-1.3893893893893896,-1.3813813813813813,-1.3733733733733735,-1.3653653653653652,-1.3573573573573574,-1.3493493493493496,-1.3413413413413413,-1.3333333333333335,-1.3253253253253252,-1.3173173173173174,-1.3093093093093096,-1.3013013013013013,-1.2932932932932935,-1.2852852852852852,-1.2772772772772774,-1.269269269269269,-1.2612612612612613,-1.2532532532532534,-1.2452452452452452,-1.2372372372372373,-1.229229229229229,-1.2212212212212212,-1.2132132132132134,-1.2052052052052051,-1.1971971971971973,-1.189189189189189,-1.1811811811811812,-1.1731731731731734,-1.165165165165165,-1.1571571571571573,-1.149149149149149,-1.1411411411411412,-1.1331331331331334,-1.125125125125125,-1.1171171171171173,-1.109109109109109,-1.1011011011011012,-1.0930930930930933,-1.085085085085085,-1.0770770770770772,-1.069069069069069,-1.0610610610610611,-1.0530530530530529,-1.045045045045045,-1.0370370370370372,-1.029029029029029,-1.021021021021021,-1.0130130130130128,-1.005005005005005,-0.9969969969969972,-0.9889889889889889,-0.9809809809809811,-0.9729729729729728,-0.964964964964965,-0.9569569569569571,-0.9489489489489489,-0.940940940940941,-0.9329329329329328,-0.924924924924925,-0.9169169169169171,-0.9089089089089089,-0.900900900900901,-0.8928928928928928,-0.8848848848848849,-0.8768768768768771,-0.8688688688688688,-0.860860860860861,-0.8528528528528527,-0.8448448448448449,-0.8368368368368371,-0.8288288288288288,-0.820820820820821,-0.8128128128128127,-0.8048048048048049,-0.796796796796797,-0.7887887887887888,-0.780780780780781,-0.7727727727727727,-0.7647647647647648,-0.7567567567567566,-0.7487487487487487,-0.7407407407407409,-0.7327327327327327,-0.7247247247247248,-0.7167167167167166,-0.7087087087087087,-0.7007007007007009,-0.6926926926926926,-0.6846846846846848,-0.6766766766766765,-0.6686686686686687,-0.6606606606606609,-0.6526526526526526,-0.6446446446446448,-0.6366366366366365,-0.6286286286286287,-0.6206206206206208,-0.6126126126126126,-0.6046046046046047,-0.5965965965965965,-0.5885885885885886,-0.5805805805805808,-0.5725725725725725,-0.5645645645645647,-0.5565565565565564,-0.5485485485485486,-0.5405405405405403,-0.5325325325325325,-0.5245245245245247,-0.5165165165165164,-0.5085085085085086,-0.5005005005005003,-0.4924924924924925,-0.48448448448448467,-0.4764764764764764,-0.46846846846846857,-0.4604604604604603,-0.45245245245245247,-0.44444444444444464,-0.43643643643643637,-0.42842842842842854,-0.42042042042042027,-0.41241241241241244,-0.4044044044044046,-0.39639639639639634,-0.3883883883883885,-0.38038038038038025,-0.3723723723723724,-0.3643643643643646,-0.3563563563563563,-0.3483483483483485,-0.3403403403403402,-0.3323323323323324,-0.32432432432432456,-0.3163163163163163,-0.30830830830830847,-0.3003003003003002,-0.29229229229229237,-0.28428428428428454,-0.27627627627627627,-0.26826826826826844,-0.26026026026026017,-0.25225225225225234,-0.24424424424424407,-0.23623623623623624,-0.2282282282282284,-0.22022022022022014,-0.21221221221221231,-0.20420420420420404,-0.19619619619619622,-0.1881881881881884,-0.18018018018018012,-0.1721721721721723,-0.16416416416416402,-0.1561561561561562,-0.14814814814814836,-0.1401401401401401,-0.13213213213213226,-0.12412412412412399,-0.11611611611611616,-0.10810810810810834,-0.10010010010010006,-0.09209209209209224,-0.08408408408408397,-0.07607607607607614,-0.06806806806806831,-0.06006006006006004,-0.05205205205205221,-0.04404404404404394,-0.03603603603603611,-0.02802802802802784,-0.020020020020020013,-0.012012012012012185,-0.004004004004003914,0.004004004004004358,0.012012012012012185,0.020020020020020013,0.02802802802802784,0.03603603603603567,0.044044044044044384,0.05205205205205221,0.06006006006006004,0.06806806806806787,0.0760760760760757,0.08408408408408441,0.09209209209209224,0.10010010010010006,0.10810810810810789,0.11611611611611572,0.12412412412412444,0.13213213213213226,0.1401401401401401,0.14814814814814792,0.15615615615615575,0.16416416416416446,0.1721721721721723,0.18018018018018012,0.18818818818818794,0.19619619619619577,0.2042042042042045,0.21221221221221231,0.22022022022022014,0.22822822822822797,0.2362362362362358,0.2442442442442445,0.25225225225225234,0.26026026026026017,0.268268268268268,0.2762762762762758,0.28428428428428454,0.29229229229229237,0.3003003003003002,0.308308308308308,0.31631631631631585,0.32432432432432456,0.3323323323323324,0.3403403403403402,0.34834834834834805,0.3563563563563559,0.3643643643643646,0.3723723723723724,0.38038038038038025,0.3883883883883881,0.3963963963963968,0.4044044044044046,0.41241241241241244,0.42042042042042027,0.4284284284284281,0.4364364364364368,0.44444444444444464,0.45245245245245247,0.4604604604604603,0.4684684684684681,0.47647647647647684,0.48448448448448467,0.4924924924924925,0.5005005005005003,0.5085085085085082,0.5165165165165169,0.5245245245245247,0.5325325325325325,0.5405405405405403,0.5485485485485482,0.5565565565565569,0.5645645645645647,0.5725725725725725,0.5805805805805804,0.5885885885885882,0.5965965965965969,0.6046046046046047,0.6126126126126126,0.6206206206206204,0.6286286286286282,0.6366366366366369,0.6446446446446448,0.6526526526526526,0.6606606606606604,0.6686686686686683,0.676676676676677,0.6846846846846848,0.6926926926926926,0.7007007007007005,0.7087087087087083,0.716716716716717,0.7247247247247248,0.7327327327327327,0.7407407407407405,0.7487487487487483,0.756756756756757,0.7647647647647648,0.7727727727727727,0.7807807807807805,0.7887887887887883,0.796796796796797,0.8048048048048049,0.8128128128128127,0.8208208208208205,0.8288288288288284,0.8368368368368371,0.8448448448448449,0.8528528528528527,0.8608608608608606,0.8688688688688693,0.8768768768768771,0.8848848848848849,0.8928928928928928,0.9009009009009006,0.9089089089089093,0.9169169169169171,0.924924924924925,0.9329329329329328,0.9409409409409406,0.9489489489489493,0.9569569569569571,0.964964964964965,0.9729729729729728,0.9809809809809806,0.9889889889889893,0.9969969969969972,1.005005005005005,1.0130130130130128,1.0210210210210207,1.0290290290290294,1.0370370370370372,1.045045045045045,1.0530530530530529,1.0610610610610607,1.0690690690690694,1.0770770770770772,1.085085085085085,1.0930930930930929,1.1011011011011007,1.1091091091091094,1.1171171171171173,1.125125125125125,1.133133133133133,1.1411411411411407,1.1491491491491495,1.1571571571571573,1.165165165165165,1.173173173173173,1.1811811811811808,1.1891891891891895,1.1971971971971973,1.2052052052052051,1.213213213213213,1.2212212212212208,1.2292292292292295,1.2372372372372373,1.2452452452452452,1.253253253253253,1.2612612612612608,1.2692692692692695,1.2772772772772774,1.2852852852852852,1.293293293293293,1.3013013013013008,1.3093093093093096,1.3173173173173174,1.3253253253253252,1.333333333333333,1.3413413413413409,1.3493493493493496,1.3573573573573574,1.3653653653653652,1.373373373373373,1.381381381381381,1.3893893893893896,1.3973973973973974,1.4054054054054053,1.413413413413413,1.4214214214214218,1.4294294294294296,1.4374374374374375,1.4454454454454453,1.4534534534534531,1.4614614614614618,1.4694694694694697,1.4774774774774775,1.4854854854854853,1.4934934934934931,1.5015015015015019,1.5095095095095097,1.5175175175175175,1.5255255255255253,1.5335335335335332,1.5415415415415419,1.5495495495495497,1.5575575575575575,1.5655655655655654,1.5735735735735732,1.581581581581582,1.5895895895895897,1.5975975975975976,1.6056056056056054,1.6136136136136132,1.621621621621622,1.6296296296296298,1.6376376376376376,1.6456456456456454,1.6536536536536532,1.661661661661662,1.6696696696696698,1.6776776776776776,1.6856856856856854,1.6936936936936933,1.701701701701702,1.7097097097097098,1.7177177177177176,1.7257257257257255,1.7337337337337333,1.741741741741742,1.7497497497497498,1.7577577577577577,1.7657657657657655,1.7737737737737733,1.781781781781782,1.7897897897897899,1.7977977977977977,1.8058058058058055,1.8138138138138133,1.821821821821822,1.82982982982983,1.8378378378378377,1.8458458458458455,1.8538538538538534,1.861861861861862,1.86986986986987,1.8778778778778777,1.8858858858858856,1.8938938938938943,1.9019019019019021,1.90990990990991,1.9179179179179178,1.9259259259259256,1.9339339339339343,1.9419419419419421,1.94994994994995,1.9579579579579578,1.9659659659659656,1.9739739739739743,1.9819819819819822,1.98998998998999,1.9979979979979978,2.0060060060060056,2.0140140140140144,2.022022022022022,2.03003003003003,2.038038038038038,2.0460460460460457,2.0540540540540544,2.062062062062062,2.07007007007007,2.078078078078078,2.0860860860860857,2.0940940940940944,2.1021021021021022,2.11011011011011,2.118118118118118,2.1261261261261257,2.1341341341341344,2.1421421421421423,2.15015015015015,2.158158158158158,2.1661661661661658,2.1741741741741745,2.1821821821821823,2.19019019019019,2.198198198198198,2.2062062062062058,2.2142142142142145,2.2222222222222223,2.23023023023023,2.238238238238238,2.246246246246246,2.2542542542542545,2.2622622622622623,2.27027027027027,2.278278278278278,2.286286286286286,2.2942942942942945,2.3023023023023024,2.31031031031031,2.318318318318318,2.326326326326326,2.3343343343343346,2.3423423423423424,2.3503503503503502,2.358358358358358,2.366366366366366,2.3743743743743746,2.3823823823823824,2.3903903903903903,2.398398398398398,2.406406406406406,2.4144144144144146,2.4224224224224224,2.4304304304304303,2.438438438438438,2.446446446446447,2.4544544544544546,2.4624624624624625,2.4704704704704703,2.478478478478478,2.486486486486487,2.4944944944944947,2.5025025025025025,2.5105105105105103,2.518518518518518,2.526526526526527,2.5345345345345347,2.5425425425425425,2.5505505505505504,2.558558558558558,2.566566566566567,2.5745745745745747,2.5825825825825826,2.5905905905905904,2.598598598598598,2.606606606606607,2.6146146146146148,2.6226226226226226,2.6306306306306304,2.6386386386386382,2.646646646646647,2.6546546546546548,2.6626626626626626,2.6706706706706704,2.6786786786786783,2.686686686686687,2.694694694694695,2.7027027027027026,2.7107107107107105,2.7187187187187183,2.726726726726727,2.734734734734735,2.7427427427427427,2.7507507507507505,2.7587587587587583,2.766766766766767,2.774774774774775,2.7827827827827827,2.7907907907907905,2.7987987987987983,2.806806806806807,2.814814814814815,2.8228228228228227,2.8308308308308305,2.8388388388388384,2.846846846846847,2.854854854854855,2.8628628628628627,2.8708708708708706,2.8788788788788784,2.886886886886887,2.894894894894895,2.9029029029029028,2.9109109109109106,2.9189189189189193,2.926926926926927,2.934934934934935,2.942942942942943,2.9509509509509506,2.9589589589589593,2.966966966966967,2.974974974974975,2.982982982982983,2.9909909909909906,2.9989989989989994,3.007007007007007,3.015015015015015,3.023023023023023,3.0310310310310307,3.0390390390390394,3.047047047047047,3.055055055055055,3.063063063063063,3.0710710710710707,3.0790790790790794,3.0870870870870872,3.095095095095095,3.103103103103103,3.1111111111111107,3.1191191191191194,3.1271271271271273,3.135135135135135,3.143143143143143,3.1511511511511507,3.1591591591591595,3.1671671671671673,3.175175175175175,3.183183183183183,3.1911911911911908,3.1991991991991995,3.2072072072072073,3.215215215215215,3.223223223223223,3.231231231231231,3.2392392392392395,3.2472472472472473,3.255255255255255,3.263263263263263,3.271271271271271,3.2792792792792795,3.2872872872872874,3.295295295295295,3.303303303303303,3.311311311311311,3.3193193193193196,3.3273273273273274,3.335335335335335,3.343343343343343,3.351351351351351,3.3593593593593596,3.3673673673673674,3.3753753753753752,3.383383383383383,3.391391391391391,3.3993993993993996,3.4074074074074074,3.4154154154154153,3.423423423423423,3.431431431431431,3.4394394394394396,3.4474474474474475,3.4554554554554553,3.463463463463463,3.471471471471472,3.4794794794794797,3.4874874874874875,3.4954954954954953,3.503503503503503,3.511511511511512,3.5195195195195197,3.5275275275275275,3.5355355355355353,3.543543543543543,3.551551551551552,3.5595595595595597,3.5675675675675675,3.5755755755755754,3.583583583583583,3.591591591591592,3.5995995995995997,3.6076076076076076,3.6156156156156154,3.6236236236236232,3.631631631631632,3.6396396396396398,3.6476476476476476,3.6556556556556554,3.6636636636636633,3.671671671671672,3.67967967967968,3.6876876876876876,3.6956956956956954,3.7037037037037033,3.711711711711712,3.71971971971972,3.7277277277277276,3.7357357357357355,3.7437437437437433,3.751751751751752,3.75975975975976,3.7677677677677677,3.7757757757757755,3.7837837837837833,3.791791791791792,3.7997997997998,3.8078078078078077,3.8158158158158155,3.8238238238238234,3.831831831831832,3.83983983983984,3.8478478478478477,3.8558558558558556,3.8638638638638634,3.871871871871872,3.87987987987988,3.8878878878878878,3.8958958958958956,3.9039039039039034,3.911911911911912,3.91991991991992,3.9279279279279278,3.9359359359359356,3.9439439439439443,3.951951951951952,3.95995995995996,3.967967967967968,3.9759759759759756,3.9839839839839843,3.991991991991992,4.0],\"y\":[0.00013383022576488537,0.0001381820464104976,0.0001426662280423074,0.0001472864815032544,0.00015204661133382119,0.0001569505178147822,0.00016200219904484992,0.00016720575305353023,0.00017256537994949638,0.00017808538410479,0.00018377017637513806,0.0001896242763566838,0.00019565231467940776,0.00020185903533751658,0.00020824929805706861,0.00021482808070108828,0.00022160048171242648,0.0002285717225946002,0.00023574715043084504,0.00024313224044160314,0.00025073259858064884,0.0002585539641700594,0.00026660221257421334,0.00027488335791298686,0.0002834035558143255,0.00029216910620632244,0.00030118645614895666,0.00031046220270559993,0.00032000309585441465,0.0003298160414397229,0.0003399081041634312,0.00035028651061657994,0.00036095865235104664,0.0003719320889914511,0.0003832145513872607,0.00039481394480509277,0.0004067383521611968,0.0004189960372940584,0.0004315954482770799,0.00044454522077122966,0.00045785418141758614,0.00047153135126962387,0.00048558594926510307,0.0005000273957374089,0.0005148653159661124,0.000530109543766577,0.0005457701251183356,0.000561857321831991,0.0005783816152543497,0.0005953537100114529,0.0006127845377891921,0.0006306852611511047,0.0006490672773929725,0.0006679422224337958,0.0006873219747426652,0.0007072186593010809,0.0007276446516001658,0.0007486125816722454,0.0007701353381562253,0.0007922260723961207,0.0008148982025721397,0.0008381654178636029,0.0008620416826430069,0.000886541240700502,0.0009116786194979598,0.0009374686344518663,0.0009639263932441494,0.0009910673001600591,0.0010189070604522017,0.0010474616847297089,0.0010767474933715976,0.0011067811209632345,0.0011375795207548304,0.0011691599691408692,0.0012015400701592624,0.0012347377600090662,0.0012687713115854871,0.001303659339030883,0.0013394208023004641,0.0013760750117412627,0.001413641632683005,0.0014521406900393772,0.0014915925729181976,0.001532018039238954,0.0015734382203560601,0.0016158746256862426,0.0016593491473383148,0.0017038840647436216,0.0017495020492853824,0.0017962261689250466,0.0018440798928238502,0.0018930870959575723,0.0019432720637225455,0.001994659496530914,0.0020472745143930086,0.0021011426614847566,0.0021562899106979143,0.0022127426681709333,0.00227052777779815,0.0023296725257150068,0.002390204644756889,0.0024521523188891833,0.0025155441876060537,0.002580409350295453,0.0026467773705677444,0.0027146782805453373,0.002784142585110614,0.00285520126610952,0.002927885786507907,0.0030022280944979273,0.0030782606275515127,0.0031560163164180443,0.003235528589063281,0.0033168313745464274,0.003399959106832382,0.003484946728535948,0.0035718296945948893,0.003660643975868637,0.0037514260626593196,0.0038442129681518886,0.0039390422317699125,0.004035951922443679,0.004134980641787195,0.004236167527180521,0.004339552254753986,0.004445175042270676,0.004553076651903554,0.004663298392903681,0.004775882124155638,0.004890870256616671,0.00500830575563558,0.005128232143147633,0.005250693499741717,0.00537573446659573,0.00550340024727644,0.005633736609399753,0.0057667898861475005,0.005902606977636736,0.006041235352137465,0.006182723047134838,0.006327118670231636,0.006474471399887032,0.006624830985987414,0.006778247750245298,0.006934772586421903,0.007094456960369461,0.007257352909888934,0.007423513044398934,0.00759299054441176,0.007765839160812103,0.007942113213934373,0.008121867592434317,0.00830515775195071,0.00849203971355293,0.008682570061970006,0.008876805943597117,0.009074805064275111,0.009276625686838978,0.009482326628430989,0.009691967257574223,0.009905607491002465,0.010123307790242102,0.01034512915794207,0.010571133133947601,0.010801381791113642,0.011035937730853977,0.0112748640784219,0.011518224477918514,0.011766083087024698,0.012018504571452648,0.012275554099113305,0.012537297333995624,0.01280380042975411,0.013075130023000684,0.013351353226297257,0.01363253762084536,0.013918751248869248,0.014210062605689022,0.014506540631480273,0.014808254702716826,0.015115274623293382,0.015427670615324716,0.015745513309618375,0.016068873735817838,0.016397823312212994,0.016732433835215128,0.01707277746849385,0.01741892673177269,0.01777095448928153,0.018128933937862666,0.018492938594728423,0.01886304228486824,0.019239319128102502,0.019621843525781713,0.020010690147128515,0.02040593391522103,0.02080764999261595,0.021215913766609334,0.021630800834134413,0.022052386986294355,0.022480748192529352,0.022915960584417003,0.0233581004391047,0.02380724416237397,0.02426346827133567,0.024726849376755778,0.02519746416501184,0.025675389379679607,0.02616070180275011,0.02665347823547754,0.027153795478858073,0.027661730313740668,0.028177359480570326,0.028700759658764778,0.02923200744572589,0.029771179335487005,0.030318351696997918,0.030873600752049094,0.031437002552836886,0.03200863295917234,0.03258856761533513,0.03317688192657614,0.033773651035270635,0.03437894979672511,0.03499285275464128,0.035615434116240054,0.036246767727049725,0.03688692704536149,0.0375359851163567,0.03819401454590996,0.03886108747407236,0.03953727554823996,0.04022264989601193,0.04091728109774369,0.04162123915880031,0.0423345934815158,0.04305741283686412,0.043789765335848045,0.04453171840061165,0.04528333873528367,0.046044692296557665,0.04681584426401662,0.047596859010209054,0.0483878000704834,0.049188730112589375,0.049999710906053325,0.05082080329133613,0.051652067148782344,0.0524935613673682,0.05334534381325804,0.05420747129817849,0.0550799995476186,0.05596298316886676,0.056856475618893065,0.0577605291720876,0.05867519488786512,0.05960052257814575,0.06053656077472321,0.06148335669653095,0.062440956216817015,0.06340940383024005,0.06438874261989633,0.06537901422429118,0.0663802588042656,0.06739251500989027,0.06841581994734047,0.06945020914576254,0.0704957165241465,0.07155237435821646,0.0726202132473521,0.07369926208155571,0.07478954800847619,0.07589109640050568,0.07700393082196144,0.0781280729963669,0.07926354277384734,0.08041035809865252,0.0815685349768227,0.08273808744401089,0.08391902753347769,0.08511136524427226,0.08631510850961498,0.08753026316549749,0.0887568329195139,0.08999481931994045,0.09124422172507722,0.09250503727286848,0.09377726085081765,0.09506088506621117,0.09635590021666912,0.09766229426103645,0.09898005279063206,0.10030915900087167,0.10164959366327955,0.10300133509790668,0.10436435914617026,0.10573863914413087,0.10712414589622467,0.10852084764946465,0.10992871006812961,0.11134769620895497,0.11277776649684232,0.11421887870110481,0.11567098791226238,0.11713404651940532,0.11860800418813967,0.12009280783913319,0.12158840162727487,0.12309472692146589,0.12461172228505747,0.12613932345694964,0.12767746333336905,0.12922607195033883,0.13078507646685686,0.13235440114879818,0.1339339673535549,0.13552369351543045,0.13712349513180105,0.13873328475005986,0.14035297195535862,0.1419824633591593,0.14362166258861178,0.14527047027676968,0.146928784053658,0.1485964985382077,0.1502735053310671,0.15195969300830636,0.15365494711602484,0.15535915016587468,0.15707218163151385,0.1587939179459973,0.1605242325001215,0.16226299564173016,0.1640100746759936,0.16576533386667283,0.16752863443837612,0.16929983457982128,0.1710787894481097,0.17286535117402363,0.17465936886835493,0.17646068862927264,0.1782691535507391,0.1800846037319805,0.18190687628802057,0.1837358053612833,0.18557122213427082,0.18741295484332424,0.18926082879347014,0.19111466637436092,0.19297428707731104,0.19483950751343473,0.1967101414328897,0.1985859997452274,0.20046689054085629,0.20235261911361765,0.20424298798447663,0.20613779692633133,0.20803684298993794,0.20993992053095598,0.21184682123811008,0.21375733416246984,0.21567124574784685,0.21758833986230475,0.21950839783078424,0.22143119846883638,0.22335651811746327,0.22528413067906253,0.22721380765446972,0.229145318181096,0.23107842907215367,0.23301290485696585,0.23494850782235188,0.23688499805508315,0.2388221334854012,0.2407596699315897,0.2426973611455934,0.24463495885967249,0.24657221283408468,0.24850887090578502,0.2504446790381305,0.25237938137158134,0.25431272027538454,0.25624443640022837,0.2581742687318562,0.2601019546456235,0.2620272299619873,0.2639498290029111,0.26586948464917154,0.26778592839855175,0.26969889042490386,0.27160809963806626,0.27351328374461664,0.2754141693094443,0.2773104818181246,0.2792019457400746,0.2810882845924742,0.2829692210049305,0.2848444767848667,0.2867137729836161,0.28857682996319817,0.29043336746375803,0.2922831046716453,0.2941257602881114,0.2959610525986035,0.2977886995426301,0.29960841878417693,0.3014199277826479,0.30322294386430826,0.30501718429420455,0.3068023663485363,0.3085782073874558,0.3103444249282679,0.31210073671900673,0.31384686081236074,0.31558251563992046,0.3173074200867234,0.31902129356606623,0.32072385609455945,0.32241482836739593,0.3240939318338044,0.3257608887726624,0.32741542236823695,0.3290572567860276,0.3306861172486813,0.33230173011194963,0.33390382294066223,0.335492124584683,0.3370663652548239,0.33862627659868366,0.34017159177638295,0.3417020455361677,0.34321737428984783,0.34471731618804485,0.34620161119521503,0.34767000116442187,0.34912222991182473,0.3505580432908556,0.35197718926605354,0.3533794179865264,0.35476448185901127,0.3561321356205025,0.3574821364104176,0.3588142438422734,0.36012822007483947,0.3614238298827435,0.36270084072649544,0.36395902282190373,0.36519814920885496,0.36641799581942547,0.3676183415452998,0.36879896830446507,0.36995966110715417,0.3711002081210102,0.37222040073544366,0.3733200336251559,0.3743989048128014,0.37545681573076145,0.3764935712820047,0.3775089799000065,0.3785028536077019,0.37947500807544804,0.38042526267796883,0.38135344055025955,0.3822593686424251,0.38314287777343004,0.38400380268373535,0.38484198208680004,0.38565725871942497,0.38644947939091645,0.38721849503104894,0.3879641607368045,0.3886863358178705,0.38938488384087316,0.39005967267232927,0.39071057452029684,0.3913374659747055,0.39194022804634965,0.3925187462045269,0.393072910413305,0.3936026151664009,0.3941077595206576,0.3945882471281024,0.39504398626657344,0.39547488986890045,0.3958808755506264,0.39626186563625865,0.3966177871840368,0.3969485720092071,0.39725415670579195,0.3975344826668462,0.39778949610319,0.3980191480606099,0.39822339443552157,0.3984021959890858,0.39855551835977193,0.398683332074364,0.39878561255740275,0.3988623401390612,0.3989135000614489,0.3989390824833429,0.3989390824833429,0.3989135000614489,0.3988623401390612,0.39878561255740275,0.398683332074364,0.39855551835977193,0.3984021959890858,0.39822339443552157,0.3980191480606099,0.39778949610319,0.3975344826668462,0.39725415670579195,0.3969485720092071,0.3966177871840368,0.39626186563625865,0.3958808755506264,0.39547488986890045,0.39504398626657344,0.3945882471281024,0.3941077595206576,0.3936026151664009,0.393072910413305,0.3925187462045269,0.3919402280463497,0.3913374659747055,0.3907105745202968,0.39005967267232927,0.38938488384087316,0.38868633581787054,0.38796416073680456,0.3872184950310489,0.38644947939091645,0.38565725871942497,0.3848419820868001,0.3840038026837354,0.38314287777343004,0.3822593686424251,0.38135344055025955,0.38042526267796883,0.3794750080754481,0.3785028536077019,0.3775089799000065,0.3764935712820047,0.3754568157307615,0.37439890481280147,0.3733200336251559,0.37222040073544366,0.3711002081210102,0.3699596611071542,0.368798968304465,0.3676183415452998,0.36641799581942547,0.36519814920885496,0.3639590228219038,0.36270084072649533,0.3614238298827435,0.36012822007483947,0.3588142438422734,0.35748213641041765,0.35613213562050244,0.35476448185901127,0.3533794179865264,0.35197718926605354,0.35055804329085566,0.3491222299118247,0.34767000116442187,0.34620161119521503,0.34471731618804485,0.34321737428984794,0.3417020455361676,0.34017159177638295,0.33862627659868366,0.33706636525482403,0.33549212458468314,0.3339038229406621,0.33230173011194963,0.3306861172486813,0.3290572567860277,0.327415422368237,0.32576088877266235,0.3240939318338044,0.32241482836739593,0.3207238560945595,0.3190212935660663,0.31730742008672336,0.31558251563992046,0.31384686081236074,0.31210073671900684,0.31034442492826797,0.30857820738745567,0.3068023663485363,0.30501718429420455,0.3032229438643083,0.301419927782648,0.2996084187841769,0.2977886995426301,0.2959610525986035,0.29412576028811144,0.29228310467164537,0.29043336746375803,0.28857682996319817,0.2867137729836161,0.2848444767848668,0.28296922100493066,0.2810882845924742,0.2792019457400746,0.2773104818181246,0.27541416930944446,0.27351328374461653,0.27160809963806626,0.26969889042490386,0.26778592839855175,0.2658694846491716,0.26394982900291103,0.2620272299619873,0.2601019546456235,0.2581742687318562,0.2562444364002285,0.25431272027538443,0.25237938137158134,0.2504446790381305,0.24850887090578502,0.2465722128340848,0.2446349588596724,0.2426973611455934,0.2407596699315897,0.2388221334854012,0.23688499805508323,0.2349485078223518,0.23301290485696585,0.23107842907215367,0.229145318181096,0.2272138076544698,0.22528413067906244,0.22335651811746327,0.22143119846883638,0.21950839783078432,0.21758833986230489,0.21567124574784677,0.21375733416246984,0.21184682123811008,0.20993992053095606,0.20803684298993805,0.20613779692633125,0.20424298798447663,0.20235261911361765,0.20046689054085637,0.1985859997452275,0.1967101414328896,0.19483950751343473,0.19297428707731104,0.19111466637436103,0.18926082879347025,0.18741295484332415,0.18557122213427082,0.1837358053612833,0.18190687628802069,0.18008460373198062,0.17826915355073902,0.17646068862927264,0.17465936886835493,0.1728653511740237,0.1710787894481098,0.16929983457982128,0.16752863443837612,0.16576533386667283,0.1640100746759937,0.16226299564173025,0.1605242325001215,0.1587939179459973,0.15707218163151385,0.1553591501658748,0.15365494711602493,0.15195969300830636,0.1502735053310671,0.1485964985382077,0.14692878405365808,0.1452704702767696,0.14362166258861178,0.1419824633591593,0.14035297195535862,0.13873328475005994,0.13712349513180097,0.13552369351543045,0.1339339673535549,0.13235440114879818,0.13078507646685694,0.12922607195033875,0.12767746333336905,0.12613932345694964,0.12461172228505747,0.12309472692146597,0.12158840162727479,0.12009280783913319,0.11860800418813967,0.11713404651940532,0.11567098791226245,0.11421887870110475,0.11277776649684232,0.11134769620895497,0.10992871006812968,0.10852084764946472,0.10712414589622457,0.10573863914413087,0.10436435914617026,0.10300133509790675,0.10164959366327961,0.1003091590008716,0.09898005279063206,0.09766229426103645,0.09635590021666918,0.09506088506621124,0.09377726085081757,0.09250503727286848,0.09124422172507722,0.08999481931994051,0.08875683291951396,0.0875302631654974,0.08631510850961498,0.08511136524427226,0.08391902753347777,0.08273808744401095,0.08156853497682262,0.08041035809865252,0.07926354277384734,0.07812807299636694,0.07700393082196148,0.07589109640050568,0.07478954800847619,0.07369926208155571,0.07262021324735216,0.07155237435821651,0.0704957165241465,0.06945020914576254,0.06841581994734047,0.06739251500989032,0.06638025880426554,0.06537901422429118,0.06438874261989633,0.06340940383024005,0.06244095621681707,0.06148335669653089,0.06053656077472321,0.05960052257814575,0.05867519488786512,0.05776052917208764,0.056856475618893024,0.05596298316886676,0.0550799995476186,0.05420747129817849,0.05334534381325809,0.052493561367368144,0.051652067148782344,0.05082080329133613,0.049999710906053325,0.049188730112589424,0.0483878000704834,0.047596859010209054,0.04681584426401662,0.046044692296557665,0.04528333873528372,0.04453171840061165,0.043789765335848045,0.04305741283686412,0.0423345934815158,0.04162123915880035,0.04091728109774369,0.04022264989601193,0.03953727554823996,0.03886108747407236,0.03819401454590999,0.0375359851163567,0.03688692704536149,0.036246767727049725,0.035615434116240054,0.034992852754641306,0.03437894979672511,0.033773651035270635,0.03317688192657614,0.03258856761533513,0.03200863295917237,0.031437002552836886,0.030873600752049094,0.030318351696997918,0.029771179335487005,0.029232007445725912,0.028700759658764778,0.028177359480570326,0.027661730313740668,0.027153795478858073,0.02665347823547757,0.02616070180275011,0.025675389379679607,0.02519746416501184,0.024726849376755778,0.02426346827133569,0.02380724416237397,0.0233581004391047,0.022915960584417003,0.022480748192529383,0.022052386986294387,0.021630800834134413,0.021215913766609334,0.02080764999261595,0.020405933915221046,0.020010690147128488,0.019621843525781713,0.019239319128102502,0.01886304228486824,0.01849293859472844,0.01812893393786264,0.01777095448928153,0.01741892673177269,0.01707277746849385,0.016732433835215152,0.016397823312212973,0.016068873735817838,0.015745513309618375,0.015427670615324716,0.015115274623293401,0.014808254702716826,0.014506540631480273,0.014210062605689022,0.013918751248869248,0.013632537620845375,0.013351353226297257,0.013075130023000684,0.01280380042975411,0.012537297333995624,0.012275554099113318,0.012018504571452648,0.011766083087024698,0.011518224477918514,0.0112748640784219,0.011035937730853991,0.010801381791113642,0.010571133133947601,0.01034512915794207,0.010123307790242102,0.009905607491002473,0.009691967257574223,0.009482326628430989,0.009276625686838978,0.009074805064275111,0.008876805943597124,0.008682570061970006,0.00849203971355293,0.00830515775195071,0.008121867592434317,0.007942113213934383,0.007765839160812103,0.00759299054441176,0.007423513044398934,0.007257352909888934,0.007094456960369473,0.006934772586421903,0.006778247750245298,0.006624830985987414,0.006474471399887032,0.006327118670231648,0.006182723047134838,0.006041235352137465,0.005902606977636736,0.005766789886147505,0.005633736609399748,0.00550340024727644,0.00537573446659573,0.005250693499741717,0.005128232143147639,0.005008305755635575,0.004890870256616671,0.004775882124155638,0.004663298392903681,0.004553076651903562,0.004445175042270671,0.004339552254753986,0.004236167527180521,0.004134980641787195,0.0040359519224436825,0.003939042231769909,0.0038442129681518886,0.0037514260626593196,0.003660643975868637,0.0035718296945948928,0.0034849467285359447,0.003399959106832382,0.0033168313745464274,0.003235528589063281,0.0031560163164180495,0.003078260627551507,0.0030022280944979273,0.002927885786507907,0.00285520126610952,0.002784142585110619,0.0027146782805453347,0.0026467773705677444,0.002580409350295453,0.0025155441876060537,0.0024521523188891854,0.002390204644756889,0.0023296725257150068,0.00227052777779815,0.0022127426681709333,0.002156289910697916,0.0021011426614847566,0.0020472745143930086,0.001994659496530914,0.0019432720637225455,0.001893087095957574,0.0018440798928238502,0.0017962261689250466,0.0017495020492853824,0.0017038840647436249,0.0016593491473383163,0.0016158746256862426,0.0015734382203560601,0.001532018039238954,0.001491592572918199,0.0014521406900393785,0.001413641632683005,0.0013760750117412627,0.0013394208023004641,0.0013036593390308852,0.0012687713115854895,0.0012347377600090662,0.0012015400701592624,0.0011691599691408692,0.0011375795207548324,0.0011067811209632366,0.0010767474933715976,0.0010474616847297089,0.0010189070604522017,0.0009910673001600609,0.0009639263932441477,0.0009374686344518663,0.0009116786194979598,0.000886541240700502,0.0008620416826430083,0.0008381654178636015,0.0008148982025721397,0.0007922260723961207,0.0007701353381562253,0.0007486125816722467,0.0007276446516001645,0.0007072186593010809,0.0006873219747426652,0.0006679422224337958,0.0006490672773929736,0.0006306852611511035,0.0006127845377891921,0.0005953537100114529,0.0005783816152543497,0.000561857321831992,0.0005457701251183346,0.000530109543766577,0.0005148653159661124,0.0005000273957374089,0.00048558594926510393,0.000471531351269623,0.00045785418141758614,0.00044454522077122966,0.0004315954482770799,0.0004189960372940592,0.0004067383521611961,0.00039481394480509277,0.0003832145513872607,0.00037193208899145174,0.0003609586523510473,0.00035028651061657935,0.0003399081041634312,0.0003298160414397229,0.00032000309585441524,0.00031046220270560047,0.0003011864561489561,0.00029216910620632244,0.0002834035558143255,0.0002748833579129874,0.0002666022125742138,0.0002585539641700594,0.00025073259858064884,0.00024313224044160314,0.00023574715043084548,0.00022857172259460061,0.00022160048171242648,0.00021482808070108828,0.00020824929805706861,0.00020185903533751694,0.00019565231467940812,0.0001896242763566838,0.00018377017637513806,0.00017808538410479,0.00017256537994949668,0.00016720575305352993,0.00016200219904484992,0.0001569505178147822,0.00015204661133382119,0.00014728648150325464,0.00014266622804230716,0.0001381820464104976,0.00013383022576488537],\"type\":\"scatter\"},{\"fill\":\"tozeroy\",\"fillcolor\":\"rgba(0,100,80,0.3)\",\"mode\":\"none\",\"name\":\"Probabilidade\",\"x\":[1.6,1.6024024024024024,1.604804804804805,1.6072072072072072,1.6096096096096097,1.612012012012012,1.6144144144144146,1.6168168168168169,1.6192192192192194,1.6216216216216217,1.624024024024024,1.6264264264264265,1.6288288288288288,1.6312312312312314,1.6336336336336337,1.6360360360360362,1.6384384384384385,1.640840840840841,1.6432432432432433,1.6456456456456456,1.6480480480480482,1.6504504504504505,1.652852852852853,1.6552552552552553,1.6576576576576578,1.6600600600600601,1.6624624624624627,1.664864864864865,1.6672672672672673,1.6696696696696698,1.672072072072072,1.6744744744744746,1.676876876876877,1.6792792792792794,1.6816816816816818,1.684084084084084,1.6864864864864866,1.6888888888888889,1.6912912912912914,1.6936936936936937,1.6960960960960962,1.6984984984984985,1.700900900900901,1.7033033033033034,1.705705705705706,1.7081081081081082,1.7105105105105105,1.712912912912913,1.7153153153153153,1.7177177177177179,1.7201201201201202,1.7225225225225227,1.724924924924925,1.7273273273273273,1.7297297297297298,1.7321321321321321,1.7345345345345347,1.736936936936937,1.7393393393393395,1.7417417417417418,1.7441441441441443,1.7465465465465466,1.7489489489489491,1.7513513513513514,1.7537537537537538,1.7561561561561563,1.7585585585585586,1.760960960960961,1.7633633633633634,1.765765765765766,1.7681681681681682,1.7705705705705705,1.772972972972973,1.7753753753753754,1.777777777777778,1.7801801801801802,1.7825825825825827,1.784984984984985,1.7873873873873876,1.7897897897897899,1.7921921921921924,1.7945945945945947,1.796996996996997,1.7993993993993995,1.8018018018018018,1.8042042042042044,1.8066066066066067,1.8090090090090092,1.8114114114114115,1.8138138138138138,1.8162162162162163,1.8186186186186186,1.8210210210210211,1.8234234234234235,1.825825825825826,1.8282282282282283,1.8306306306306306,1.833033033033033,1.8354354354354356,1.837837837837838,1.8402402402402402,1.8426426426426428,1.845045045045045,1.8474474474474476,1.84984984984985,1.8522522522522524,1.8546546546546547,1.857057057057057,1.8594594594594596,1.8618618618618619,1.8642642642642644,1.8666666666666667,1.8690690690690692,1.8714714714714715,1.8738738738738738,1.8762762762762764,1.8786786786786789,1.8810810810810812,1.8834834834834835,1.885885885885886,1.8882882882882883,1.8906906906906908,1.8930930930930931,1.8954954954954957,1.897897897897898,1.9003003003003003,1.9027027027027028,1.9051051051051051,1.9075075075075076,1.90990990990991,1.9123123123123125,1.9147147147147148,1.917117117117117,1.9195195195195196,1.9219219219219221,1.9243243243243244,1.9267267267267267,1.9291291291291293,1.9315315315315316,1.933933933933934,1.9363363363363364,1.938738738738739,1.9411411411411412,1.9435435435435435,1.945945945945946,1.9483483483483484,1.9507507507507509,1.9531531531531532,1.9555555555555557,1.957957957957958,1.9603603603603603,1.9627627627627628,1.9651651651651654,1.9675675675675677,1.96996996996997,1.9723723723723725,1.9747747747747748,1.9771771771771771,1.9795795795795796,1.9819819819819822,1.9843843843843845,1.9867867867867868,1.9891891891891893,1.9915915915915916,1.9939939939939941,1.9963963963963964,1.998798798798799,2.0012012012012015,2.0036036036036036,2.006006006006006,2.0084084084084086,2.0108108108108107,2.0132132132132132,2.0156156156156158,2.0180180180180183,2.0204204204204204,2.022822822822823,2.0252252252252254,2.027627627627628,2.03003003003003,2.0324324324324325,2.034834834834835,2.037237237237237,2.0396396396396397,2.042042042042042,2.0444444444444443,2.046846846846847,2.0492492492492493,2.051651651651652,2.054054054054054,2.0564564564564565,2.058858858858859,2.0612612612612615,2.0636636636636636,2.066066066066066,2.0684684684684687,2.0708708708708707,2.0732732732732733,2.075675675675676,2.0780780780780783,2.0804804804804804,2.082882882882883,2.0852852852852855,2.087687687687688,2.09009009009009,2.0924924924924926,2.094894894894895,2.097297297297297,2.0996996996996997,2.1021021021021022,2.1045045045045043,2.106906906906907,2.1093093093093094,2.111711711711712,2.1141141141141144,2.1165165165165165,2.118918918918919,2.1213213213213216,2.1237237237237236,2.126126126126126,2.1285285285285287,2.1309309309309308,2.1333333333333333,2.135735735735736,2.1381381381381384,2.140540540540541,2.142942942942943,2.1453453453453455,2.147747747747748,2.15015015015015,2.1525525525525526,2.154954954954955,2.1573573573573572,2.1597597597597598,2.1621621621621623,2.1645645645645644,2.166966966966967,2.1693693693693694,2.171771771771772,2.1741741741741745,2.1765765765765765,2.178978978978979,2.1813813813813816,2.1837837837837837,2.186186186186186,2.1885885885885887,2.190990990990991,2.1933933933933933,2.195795795795796,2.1981981981981984,2.200600600600601,2.203003003003003,2.2054054054054055,2.207807807807808,2.21021021021021,2.2126126126126127,2.215015015015015,2.2174174174174173,2.21981981981982,2.2222222222222223,2.224624624624625,2.227027027027027,2.2294294294294295,2.231831831831832,2.2342342342342345,2.2366366366366366,2.239039039039039,2.2414414414414416,2.2438438438438437,2.2462462462462462,2.2486486486486488,2.251051051051051,2.2534534534534534,2.255855855855856,2.2582582582582584,2.260660660660661,2.263063063063063,2.2654654654654656,2.267867867867868,2.27027027027027,2.2726726726726727,2.2750750750750752,2.2774774774774773,2.27987987987988,2.2822822822822824,2.284684684684685,2.2870870870870874,2.2894894894894895,2.291891891891892,2.2942942942942945,2.2966966966966966,2.299099099099099,2.3015015015015017,2.3039039039039038,2.3063063063063063,2.308708708708709,2.311111111111111,2.3135135135135134,2.315915915915916,2.3183183183183185,2.320720720720721,2.323123123123123,2.3255255255255256,2.327927927927928,2.33033033033033,2.3327327327327327,2.3351351351351353,2.3375375375375373,2.33993993993994,2.3423423423423424,2.344744744744745,2.3471471471471475,2.3495495495495495,2.351951951951952,2.3543543543543546,2.3567567567567567,2.359159159159159,2.3615615615615617,2.363963963963964,2.3663663663663663,2.368768768768769,2.3711711711711714,2.373573573573574,2.375975975975976,2.3783783783783785,2.380780780780781,2.383183183183183,2.3855855855855856,2.387987987987988,2.3903903903903903,2.3927927927927928,2.3951951951951953,2.3975975975975974,2.4,2.4024024024024024,2.404804804804805,2.4072072072072075,2.4096096096096096,2.412012012012012,2.4144144144144146,2.4168168168168167,2.4192192192192192,2.4216216216216218,2.424024024024024,2.4264264264264264,2.428828828828829,2.4312312312312314,2.433633633633634,2.436036036036036,2.4384384384384385,2.440840840840841,2.443243243243243,2.4456456456456457,2.448048048048048,2.4504504504504503,2.452852852852853,2.4552552552552553,2.457657657657658,2.46006006006006,2.4624624624624625,2.464864864864865,2.4672672672672675,2.4696696696696696,2.472072072072072,2.4744744744744747,2.4768768768768767,2.4792792792792793,2.481681681681682,2.484084084084084,2.4864864864864864,2.488888888888889,2.4912912912912915,2.493693693693694,2.496096096096096,2.4984984984984986,2.500900900900901,2.503303303303303,2.5057057057057057,2.5081081081081082,2.5105105105105103,2.512912912912913,2.5153153153153154,2.517717717717718,2.5201201201201204,2.5225225225225225,2.524924924924925,2.5273273273273276,2.5297297297297296,2.532132132132132,2.5345345345345347,2.536936936936937,2.5393393393393393,2.541741741741742,2.544144144144144,2.5465465465465464,2.548948948948949,2.5513513513513515,2.553753753753754,2.556156156156156,2.5585585585585586,2.560960960960961,2.5633633633633632,2.5657657657657658,2.5681681681681683,2.5705705705705704,2.572972972972973,2.5753753753753754,2.577777777777778,2.5801801801801805,2.5825825825825826,2.584984984984985,2.5873873873873876,2.5897897897897897,2.592192192192192,2.5945945945945947,2.596996996996997,2.5993993993993993,2.601801801801802,2.604204204204204,2.606606606606607,2.609009009009009,2.6114114114114115,2.613813813813814,2.616216216216216,2.6186186186186187,2.621021021021021,2.6234234234234233,2.625825825825826,2.6282282282282283,2.6306306306306304,2.6330330330330334,2.6354354354354355,2.637837837837838,2.6402402402402405,2.6426426426426426,2.645045045045045,2.6474474474474476,2.6498498498498497,2.6522522522522523,2.6546546546546548,2.657057057057057,2.65945945945946,2.661861861861862,2.664264264264264,2.666666666666667,2.669069069069069,2.6714714714714716,2.673873873873874,2.676276276276276,2.6786786786786787,2.6810810810810812,2.6834834834834833,2.685885885885886,2.6882882882882884,2.6906906906906904,2.6930930930930934,2.6954954954954955,2.697897897897898,2.7003003003003005,2.7027027027027026,2.705105105105105,2.7075075075075077,2.7099099099099098,2.7123123123123123,2.714714714714715,2.717117117117117,2.71951951951952,2.721921921921922,2.724324324324324,2.726726726726727,2.729129129129129,2.7315315315315316,2.733933933933934,2.736336336336336,2.7387387387387387,2.7411411411411413,2.7435435435435434,2.745945945945946,2.7483483483483484,2.7507507507507505,2.7531531531531535,2.7555555555555555,2.757957957957958,2.7603603603603606,2.7627627627627627,2.765165165165165,2.7675675675675677,2.76996996996997,2.7723723723723723,2.774774774774775,2.777177177177177,2.77957957957958,2.781981981981982,2.7843843843843845,2.786786786786787,2.789189189189189,2.7915915915915916,2.793993993993994,2.7963963963963963,2.798798798798799,2.8012012012012013,2.8036036036036034,2.8060060060060064,2.8084084084084084,2.8108108108108105,2.8132132132132135,2.8156156156156156,2.818018018018018,2.8204204204204206,2.8228228228228227,2.8252252252252252,2.8276276276276278,2.83003003003003,2.8324324324324324,2.834834834834835,2.837237237237237,2.83963963963964,2.842042042042042,2.8444444444444446,2.846846846846847,2.849249249249249,2.8516516516516517,2.854054054054054,2.8564564564564563,2.858858858858859,2.8612612612612613,2.8636636636636634,2.8660660660660664,2.8684684684684685,2.870870870870871,2.8732732732732735,2.8756756756756756,2.878078078078078,2.8804804804804807,2.8828828828828827,2.8852852852852853,2.887687687687688,2.89009009009009,2.892492492492493,2.894894894894895,2.897297297297297,2.8996996996997,2.902102102102102,2.9045045045045046,2.906906906906907,2.909309309309309,2.9117117117117117,2.9141141141141143,2.9165165165165163,2.918918918918919,2.9213213213213214,2.9237237237237235,2.9261261261261264,2.9285285285285285,2.930930930930931,2.9333333333333336,2.9357357357357357,2.938138138138138,2.9405405405405407,2.942942942942943,2.9453453453453453,2.947747747747748,2.95015015015015,2.952552552552553,2.954954954954955,2.957357357357357,2.95975975975976,2.962162162162162,2.9645645645645646,2.966966966966967,2.9693693693693692,2.9717717717717718,2.9741741741741743,2.9765765765765764,2.978978978978979,2.9813813813813814,2.9837837837837835,2.9861861861861865,2.9885885885885886,2.990990990990991,2.9933933933933936,2.9957957957957957,2.998198198198198,3.0006006006006007,3.003003003003003,3.0054054054054054,3.007807807807808,3.01021021021021,3.012612612612613,3.015015015015015,3.0174174174174175,3.01981981981982,3.022222222222222,3.0246246246246247,3.027027027027027,3.0294294294294293,3.031831831831832,3.0342342342342343,3.0366366366366364,3.0390390390390394,3.0414414414414415,3.0438438438438435,3.0462462462462465,3.0486486486486486,3.051051051051051,3.0534534534534536,3.0558558558558557,3.0582582582582583,3.060660660660661,3.063063063063063,3.0654654654654654,3.067867867867868,3.07027027027027,3.072672672672673,3.075075075075075,3.0774774774774776,3.07987987987988,3.082282282282282,3.0846846846846847,3.0870870870870872,3.0894894894894893,3.091891891891892,3.0942942942942944,3.0966966966966964,3.0990990990990994,3.1015015015015015,3.103903903903904,3.1063063063063066,3.1087087087087086,3.111111111111111,3.1135135135135137,3.1159159159159158,3.1183183183183183,3.120720720720721,3.123123123123123,3.125525525525526,3.127927927927928,3.13033033033033,3.132732732732733,3.135135135135135,3.1375375375375376,3.13993993993994,3.142342342342342,3.1447447447447447,3.1471471471471473,3.1495495495495494,3.151951951951952,3.1543543543543544,3.1567567567567565,3.1591591591591595,3.1615615615615615,3.163963963963964,3.1663663663663666,3.1687687687687687,3.171171171171171,3.1735735735735737,3.175975975975976,3.1783783783783783,3.180780780780781,3.183183183183183,3.185585585585586,3.187987987987988,3.1903903903903905,3.192792792792793,3.195195195195195,3.1975975975975977,3.2,3.2024024024024023,3.204804804804805,3.2072072072072073,3.2096096096096094,3.212012012012012,3.2144144144144144,3.2168168168168165,3.2192192192192195,3.2216216216216216,3.224024024024024,3.2264264264264266,3.2288288288288287,3.2312312312312312,3.2336336336336338,3.236036036036036,3.2384384384384384,3.240840840840841,3.243243243243243,3.245645645645646,3.248048048048048,3.2504504504504506,3.252852852852853,3.255255255255255,3.2576576576576577,3.26006006006006,3.2624624624624623,3.264864864864865,3.2672672672672673,3.2696696696696694,3.2720720720720724,3.2744744744744745,3.2768768768768766,3.2792792792792795,3.2816816816816816,3.284084084084084,3.2864864864864867,3.2888888888888888,3.2912912912912913,3.293693693693694,3.296096096096096,3.2984984984984984,3.300900900900901,3.303303303303303,3.305705705705706,3.308108108108108,3.3105105105105106,3.312912912912913,3.315315315315315,3.3177177177177177,3.3201201201201203,3.3225225225225223,3.324924924924925,3.3273273273273274,3.3297297297297295,3.3321321321321324,3.3345345345345345,3.336936936936937,3.3393393393393396,3.3417417417417417,3.344144144144144,3.3465465465465467,3.348948948948949,3.3513513513513513,3.353753753753754,3.356156156156156,3.358558558558559,3.360960960960961,3.363363363363363,3.365765765765766,3.368168168168168,3.3705705705705706,3.372972972972973,3.3753753753753752,3.3777777777777778,3.3801801801801803,3.3825825825825824,3.384984984984985,3.3873873873873874,3.3897897897897895,3.3921921921921925,3.3945945945945946,3.396996996996997,3.3993993993993996,3.4018018018018017,3.404204204204204,3.4066066066066067,3.409009009009009,3.4114114114114114,3.413813813813814,3.416216216216216,3.418618618618619,3.421021021021021,3.4234234234234235,3.425825825825826,3.428228228228228,3.4306306306306307,3.433033033033033,3.4354354354354353,3.437837837837838,3.4402402402402403,3.4426426426426424,3.445045045045045,3.4474474474474475,3.4498498498498495,3.4522522522522525,3.4546546546546546,3.457057057057057,3.4594594594594597,3.4618618618618617,3.4642642642642643,3.466666666666667,3.469069069069069,3.4714714714714714,3.473873873873874,3.476276276276276,3.478678678678679,3.481081081081081,3.4834834834834836,3.485885885885886,3.488288288288288,3.4906906906906907,3.4930930930930932,3.4954954954954953,3.497897897897898,3.5003003003003004,3.5027027027027025,3.5051051051051054,3.5075075075075075,3.5099099099099096,3.5123123123123126,3.5147147147147146,3.517117117117117,3.5195195195195197,3.5219219219219218,3.5243243243243243,3.526726726726727,3.529129129129129,3.5315315315315314,3.533933933933934,3.536336336336336,3.538738738738739,3.541141141141141,3.5435435435435436,3.545945945945946,3.5483483483483482,3.5507507507507508,3.5531531531531533,3.5555555555555554,3.557957957957958,3.5603603603603604,3.5627627627627625,3.5651651651651655,3.5675675675675675,3.56996996996997,3.5723723723723726,3.5747747747747747,3.577177177177177,3.5795795795795797,3.581981981981982,3.5843843843843843,3.586786786786787,3.589189189189189,3.591591591591592,3.593993993993994,3.596396396396396,3.598798798798799,3.601201201201201,3.6036036036036037,3.606006006006006,3.6084084084084083,3.610810810810811,3.6132132132132133,3.6156156156156154,3.618018018018018,3.6204204204204204,3.622822822822823,3.625225225225225,3.6276276276276276,3.63003003003003,3.6324324324324326,3.6348348348348347,3.6372372372372372,3.6396396396396398,3.642042042042042,3.6444444444444444,3.646846846846847,3.6492492492492494,3.6516516516516515,3.654054054054054,3.6564564564564566,3.6588588588588586,3.661261261261261,3.6636636636636637,3.666066066066066,3.6684684684684683,3.670870870870871,3.6732732732732734,3.675675675675676,3.678078078078078,3.6804804804804805,3.682882882882883,3.685285285285285,3.6876876876876876,3.69009009009009,3.6924924924924927,3.6948948948948948,3.6972972972972973,3.6996996996997,3.702102102102102,3.7045045045045044,3.706906906906907,3.7093093093093095,3.7117117117117115,3.714114114114114,3.7165165165165166,3.718918918918919,3.721321321321321,3.7237237237237237,3.7261261261261263,3.7285285285285283,3.730930930930931,3.7333333333333334,3.735735735735736,3.738138138138138,3.7405405405405405,3.742942942942943,3.745345345345345,3.7477477477477477,3.75015015015015,3.7525525525525527,3.754954954954955,3.7573573573573573,3.75975975975976,3.7621621621621624,3.7645645645645645,3.766966966966967,3.7693693693693695,3.7717717717717716,3.774174174174174,3.7765765765765766,3.778978978978979,3.7813813813813812,3.7837837837837838,3.7861861861861863,3.7885885885885884,3.790990990990991,3.7933933933933934,3.795795795795796,3.798198198198198,3.8006006006006006,3.803003003003003,3.8054054054054056,3.8078078078078077,3.8102102102102102,3.8126126126126128,3.815015015015015,3.8174174174174174,3.81981981981982,3.8222222222222224,3.8246246246246245,3.827027027027027,3.8294294294294295,3.8318318318318316,3.834234234234234,3.8366366366366367,3.839039039039039,3.8414414414414413,3.843843843843844,3.8462462462462463,3.8486486486486484,3.851051051051051,3.8534534534534535,3.855855855855856,3.858258258258258,3.8606606606606606,3.863063063063063,3.8654654654654657,3.8678678678678677,3.8702702702702703,3.872672672672673,3.875075075075075,3.8774774774774774,3.87987987987988,3.8822822822822824,3.8846846846846845,3.887087087087087,3.8894894894894896,3.8918918918918917,3.894294294294294,3.8966966966966967,3.8990990990990992,3.9015015015015013,3.903903903903904,3.9063063063063064,3.908708708708709,3.911111111111111,3.9135135135135135,3.915915915915916,3.918318318318318,3.9207207207207206,3.923123123123123,3.9255255255255257,3.9279279279279278,3.9303303303303303,3.932732732732733,3.935135135135135,3.9375375375375374,3.93993993993994,3.9423423423423425,3.9447447447447446,3.947147147147147,3.9495495495495496,3.951951951951952,3.9543543543543542,3.9567567567567568,3.9591591591591593,3.9615615615615614,3.963963963963964,3.9663663663663664,3.968768768768769,3.971171171171171,3.9735735735735735,3.975975975975976,3.978378378378378,3.9807807807807807,3.983183183183183,3.9855855855855857,3.987987987987988,3.9903903903903903,3.992792792792793,3.9951951951951954,3.9975975975975975,4.0],\"y\":[0.11092083467945554,0.11049497183479502,0.110070108746998,0.1096462464666933,0.1092233860231715,0.10880152842444403,0.10838067465730133,0.10796082568737263,0.10754198245918521,0.10712414589622463,0.10670731690099479,0.10629149635507894,0.10587668511920066,0.10546288403328519,0.10505009391652158,0.10463831556742435,0.10422754976389664,0.10381779726329245,0.10340905880248033,0.10300133509790672,0.10259462684565979,0.10218893472153394,0.10178425938109403,0.10138060145974054,0.10097796157277454,0.10057634031546354,0.10017573826310694,0.0997761559711026,0.09937759397501299,0.09898005279063206,0.09858353291405257,0.09818803482173301,0.09779355897056573,0.09740010579794456,0.09700767572183339,0.09661626914083436,0.09622588643425693,0.095836527962187,0.09544819406555607,0.09506088506621117,0.0946746012669845,0.09428934295176385,0.09390511038556283,0.09352190381459181,0.09313972346632857,0.09275856954958983,0.09237844225460239,0.09199934175307502,0.09162126819827043,0.0912442217250772,0.09086820245008244,0.09049321047164419,0.09011924586996455,0.08974630870716246,0.08937439902734716,0.0890035168566918,0.08863366220350688,0.08826483505831446,0.08789703539392212,0.08753026316549743,0.08716451831064237,0.08679980074946816,0.08643611038467011,0.08607344710160282,0.08571181076835539,0.08535120123582692,0.08499161833780225,0.08463306189102762,0.08427553169528695,0.08391902753347769,0.08356354917168742,0.0832090963592702,0.08285566882892316,0.08250326629676367,0.08215188846240583,0.08180153500903789,0.08145220560349942,0.0811038998963587,0.08075661752199023,0.08041035809865252,0.08006512122856563,0.07972090649798955,0.07937771347730166,0.07903554172107545,0.07869439076815853,0.07835426014175106,0.07801514934948445,0.07767705788349966,0.07733998522052637,0.07700393082196144,0.07666889413394799,0.07633487458745462,0.07600187159835423,0.07566988456750343,0.07533891288082178,0.0750089559093713,0.0746800130094358,0.07435208352260042,0.07402516677583137,0.07369926208155568,0.07337436873774071,0.07305048602797419,0.07272761322154407,0.07240574957351845,0.07208489432482562,0.07176504670233405,0.07144620591893265,0.07112837117361073,0.07081154165153834,0.07049571652414655,0.07018089494920754,0.06986707607091518,0.06955425901996515,0.06924244291363553,0.06893162685586697,0.06862180993734333,0.06831299123557202,0.06800516981496459,0.06769834472691698,0.06739251500989027,0.0670876796894911,0.0667838377785521,0.06648098827721255,0.06617913017299876,0.06587826244090474,0.06557838404347255,0.06527949393087286,0.06498159104098564,0.06468467429948024,0.06438874261989633,0.06409379490372388,0.06379983004048399,0.06350684690780904,0.06321484437152314,0.06292382128572258,0.06263377649285595,0.062344708823804634,0.06205661709796284,0.06176950012331804,0.061483356696530926,0.06119818560301569,0.06091398561701998,0.06063075550170503,0.060348494009225546,0.06006719988080962,0.05978687184683871,0.05950750862692726,0.05922910893000264,0.058951671454384603,0.0586751948878651,0.05839967790778765,0.05812511918112688,0.05785151736456793,0.05757887110458579,0.05730717903752439,0.05703643978967589,0.05676665197735977,0.05649781420700168,0.05622992507521242,0.05596298316886676,0.05569698706518215,0.05543193533179722,0.05516782652685045,0.054904659199058514,0.054642431887794565,0.054381143123166546,0.05412079142609517,0.05386137530839201,0.05360289327283741,0.05334534381325804,0.053088725414604854,0.052833036553030455,0.052578275695966445,0.05232444130220096,0.05207153182195563,0.05181954569696277,0.051568481360542075,0.05131833723767774,0.05106911174509486,0.05082080329133613,0.050573410276837975,0.050326931094007134,0.05008136412729658,0.04983670775328141,0.049592960340734925,0.049350120250704135,0.049108185836585196,0.04886715544419906,0.048627027411866544,0.04838780007048344,0.04814947174359531,0.04791204074747254,0.04767550539118465,0.04743986397667505,0.04720511479883489,0.04697125614557765,0.04673828629791289,0.046506203530019906,0.04627500610932154,0.046044692296557624,0.0458152603458582,0.0455867085048165,0.04535903501456213,0.04513223810983367,0.04490631601905125,0.04468126696438888,0.04445708916184678,0.04423378082132342,0.04401134014668714,0.043789765335848045,0.04356905458082939,0.043349206067838666,0.043130217977339055,0.042912088484119947,0.04269481575736788,0.04247839796073693,0.04226283325241891,0.04204811978521375,0.041834255706599155,0.04162123915880031,0.04140906827885955,0.04119774119870553,0.040987256045222194,0.04077761094031793,0.04056880400099401,0.04036083333941315,0.04015369706296774,0.039947393274347785,0.03974192007160894,0.03953727554823996,0.03933345779322999,0.03913046489113603,0.03892829492214971,0.038726945962163924,0.03852641608283957,0.03832670335167175,0.0381278058320557,0.0379297215833529,0.03773244866095649,0.0375359851163567,0.03734032899720615,0.03714547834738449,0.036951431207063484,0.036758185612771194,0.03656573959745633,0.03637409119055227,0.03618323841804091,0.03599317930251595,0.03580391186324651,0.03561543411624002,0.03542774407430513,0.035240839747114255,0.03505471914126588,0.03486938026034684,0.03468482110499411,0.034501039672956285,0.03431803395915523,0.03413580195574713,0.03395434165218319,0.033773651035270635,0.03359372808923289,0.03341457079576981,0.03323617713411751,0.03305854508110817,0.032881672611229394,0.032705557696683374,0.03253019830744571,0.03235559241132425,0.03218173797401744,0.03200863295917234,0.03183627532844276,0.0316646630415468,0.031493794056324194,0.03132366632879353,0.03115427781320917,0.0309856264621178,0.03081771022641484,0.030650527055400483,0.03048407489683576,0.030318351696997918,0.03015335540073584,0.029989083951525185,0.029825535291523163,0.02966270736162302,0.02950059810150848,0.02933920544970769,0.02917852734364702,0.02901856171970461,0.0288593065132635,0.028700759658764778,0.02854291908976024,0.02838578273896479,0.028229348538308715,0.028073614418989628,0.027918578311524,0.027764238145798762,0.027610591851122305,0.027457637356275325,0.027305372589561575,0.027153795478858052,0.027002903951665144,0.026852695935156448,0.026703169356228185,0.02655432214154866,0.026406152217607143,0.026258657510762538,0.02611183594729203,0.025965685453439167,0.025820203955461748,0.025675389379679607,0.02553123965252192,0.025387752700574327,0.025244926450625864,0.025102758829715383,0.024961247765178083,0.024820391184691426,0.024680187016320854,0.024540633188565482,0.02440172763040321,0.02426346827133567,0.02412585304143299,0.023988879871378252,0.023852546692511547,0.023716851436873992,0.023581792037251175,0.023447366427216718,0.02331357254117525,0.023180408314405147,0.023047871683101243,0.022915960584417003,0.02278467295650649,0.02265400673856623,0.022523959870876575,0.0223945302948429,0.02226571595303662,0.022137514789235754,0.02200992474846539,0.021882943777037797,0.021756569822592168,0.021630800834134413,0.021505634762076332,0.021381069558274665,0.021257103176069984,0.02113373357032512,0.0210109586974634,0.020888776515506722,0.020767184984113212,0.02064618206461467,0.020525765720053792,0.02040593391522103,0.020286684616691305,0.020168015792860396,0.020049925413980988,0.01993241145219864,0.019815471881587315,0.01969910467818467,0.019583307820027228,0.019468079287185133,0.019353417061796663,0.019239319128102502,0.019125783472479847,0.019012808083476055,0.018900390951842233,0.018788530070566325,0.018677223434906257,0.018566469042422564,0.018456264893010763,0.0183466089889337,0.018237499334853392,0.018128933937862666,0.018020910807516662,0.01791342795586394,0.01780648339747739,0.017700075149484865,0.017594201231599566,0.01748885966615018,0.0173840484781108,0.017279765695130435,0.017176009347562495,0.01707277746849385,0.016970068093773622,0.016867879262041967,0.016766209014758223,0.01666505539622918,0.016564416453636828,0.01646429023706597,0.016364674799531628,0.0162655681970061,0.016166968488445777,0.016068873735817838,0.015971282004126546,0.015874191361439322,0.01577759987891268,0.015681505630817834,0.01558590669456598,0.015490801150733523,0.015396187083086942,0.01530206257860736,0.01520842572751503,0.015115274623293382,0.015022607362713046,0.014930422045855455,0.014838716776136253,0.014747489660328577,0.014656738808585921,0.014566462334464859,0.014476658354947571,0.014387324990464039,0.014298460364914061,0.014210062605689022,0.01412212984369338,0.014034660213366043,0.013947651852701404,0.0138611029032701,0.013775011510239724,0.01368937582239514,0.01360419399215857,0.013519464175609616,0.013435184532504854,0.013351353226297257,0.013267968424155566,0.013185028296983098,0.01310253101943664,0.013020474769944983,0.012938857730727159,0.012857678087810647,0.012776934031049196,0.012696623754140435,0.012616745454643382,0.012537297333995624,0.012458277597530244,0.012379684454492742,0.0123015161180574,0.012223770805343767,0.012146446737432707,0.012069542139382284,0.011993055240243536,0.011916984273075876,0.01184132747496234,0.011766083087024698,0.011691249354438268,0.011616824526446464,0.011542806856375399,0.011469194601647857,0.011395986023797433,0.01132317938848236,0.01125077296549894,0.011178765028795064,0.011107153856483332,0.011035937730853977,0.010965114938387725,0.0108946837697683,0.010824642519894758,0.010754989487893728,0.01068572297713132,0.010616841295224867,0.010548342754054588,0.010480225669774818,0.010412488362825288,0.01034512915794207,0.010278146384168314,0.010211538374864909,0.010145303467720846,0.010079440004763374,0.010013946332368103,0.009948820801268767,0.009884061766566839,0.00981966758774107,0.009755636628656632,0.009691967257574223,0.009628657847159057,0.009565706774489377,0.009503112421065144,0.00944087317281628,0.00937898742011081,0.00931745355776291,0.009256269985040639,0.009195435105673541,0.009134947327860125,0.009074805064275111,0.009015006732076444,0.008955550752912331,0.008896435552927818,0.008837659562771464,0.008779221217601678,0.008721118957092894,0.0086633512254417,0.008605916471372634,0.008548813148143902,0.00849203971355293,0.008435594629941734,0.008379476364202058,0.008323683387780521,0.008268214176683353,0.008213067211481215,0.008158240977313687,0.008103733963893632,0.008049544665511476,0.007995671581039228,0.007942113213934373,0.007888868072243663,0.00783593466860666,0.007783311520259169,0.0077309971490365755,0.0076789900813768715,0.007627288848323664,0.007575891985529065,0.007524798033256213,0.007474005536381908,0.007423513044398934,0.007373319111418231,0.007323422296171045,0.007273821162010795,0.007224514276914829,0.007175500213486142,0.00712677754895476,0.007078344865179126,0.007030200748647348,0.0069823437904781545,0.006934772586421903,0.006887485736861323,0.006840481846812148,0.006793759525923642,0.006747317388478969,0.006701154053395369,0.006655268144224337,0.006609658289151529,0.006564323120996582,0.006519261277212876,0.006474471399887019,0.0064299521357383425,0.006385702136118191,0.006341720057009064,0.006298004559023717,0.006254554307404083,0.006211367972020006,0.006168444227367994,0.006125781752569731,0.006083379231370482,0.006041235352137465,0.005999348807857947,0.005957718296137353,0.005916342519197237,0.005875220183873041,0.005834350001611853,0.005793730688469988,0.005753360965110422,0.005713239556800224,0.0056733651934077435,0.005633736609399753,0.0055943525438384946,0.005555211740378573,0.005516312947263716,0.005477654917323569,0.005439236407970142,0.005401056181194371,0.0053631130035624785,0.005325405646212171,0.005287932884848868,0.005250693499741717,0.005213686275719531,0.005176910002166645,0.005140363473018678,0.005104045486758117,0.005067954846409936,0.0050320903595369665,0.004996450838235276,0.004961035099129436,0.004925841963367609,0.004890870256616671,0.004856118809057129,0.004821586455377988,0.0047872720347715446,0.004753174390928059,0.004719292372030326,0.004685624830748189,0.004652170624232961,0.004618928614111695,0.004585897666481494,0.004553076651903554,0.00452046444539732,0.004488059926434385,0.004455861978932411,0.004423869491248921,0.004392081356175035,0.0043604964709290685,0.004329113737150128,0.0042979320608915695,0.004266950352614377,0.004236167527180521,0.004205582503846133,0.004175194206254727,0.004145001562430244,0.00411500350477006,0.004085198970037939,0.004055586899356875,0.004026166238201867,0.0039969359363926545,0.00396789494808633,0.003939042231769909,0.003910376750252864,0.0038818974706594962,0.0038536033644213093,0.0038254934072693516,0.0037975665792263484,0.003769821864598936,0.0037422582519697064,0.0037148747341892428,0.003687670308368085,0.003660643975868637,0.003633794742296957,0.003607121617494579,0.0035806236155302017,0.003554299754691314,0.003528149057475844,0.0035021705505836175,0.0034763632649078818,0.003450726235526701,0.003425258501694297,0.003399959106832382,0.003374827098521387,0.0033498615284916354,0.003325061452614504,0.003300425930893494,0.0032759540274552505,0.003251644810540569,0.0032274973524952814,0.003203510729761157,0.0031796840228667275,0.0031560163164180443,0.003132506699089422,0.0031091542636141165,0.0030859581067749445,0.0030629173293948765,0.003040031036327585,0.0030172983364479076,0.0029947183426423476,0.0029722901717994217,0.002950012944800055,0.002927885786507907,0.0029059078257596188,0.0028840781953550793,0.002862396032047602,0.002840860476534078,0.002819470673445116,0.0027982257713350966,0.0027771249226722057,0.0027561672838284637,0.0027353520150696737,0.0027146782805453347,0.0026941452482785763,0.0026737520901559645,0.002653497981917371,0.002633382103145738,0.0026134036372568283,0.002593561771488976,0.0025738556968927604,0.002554284608320661,0.002534847704416702,0.0025155441876060537,0.0024963732640845716,0.0024773341438083935,0.0024584260404833876,0.0024396481715546875,0.00242099975819613,0.0024024800252996784,0.0023840882014648404,0.0023658235189880526,0.002347685213852005,0.0023296725257150068,0.0023117846979002744,0.0022940209773852044,0.0022763806147906578,0.0022588628643701795,0.002241466983999209,0.002224192235164309,0.0022070378829522866,0.0021900031960393937,0.0021730874466804437,0.0021562899106979143,0.0021396098674710652,0.0021230465999250146,0.0021065993945197765,0.0020902675412393375,0.0020740503335806688,0.0020579470685427245,0.0020419570466154793,0.0020260795717688598,0.0020103139514417463,0.001994659496530914,0.001979115521379969,0.0019636813437682874,0.0019483562848999195,0.0019331396693924874,0.0019180308252660923,0.0019030290839321805,0.0018881337801824089,0.0018733442521775294,0.0018586598414362012,0.0018440798928238502,0.001829603754541518,0.0018152307781146445,0.0018009603183819136,0.0017867917334840578,0.0017727243848526372,0.0017587576371988615,0.0017448908585023658,0.001731123419999983,0.0017174546961745403,0.0017038840647436249,0.0016904109066483326,0.001677034606042072,0.0016637545502792837,0.0016505701299042248,0.001637480738639716,0.0016244857733758845,0.0016115846341589336,0.0015987767241798772,0.0015860614497632895,0.0015734382203560601,0.0015609064485161374,0.0015484655499012632,0.0015361149432577526,0.001523854050409204,0.0015116822962452734,0.001499599108710426,0.0014876039187926703,0.001475696160512338,0.0014638752709108301,0.0014521406900393772,0.0014404918609478088,0.0014289282296733271,0.0014174492452292643,0.0014060543595938867,0.0013947430276991483,0.001383514707419492,0.0013723688595606595,0.001361304947848457,0.001350322438917591,0.0013394208023004641,0.0013285995104159983,0.001317858038558465,0.0013071958648863174,0.0012966124704110297,0.0012861073389859496,0.0012756799572951627,0.0012653298148423459,0.0012550564039396665,0.0012448592196966444,0.0012347377600090662,0.0012246915255478869,0.0012147200197481377,0.0012048227487978704,0.0011949992216270828,0.0011852489498966705,0.0011755714479873942,0.0011659662329888485,0.001156432824688445,0.0011469707455604202,0.0011375795207548304,0.0011282586780865902,0.0011190077480245047,0.001109826263680309,0.0011007137607977522,0.0010916697777416616,0.0010826938554870343,0.001073785537608155,0.0010649443702677095,0.0010561699022059205,0.0010474616847297089,0.0010388192717018547,0.0010302422195301757,0.0010217300871567464,0.0010132824360470894,0.0010048988301794269,0.000996578836033925,0.0009883220225819507,0.000980127961275372,0.0009719962260358488,0.0009639263932441494,0.0009559180417294967,0.0009479707527589183,0.0009400841100266138,0.0009322576996433617,0.0009244911101259127,0.0009167839323864315,0.0009091357597219428,0.0009015461878037936,0.0008940148146671502,0.000886541240700502,0.0008791250686351841,0.0008717659035349337,0.0008644633527854528,0.0008572170260839957,0.0008500265354289889,0.0008428914951096458,0.0008358115216956269,0.0008287862340267189,0.0008218152532025147,0.0008148982025721397,0.0008080347077239903,0.0008012243964754833,0.0007944668988628504,0.0007877618471309373,0.0007811088757230241,0.0007745076212706882,0.0007679577225836665,0.0007614588206397504,0.0007550105585747153,0.0007486125816722454,0.0007422645373539126,0.0007359660751691616,0.0007297168467853147,0.0007235165059776208,0.0007173647086193067,0.0007112611126716628,0.0007052053781741545,0.0006991971672345548,0.0006932361440190964,0.0006873219747426652,0.0006814543276589949,0.0006756328730509078,0.0006698572832205691,0.0006641272324797671,0.0006584423971402257,0.000652802455503933,0.0006472070878535,0.000641655976442549,0.0006361488054861198,0.0006306852611511035,0.0006252650315467141,0.0006198878067149628,0.0006145532786211795,0.0006092611411445576,0.0006040110900687091,0.0005988028230722689,0.000593636039719509,0.0005885104414509826,0.0005834257315742057,0.0005783816152543497,0.0005733777995049692,0.0005684139931787612,0.0005634899069583417,0.0005586052533470557,0.0005537597466598102,0.0005489531030139426,0.0005441850403201069,0.0005394552782731945,0.0005347635383432752,0.000530109543766577,0.0005254930195364826,0.0005209136923945583,0.0005163712908216133,0.0005118655450287822,0.0005073961869486394,0.0005029629502263363,0.000498565570210774,0.0004942037839458002,0.0004898773301614296,0.00048558594926510307,0.0004813293833329686,0.00047710737610118855,0.0004729196729572793,0.0004687660209314815,0.0004646461686881538,0.0004605598665171967,0.000456506866325504,0.00045248692162845036,0.00044849978754139683,0.00044454522077122966,0.0004406229796079314,0.0004367328239161768,0.00043287451512695756,0.00042904781622923665,0.00042525249176163384,0.0004214883078041377,0.0004177550319698444,0.000414052433396733,0.000410380282739461,0.0004067383521611968,0.00040312641532547216,0.0003995442473880757,0.00039599162498896433,0.000392468326244211,0.00038897413073797664,0.00038550881951451637,0.00038207217507021284,0.0003786639813456338,0.00037528402371763,0.0003719320889914511,0.0003686079653928978,0.00036531144256049904,0.0003620423115377227,0.0003588003647652134,0.0003555853960730571,0.0003523972006730802,0.00034923557515117407,0.00034610031745965065,0.0003429912269096248,0.0003399081041634312,0.0003368507512270654,0.0003338189714426563,0.0003308125694809668,0.0003278313513339269,0.0003248751243071928,0.00032194369701273447,0.00031903687936145786,0.00031615448255585093,0.00031329631908266076,0.00031046220270559993,0.0003076519484580836,0.0003048653726359938,0.0003021022927904719,0.0002993625277207449,0.00029664589746697634,0.00029395222330314794,0.0002912813277299698,0.00028863303446782177,0.00028600716844972223,0.0002834035558143255,0.00028082202389894794,0.0002782624012326264,0.00027572451752920263,0.00027320820368043584,0.0002707132917491478,0.0002682396149623938,0.00026578700770466413,0.00026335530551111196,0.00026094434506081465,0.0002585539641700599,0.0002561840017856604,0.00025383429797830103,0.00025150469393591117,0.000249195031957068,0.00024690515544442454,0.0002446349088981731,0.0002423841379095303,0.00024015268915425435,0.0002379404103861906,0.00023574715043084504,0.00023357275917898563,0.00023141708758027144,0.00022927998763691364,0.00022716131239736061,0.0002250609159500139,0.00022297865341696916,0.00022091438094779106,0.00021886795571331047,0.0002168392358994513,0.00021482808070108828,0.00021283435031592884,0.00021085790593842546,0.00020889860975371248,0.000206956324931577,0.0002050309156204509,0.00020312224694143326,0.00020123018498234232,0.00019935459679179196,0.0001974953503732976,0.00019565231467940776,0.00019382535960586585,0.00019201435598579757,0.00019021917558392526,0.00018843969109080962,0.00018667577611712103,0.0001849273051879352,0.00018319415373705547,0.00018147619810136658,0.0001797733155152099,0.00017808538410479,0.00017641228288260398,0.00017475389174190234,0.00017311009145117313,0.00017148076364865227,0.00016986579083686502,0.00016826505637718836,0.00016667844448444463,0.0001651058402215169,0.0001635471294939961,0.00016200219904484992,0.00016047093644912084,0.00015895323010864712,0.00015744896924681508,0.00015595804390333205,0.00015448034492902807,0.0001530157639806837,0.00015156419351588263,0.00015012552678789022,0.0001486996578405579,0.0001472864815032544,0.00014588589338582043,0.00014449778987354948,0.00014312206812219636,0.00014175862605300744,0.00014040736234777906,0.00013906817644393878,0.00013774096852965507,0.0001364256395389684,0.00013512209114695055,0.00013383022576488537],\"type\":\"scatter\"}],                        {\"template\":{\"data\":{\"barpolar\":[{\"marker\":{\"line\":{\"color\":\"#E5ECF6\",\"width\":0.5},\"pattern\":{\"fillmode\":\"overlay\",\"size\":10,\"solidity\":0.2}},\"type\":\"barpolar\"}],\"bar\":[{\"error_x\":{\"color\":\"#2a3f5f\"},\"error_y\":{\"color\":\"#2a3f5f\"},\"marker\":{\"line\":{\"color\":\"#E5ECF6\",\"width\":0.5},\"pattern\":{\"fillmode\":\"overlay\",\"size\":10,\"solidity\":0.2}},\"type\":\"bar\"}],\"carpet\":[{\"aaxis\":{\"endlinecolor\":\"#2a3f5f\",\"gridcolor\":\"white\",\"linecolor\":\"white\",\"minorgridcolor\":\"white\",\"startlinecolor\":\"#2a3f5f\"},\"baxis\":{\"endlinecolor\":\"#2a3f5f\",\"gridcolor\":\"white\",\"linecolor\":\"white\",\"minorgridcolor\":\"white\",\"startlinecolor\":\"#2a3f5f\"},\"type\":\"carpet\"}],\"choropleth\":[{\"colorbar\":{\"outlinewidth\":0,\"ticks\":\"\"},\"type\":\"choropleth\"}],\"contourcarpet\":[{\"colorbar\":{\"outlinewidth\":0,\"ticks\":\"\"},\"type\":\"contourcarpet\"}],\"contour\":[{\"colorbar\":{\"outlinewidth\":0,\"ticks\":\"\"},\"colorscale\":[[0.0,\"#0d0887\"],[0.1111111111111111,\"#46039f\"],[0.2222222222222222,\"#7201a8\"],[0.3333333333333333,\"#9c179e\"],[0.4444444444444444,\"#bd3786\"],[0.5555555555555556,\"#d8576b\"],[0.6666666666666666,\"#ed7953\"],[0.7777777777777778,\"#fb9f3a\"],[0.8888888888888888,\"#fdca26\"],[1.0,\"#f0f921\"]],\"type\":\"contour\"}],\"heatmapgl\":[{\"colorbar\":{\"outlinewidth\":0,\"ticks\":\"\"},\"colorscale\":[[0.0,\"#0d0887\"],[0.1111111111111111,\"#46039f\"],[0.2222222222222222,\"#7201a8\"],[0.3333333333333333,\"#9c179e\"],[0.4444444444444444,\"#bd3786\"],[0.5555555555555556,\"#d8576b\"],[0.6666666666666666,\"#ed7953\"],[0.7777777777777778,\"#fb9f3a\"],[0.8888888888888888,\"#fdca26\"],[1.0,\"#f0f921\"]],\"type\":\"heatmapgl\"}],\"heatmap\":[{\"colorbar\":{\"outlinewidth\":0,\"ticks\":\"\"},\"colorscale\":[[0.0,\"#0d0887\"],[0.1111111111111111,\"#46039f\"],[0.2222222222222222,\"#7201a8\"],[0.3333333333333333,\"#9c179e\"],[0.4444444444444444,\"#bd3786\"],[0.5555555555555556,\"#d8576b\"],[0.6666666666666666,\"#ed7953\"],[0.7777777777777778,\"#fb9f3a\"],[0.8888888888888888,\"#fdca26\"],[1.0,\"#f0f921\"]],\"type\":\"heatmap\"}],\"histogram2dcontour\":[{\"colorbar\":{\"outlinewidth\":0,\"ticks\":\"\"},\"colorscale\":[[0.0,\"#0d0887\"],[0.1111111111111111,\"#46039f\"],[0.2222222222222222,\"#7201a8\"],[0.3333333333333333,\"#9c179e\"],[0.4444444444444444,\"#bd3786\"],[0.5555555555555556,\"#d8576b\"],[0.6666666666666666,\"#ed7953\"],[0.7777777777777778,\"#fb9f3a\"],[0.8888888888888888,\"#fdca26\"],[1.0,\"#f0f921\"]],\"type\":\"histogram2dcontour\"}],\"histogram2d\":[{\"colorbar\":{\"outlinewidth\":0,\"ticks\":\"\"},\"colorscale\":[[0.0,\"#0d0887\"],[0.1111111111111111,\"#46039f\"],[0.2222222222222222,\"#7201a8\"],[0.3333333333333333,\"#9c179e\"],[0.4444444444444444,\"#bd3786\"],[0.5555555555555556,\"#d8576b\"],[0.6666666666666666,\"#ed7953\"],[0.7777777777777778,\"#fb9f3a\"],[0.8888888888888888,\"#fdca26\"],[1.0,\"#f0f921\"]],\"type\":\"histogram2d\"}],\"histogram\":[{\"marker\":{\"pattern\":{\"fillmode\":\"overlay\",\"size\":10,\"solidity\":0.2}},\"type\":\"histogram\"}],\"mesh3d\":[{\"colorbar\":{\"outlinewidth\":0,\"ticks\":\"\"},\"type\":\"mesh3d\"}],\"parcoords\":[{\"line\":{\"colorbar\":{\"outlinewidth\":0,\"ticks\":\"\"}},\"type\":\"parcoords\"}],\"pie\":[{\"automargin\":true,\"type\":\"pie\"}],\"scatter3d\":[{\"line\":{\"colorbar\":{\"outlinewidth\":0,\"ticks\":\"\"}},\"marker\":{\"colorbar\":{\"outlinewidth\":0,\"ticks\":\"\"}},\"type\":\"scatter3d\"}],\"scattercarpet\":[{\"marker\":{\"colorbar\":{\"outlinewidth\":0,\"ticks\":\"\"}},\"type\":\"scattercarpet\"}],\"scattergeo\":[{\"marker\":{\"colorbar\":{\"outlinewidth\":0,\"ticks\":\"\"}},\"type\":\"scattergeo\"}],\"scattergl\":[{\"marker\":{\"colorbar\":{\"outlinewidth\":0,\"ticks\":\"\"}},\"type\":\"scattergl\"}],\"scattermapbox\":[{\"marker\":{\"colorbar\":{\"outlinewidth\":0,\"ticks\":\"\"}},\"type\":\"scattermapbox\"}],\"scatterpolargl\":[{\"marker\":{\"colorbar\":{\"outlinewidth\":0,\"ticks\":\"\"}},\"type\":\"scatterpolargl\"}],\"scatterpolar\":[{\"marker\":{\"colorbar\":{\"outlinewidth\":0,\"ticks\":\"\"}},\"type\":\"scatterpolar\"}],\"scatter\":[{\"fillpattern\":{\"fillmode\":\"overlay\",\"size\":10,\"solidity\":0.2},\"type\":\"scatter\"}],\"scatterternary\":[{\"marker\":{\"colorbar\":{\"outlinewidth\":0,\"ticks\":\"\"}},\"type\":\"scatterternary\"}],\"surface\":[{\"colorbar\":{\"outlinewidth\":0,\"ticks\":\"\"},\"colorscale\":[[0.0,\"#0d0887\"],[0.1111111111111111,\"#46039f\"],[0.2222222222222222,\"#7201a8\"],[0.3333333333333333,\"#9c179e\"],[0.4444444444444444,\"#bd3786\"],[0.5555555555555556,\"#d8576b\"],[0.6666666666666666,\"#ed7953\"],[0.7777777777777778,\"#fb9f3a\"],[0.8888888888888888,\"#fdca26\"],[1.0,\"#f0f921\"]],\"type\":\"surface\"}],\"table\":[{\"cells\":{\"fill\":{\"color\":\"#EBF0F8\"},\"line\":{\"color\":\"white\"}},\"header\":{\"fill\":{\"color\":\"#C8D4E3\"},\"line\":{\"color\":\"white\"}},\"type\":\"table\"}]},\"layout\":{\"annotationdefaults\":{\"arrowcolor\":\"#2a3f5f\",\"arrowhead\":0,\"arrowwidth\":1},\"autotypenumbers\":\"strict\",\"coloraxis\":{\"colorbar\":{\"outlinewidth\":0,\"ticks\":\"\"}},\"colorscale\":{\"diverging\":[[0,\"#8e0152\"],[0.1,\"#c51b7d\"],[0.2,\"#de77ae\"],[0.3,\"#f1b6da\"],[0.4,\"#fde0ef\"],[0.5,\"#f7f7f7\"],[0.6,\"#e6f5d0\"],[0.7,\"#b8e186\"],[0.8,\"#7fbc41\"],[0.9,\"#4d9221\"],[1,\"#276419\"]],\"sequential\":[[0.0,\"#0d0887\"],[0.1111111111111111,\"#46039f\"],[0.2222222222222222,\"#7201a8\"],[0.3333333333333333,\"#9c179e\"],[0.4444444444444444,\"#bd3786\"],[0.5555555555555556,\"#d8576b\"],[0.6666666666666666,\"#ed7953\"],[0.7777777777777778,\"#fb9f3a\"],[0.8888888888888888,\"#fdca26\"],[1.0,\"#f0f921\"]],\"sequentialminus\":[[0.0,\"#0d0887\"],[0.1111111111111111,\"#46039f\"],[0.2222222222222222,\"#7201a8\"],[0.3333333333333333,\"#9c179e\"],[0.4444444444444444,\"#bd3786\"],[0.5555555555555556,\"#d8576b\"],[0.6666666666666666,\"#ed7953\"],[0.7777777777777778,\"#fb9f3a\"],[0.8888888888888888,\"#fdca26\"],[1.0,\"#f0f921\"]]},\"colorway\":[\"#636efa\",\"#EF553B\",\"#00cc96\",\"#ab63fa\",\"#FFA15A\",\"#19d3f3\",\"#FF6692\",\"#B6E880\",\"#FF97FF\",\"#FECB52\"],\"font\":{\"color\":\"#2a3f5f\"},\"geo\":{\"bgcolor\":\"white\",\"lakecolor\":\"white\",\"landcolor\":\"#E5ECF6\",\"showlakes\":true,\"showland\":true,\"subunitcolor\":\"white\"},\"hoverlabel\":{\"align\":\"left\"},\"hovermode\":\"closest\",\"mapbox\":{\"style\":\"light\"},\"paper_bgcolor\":\"white\",\"plot_bgcolor\":\"#E5ECF6\",\"polar\":{\"angularaxis\":{\"gridcolor\":\"white\",\"linecolor\":\"white\",\"ticks\":\"\"},\"bgcolor\":\"#E5ECF6\",\"radialaxis\":{\"gridcolor\":\"white\",\"linecolor\":\"white\",\"ticks\":\"\"}},\"scene\":{\"xaxis\":{\"backgroundcolor\":\"#E5ECF6\",\"gridcolor\":\"white\",\"gridwidth\":2,\"linecolor\":\"white\",\"showbackground\":true,\"ticks\":\"\",\"zerolinecolor\":\"white\"},\"yaxis\":{\"backgroundcolor\":\"#E5ECF6\",\"gridcolor\":\"white\",\"gridwidth\":2,\"linecolor\":\"white\",\"showbackground\":true,\"ticks\":\"\",\"zerolinecolor\":\"white\"},\"zaxis\":{\"backgroundcolor\":\"#E5ECF6\",\"gridcolor\":\"white\",\"gridwidth\":2,\"linecolor\":\"white\",\"showbackground\":true,\"ticks\":\"\",\"zerolinecolor\":\"white\"}},\"shapedefaults\":{\"line\":{\"color\":\"#2a3f5f\"}},\"ternary\":{\"aaxis\":{\"gridcolor\":\"white\",\"linecolor\":\"white\",\"ticks\":\"\"},\"baxis\":{\"gridcolor\":\"white\",\"linecolor\":\"white\",\"ticks\":\"\"},\"bgcolor\":\"#E5ECF6\",\"caxis\":{\"gridcolor\":\"white\",\"linecolor\":\"white\",\"ticks\":\"\"}},\"title\":{\"x\":0.05},\"xaxis\":{\"automargin\":true,\"gridcolor\":\"white\",\"linecolor\":\"white\",\"ticks\":\"\",\"title\":{\"standoff\":15},\"zerolinecolor\":\"white\",\"zerolinewidth\":2},\"yaxis\":{\"automargin\":true,\"gridcolor\":\"white\",\"linecolor\":\"white\",\"ticks\":\"\",\"title\":{\"standoff\":15},\"zerolinecolor\":\"white\",\"zerolinewidth\":2}}},\"title\":{\"text\":\"Probabilidade da diferen\\u00e7a pA-pB\"},\"xaxis\":{\"title\":{\"text\":\"pA-pB\"}},\"yaxis\":{\"title\":{\"text\":\"Densidade de probabilidade\"}}},                        {\"responsive\": true}                    ).then(function(){\n",
       "                            \n",
       "var gd = document.getElementById('58a58ef0-ff2f-4136-ba35-b96e1af664e0');\n",
       "var x = new MutationObserver(function (mutations, observer) {{\n",
       "        var display = window.getComputedStyle(gd).display;\n",
       "        if (!display || display === 'none') {{\n",
       "            console.log([gd, 'removed!']);\n",
       "            Plotly.purge(gd);\n",
       "            observer.disconnect();\n",
       "        }}\n",
       "}});\n",
       "\n",
       "// Listen for the removal of the full notebook cells\n",
       "var notebookContainer = gd.closest('#notebook-container');\n",
       "if (notebookContainer) {{\n",
       "    x.observe(notebookContainer, {childList: true});\n",
       "}}\n",
       "\n",
       "// Listen for the clearing of the current output cell\n",
       "var outputEl = gd.closest('.output');\n",
       "if (outputEl) {{\n",
       "    x.observe(outputEl, {childList: true});\n",
       "}}\n",
       "\n",
       "                        })                };                });            </script>        </div>"
      ]
     },
     "metadata": {},
     "output_type": "display_data"
    }
   ],
   "source": [
    "pdf_diferença_pA_pB(1.6)"
   ]
  },
  {
   "cell_type": "markdown",
   "id": "8bdf70c3-e8d0-4081-982a-b4cc0a617480",
   "metadata": {
    "editable": true,
    "slideshow": {
     "slide_type": ""
    },
    "tags": []
   },
   "source": [
    "Toda a área está à esquerda do **valor crítico**, indicando que a diferença que observamos, $\\hat p_A - \\hat p_B$, é muito **improvável**, caso $p_A = p_B$."
   ]
  },
  {
   "cell_type": "markdown",
   "id": "3ad9ac8c-426e-423f-8794-f2f9fb182f3b",
   "metadata": {
    "editable": true,
    "slideshow": {
     "slide_type": "slide"
    },
    "tags": []
   },
   "source": [
    "## Veredicto\n",
    "\n",
    "- **Pragmaticamente**: o app da empresa $A$ é de fato melhor avaliado que o da $B$.\n",
    "- **Estatisticamente**: temos evidências para rejeitar a hipótese nula, $H_0$. Ou, a **diferença observada** $\\hat p_A - \\hat p_B$ é estatisticamente significativa, indicando que $p_A > p_B$."
   ]
  },
  {
   "cell_type": "markdown",
   "id": "8a16c021-7ffa-4d45-8d51-a30cd1a17faa",
   "metadata": {
    "editable": true,
    "slideshow": {
     "slide_type": "slide"
    },
    "tags": []
   },
   "source": [
    "## Valor $p$\n",
    "\n",
    "O valor $p$ é a área abaixo da distribuição normal **padrão** para $p > z$.\n",
    "\n",
    "Em Python podemos usar a função `norm.cdf` (_cumulative density function_) ou `norm.sf` (_survival function_):"
   ]
  },
  {
   "cell_type": "code",
   "execution_count": 19,
   "id": "06a71ad8-120d-4144-9bd3-67f20ae8fa04",
   "metadata": {
    "editable": true,
    "slideshow": {
     "slide_type": ""
    },
    "tags": []
   },
   "outputs": [
    {
     "name": "stdout",
     "output_type": "stream",
     "text": [
      "valor_p=0.00027639791808720116\n"
     ]
    }
   ],
   "source": [
    "from scipy.stats import norm\n",
    "valor_p = 1 - norm.cdf(z)\n",
    "#valor_p = norm.sf(z)\n",
    "\n",
    "print(f'{valor_p=}')"
   ]
  },
  {
   "cell_type": "markdown",
   "id": "339773d1-9c29-4315-8ac6-7ce59c8601d8",
   "metadata": {
    "editable": true,
    "slideshow": {
     "slide_type": "slide"
    },
    "tags": []
   },
   "source": [
    "### Usando `statsmodels`\n",
    "\n",
    "O pacote statsmodels oferece uma implementação conveniente para vários testes de hipótese. Fica assim:"
   ]
  },
  {
   "cell_type": "code",
   "execution_count": 20,
   "id": "f8f84d5f-0490-4017-8a2d-bb02af441177",
   "metadata": {
    "editable": true,
    "slideshow": {
     "slide_type": ""
    },
    "tags": []
   },
   "outputs": [
    {
     "name": "stdout",
     "output_type": "stream",
     "text": [
      "z=3.4537762382304362\n",
      "valor_p=0.00027639791808725195\n"
     ]
    }
   ],
   "source": [
    "from statsmodels.stats.proportion import proportions_ztest\n",
    "\n",
    "sucessos = np.array([\n",
    "    round(empresa_A.n * empresa_A.p),  # Quantidade de sucessos (avaliações \"boas\")\n",
    "    round(empresa_B.n * empresa_B.p),\n",
    "])\n",
    "\n",
    "avaliações = np.array([\n",
    "    empresa_A.n,\n",
    "    empresa_B.n\n",
    "])\n",
    "\n",
    "z, valor_p = proportions_ztest(sucessos, avaliações, alternative='larger')\n",
    "\n",
    "print(f'{z=}')  # Dá uma olhada nesse jeito legal de imprimir ;-)\n",
    "print(f'{valor_p=}')"
   ]
  },
  {
   "cell_type": "markdown",
   "id": "3ba2fa6e-e917-4035-9b26-b790ac29626a",
   "metadata": {
    "editable": true,
    "slideshow": {
     "slide_type": ""
    },
    "tags": []
   },
   "source": [
    "Note que os resultados são os mesmos que aqueles que calculamos com a \"receita de bolo\"."
   ]
  },
  {
   "cell_type": "markdown",
   "id": "b268a60b-6baf-4418-bf61-39a90dc6681e",
   "metadata": {
    "editable": true,
    "slideshow": {
     "slide_type": "slide"
    },
    "tags": []
   },
   "source": [
    "## Atenção\n",
    "\n",
    "Não mencionamos aqui, mas todo teste de hipótese baseia-se em algumas **suposições**, que devem ser verificadas para assegurar a validade do teste. No caso do _teste $z$ para proporções, você deve verificar que $n_Ap_A \\ge 5$ e $n_A(1-p_A) \\ge 5$; e similarmente para $B$.\n",
    "\n",
    "Abaixo está a verificação para $A$. Faça o mesmo para $B$."
   ]
  },
  {
   "cell_type": "code",
   "execution_count": 21,
   "id": "800bdc03-d29a-4fe9-a7bb-e84714d607e9",
   "metadata": {
    "editable": true,
    "slideshow": {
     "slide_type": ""
    },
    "tags": []
   },
   "outputs": [
    {
     "name": "stdout",
     "output_type": "stream",
     "text": [
      "nA * pA =  90.0\n",
      "nA * (1 - pA) =  9.999999999999998\n"
     ]
    }
   ],
   "source": [
    "print('nA * pA = ', empresa_A.n * empresa_A.p)\n",
    "print('nA * (1 - pA) = ', empresa_A.n * (1 - empresa_A.p))"
   ]
  },
  {
   "cell_type": "markdown",
   "id": "6a367848-416b-47c9-983b-216c5c3d1827",
   "metadata": {
    "editable": true,
    "slideshow": {
     "slide_type": ""
    },
    "tags": []
   },
   "source": [
    "Observação: alguns autores defendem que $n_Ap_A \\ge 10$ e $n_A(1-p_A) \\ge 10$; e similarmente para $B$."
   ]
  },
  {
   "cell_type": "markdown",
   "id": "34a487f1-ee76-48d8-8d7a-264dc3275081",
   "metadata": {
    "editable": true,
    "slideshow": {
     "slide_type": "slide"
    },
    "tags": []
   },
   "source": [
    "# Desafio\n",
    "\n",
    "Altere os parâmetros do problema, modificando `empresa_A` e `empresa_B` e veja como isso afeta os gráficos e os resultados. Em particular, encontre uma configuração em que o valor $p$ é apenas ligeiramente maior que 5%. Dica: diminua a diferença entre $\\hat p_A$ e $\\hat p_B$ e/ou diminua a quantidade de avaliações, $n_A$ e $n_B$."
   ]
  },
  {
   "cell_type": "code",
   "execution_count": null,
   "id": "18db54c8-252e-4d03-8755-180433f309d2",
   "metadata": {
    "editable": true,
    "slideshow": {
     "slide_type": ""
    },
    "tags": []
   },
   "outputs": [],
   "source": []
  }
 ],
 "metadata": {
  "kernelspec": {
   "display_name": "Python 3 (ipykernel)",
   "language": "python",
   "name": "python3"
  },
  "language_info": {
   "codemirror_mode": {
    "name": "ipython",
    "version": 3
   },
   "file_extension": ".py",
   "mimetype": "text/x-python",
   "name": "python",
   "nbconvert_exporter": "python",
   "pygments_lexer": "ipython3",
   "version": "3.11.5"
  },
  "toc": {
   "base_numbering": 1
  }
 },
 "nbformat": 4,
 "nbformat_minor": 5
}
